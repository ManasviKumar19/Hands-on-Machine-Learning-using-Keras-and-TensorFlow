{
 "cells": [
  {
   "cell_type": "markdown",
   "id": "7d5b36b1-7387-4abd-a926-7ecceb2ddaa0",
   "metadata": {},
   "source": [
    "# Deep Computer Vision Using Convolutional Neural Networks"
   ]
  },
  {
   "cell_type": "markdown",
   "id": "9a9952ed-2e69-4e5e-b4ef-8783c630a957",
   "metadata": {},
   "source": [
    "Convolutional neural networks (CNNs) emerged from the study of the brain’s visual cortex, and they have been used in image recognition since the 1980s. In the last few years, thanks to the increase in computational power, the amount of available training data, and the tricks presented in Chapter 11 for training deep nets, CNNs have managed to achieve superhuman performance on some complex visual tasks. They power image search services, self-driving cars, automatic video classification systems, and more. Moreover, CNNs are not restricted to visual perception: they are also successful at many other tasks, such as voice recognition and natural language processing. However, we will focus on visual applications for now."
   ]
  },
  {
   "cell_type": "markdown",
   "id": "d9e9f2da-075f-4f6e-b0f8-a6a4da62a40f",
   "metadata": {},
   "source": [
    "In this chapter we will explore where CNNs came from, what their building blocks look like, and how to implement them using TensorFlow and Keras. Then we will discuss some of the best CNN architectures, as well as other visual tasks, including object detection (classifying multiple objects in an image and placing bounding boxes around them) and semantic segmentation (classifying each pixel according to the class of the object it belongs to)."
   ]
  },
  {
   "cell_type": "code",
   "execution_count": null,
   "id": "e747e93e-679b-4679-8b5a-2bd32cb247d2",
   "metadata": {},
   "outputs": [],
   "source": []
  },
  {
   "cell_type": "markdown",
   "id": "21f1672d-20c0-4dd8-9340-49b5f821d3df",
   "metadata": {},
   "source": [
    "## The Architecture of the Visual Cortex"
   ]
  },
  {
   "cell_type": "markdown",
   "id": "ef374323-c45d-4a6b-81f4-786b7baccc4d",
   "metadata": {},
   "source": [
    "David H. Hubel and Torsten Wiesel performed a series of experiments on cats in 1958 and 1959 (and a few years later on monkeys3 ), giving crucial insights into the structure of the visual cortex (the authors received the Nobel Prize in Physiology or Medicine in 1981 for their work). In particular, they showed that many neurons in the visual cortex have a small local receptive field, meaning they react only to visual stimuli located in a limited region of the visual field."
   ]
  },
  {
   "cell_type": "markdown",
   "id": "50cca4dd-9be8-4909-8cfa-2f54f7162c63",
   "metadata": {},
   "source": [
    "Moreover, the authors showed that some neurons react only to images of horizontal lines, while others react only to lines with different orientations (two neurons may have the same receptive field but react to different line orientations). They also noticed that some neurons have larger receptive fields, and they react to more complex patterns that are combinations of the lower-level patterns. These observations led to the idea that the higher-level neurons are based on the outputs of neighboring lower-level neurons."
   ]
  },
  {
   "cell_type": "markdown",
   "id": "0ba663ab-c7c9-4c13-90b3-1bc90863d0ed",
   "metadata": {},
   "source": [
    "These studies of the visual cortex inspired the neocognitron, introduced in 1980, which gradually evolved into what we now call convolutional neural networks. An important milestone was a 1998 paper by Yann LeCun et al. that introduced the famous LeNet-5 architecture, widely used by banks to recognize handwritten check numbers. This architecture has some building blocks that you already know, such as fully connected layers and sigmoid activation functions, but it also introduces two new building blocks: convolutional layers and pooling layers. Let’s look at them now."
   ]
  },
  {
   "cell_type": "code",
   "execution_count": 1,
   "id": "a3cc6d7b-7476-4fc8-930e-2d910858c35c",
   "metadata": {},
   "outputs": [
    {
     "name": "stdout",
     "output_type": "stream",
     "text": [
      "WARNING:tensorflow:From C:\\Python 3.11\\Lib\\site-packages\\keras\\src\\losses.py:2976: The name tf.losses.sparse_softmax_cross_entropy is deprecated. Please use tf.compat.v1.losses.sparse_softmax_cross_entropy instead.\n",
      "\n"
     ]
    }
   ],
   "source": [
    "import tensorflow as tf\n",
    "import matplotlib.pyplot as plt\n",
    "from tensorflow import keras"
   ]
  },
  {
   "cell_type": "markdown",
   "id": "a73fea49-398a-46de-ba6e-ac978d933e63",
   "metadata": {},
   "source": [
    "### Why use CNNs"
   ]
  },
  {
   "cell_type": "markdown",
   "id": "d22c34c6-460f-4970-92d4-5eeabac10c5d",
   "metadata": {},
   "source": [
    "Why not simply use a deep neural network with fully connected layers for image recognition tasks? Unfortunately, although this works fine for small images (e.g., MNIST), it breaks down for larger images because of the huge number of parameters it requires. For example, a 100 × 100–pixel image has 10,000 pixels, and if the first layer has just 1,000 neurons (which already severely restricts the amount of information transmitted to the next layer), this means a total of 10 million connections. And that’s just the first layer. CNNs solve this problem using partially connected layers and weight sharing."
   ]
  },
  {
   "cell_type": "code",
   "execution_count": null,
   "id": "37a9b183-d8e9-475d-a2ed-d81f329ec837",
   "metadata": {},
   "outputs": [],
   "source": []
  },
  {
   "cell_type": "markdown",
   "id": "14ea0a93-26ca-417b-ba3f-ee746eb25741",
   "metadata": {},
   "source": [
    "## Convolutional Layers"
   ]
  },
  {
   "cell_type": "markdown",
   "id": "edc85ba8-2171-41a6-af12-309da07f7792",
   "metadata": {},
   "source": [
    "### What is Convolution"
   ]
  },
  {
   "cell_type": "markdown",
   "id": "66143ff8-a883-4a38-9ad2-b1cd097053f5",
   "metadata": {},
   "source": [
    "The most important building block of a CNN is the convolutional layer: A convolution is a mathematical operation that slides one function over another and measures the integral of their pointwise multiplication. It has deep connections with the Fourier transform and the Laplace transform and is heavily used in signal processing. Convolutional layers actually use cross-correlations, which are very similar to convolutions.\r\n",
    " "
   ]
  },
  {
   "cell_type": "markdown",
   "id": "cbf6339c-bbec-4577-bef5-9e27445eca26",
   "metadata": {},
   "source": [
    "### Connections in Convolution Layer"
   ]
  },
  {
   "cell_type": "markdown",
   "id": "de2e0f10-76eb-41a7-a967-4337768e1c54",
   "metadata": {},
   "source": [
    "Neurons in the first convolutional layer are not connected to every single pixel in the input image (like they were in the layers discussed in previous chapters), but only to pixels in their receptive fields. In turn, each neuron in the second convolutional layer is connected only to neurons located within a small rectangle in the first layer. This architecture allows the network to concentrate on small low-level features in the first hidden layer, then assemble them into larger higher-level features in the next hidden layer, and so on."
   ]
  },
  {
   "cell_type": "markdown",
   "id": "444667b9-2ad1-4989-a893-91748af93069",
   "metadata": {},
   "source": [
    "This hierarchical structure is common in real-world images, which is one of the reasons why CNNs work so well for image recognition."
   ]
  },
  {
   "cell_type": "markdown",
   "id": "0ea4bedf-019d-4f4e-b95b-7ff517f34b44",
   "metadata": {},
   "source": [
    "A neuron located in row i, column j of a given layer is connected to the outputs of the neurons in the previous layer located in rows i to i + fh – 1, columns j to j + fw – 1, where fh and fw are the height and width of the receptive field."
   ]
  },
  {
   "cell_type": "markdown",
   "id": "b9c11f15-c893-4cd2-8da5-0e1b907669e1",
   "metadata": {},
   "source": [
    "In order for a layer's neurons to have connections with the same height and width from the previous layer, it is common to add zeros around the inputs, this is called zero padding.\r\n"
   ]
  },
  {
   "cell_type": "markdown",
   "id": "619f5a1f-939e-4886-a8df-48f4fbb3594e",
   "metadata": {},
   "source": [
    "It is also possible to connect a large input layer to a much smaller layer by spacing out the receptive fields, so instead of sliding with a stride of 1, you slide with stride of 2. This dramatically reduces the model’s computational complexity. The shift from one receptive field to the next is called the stride."
   ]
  },
  {
   "cell_type": "markdown",
   "id": "6ccdfbdb-2c96-49cd-aeb7-9322873adbf5",
   "metadata": {},
   "source": [
    "#### Connection example"
   ]
  },
  {
   "cell_type": "markdown",
   "id": "a4d0c2eb-d1ee-401c-b514-4c5d434b4cdc",
   "metadata": {},
   "source": [
    "For example, consider a 5 × 7 input layer (plus zero padding) is connected to a 3 × 4 layer, using 3 × 3 receptive fields and a stride of 2 (in this example the stride is the same in both directions, but it does not have to be so). A neuron located in row i, column j in the upper layer is connected to the outputs of the neurons in the previous layer located in rows i × sh to i × sh + fh – 1, columns j × sw to j × sw + fw – 1, where sh and sw are the vertical and horizontal strides."
   ]
  },
  {
   "cell_type": "markdown",
   "id": "9f5af755-b181-41ab-9bc1-c9e011792bb6",
   "metadata": {},
   "source": [
    "#### Benefit of CNNs"
   ]
  },
  {
   "cell_type": "markdown",
   "id": "54087319-e0f2-4aea-bdcb-80454ba4deab",
   "metadata": {},
   "source": [
    "All the multilayer neural networks we’ve looked at so far had layers composed of a long line of neurons, and we had to flatten input images to 1D before feeding them to the neural network. In a CNN each layer is represented in 2D, which makes it easier to match neurons with their corresponding inputs."
   ]
  },
  {
   "cell_type": "code",
   "execution_count": null,
   "id": "21c27dcc-5d66-4b7a-afae-6e83f85976c8",
   "metadata": {},
   "outputs": [],
   "source": []
  },
  {
   "cell_type": "markdown",
   "id": "c353fe38-91fa-4192-b672-8dd33b9d4e38",
   "metadata": {},
   "source": [
    "## Filters"
   ]
  },
  {
   "cell_type": "markdown",
   "id": "5a626e36-deed-4861-82a4-98fecbec287c",
   "metadata": {},
   "source": [
    "A neuron’s weights can be represented as a small image the size of the receptive field."
   ]
  },
  {
   "cell_type": "code",
   "execution_count": 2,
   "id": "0b3930f9-ea73-4036-82dc-1a8b379e044b",
   "metadata": {},
   "outputs": [],
   "source": [
    "import numpy as np\n",
    "from sklearn.datasets import load_sample_image\n",
    "\n",
    "# Load sample images\n",
    "china = load_sample_image(\"china.jpg\") / 255\n",
    "flower = load_sample_image(\"flower.jpg\") / 255\n",
    "images = np.array([china, flower])\n",
    "batch_size, height, width, channels = images.shape"
   ]
  },
  {
   "cell_type": "code",
   "execution_count": 3,
   "id": "b7773cbb-82f8-4c68-b5df-a549f7f0fc85",
   "metadata": {},
   "outputs": [],
   "source": [
    "def plot_image(image,title):\n",
    "    plt.imshow(image, cmap=\"gray\", interpolation=\"nearest\")\n",
    "    plt.title(title)\n",
    "    plt.axis(\"off\")\n",
    "\n",
    "def plot_color_image(image):\n",
    "    plt.imshow(image, interpolation=\"nearest\")\n",
    "    plt.axis(\"off\")\n",
    "\n",
    "def crop(images):\n",
    "    return images[150:220, 130:250]"
   ]
  },
  {
   "cell_type": "code",
   "execution_count": 4,
   "id": "700a701f-62ad-437a-af31-9b4a75ea3ebb",
   "metadata": {},
   "outputs": [
    {
     "data": {
      "text/plain": [
       "(2, 427, 640, 3)"
      ]
     },
     "execution_count": 4,
     "metadata": {},
     "output_type": "execute_result"
    }
   ],
   "source": [
    "images.shape"
   ]
  },
  {
   "cell_type": "code",
   "execution_count": 5,
   "id": "ff8a87f5-859c-45bb-b732-854f3352f2cd",
   "metadata": {},
   "outputs": [
    {
     "data": {
      "text/plain": [
       "2"
      ]
     },
     "execution_count": 5,
     "metadata": {},
     "output_type": "execute_result"
    }
   ],
   "source": [
    "batch_size"
   ]
  },
  {
   "cell_type": "code",
   "execution_count": 6,
   "id": "d272f3de-82f7-40e7-be7b-2c7b5bf37dd5",
   "metadata": {},
   "outputs": [
    {
     "data": {
      "text/plain": [
       "3"
      ]
     },
     "execution_count": 6,
     "metadata": {},
     "output_type": "execute_result"
    }
   ],
   "source": [
    "channels"
   ]
  },
  {
   "cell_type": "code",
   "execution_count": 7,
   "id": "b1ef6741-2fca-40f1-9e93-13124db04e08",
   "metadata": {},
   "outputs": [
    {
     "data": {
      "text/plain": [
       "(427, 640, 3)"
      ]
     },
     "execution_count": 7,
     "metadata": {},
     "output_type": "execute_result"
    }
   ],
   "source": [
    "flower.shape"
   ]
  },
  {
   "cell_type": "code",
   "execution_count": 8,
   "id": "fe553b75-37a3-4087-b17e-2ae5b8b2ea04",
   "metadata": {},
   "outputs": [
    {
     "data": {
      "text/plain": [
       "(427, 640, 3)"
      ]
     },
     "execution_count": 8,
     "metadata": {},
     "output_type": "execute_result"
    }
   ],
   "source": [
    "china.shape"
   ]
  },
  {
   "cell_type": "markdown",
   "id": "00296cbb-80d9-41ee-a19f-7678e4b9b4a6",
   "metadata": {},
   "source": [
    "### Creating 2 filter"
   ]
  },
  {
   "cell_type": "code",
   "execution_count": 9,
   "id": "2f20df5b-d650-4399-8a89-192b0a0228f4",
   "metadata": {},
   "outputs": [],
   "source": [
    "# Create 2 filters\n",
    "filters = np.zeros(shape=(7, 7, channels, 2), dtype=np.float32)\n",
    "filters[:, 3, :, 0] = 1 # vertical line\n",
    "filters[3, :, :, 1] = 1 # horizontal line"
   ]
  },
  {
   "cell_type": "code",
   "execution_count": 10,
   "id": "10e46ee2-b2ce-463e-9439-ef2fe5ce43ff",
   "metadata": {},
   "outputs": [
    {
     "data": {
      "image/png": "[encoded data removed]",
      "text/plain": [
       "<Figure size 640x480 with 1 Axes>"
      ]
     },
     "metadata": {},
     "output_type": "display_data"
    },
    {
     "name": "stdout",
     "output_type": "stream",
     "text": [
      "\n",
      "\n",
      "\n",
      "\n",
      "\n",
      "\n",
      "\n"
     ]
    },
    {
     "data": {
      "image/png": "[encoded data removed]",
      "text/plain": [
       "<Figure size 640x480 with 1 Axes>"
      ]
     },
     "metadata": {},
     "output_type": "display_data"
    }
   ],
   "source": [
    "plot_image(filters[:, :, 0, 0],title='Vertical Filter')\n",
    "plt.show()\n",
    "print('\\n\\n\\n\\n\\n\\n')\n",
    "plot_image(filters[:, :, 0, 1],title='Horizontal Filter')\n",
    "plt.show()"
   ]
  },
  {
   "cell_type": "code",
   "execution_count": 11,
   "id": "d618b43e-2407-4e3d-9ec8-3b5ca517a5ce",
   "metadata": {},
   "outputs": [
    {
     "data": {
      "text/plain": [
       "(7, 7, 3, 2)"
      ]
     },
     "execution_count": 11,
     "metadata": {},
     "output_type": "execute_result"
    }
   ],
   "source": [
    "filters.shape # Basically an array of arrays, so the outer array is of shape 7x7 and each array in this 7x7 is of the shape 3x2"
   ]
  },
  {
   "cell_type": "code",
   "execution_count": 12,
   "id": "4af67f6f-55e2-4e6c-a523-11c2b53a545a",
   "metadata": {},
   "outputs": [],
   "source": [
    "filters[:, 3, :, 0] = 1  # vertical line\n",
    "filters[3, :, :, 1] = 1  # horizontal line"
   ]
  },
  {
   "cell_type": "code",
   "execution_count": 13,
   "id": "961510be-df18-4047-abad-8d4406e57e49",
   "metadata": {},
   "outputs": [],
   "source": [
    "outputs = tf.nn.conv2d(images, filters, strides=1, padding=\"SAME\")"
   ]
  },
  {
   "cell_type": "code",
   "execution_count": 14,
   "id": "d50ef866-6801-4b36-9e0e-2a89cf2f255e",
   "metadata": {},
   "outputs": [
    {
     "data": {
      "text/plain": [
       "TensorShape([2, 427, 640, 2])"
      ]
     },
     "execution_count": 14,
     "metadata": {},
     "output_type": "execute_result"
    }
   ],
   "source": [
    "outputs.shape\n"
   ]
  },
  {
   "cell_type": "code",
   "execution_count": 15,
   "id": "355c3c5c-beaf-4f28-8fae-a5029aa0c937",
   "metadata": {},
   "outputs": [
    {
     "data": {
      "image/png": "[encoded data removed]",
      "text/plain": [
       "<Figure size 640x480 with 1 Axes>"
      ]
     },
     "metadata": {},
     "output_type": "display_data"
    }
   ],
   "source": [
    "plot_image(crop(images[0, :, :, 0]),title='Original Image') # A neuron’s weights can be represented as a small image the size of the receptive field.\n",
    "plt.axis(\"off\") # Not shown in the book\n",
    "plt.title('Original Image')\n",
    "plt.show()"
   ]
  },
  {
   "cell_type": "markdown",
   "id": "910cd359-95bd-4238-abc1-faa3c06810b7",
   "metadata": {},
   "source": [
    "## Understanding filter"
   ]
  },
  {
   "cell_type": "markdown",
   "id": "d784adfb-6945-4969-82c0-77810f4bcd32",
   "metadata": {},
   "source": [
    "For example, consider two possible sets of weights, called filters (or convolution kernels). The first one is represented as a black square with a vertical white line in the middle (it is a 7 × 7 matrix full of 0s except for the central column, which is full of 1s, filters[:, 3, :, 0] = 1 ); neurons using these weights will ignore everything in their receptive field except for the central vertical line (since all inputs will get multiplied by 0, except for the ones located in the central vertical line). "
   ]
  },
  {
   "cell_type": "markdown",
   "id": "d9386316-1402-438d-b4e7-f74a4086040a",
   "metadata": {},
   "source": [
    "The second filter is a black square with a horizontal white line in the middle. Once again, neurons using these weights will ignore everything in their receptive field except for the central horizontal line(filters[3, :, :, 1] = 1  # horizontal line)."
   ]
  },
  {
   "cell_type": "markdown",
   "id": "1add9f0d-625a-4c67-a6bf-8be1416e45ed",
   "metadata": {},
   "source": [
    "## Running the filters on the image"
   ]
  },
  {
   "cell_type": "markdown",
   "id": "f0e51100-1018-4a0d-863d-107edae27765",
   "metadata": {},
   "source": [
    "###  Vertical filter"
   ]
  },
  {
   "cell_type": "markdown",
   "id": "a7304ae5-5db5-4b14-8b63-9029a5817845",
   "metadata": {},
   "source": [
    "Now if all neurons in a layer use the same vertical line filter (and the same bias term), the filters[:, 3, :, 0] = 1  # vertical line and you feed the network the Original input image shown above, then the layer will output the below image. Notice that the vertical white lines get enhanced while the rest gets blurred. "
   ]
  },
  {
   "cell_type": "code",
   "execution_count": 16,
   "id": "bca515b8-e0b0-4079-8721-49a16494fe95",
   "metadata": {},
   "outputs": [
    {
     "data": {
      "image/png": "[encoded data removed]",
      "text/plain": [
       "<Figure size 640x480 with 1 Axes>"
      ]
     },
     "metadata": {},
     "output_type": "display_data"
    }
   ],
   "source": [
    "plot_image(crop(outputs[0, :, :, 0]),title='With Vertical filter')"
   ]
  },
  {
   "cell_type": "code",
   "execution_count": null,
   "id": "10bad5d9-5441-49e1-9ff7-655060c4686c",
   "metadata": {},
   "outputs": [],
   "source": []
  },
  {
   "cell_type": "markdown",
   "id": "d6271584-5640-4a9d-92d9-cb0bb8ab4bbd",
   "metadata": {},
   "source": [
    "### Horizontal Filter"
   ]
  },
  {
   "cell_type": "markdown",
   "id": "81dd9343-e9b9-44a9-ac9b-c1095b049d4e",
   "metadata": {},
   "source": [
    "Similarly, the below image is what you get if all neurons use the same horizontal line filter(filters[3, :, :, 1] = 1  # horizontal line); notice that the horizontal white lines get enhanced while the rest is blurred out. "
   ]
  },
  {
   "cell_type": "code",
   "execution_count": 17,
   "id": "32e27a7c-32c7-430a-b863-86f7ee6d1ee2",
   "metadata": {},
   "outputs": [
    {
     "data": {
      "image/png": "[encoded data removed]",
      "text/plain": [
       "<Figure size 640x480 with 1 Axes>"
      ]
     },
     "metadata": {},
     "output_type": "display_data"
    }
   ],
   "source": [
    "plot_image(crop(outputs[0, :, :, 1]),title='With Horizontal filter')"
   ]
  },
  {
   "cell_type": "code",
   "execution_count": null,
   "id": "27ac17d5-d1e7-49c9-8b78-527656d9b4f9",
   "metadata": {},
   "outputs": [],
   "source": []
  },
  {
   "cell_type": "markdown",
   "id": "a6b6af2d-3e5c-4d89-b614-0e76896194a2",
   "metadata": {},
   "source": [
    "### Conclusion Filter"
   ]
  },
  {
   "cell_type": "markdown",
   "id": "30417321-4224-41cf-9b48-d8ea4d269168",
   "metadata": {},
   "source": [
    "Thus, a layer full of neurons using the same filter outputs a feature map, which highlights the areas in an image that activate the filter the most. Of course, you do not have to define the filters manually: instead, during training the convolutional layer will automatically learn the most useful filters for its task, and the layers above will learn to combine them into more complex patterns.\r\n"
   ]
  },
  {
   "cell_type": "code",
   "execution_count": null,
   "id": "f75e0556-471f-43a2-965b-0105014fa59f",
   "metadata": {},
   "outputs": [],
   "source": []
  },
  {
   "cell_type": "code",
   "execution_count": null,
   "id": "b284ae6d-a3a7-4306-867a-a72e6fca7411",
   "metadata": {},
   "outputs": [],
   "source": []
  },
  {
   "cell_type": "markdown",
   "id": "69ad40c6-b83a-49e7-9b6e-802fd3e11d1c",
   "metadata": {},
   "source": [
    "## Stacking Multiple Feature Maps"
   ]
  },
  {
   "cell_type": "markdown",
   "id": "fb413bdd-77e0-4411-a0be-fb36dfe29761",
   "metadata": {},
   "source": [
    "Up to now, for simplicity, we have represented the output of each convolutional layer as a 2D layer, but in reality a convolutional layer has multiple filters (you decide how many) and outputs one feature map per filter, so it is more accurately represented in 3D."
   ]
  },
  {
   "cell_type": "markdown",
   "id": "20d7eb4e-4ff8-4e2c-bebb-22ffd2a62c21",
   "metadata": {},
   "source": [
    "A convolutional layer has one neuron per pixel in each feature map, and all neurons within a given feature map share the same parameters (i.e., the same weights and bias term). Neurons in different feature maps use different parameters. A neuron’s receptive field is the same as described earlier, but it extends across all the previous layers’ feature maps. In short, a convolutional layer simultaneously applies multiple trainable filters to its inputs, making it capable of detecting multiple features anywhere in its inputs."
   ]
  },
  {
   "cell_type": "markdown",
   "id": "d62f5505-b583-43b8-b0b5-5c909a383ec8",
   "metadata": {},
   "source": [
    "Input images are also composed of multiple sublayers: one per color channel. There are typically three: red, green, and blue (RGB). Grayscale images have just one channel, but some images may have much more—for example, satellite images that capture extra light frequencies (such as infrared)."
   ]
  },
  {
   "cell_type": "markdown",
   "id": "8723eba9-afab-4033-976a-b5af1348de6e",
   "metadata": {},
   "source": [
    "Specifically, a neuron located in row i, column j of the feature map k in a given convolutional layer l is connected to the outputs of the neurons in the previous layer l – 1, located in rows i × sh to i × sh + fh – 1 and columns j × sw to j × sw + fw – 1."
   ]
  },
  {
   "cell_type": "markdown",
   "id": "9c24f01b-628c-4273-b7c8-2697f3bb77c0",
   "metadata": {},
   "source": [
    "### Below equation summarizes the preceding explanations in one big mathematical equation: it shows how to compute the output of a given neuron in a convolutional layer."
   ]
  },
  {
   "cell_type": "markdown",
   "id": "57cec3ae-4c6a-4f10-bc70-15c9ab7b1dd4",
   "metadata": {},
   "source": [
    "$$\r\n",
    "z_{i,j,k} = b_k + \\sum_{u=0}^{f_h - 1} \\sum_{v=0}^{f_w - 1} \\sum_{k'=0}^{f_{n'} - 1} x_{i', j', k'} \\cdot w_{u,v,k',k}\r\n",
    "$$\r\n",
    "\r\n",
    "where $$ i' = i \\cdot s_h + u,\\quad j' = j \\cdot s_w + v $$"
   ]
  },
  {
   "cell_type": "markdown",
   "id": "8c5a4741-1966-4bc7-80cd-67bce40cf6e4",
   "metadata": {},
   "source": [
    "In this equation:\r\n",
    "\r\n",
    "• zi, j, k is the output of the neuron located in row i, column j in feature map k of the convolutional layer (layer l).\r\n",
    "\r\n",
    "• As explained earlier, sh and sw are the vertical and horizontal strides, fh and fw are the height and width of the receptive field, and fn′ is the number of feature maps in the previous layer (layer l – 1).\r\n",
    "\r\n",
    "• xi′, j′, k′ is the output of the neuron located in layer l – 1, row i′, column j′, feature map k′ (or channel k′ if the previous layer is the input layer).\r\n",
    "\r\n",
    "• bk is the bias term for feature map k (in layer l). You can think of it as a knob that tweaks the overall brightness of the feature map k.\r\n",
    "\r\n",
    "• wu, v, k′ ,k is the connection weight between any neuron in feature map k of the layer l and its input located at row u, column v (relative to the neuron’s receptive field), and feature map k′."
   ]
  },
  {
   "cell_type": "markdown",
   "id": "da5bcdd6-f5fb-47df-89fe-7a9c634af2c0",
   "metadata": {},
   "source": [
    "#### Advantage of CNN over DNN"
   ]
  },
  {
   "cell_type": "markdown",
   "id": "0b265e4a-b52b-4c08-9e13-3c2463adffe5",
   "metadata": {},
   "source": [
    "The fact that all neurons in a feature map share the same parameters dramatically reduces the number of parameters in the model. Once the CNN has learned to recognize a pattern in one location, it can recognize it in any other location. In contrast, once a regular DNN has learned to recognize a pattern in one location, it can recognize it only in that particular location."
   ]
  },
  {
   "cell_type": "code",
   "execution_count": null,
   "id": "1fc9319e-9e6c-48a4-b973-673a59991f46",
   "metadata": {},
   "outputs": [],
   "source": []
  },
  {
   "cell_type": "markdown",
   "id": "0eea18e8-b4e7-4442-8706-38cff0c1faab",
   "metadata": {},
   "source": [
    "## TensorFlow Implementation"
   ]
  },
  {
   "cell_type": "markdown",
   "id": "3615a1c2-bde9-4fe3-8007-a0d51e53a037",
   "metadata": {},
   "source": [
    "In TensorFlow, each input image is typically represented as a 3D tensor of shape [height, width, channels]. A mini-batch is represented as a 4D tensor of shape [minibatch size, height, width, channels]. The weights of a convolutional layer are represented as a 4D tensor of shape [fh , fw, fn′ , fn]. The bias terms of a convolutional layer are simply represented as a 1D tensor of shape [fn]."
   ]
  },
  {
   "cell_type": "markdown",
   "id": "5d1e4c56-39fe-451f-b1c1-b5f552dcc19e",
   "metadata": {},
   "source": [
    "### Mini Batch"
   ]
  },
  {
   "cell_type": "markdown",
   "id": "5284da94-9a04-4bda-91b8-1a49f767f3f2",
   "metadata": {},
   "source": [
    "A mini-batch is represented as a 4D tensor of shape [minibatch size, height, width, channels]. The weights of a convolutional layer are represented as a 4D tensor of shape [fh , fw, fn′ , fn]."
   ]
  },
  {
   "cell_type": "markdown",
   "id": "d670c507-c8b8-4462-a6f3-4c7f22e4a694",
   "metadata": {},
   "source": [
    "### Now let's again look at the code and image we used for understanding filters."
   ]
  },
  {
   "cell_type": "markdown",
   "id": "354c3532-bfb9-4a48-84ed-e5ed3143c5f3",
   "metadata": {},
   "source": [
    "The following code loads two sample images, using Scikit-Learn’s load_sample_image() (which loads two color images, one of a Chinese temple, and the other of a flower), then it creates two filters and applies them to both images, and finally it displays one of the resulting feature maps. "
   ]
  },
  {
   "cell_type": "code",
   "execution_count": 18,
   "id": "d1f32910-d055-456f-a839-5a15fa5c1328",
   "metadata": {},
   "outputs": [],
   "source": [
    "from sklearn.datasets import load_sample_image"
   ]
  },
  {
   "cell_type": "code",
   "execution_count": 19,
   "id": "56c21baa-91d0-4634-ae5a-773083b28892",
   "metadata": {},
   "outputs": [
    {
     "data": {
      "text/plain": [
       "(427, 640, 3)"
      ]
     },
     "execution_count": 19,
     "metadata": {},
     "output_type": "execute_result"
    }
   ],
   "source": [
    "china = load_sample_image(\"china.jpg\")\n",
    "china.shape"
   ]
  },
  {
   "cell_type": "code",
   "execution_count": 20,
   "id": "25d7cbf1-a5af-421c-bb98-bc137ebcdf34",
   "metadata": {},
   "outputs": [],
   "source": [
    "# Load sample images\n",
    "china = load_sample_image(\"china.jpg\") / 255\n",
    "flower = load_sample_image(\"flower.jpg\") / 255"
   ]
  },
  {
   "cell_type": "code",
   "execution_count": 21,
   "id": "19c1af55-b9f1-439a-8cf3-72729f44f9cb",
   "metadata": {},
   "outputs": [],
   "source": [
    "images = np.array([china, flower])\n",
    "batch_size, height, width, channels = images.shape"
   ]
  },
  {
   "cell_type": "code",
   "execution_count": 22,
   "id": "dfe2d874-b5ba-45f4-ab83-c0fe05fef716",
   "metadata": {},
   "outputs": [],
   "source": [
    "# Create 2 filters\n",
    "filters = np.zeros(shape=(7, 7, channels, 2), dtype=np.float32)\n",
    "filters[:, 3, :, 0] = 1 # vertical line\n",
    "filters[3, :, :, 1] = 1 # horizontal line"
   ]
  },
  {
   "cell_type": "code",
   "execution_count": 23,
   "id": "3a535601-f866-472a-8542-c634323d960c",
   "metadata": {},
   "outputs": [],
   "source": [
    "outputs = tf.nn.conv2d(images, filters, strides=1, padding=\"SAME\")"
   ]
  },
  {
   "cell_type": "code",
   "execution_count": 24,
   "id": "64654746-127d-446e-a261-46abb465c52f",
   "metadata": {},
   "outputs": [
    {
     "data": {
      "image/png": "[encoded data removed]",
      "text/plain": [
       "<Figure size 640x480 with 1 Axes>"
      ]
     },
     "metadata": {},
     "output_type": "display_data"
    }
   ],
   "source": [
    "plt.imshow(outputs[0, :, :, 1], cmap=\"gray\") # plot 1st image's 2nd feature map\n",
    "plt.show()\n"
   ]
  },
  {
   "cell_type": "code",
   "execution_count": null,
   "id": "0e156e74-d2a7-42a3-94ed-d4283ecb1222",
   "metadata": {},
   "outputs": [],
   "source": []
  },
  {
   "cell_type": "markdown",
   "id": "cf81bcda-bc9b-40af-9416-da299b3d0f57",
   "metadata": {},
   "source": [
    "#### Understanding the Code"
   ]
  },
  {
   "cell_type": "markdown",
   "id": "a6399067-1e6d-4068-906b-848331020126",
   "metadata": {},
   "source": [
    "1) The pixel intensity for each color channel is represented as a byte from 0 to 255, so we scale these features simply by dividing by 255, to get floats ranging from 0 to 1."
   ]
  },
  {
   "cell_type": "markdown",
   "id": "7ece1c56-8ffa-4e52-bb2b-b88be7c002a1",
   "metadata": {},
   "source": [
    "2) Then we create two 7 × 7 filters (one with a vertical white line in the middle, and the other with a horizontal white line in the middle)."
   ]
  },
  {
   "cell_type": "code",
   "execution_count": 25,
   "id": "00287594-54d9-4653-a891-138650d071ae",
   "metadata": {},
   "outputs": [
    {
     "data": {
      "image/png": "[encoded data removed]",
      "text/plain": [
       "<Figure size 640x480 with 1 Axes>"
      ]
     },
     "metadata": {},
     "output_type": "display_data"
    },
    {
     "name": "stdout",
     "output_type": "stream",
     "text": [
      "\n",
      "\n",
      "\n",
      "\n",
      "\n",
      "\n",
      "\n"
     ]
    },
    {
     "data": {
      "image/png": "[encoded data removed]",
      "text/plain": [
       "<Figure size 640x480 with 1 Axes>"
      ]
     },
     "metadata": {},
     "output_type": "display_data"
    }
   ],
   "source": [
    "plot_image(filters[:, :, 0, 0],title='Vertical Filter')\n",
    "plt.show()\n",
    "print('\\n\\n\\n\\n\\n\\n')\n",
    "plot_image(filters[:, :, 0, 1],title='Horizontal Filter')\n",
    "plt.show()"
   ]
  },
  {
   "cell_type": "markdown",
   "id": "2b08a445-f283-4a77-a198-d842c20a9fd4",
   "metadata": {},
   "source": [
    "3) We apply them to both images using the tf.nn.conv2d() function, which is part of TensorFlow’s low-level Deep Learning API. In this example, we use zero padding (padding=\"SAME\") and a stride of 1."
   ]
  },
  {
   "cell_type": "code",
   "execution_count": null,
   "id": "27f6cb5d-657c-4b93-aba4-dcc710573fa8",
   "metadata": {},
   "outputs": [],
   "source": []
  },
  {
   "cell_type": "markdown",
   "id": "d888ac34-3df3-4054-82e4-f986e4d7c5c8",
   "metadata": {},
   "source": [
    "#### Now we explain the tf.nn.conv2d() in detail"
   ]
  },
  {
   "cell_type": "markdown",
   "id": "0668693f-484e-41ff-8b84-405e0feb7b93",
   "metadata": {},
   "source": [
    "1) The input is images as a mini-batch (a 4D tensor, as explained earlier)."
   ]
  },
  {
   "cell_type": "markdown",
   "id": "fc7e6a2f-f59a-4223-8e85-0a21794cee03",
   "metadata": {},
   "source": [
    "2) Filters is the set of filters to apply (also a 4D tensor that we defined earlier)."
   ]
  },
  {
   "cell_type": "markdown",
   "id": "83acf277-216a-4c42-a5fc-b424fc588b8a",
   "metadata": {},
   "source": [
    "3) Strides is equal to 1, but it could also be a 1D array with four elements, where the two central elements are the vertical and horizontal strides (sh and sw). The first and last elements must currently be equal to 1. They may one day be used to specify a batch stride (to skip some instances) and a channel stride (to skip some of the previous layer’s feature maps or channels)."
   ]
  },
  {
   "cell_type": "markdown",
   "id": "6a049e36-cfd4-4a0f-8a2f-c986424c8d40",
   "metadata": {},
   "source": [
    "4) padding must be either \"SAME\" or \"VALID\":"
   ]
  },
  {
   "cell_type": "markdown",
   "id": "b1952b0e-eae6-4fe0-8062-76f06a47515c",
   "metadata": {},
   "source": [
    "#### Padding"
   ]
  },
  {
   "cell_type": "markdown",
   "id": "311f2447-545c-4d8a-8c8a-e8939c7a4c17",
   "metadata": {},
   "source": [
    "#### Same"
   ]
  },
  {
   "cell_type": "markdown",
   "id": "a56831c9-17fd-480b-a528-b6eac06b5b59",
   "metadata": {},
   "source": [
    "If set to \"SAME\", the convolutional layer uses zero padding if necessary. The output size is set to the number of input neurons divided by the stride, rounded up. For example, if the input size is 13 and the stride is 5 then the output size is 3 (i.e., 13 / 5 = 2.6, rounded up to 3). Then zeros are added as evenly as possible around the inputs, as needed. When strides=1, the layer’s outputs will have the same spatial dimensions (width and height) as its inputs, hence the name same."
   ]
  },
  {
   "cell_type": "markdown",
   "id": "39550924-c123-440f-a600-c00dd06a5056",
   "metadata": {},
   "source": [
    "#### Valid"
   ]
  },
  {
   "cell_type": "markdown",
   "id": "51e193d3-59dc-418f-b9de-0c2ff8005611",
   "metadata": {},
   "source": [
    "If set to \"VALID\", the convolutional layer does not use zero padding and may\r\n",
    "ignore some rows and columns at the bottom and right of the input image, depending on the stride. This means that every neuron’s receptive field lies strictly within valid positions inside the input (it does not go out of bounds), hence the name valid."
   ]
  },
  {
   "cell_type": "code",
   "execution_count": null,
   "id": "0df3f22e-2927-4e2b-bb1b-5f1e6960f4a3",
   "metadata": {},
   "outputs": [],
   "source": []
  },
  {
   "cell_type": "markdown",
   "id": "357318e4-6e25-4693-99a7-444ac4889b98",
   "metadata": {},
   "source": [
    "### Creating a Conv2D layer"
   ]
  },
  {
   "cell_type": "markdown",
   "id": "6ca1636f-eb79-44a6-af1e-632834461d61",
   "metadata": {},
   "source": [
    "In this example we manually defined the filters, but in a real CNN you would normally define filters as trainable variables so the neural net can learn which filters work best, as explained earlier. Instead of manually creating the variables, use the keras.layers.Conv2D layer:"
   ]
  },
  {
   "cell_type": "code",
   "execution_count": 26,
   "id": "7154a0be-eb41-44f5-ba86-e2acf6bba5a4",
   "metadata": {},
   "outputs": [
    {
     "name": "stdout",
     "output_type": "stream",
     "text": [
      "WARNING:tensorflow:From C:\\Python 3.11\\Lib\\site-packages\\keras\\src\\backend.py:873: The name tf.get_default_graph is deprecated. Please use tf.compat.v1.get_default_graph instead.\n",
      "\n"
     ]
    }
   ],
   "source": [
    "conv = keras.layers.Conv2D(filters=32, kernel_size=3, strides=1, padding=\"same\", activation=\"relu\")"
   ]
  },
  {
   "cell_type": "markdown",
   "id": "2b877326-573a-4640-b9eb-3e85f6e90140",
   "metadata": {},
   "source": [
    "#### Explaining the layer"
   ]
  },
  {
   "cell_type": "markdown",
   "id": "ab8012f2-23cd-49e8-bef3-a32a4ebd91fd",
   "metadata": {},
   "source": [
    "This code creates a Conv2D layer with 32 filters, each 3 × 3(the kernel = 3 means 3x3), using a stride of 1 (both horizontally and vertically) and \"same\" padding, and applying the ReLU activation function to its outputs. "
   ]
  },
  {
   "cell_type": "markdown",
   "id": "fe097c38-d97d-470e-abc1-a2a2ed89c4f7",
   "metadata": {},
   "source": [
    "#### Note about CNNs hyperparameters"
   ]
  },
  {
   "cell_type": "markdown",
   "id": "2c33611a-a988-45b4-98a7-72b8356e255f",
   "metadata": {},
   "source": [
    "As you can see, convolutional layers have quite a few hyperparameters: you must choose the number of filters, their height and width, the strides, and the padding type. As always, you can use cross-validation to find the right hyperparameter values, but this is very time-consuming. We will discuss common CNN architectures later, to give you some idea of which hyperparameter values work best in practice."
   ]
  },
  {
   "cell_type": "code",
   "execution_count": null,
   "id": "25f669fb-c2bb-4c14-8e69-180c4123ca35",
   "metadata": {},
   "outputs": [],
   "source": []
  },
  {
   "cell_type": "markdown",
   "id": "a14eef23-45dc-4a78-b887-f5549b3d535f",
   "metadata": {},
   "source": [
    "### Memory Requirements"
   ]
  },
  {
   "cell_type": "markdown",
   "id": "bf8d4405-044f-45a1-9111-9bf850ab8176",
   "metadata": {},
   "source": [
    "Another problem with CNNs is that the convolutional layers require a huge amount of RAM. This is especially true during training, because the reverse pass of backpropagation requires all the intermediate values computed during the forward pass."
   ]
  },
  {
   "cell_type": "markdown",
   "id": "a5235a40-7ab0-4dfa-9873-cf246f134ec3",
   "metadata": {},
   "source": [
    "For example, consider a convolutional layer with 5 × 5 filters, outputting 200 feature maps of size 150 × 100, with stride 1 and \"same\" padding. If the input is a 150 × 100 RGB image (three channels), then the number of parameters is (5 × 5 × 3 + 1) × 200 = 15,200 (the + 1 corresponds to the bias terms), which is fairly small compared to a fully connected layer. However, each of the 200 feature maps contains 150 × 100 neurons, and each of these neurons needs to compute a weighted sum of its 5 × 5 × 3 = 75 inputs: that’s a total of 225 million float multiplications. Not as bad as a fully connected layer, but still quite computationally intensive. Moreover, if the feature maps are represented using 32-bit floats, then the convolutional layer’s output will occupy 200 × 150 × 100 × 32 = 96 million bits (12 MB) of RAM. And that’s just for one input instance for training —if a training batch contains 100 instances, then this layer will use up 1.2 GB of RAM!"
   ]
  },
  {
   "cell_type": "markdown",
   "id": "01ba2fb6-8dd4-491e-ac79-8d02fa79c3b1",
   "metadata": {},
   "source": [
    "During inference (i.e., when making a prediction for a new instance) the RAM occupied by one layer can be released as soon as the next layer has been computed, so you only need as much RAM as required by two consecutive layers. But during training everything computed during the forward pass needs to be preserved for the reverse pass, so the amount of RAM needed is (at least) the total amount of RAM required by all layers."
   ]
  },
  {
   "cell_type": "code",
   "execution_count": null,
   "id": "3e5761c8-1680-4692-814f-eb9f220ba81f",
   "metadata": {},
   "outputs": [],
   "source": []
  },
  {
   "cell_type": "markdown",
   "id": "3662a235-0230-45a2-9579-a4fd011dbb83",
   "metadata": {},
   "source": [
    "## Pooling Layers"
   ]
  },
  {
   "cell_type": "markdown",
   "id": "3a5af9ca-622d-4e6f-806a-efea108cd16b",
   "metadata": {},
   "source": [
    "Once you understand how convolutional layers work, the pooling layers are quite easy to grasp. Their goal is to subsample (i.e., shrink) the input image in order to reduce the computational load, the memory usage, and the number of parameters (thereby limiting the risk of overfitting)."
   ]
  },
  {
   "cell_type": "markdown",
   "id": "f1ac3dad-0b09-4d41-806e-79a10bbf71c6",
   "metadata": {},
   "source": [
    "### Pooling Layer Feature"
   ]
  },
  {
   "cell_type": "markdown",
   "id": "072c0eba-7f1a-4c68-a0b3-e0081dc259d1",
   "metadata": {},
   "source": [
    "1) Just like in convolutional layers, each neuron in a pooling layer is connected to the outputs of a limited number of neurons in the previous layer, located within a small rectangular receptive field."
   ]
  },
  {
   "cell_type": "markdown",
   "id": "b2db553a-8525-4e21-b8c8-0806f19fb704",
   "metadata": {},
   "source": [
    "2) You must define its size, the stride, and the padding type, just like before."
   ]
  },
  {
   "cell_type": "markdown",
   "id": "dd18ee69-c18b-42da-8536-ee72029ba066",
   "metadata": {},
   "source": [
    "#### Important Point\n",
    "However, a pooling neuron has no weights; all it does is aggregate the inputs using an aggregation function such as the max or mean."
   ]
  },
  {
   "cell_type": "code",
   "execution_count": null,
   "id": "11cd0012-5840-4bd4-87f7-bbc33f2c9041",
   "metadata": {},
   "outputs": [],
   "source": []
  },
  {
   "cell_type": "markdown",
   "id": "5f188810-324b-4c25-94ff-0518b623e603",
   "metadata": {},
   "source": [
    "### Working of a Pooling Layer"
   ]
  },
  {
   "cell_type": "markdown",
   "id": "fa34949d-3c17-4d6b-ab7c-4090e67ab964",
   "metadata": {},
   "source": [
    "1) Consider an example where we use a 2 × 2 pooling kernel, with a stride of 2 and no padding."
   ]
  },
  {
   "cell_type": "markdown",
   "id": "53c76ff2-a9c5-4e73-97f4-706ed1e51bb6",
   "metadata": {},
   "source": [
    "2) Here, Only the max input value in each receptive field makes it to the next layer, while the other inputs are dropped."
   ]
  },
  {
   "cell_type": "markdown",
   "id": "167a7ac0-8568-4970-8a89-4aca603a638f",
   "metadata": {},
   "source": [
    "3) For example, consider 4  receptive field with input values 1, 5, 3, 2, so only the max value, 5, is propagated to the next layer."
   ]
  },
  {
   "cell_type": "markdown",
   "id": "e1867d52-674e-456b-b527-ba043858d8f1",
   "metadata": {},
   "source": [
    "4) Because of the stride of 2, the output image has half the height and half the width of the input image (rounded down since we use no padding).\r\n"
   ]
  },
  {
   "cell_type": "markdown",
   "id": "aedd7f6d-33d6-40e2-8d1c-87cdfaed553d",
   "metadata": {},
   "source": [
    "### Translational Invariance with Pooling Layers"
   ]
  },
  {
   "cell_type": "markdown",
   "id": "4b2cf58c-ff8a-434c-8943-73f265eb2661",
   "metadata": {},
   "source": [
    "Other than reducing computations, memory usage, and the number of parameters, a max pooling layer also introduces some level of invariance to small translations."
   ]
  },
  {
   "cell_type": "markdown",
   "id": "ebf11df2-7c3f-4158-bca7-a3a6726ac19e",
   "metadata": {},
   "source": [
    "1)  Assume that there are three images, and we assume that the bright pixels have a lower value than dark pixels and we consider three images (A, B, C) going through a max pooling layer with a 2 × 2 kernel and stride 2."
   ]
  },
  {
   "cell_type": "markdown",
   "id": "72bdc5b6-408d-4c2f-8f32-fe63608209f3",
   "metadata": {},
   "source": [
    "2) Images B and C are the same as image A, but shifted by one and two pixels to the right. As you can see, the outputs of the max pooling layer for images A and B are identical."
   ]
  },
  {
   "cell_type": "markdown",
   "id": "195392b9-df1a-41f7-9fd6-90a2ec5b04f5",
   "metadata": {},
   "source": [
    "3) This is what translation invariance(i.e. the ablility to stay unchanged) means."
   ]
  },
  {
   "cell_type": "markdown",
   "id": "61554fc8-1e7e-41cb-92c1-6746a86fc55a",
   "metadata": {},
   "source": [
    "4) For image C, the output is different: it is shifted one pixel to the right (but there is still 75% invariance, i.e. 75% of original composition is still maintained). "
   ]
  },
  {
   "cell_type": "markdown",
   "id": "1d9a4837-0b45-4a3e-98dc-750fa7eacd62",
   "metadata": {},
   "source": [
    "### Conclusion Translational Invariance Max pooling layer"
   ]
  },
  {
   "cell_type": "markdown",
   "id": "8b77e8c4-83f3-4822-b51b-177a7c2aa09a",
   "metadata": {},
   "source": [
    "By inserting a max pooling layer every few layers in a CNN, it is possible to get some level of translation invariance at a larger scale. Moreover, max pooling offers a small amount of rotational invariance and a slight scale invariance. Such invariance (even if it is limited) can be useful in cases where the prediction should not depend on these details, such as in classification tasks."
   ]
  },
  {
   "cell_type": "code",
   "execution_count": null,
   "id": "3928cc82-d5ce-4337-babb-3a531ef8c023",
   "metadata": {},
   "outputs": [],
   "source": []
  },
  {
   "cell_type": "markdown",
   "id": "5c3d6abc-b149-4f6a-81f0-1170218e1e5c",
   "metadata": {},
   "source": [
    "### Disdvantages Max Pooling Layer"
   ]
  },
  {
   "cell_type": "markdown",
   "id": "7a33a0d3-6335-4b1b-babf-d90034d498b9",
   "metadata": {},
   "source": [
    "However, max pooling has some downsides too. Firstly, it is obviously very destructive: even with a tiny 2 × 2 kernel and a stride of 2, the output will be two times smaller in both directions (so its area will be four times smaller), simply dropping 75% of the input values. And in some applications, invariance is not desirable. Take semantic segmentation (the task of classifying each pixel in an image according to the object that pixel belongs to): obviously, if the input image is translated by one pixel to the right, the output should also be translated by one pixel to the right. The goal in this case is equivariance, not invariance: a small change to the inputs should lead to a corresponding small change in the output."
   ]
  },
  {
   "cell_type": "code",
   "execution_count": null,
   "id": "04abf7af-5579-4f83-a418-25bdd3acfd0c",
   "metadata": {},
   "outputs": [],
   "source": []
  },
  {
   "cell_type": "markdown",
   "id": "57caaf3f-3fd4-467e-b38b-c6329403ac01",
   "metadata": {},
   "source": [
    "## TensorFlow Implementation Pooling"
   ]
  },
  {
   "cell_type": "markdown",
   "id": "923291a6-61c2-41f8-a20a-eaf3f15965e7",
   "metadata": {},
   "source": [
    "### Implementing Max Pooling"
   ]
  },
  {
   "cell_type": "markdown",
   "id": "dbd292c4-05b1-4732-9e46-3342ae257e56",
   "metadata": {},
   "source": [
    "Implementing a max pooling layer in TensorFlow is quite easy. The following code creates a max pooling layer using a 2 × 2 kernel. The strides default to the kernel size, so this layer will use a stride of 2 (both horizontally and vertically). By default, it uses \"valid\" padding (i.e., no padding at all):"
   ]
  },
  {
   "cell_type": "code",
   "execution_count": 27,
   "id": "320db7a3-1bfb-46b4-aff6-16a62e57f112",
   "metadata": {},
   "outputs": [
    {
     "name": "stdout",
     "output_type": "stream",
     "text": [
      "WARNING:tensorflow:From C:\\Python 3.11\\Lib\\site-packages\\keras\\src\\layers\\pooling\\max_pooling2d.py:161: The name tf.nn.max_pool is deprecated. Please use tf.nn.max_pool2d instead.\n",
      "\n"
     ]
    }
   ],
   "source": [
    "max_pool = keras.layers.MaxPool2D(pool_size=2)"
   ]
  },
  {
   "cell_type": "markdown",
   "id": "60899ca6-1927-42a1-8429-7335ba820276",
   "metadata": {},
   "source": [
    "### Implementing Average Pooling"
   ]
  },
  {
   "cell_type": "markdown",
   "id": "3e6e35e1-2fd5-4d53-84b9-13008330040b",
   "metadata": {},
   "source": [
    "To create an average pooling layer, just use AvgPool2D instead of MaxPool2D. As you might expect, it works exactly like a max pooling layer, except it computes the mean rather than the max."
   ]
  },
  {
   "cell_type": "code",
   "execution_count": 28,
   "id": "069c0c9f-6fb3-4473-803c-14ff04e88d63",
   "metadata": {},
   "outputs": [],
   "source": [
    "max_pool = keras.layers.AveragePooling2D(pool_size=2)"
   ]
  },
  {
   "cell_type": "markdown",
   "id": "f6c99523-5ca9-481f-ae29-4e2358cf6e09",
   "metadata": {},
   "source": [
    "### Max Pooling VS Average Pooling"
   ]
  },
  {
   "cell_type": "markdown",
   "id": "3b4f4321-780b-44ca-8ad8-b519bada57b9",
   "metadata": {},
   "source": [
    "Average pooling layers used to be very popular, but people mostly use max pooling layers now, as they generally perform better. This may seem surprising, since computing the mean generally loses less information than computing the max. But on the other hand, max pooling preserves only the strongest features, getting rid of all the meaningless ones, so the next layers get a cleaner signal to work with. Moreover, max pooling offers stronger translation invariance than average pooling, and it requires slightly less compute."
   ]
  },
  {
   "cell_type": "code",
   "execution_count": null,
   "id": "a18135e5-f913-43ff-b733-5068c0a1a21d",
   "metadata": {},
   "outputs": [],
   "source": []
  },
  {
   "cell_type": "markdown",
   "id": "16b4da70-a068-4244-a6fc-4b35f52a1af1",
   "metadata": {},
   "source": [
    "### Pooling Along Different Dimensions."
   ]
  },
  {
   "cell_type": "markdown",
   "id": "79a057bb-8bd5-4fab-99be-6a690befb931",
   "metadata": {},
   "source": [
    "Note that max pooling and average pooling can be performed along the depth dimension rather than the spatial dimensions, although this is not as common. This can allow the CNN to learn to be invariant to various features. For example, it could learn multiple filters, each detecting a different rotation of the same pattern (such as handwritten digits;), and the depthwise max pooling layer would ensure that the output is the same regardless of the rotation. The CNN could similarly learn to be invariant to anything else: thickness, brightness, skew, color, and so on."
   ]
  },
  {
   "cell_type": "markdown",
   "id": "d90e0faa-ec99-40b0-a7af-c1f871c73438",
   "metadata": {},
   "source": [
    "### Pooling Along Spatial Dimension"
   ]
  },
  {
   "cell_type": "markdown",
   "id": "2286f217-34db-4742-83a9-994f129750b2",
   "metadata": {},
   "source": [
    "What it means: Pooling over the width and height of the image or feature map.\r\n",
    "\r\n",
    "How it works: You slide a small window (like 2×2 or 3×3) over the image and perform an operation (e.g., max or average) on the values within that window. This reduces the size of the image (downsampling) but keeps the number of channels (depth) the same.\r\n",
    "\r\n",
    "Goal: To reduce the spatial size and focus on the most important features in each region."
   ]
  },
  {
   "cell_type": "markdown",
   "id": "1076f736-78c9-4437-92c0-06ebdf30b221",
   "metadata": {},
   "source": [
    "Example:\r\n",
    "Imagine a 4×4 grid:\r\n",
    "\r\n",
    "[1  2  3  4\r\n",
    " 5  6  7  8\r\n",
    " 9  10 11 12\r\n",
    " 13 14 \n",
    " 15 16]\r\n",
    "With 2×2 max pooling, we get:\r\n",
    "\r\n",
    "[6  8\r\n",
    " 14 16]\r\n",
    "Pooling is done on height and width (spatial dimensions)."
   ]
  },
  {
   "cell_type": "code",
   "execution_count": null,
   "id": "b58f9bb2-6e04-404f-a038-aed83cf582dd",
   "metadata": {},
   "outputs": [],
   "source": []
  },
  {
   "cell_type": "markdown",
   "id": "92f6c5ef-285f-4f53-8bc2-2f00e7f67157",
   "metadata": {},
   "source": [
    "### Pooling Along Depth Dimension"
   ]
  },
  {
   "cell_type": "markdown",
   "id": "82fc15ac-4a1f-466d-9c13-17b2bf2bb3d5",
   "metadata": {},
   "source": [
    "What it means: Pooling over the channels (depth) at the same spatial location (for example, at one pixel across all channels, basically means that if a pixel has RGB value, i.e. it's 3 channels, hence we pool over these 3 value per pixel which means you are pooling over the depth dimension).\r\n",
    "\r\n",
    "How it works: Instead of pooling over pixels in the width and height, you pool over the responses of multiple filters (channels) at each pixel. You can use max or average pooling to collapse the values across channels into a single value for each spatial location.\r\n",
    "\r\n",
    "Goal: To combine the output of different filters (channels) and make the model invariant to certain variations (like rotation, size, etc.)"
   ]
  },
  {
   "cell_type": "markdown",
   "id": "5522e69e-e033-45d7-a4c5-6aaef0e655b2",
   "metadata": {},
   "source": [
    "Example:\r\n",
    "For a single pixel across 3 channels:\r\n",
    "\r\n",
    "[0.5  0.9  0.7]   ← 3 channels\r\n",
    "With max pooling over depth, you get:\r\n",
    "\r\n",
    "\r\n",
    "[0.9]   ← maximum of the 3 values"
   ]
  },
  {
   "cell_type": "markdown",
   "id": "d1600503-20fa-4ce2-827e-392a5119a519",
   "metadata": {},
   "source": [
    "So now if you read the line \"For example, it could learn multiple filters, each detecting a different rotation of the same pattern (such as handwritten digits;), and the depthwise max pooling layer would ensure that the output is the same regardless of the rotation.\" from the Pooling Along Different Dimensions block what this means is that since you focusing on the pixel's channel, hence you are looking at where is the highest intensity which will keep changing if you rotate the image, hence by pooling along the depth you'll look at all the positions where the intensity is high for the channels and hence the model will be able to perform better even if the digits get rotated."
   ]
  },
  {
   "cell_type": "code",
   "execution_count": null,
   "id": "d9d39de3-a3c8-4301-bb9b-e086cb87d048",
   "metadata": {},
   "outputs": [],
   "source": []
  },
  {
   "cell_type": "markdown",
   "id": "284161e6-e920-4d7e-91fa-a35e290da1e8",
   "metadata": {},
   "source": [
    "### Depth Wise pooling in TensorFlow"
   ]
  },
  {
   "cell_type": "markdown",
   "id": "52483cc5-3c22-4288-a1b1-39ac63b12851",
   "metadata": {},
   "source": [
    "Keras does not include a depthwise max pooling layer, but TensorFlow’s low-level Deep Learning API does: just use the tf.nn.max_pool() function, and specify the kernel size and strides as 4-tuples (i.e., tuples of size 4). The first three values of each should be 1: this indicates that the kernel size and stride along the batch, height, and width dimensions should be 1. The last value should be whatever kernel size and stride you want along the depth dimension—for example, 3 (this must be a divisor of the input depth; it will not work if the previous layer outputs 20 feature maps, since 20 is not a multiple of 3):"
   ]
  },
  {
   "cell_type": "code",
   "execution_count": 29,
   "id": "d73806e6-28f7-4b32-94af-2084ea05d4e8",
   "metadata": {},
   "outputs": [],
   "source": [
    "output = tf.nn.max_pool(images, ksize=(1, 1, 1, 3), strides=(1, 1, 1, 3), padding=\"VALID\")"
   ]
  },
  {
   "cell_type": "markdown",
   "id": "b28c1f98-98c1-4ff1-b743-8c86983ea9fa",
   "metadata": {},
   "source": [
    "If you want to include this as a layer in your Keras models, wrap it in a Lambda layer (or create a custom Keras layer):"
   ]
  },
  {
   "cell_type": "code",
   "execution_count": 30,
   "id": "9b10c065-5dca-4106-87aa-ddd15c863051",
   "metadata": {},
   "outputs": [],
   "source": [
    "depth_pool = keras.layers.Lambda( lambda X : tf.nn.max_pool(X, ksize=(1, 1, 1, 3), strides=(1, 1, 1, 3), padding=\"VALID\"))"
   ]
  },
  {
   "cell_type": "code",
   "execution_count": null,
   "id": "a8898d11-8ee4-464c-8868-408ef5c1e45d",
   "metadata": {},
   "outputs": [],
   "source": []
  },
  {
   "cell_type": "markdown",
   "id": "54a86ca3-2df2-46ca-bf10-05be25bb4adb",
   "metadata": {},
   "source": [
    "### Global Average Pooling."
   ]
  },
  {
   "cell_type": "markdown",
   "id": "030ce80a-bcf9-41dc-b2ac-6855ebc91f3e",
   "metadata": {},
   "source": [
    "One last type of pooling layer that you will often see in modern architectures is the global average pooling layer. It works very differently: all it does is compute the mean of each entire feature map (it’s like an average pooling layer using a pooling kernel with the same spatial dimensions as the inputs)."
   ]
  },
  {
   "cell_type": "markdown",
   "id": "cdaf9061-c570-4269-8698-63def0b7c110",
   "metadata": {},
   "source": [
    "This means that it just outputs a single number per feature map and per instance, because if you have kernel that is the same size as inputs, then you are basically sliding the entire global pooling layer over the entire feature map and hence it only leads to one output."
   ]
  },
  {
   "cell_type": "markdown",
   "id": "28972fd1-0443-4b1f-a037-c1f8af45ae86",
   "metadata": {},
   "source": [
    "Although this is of course extremely destructive (most of the information in the feature map is lost), it can be useful as the output layer."
   ]
  },
  {
   "cell_type": "markdown",
   "id": "55c5a0c8-36e2-4eb0-9b5b-1b507b3e8327",
   "metadata": {},
   "source": [
    "To create such a layer, simply use the"
   ]
  },
  {
   "cell_type": "code",
   "execution_count": 31,
   "id": "c86028de-6ac6-442c-b894-822bf3b94b8b",
   "metadata": {},
   "outputs": [],
   "source": [
    "global_avg_pool = keras.layers.GlobalAvgPool2D()"
   ]
  },
  {
   "cell_type": "markdown",
   "id": "47064d88-dfbc-4007-8757-5ccb599c88cb",
   "metadata": {},
   "source": [
    "It’s equivalent to this simple Lambda layer, which computes the mean over the spatial dimensions (height and width):"
   ]
  },
  {
   "cell_type": "code",
   "execution_count": 32,
   "id": "3eba4eb4-c9af-4437-bd56-23d0d93795eb",
   "metadata": {},
   "outputs": [],
   "source": [
    "global_avg_pool = keras.layers.Lambda(lambda X: tf.reduce_mean(X, axis=[1, 2]))"
   ]
  },
  {
   "cell_type": "code",
   "execution_count": null,
   "id": "4f22abad-081e-473b-87bb-3cf264f7ebe3",
   "metadata": {},
   "outputs": [],
   "source": []
  },
  {
   "cell_type": "markdown",
   "id": "2f04fea7-14c4-4a28-b2c4-63e145b90182",
   "metadata": {},
   "source": [
    "# CNN Architectures"
   ]
  },
  {
   "cell_type": "markdown",
   "id": "4804b0a4-40f9-4eb8-ab13-9738b419e00a",
   "metadata": {},
   "source": [
    "A typical CNN architecture has the following pattern"
   ]
  },
  {
   "cell_type": "markdown",
   "id": "210f52af-0d4c-4513-b431-ea823126f469",
   "metadata": {},
   "source": [
    "Typical CNN architectures stack a few convolutional layers (each one generally followed by a ReLU layer), then a pooling layer, then another few convolutional layers (+ReLU), then another pooling layer, and so on."
   ]
  },
  {
   "cell_type": "markdown",
   "id": "4103ddfc-730c-4e54-a454-6732672226c4",
   "metadata": {},
   "source": [
    "The image gets smaller and smaller as it progresses through the network, but it also typically gets deeper and deeper (i.e., with more feature maps), thanks to the convolutional layers."
   ]
  },
  {
   "cell_type": "markdown",
   "id": "72539e37-23b2-4c97-970b-35d038f1cef3",
   "metadata": {},
   "source": [
    "At the end of the network, a regular feedforward neural network is added, composed of a few fully connected layers (+ReLUs), and the final layer outputs the prediction (e.g., a softmax layer that outputs estimated class probabilities)."
   ]
  },
  {
   "cell_type": "code",
   "execution_count": null,
   "id": "27ef88f9-c110-45c8-b293-37b33e1b1d17",
   "metadata": {},
   "outputs": [],
   "source": []
  },
  {
   "cell_type": "markdown",
   "id": "3e5fbf36-e78c-4cff-848d-e4c2e364f9f6",
   "metadata": {},
   "source": [
    "### Architecture Tips:"
   ]
  },
  {
   "cell_type": "markdown",
   "id": "fd7ccdcf-ef1a-44fa-a434-0014da9cb128",
   "metadata": {},
   "source": [
    "A common mistake is to use convolution kernels that are too large. For example, instead of using a convolutional layer with a 5 × 5 kernel, stack two layers with 3 × 3 kernels: it will use fewer parameters and require fewer computations, and it will usually perform better."
   ]
  },
  {
   "cell_type": "markdown",
   "id": "293b72f3-7e72-4325-8278-86890d50d5b7",
   "metadata": {},
   "source": [
    "One exception is for the first convolutional layer: it can typically have a large kernel (e.g., 5 × 5), usually with a stride of 2 or more: this will reduce the spatial dimension of the image without losing too much information, and since the input image only has three channels in general, it will not be too costly."
   ]
  },
  {
   "cell_type": "code",
   "execution_count": null,
   "id": "2fb93061-82e8-42e6-bcf2-f02d8d5a1314",
   "metadata": {},
   "outputs": [],
   "source": []
  },
  {
   "cell_type": "markdown",
   "id": "49f9d289-f986-4ec7-8101-1c99cc146dcd",
   "metadata": {},
   "source": [
    "## Implementing CNN in TensorFlow"
   ]
  },
  {
   "cell_type": "code",
   "execution_count": 33,
   "id": "02781a5a-ad98-4b20-a4b4-a27322bfe7ef",
   "metadata": {},
   "outputs": [],
   "source": [
    "model = keras.models.Sequential([\n",
    " keras.layers.Conv2D(64, 7, activation=\"relu\", padding=\"same\",\n",
    " input_shape=[28, 28, 1]),\n",
    " keras.layers.MaxPooling2D(2),\n",
    " keras.layers.Conv2D(128, 3, activation=\"relu\", padding=\"same\"),\n",
    " keras.layers.Conv2D(128, 3, activation=\"relu\", padding=\"same\"),\n",
    " keras.layers.MaxPooling2D(2),\n",
    " keras.layers.Conv2D(256, 3, activation=\"relu\", padding=\"same\"),\n",
    " keras.layers.Conv2D(256, 3, activation=\"relu\", padding=\"same\"),\n",
    " keras.layers.MaxPooling2D(2),\n",
    " keras.layers.Flatten(),\n",
    " keras.layers.Dense(128, activation=\"relu\"),\n",
    " keras.layers.Dropout(0.5),\n",
    " keras.layers.Dense(64, activation=\"relu\"),\n",
    " keras.layers.Dropout(0.5),\n",
    " keras.layers.Dense(10, activation=\"softmax\")\n",
    "])"
   ]
  },
  {
   "cell_type": "code",
   "execution_count": 34,
   "id": "f091c0b8-80e4-49aa-a0a6-38737ab062c6",
   "metadata": {},
   "outputs": [],
   "source": [
    "(X_train_full, y_train_full), (X_test, y_test) = keras.datasets.fashion_mnist.load_data()\n",
    "X_train, X_valid = X_train_full[:-5000], X_train_full[-5000:]\n",
    "y_train, y_valid = y_train_full[:-5000], y_train_full[-5000:]\n",
    "\n",
    "X_mean = X_train.mean(axis=0, keepdims=True)\n",
    "X_std = X_train.std(axis=0, keepdims=True) + 1e-7\n",
    "X_train = (X_train - X_mean) / X_std\n",
    "X_valid = (X_valid - X_mean) / X_std\n",
    "X_test = (X_test - X_mean) / X_std\n",
    "\n",
    "X_train = X_train[..., np.newaxis]\n",
    "X_valid = X_valid[..., np.newaxis]\n",
    "X_test = X_test[..., np.newaxis]\n",
    "\n",
    "# Explanation for ... in X_test = X_test[..., np.newaxis] https://stackoverflow.com/questions/772124/what-does-the-ellipsis-object-do"
   ]
  },
  {
   "cell_type": "code",
   "execution_count": 35,
   "id": "3057bd18-33a2-4317-9700-4c94b1c1fc0c",
   "metadata": {},
   "outputs": [
    {
     "data": {
      "text/plain": [
       "(55000, 28, 28, 1)"
      ]
     },
     "execution_count": 35,
     "metadata": {},
     "output_type": "execute_result"
    }
   ],
   "source": [
    "X_train.shape"
   ]
  },
  {
   "cell_type": "markdown",
   "id": "eea1ba82-7f1d-4810-976b-34f516a4fef3",
   "metadata": {},
   "source": [
    "## Code Walk Through"
   ]
  },
  {
   "cell_type": "markdown",
   "id": "d3d1877e-f899-44c3-958c-30226750cee1",
   "metadata": {},
   "source": [
    "1) The first layer uses 64 fairly large filters (7 × 7) but no stride because the input images are not very large. It also sets input_shape=[28, 28, 1], because the images are 28 × 28 pixels, with a single color channel (i.e., grayscale). NOTE:- We are able to pass the the inputs directly without flattening that we had to previously for DNNs."
   ]
  },
  {
   "cell_type": "markdown",
   "id": "6236de76-39fc-46c2-add3-5278522e35ca",
   "metadata": {},
   "source": [
    "2) Next we have a max pooling layer which uses a pool size of 2, so it divides each spatial dimension by a factor of 2."
   ]
  },
  {
   "cell_type": "markdown",
   "id": "06914ddf-3029-4d56-9faa-c9ff533ebacb",
   "metadata": {},
   "source": [
    "3) Then we repeat the same structure twice: two convolutional layers followed by a max pooling layer. For larger images, we could repeat this structure several more times (the number of repetitions is a hyperparameter you can tune)."
   ]
  },
  {
   "cell_type": "markdown",
   "id": "6c515c13-690a-410c-94b1-731df2d1236a",
   "metadata": {},
   "source": [
    "4) Note that the number of filters grows as we climb up the CNN toward the output layer (it is initially 64, then 128, then 256): it makes sense for it to grow, since the number of low-level features is often fairly low (e.g., small circles, horizontal lines), but there are many different ways to combine them into higher-level features. It is a common practice to double the number of filters after each pooling layer: since a pooling layer divides each spatial dimension by a factor of 2, we can afford to double the number of feature maps in the next layer without fear of exploding the number of parameters, memory usage, or computational load."
   ]
  },
  {
   "cell_type": "markdown",
   "id": "5f33c34d-b0e0-4bc4-b286-0002a84cac48",
   "metadata": {},
   "source": [
    "5) Next is the fully connected network, composed of two hidden dense layers and a dense output layer. Note that we must flatten its inputs, since a dense network expects a 1D array of features for each instance. We also add two dropout layers, with a dropout rate of 50% each, to reduce overfitting."
   ]
  },
  {
   "cell_type": "markdown",
   "id": "72ef022f-8a31-4691-a9fd-817975e0ecec",
   "metadata": {},
   "source": [
    "## Training the model"
   ]
  },
  {
   "cell_type": "code",
   "execution_count": 36,
   "id": "be41324d-570c-48bd-aade-018fb6f6d78c",
   "metadata": {},
   "outputs": [
    {
     "name": "stdout",
     "output_type": "stream",
     "text": [
      "WARNING:tensorflow:From C:\\Python 3.11\\Lib\\site-packages\\keras\\src\\optimizers\\__init__.py:309: The name tf.train.Optimizer is deprecated. Please use tf.compat.v1.train.Optimizer instead.\n",
      "\n",
      "Epoch 1/10\n",
      "WARNING:tensorflow:From C:\\Python 3.11\\Lib\\site-packages\\keras\\src\\utils\\tf_utils.py:492: The name tf.ragged.RaggedTensorValue is deprecated. Please use tf.compat.v1.ragged.RaggedTensorValue instead.\n",
      "\n",
      "WARNING:tensorflow:From C:\\Python 3.11\\Lib\\site-packages\\keras\\src\\engine\\base_layer_utils.py:384: The name tf.executing_eagerly_outside_functions is deprecated. Please use tf.compat.v1.executing_eagerly_outside_functions instead.\n",
      "\n",
      "1719/1719 [==============================] - 216s 123ms/step - loss: 0.7577 - accuracy: 0.7351 - val_loss: 0.3978 - val_accuracy: 0.8616\n",
      "Epoch 2/10\n",
      "1719/1719 [==============================] - 183s 106ms/step - loss: 0.4444 - accuracy: 0.8494 - val_loss: 0.3318 - val_accuracy: 0.8764\n",
      "Epoch 3/10\n",
      "1719/1719 [==============================] - 161s 94ms/step - loss: 0.3838 - accuracy: 0.8699 - val_loss: 0.3076 - val_accuracy: 0.8898\n",
      "Epoch 4/10\n",
      "1719/1719 [==============================] - 141s 82ms/step - loss: 0.3449 - accuracy: 0.8837 - val_loss: 0.3003 - val_accuracy: 0.8916\n",
      "Epoch 5/10\n",
      "1719/1719 [==============================] - 146s 85ms/step - loss: 0.3278 - accuracy: 0.8895 - val_loss: 0.2980 - val_accuracy: 0.8916\n",
      "Epoch 6/10\n",
      "1719/1719 [==============================] - 156s 91ms/step - loss: 0.3057 - accuracy: 0.8969 - val_loss: 0.3054 - val_accuracy: 0.8950\n",
      "Epoch 7/10\n",
      "1719/1719 [==============================] - 143s 83ms/step - loss: 0.2905 - accuracy: 0.9022 - val_loss: 0.2795 - val_accuracy: 0.9014\n",
      "Epoch 8/10\n",
      "1719/1719 [==============================] - 152s 89ms/step - loss: 0.2774 - accuracy: 0.9067 - val_loss: 0.2961 - val_accuracy: 0.8932\n",
      "Epoch 9/10\n",
      "1719/1719 [==============================] - 175s 102ms/step - loss: 0.2684 - accuracy: 0.9083 - val_loss: 0.2748 - val_accuracy: 0.9040\n",
      "Epoch 10/10\n",
      "1719/1719 [==============================] - 174s 101ms/step - loss: 0.2588 - accuracy: 0.9119 - val_loss: 0.2993 - val_accuracy: 0.9032\n",
      "313/313 [==============================] - 12s 37ms/step - loss: 0.3336 - accuracy: 0.8979\n",
      "1/1 [==============================] - 0s 324ms/step\n"
     ]
    }
   ],
   "source": [
    "model.compile(loss=\"sparse_categorical_crossentropy\", optimizer=\"nadam\", metrics=[\"accuracy\"])\n",
    "history = model.fit(X_train, y_train, epochs=10, validation_data=(X_valid, y_valid))\n",
    "score = model.evaluate(X_test, y_test)\n",
    "X_new = X_test[:10] # pretend we have new images\n",
    "y_pred = model.predict(X_new)"
   ]
  },
  {
   "cell_type": "code",
   "execution_count": null,
   "id": "f3f65708-b59f-4810-8866-2c28f95b512d",
   "metadata": {},
   "outputs": [],
   "source": []
  },
  {
   "cell_type": "markdown",
   "id": "78bf9bec-f128-4fd8-80ed-93de9d7a8270",
   "metadata": {},
   "source": [
    "## Advances in CNNs through different architectures"
   ]
  },
  {
   "cell_type": "markdown",
   "id": "ae718b41-47f9-4236-8701-03121a7d8299",
   "metadata": {},
   "source": [
    "## LeNet (refer the layer composition in the book)"
   ]
  },
  {
   "cell_type": "markdown",
   "id": "d30a2074-31c4-4a14-b08c-a2db0988a86b",
   "metadata": {},
   "source": [
    "### Details about LeNet"
   ]
  },
  {
   "cell_type": "markdown",
   "id": "63835590-1d29-4b6f-9dfc-d2418753ffec",
   "metadata": {},
   "source": [
    "1) MNIST images are 28 × 28 pixels, but they are zero-padded to 32 × 32 pixels and normalized before being fed to the network. The rest of the network does not use any padding, which is why the size keeps shrinking as the image progresses through the network."
   ]
  },
  {
   "cell_type": "markdown",
   "id": "bbc158ba-cf35-4b6d-85cf-1a2cd2f7c70e",
   "metadata": {},
   "source": [
    "2) The average pooling layers are slightly more complex than usual: each neuron computes the mean of its inputs, then multiplies the result by a learnable coefficient (one per map) and adds a learnable bias term (again, one per map), then finally applies the activation function."
   ]
  },
  {
   "cell_type": "markdown",
   "id": "fb09d94d-d214-4dd0-883d-b8db63ed7ec8",
   "metadata": {},
   "source": [
    "3) Most neurons in C3 maps are connected to neurons in only three or four S2 maps (instead of all six S2 maps). See table 1 (page 8) in the original paper(Yann LeCun et al., “Gradient-Based Learning Applied to Document Recognition,” Proceedings of the IEEE 86, no. 11 (1998): 2278–2324.) for details."
   ]
  },
  {
   "cell_type": "markdown",
   "id": "3c4e2166-c119-4db8-a09f-d873d3cf76cd",
   "metadata": {},
   "source": [
    "4) The output layer is a bit special: instead of computing the matrix multiplication of the inputs and the weight vector, each neuron outputs the square of the Euclidian distance between its input vector and its weight vector. Each output measures how much the image belongs to a particular digit class. The cross-entropy cost function is now preferred, as it penalizes bad predictions much more, producing larger gradients and converging faster."
   ]
  },
  {
   "cell_type": "code",
   "execution_count": null,
   "id": "2921f0c6-fcd5-4261-be62-c97c48da806f",
   "metadata": {},
   "outputs": [],
   "source": []
  },
  {
   "cell_type": "markdown",
   "id": "f8fc19ff-d91c-4ba9-a884-71728c0f5d42",
   "metadata": {},
   "source": [
    "## AlexNet ((refer the layer composition in the book))"
   ]
  },
  {
   "cell_type": "markdown",
   "id": "fceace3b-4494-435a-99be-e3532dc68f16",
   "metadata": {},
   "source": [
    "The AlexNet CNN architecture11 won the 2012 ImageNet ILSVRC challenge by a large margin: it achieved a top-five error rate of 17%, while the second best achieved only 26%! It was developed by Alex Krizhevsky (hence the name), Ilya Sutskever, and Geoffrey Hinton. It is similar to LeNet-5, only much larger and deeper, and it was the first to stack convolutional layers directly on top of one another, instead of stacking a pooling layer on top of each convolutional layer."
   ]
  },
  {
   "cell_type": "markdown",
   "id": "c348fa2e-d620-42db-833f-79e5dfaff776",
   "metadata": {},
   "source": [
    "### Details AlexNet"
   ]
  },
  {
   "cell_type": "markdown",
   "id": "9a2fb57b-bace-491d-a9d3-9b7851e7eba4",
   "metadata": {},
   "source": [
    "To reduce overfitting, the authors used two regularization techniques. First, they applied dropout with a 50% dropout rate during training to the outputs of layers F9 and F10. Second, they performed data augmentation by randomly shifting the training images by various offsets, flipping them horizontally, and changing the lighting conditions."
   ]
  },
  {
   "cell_type": "markdown",
   "id": "f83665d5-53de-447d-b75b-aaf370d8119e",
   "metadata": {},
   "source": [
    "### Local Response Normalization in AlexNet"
   ]
  },
  {
   "cell_type": "markdown",
   "id": "04fbf945-3cda-475d-8622-0084fddd8e63",
   "metadata": {},
   "source": [
    "AlexNet also uses a competitive normalization step immediately after the ReLU step of layers C1 and C3, called local response normalization (LRN): the most strongly activated neurons inhibit other neurons located at the same position in neighboring feature maps (such competitive activation has been observed in biological neurons). This encourages different feature maps to specialize, pushing them apart and forcing them to explore a wider range of features, ultimately improving generalization.  IMPORTANT!!!!!!!!!!!!!!!!!!!!!!!!!!!!! SEE LRN EQN IN TB IN ALEXNET SECTION"
   ]
  },
  {
   "cell_type": "code",
   "execution_count": null,
   "id": "e140847d-c99b-45cf-84af-aae4f973b3a9",
   "metadata": {},
   "outputs": [],
   "source": []
  },
  {
   "cell_type": "markdown",
   "id": "4893131d-c03b-46cf-a84d-c587bcd8ce26",
   "metadata": {},
   "source": [
    "### Side Note DATA AUGMENTATION"
   ]
  },
  {
   "cell_type": "code",
   "execution_count": null,
   "id": "7a8f2ec7-3985-4148-a4be-cbfa4f6a0cc1",
   "metadata": {},
   "outputs": [],
   "source": []
  },
  {
   "cell_type": "markdown",
   "id": "e89e6255-07e5-4a40-a7ea-88ca8317e086",
   "metadata": {},
   "source": [
    "Data augmentation artificially increases the size of the training set by generating many realistic variants of each training instance. This reduces overfitting, making this a regularization technique. The generated instances should be as realistic as possible: ideally, given an image from the augmented training set, a human should not be able to tell whether it was augmented or not. Simply adding white noise will not help; the modifications should be learnable (white noise is not)."
   ]
  },
  {
   "cell_type": "markdown",
   "id": "d10cedf6-9798-4b69-bde5-d8ed73607084",
   "metadata": {},
   "source": [
    "### Positional Augmentation"
   ]
  },
  {
   "cell_type": "markdown",
   "id": "e2e0e895-6f2e-4ef9-a952-207caf7ff7cb",
   "metadata": {},
   "source": [
    "For example, you can slightly shift, rotate, and resize every picture in the training set by various amounts and add the resulting pictures to the training set. This forces the model to be more tolerant to variations in the position, orientation, and size of the objects in the pictures."
   ]
  },
  {
   "cell_type": "markdown",
   "id": "d0a2e200-3c18-4dee-85f0-6f764c18d7be",
   "metadata": {},
   "source": [
    "### Lighting Augmentation"
   ]
  },
  {
   "cell_type": "markdown",
   "id": "ecba1152-ed4b-43be-a89b-37a0209d8f79",
   "metadata": {},
   "source": [
    "For a model that’s more tolerant of different lighting conditions, you can similarly generate many images with various contrasts. In general, you can also flip the pictures horizontally (except for text, and other asymmetrical objects). By combining these transformations, you can greatly increase the size of your training set."
   ]
  },
  {
   "cell_type": "code",
   "execution_count": null,
   "id": "7d219c32-150a-4163-867a-807862706284",
   "metadata": {},
   "outputs": [],
   "source": []
  },
  {
   "cell_type": "markdown",
   "id": "d744c7a5-c0a5-4af5-a592-a5aca32fcea3",
   "metadata": {},
   "source": [
    "## GoogLeNet"
   ]
  },
  {
   "cell_type": "markdown",
   "id": "6ae15da6-7ff3-4890-9364-a5f0a25b9638",
   "metadata": {},
   "source": [
    "The GoogLeNet architecture was developed by Christian Szegedy et al. from Google Research,13 and it won the ILSVRC 2014 challenge by pushing the top-five error rate below 7%. This great performance came in large part from the fact that the network was much deeper than previous CNNs."
   ]
  },
  {
   "cell_type": "markdown",
   "id": "8c8c8e2e-9936-4766-939e-51b037e9a81e",
   "metadata": {},
   "source": [
    "This was made possible by subnetworks called inception modules, which allow GoogLeNet to use parameters much more efficiently than previous architectures: GoogLeNet actually has 10 times fewer parameters than AlexNet (roughly 6 million instead of 60 million)."
   ]
  },
  {
   "cell_type": "code",
   "execution_count": null,
   "id": "f8f19967-8f03-4eb8-b111-f4f1267b0a65",
   "metadata": {},
   "outputs": [],
   "source": []
  },
  {
   "cell_type": "markdown",
   "id": "c8c21bfa-ddd6-46d3-8c5f-47e9d484abbd",
   "metadata": {},
   "source": [
    "### IMPORTANT!!!!!!!!!!!!!!! SEE INCEPTION MODULE AND GOOGLENET ARCHITECTURE PART FROM TB IN GOOGLENET SECTION"
   ]
  },
  {
   "cell_type": "code",
   "execution_count": null,
   "id": "6e99c5ad-1293-4d2d-97d2-03d7f4bca8e9",
   "metadata": {},
   "outputs": [],
   "source": []
  },
  {
   "cell_type": "code",
   "execution_count": null,
   "id": "f4634f7d-486d-4704-ad8e-789916a1eeaf",
   "metadata": {},
   "outputs": [],
   "source": []
  },
  {
   "cell_type": "markdown",
   "id": "49665ec6-be60-4948-8ec7-73d808eb11c0",
   "metadata": {},
   "source": [
    "## ResNet"
   ]
  },
  {
   "cell_type": "markdown",
   "id": "77ffb82f-8f9a-4a8d-b8aa-c4241ad681a9",
   "metadata": {},
   "source": [
    "Kaiming He et al. won the ILSVRC 2015 challenge using a Residual Network (or ResNet), 16 that delivered an astounding top-five error rate under 3.6%. The winning variant used an extremely deep CNN composed of 152 layers (other variants had 34, 50, and 101 layers)."
   ]
  },
  {
   "cell_type": "markdown",
   "id": "9812dffb-c724-4f9e-ac5b-8327de60daf7",
   "metadata": {},
   "source": [
    "It confirmed the general trend: models are getting deeper and deeper, with fewer and fewer parameters."
   ]
  },
  {
   "cell_type": "markdown",
   "id": "82b1d5e0-9cab-4c3d-ac38-3561548d9862",
   "metadata": {},
   "source": [
    "The key to being able to train such a deep network is to use skip connections (also called shortcut connections): the signal feeding into a layer is also added to the output of a layer located a bit higher up the stack. Let’s see why this is useful."
   ]
  },
  {
   "cell_type": "code",
   "execution_count": null,
   "id": "a5c03f45-b0ea-405a-bda6-30e81a7bbb8b",
   "metadata": {},
   "outputs": [],
   "source": []
  },
  {
   "cell_type": "markdown",
   "id": "c76c5ac6-4258-408f-9cec-366b80f7fa3c",
   "metadata": {},
   "source": [
    "### Skip/Shortcut Connections in ResNet"
   ]
  },
  {
   "cell_type": "markdown",
   "id": "43df6659-197f-4b01-9a67-bc3c1bb80b7c",
   "metadata": {},
   "source": [
    "When training a neural network, the goal is to make it model a target function h(x)."
   ]
  },
  {
   "cell_type": "markdown",
   "id": "104a051f-029c-414a-9ddd-1b7fdff7b85a",
   "metadata": {},
   "source": [
    "If you add the input x to the output of the network (i.e., you add a skip connection), then the network will be forced to model f(x) = h(x) – x rather than h(x). This is called residual learning."
   ]
  },
  {
   "cell_type": "markdown",
   "id": "762f5e5e-2fad-47aa-b7db-a7221b3a5396",
   "metadata": {},
   "source": [
    "When you initialize a regular neural network, its weights are close to zero, so the network just outputs values close to zero. If you add a skip connection, the resulting network just outputs a copy of its inputs; in other words, it initially models the identity function. If the target function is fairly close to the identity function (which is often the case), this will speed up training considerably."
   ]
  },
  {
   "cell_type": "markdown",
   "id": "6a3b8bc6-af96-47b9-a6a0-4efeb67a2f48",
   "metadata": {},
   "source": [
    "Moreover, if you add many skip connections, the network can start making progress even if several layers have not started learning yet. Thanks to skip connections, the signal can easily make its way across the whole network. The deep residual network can be seen as a stack of residual units (RUs), where each residual unit is a small neural network with a skip connection."
   ]
  },
  {
   "cell_type": "code",
   "execution_count": null,
   "id": "beeb2b3a-3dfa-4df0-bcd5-8926c42d1f98",
   "metadata": {},
   "outputs": [],
   "source": []
  },
  {
   "cell_type": "markdown",
   "id": "a26e3dae-e841-429a-983f-74b71d5f180a",
   "metadata": {},
   "source": [
    "### ResNet Architecture"
   ]
  },
  {
   "cell_type": "markdown",
   "id": "b498d9ac-9cbe-44a9-8acf-d0c0e3749b3c",
   "metadata": {},
   "source": [
    "It is surprisingly simple. It starts and ends exactly like GoogLeNet (except without a dropout layer), and in between is just a very deep stack of simple residual units. Each residual unit is composed of two convolutional layers (and no pooling layer!), with Batch Normalization (BN) and ReLU activation, using 3 × 3 kernels and preserving spatial dimensions (stride 1, \"same\" padding)."
   ]
  },
  {
   "cell_type": "markdown",
   "id": "56ab852c-ea8c-4d78-a5c6-1e8d61751839",
   "metadata": {},
   "source": [
    "Note that the number of feature maps is doubled every few residual units, at the same time as their height and width are halved (using a convolutional layer with stride 2). When this happens, the inputs cannot be added directly to the outputs of the residual unit because they don’t have the same shape. To solve this problem, the inputs are passed through a 1 × 1 convolutional layer with stride 2 and the right number of output feature maps."
   ]
  },
  {
   "cell_type": "code",
   "execution_count": null,
   "id": "6f391351-f185-474a-9f22-c447ef1fdc9c",
   "metadata": {},
   "outputs": [],
   "source": []
  },
  {
   "cell_type": "markdown",
   "id": "f3c5b5ee-2d13-49bd-8e31-c327f880bc67",
   "metadata": {},
   "source": [
    "### ResNet 34"
   ]
  },
  {
   "cell_type": "markdown",
   "id": "b5520804-37a6-44b7-ac6d-2e711a44290c",
   "metadata": {},
   "source": [
    "ResNet-34 is the ResNet with 34 layers (only counting the convolutional layers and the fully connected layer)17 containing 3 residual units that output 64 feature maps, 4 RUs with 128 maps, 6 RUs with 256 maps, and 3 RUs with 512 maps. "
   ]
  },
  {
   "cell_type": "code",
   "execution_count": null,
   "id": "22af457e-ac0d-4e48-832d-eb333f4bda0e",
   "metadata": {},
   "outputs": [],
   "source": []
  },
  {
   "cell_type": "markdown",
   "id": "125ef8c3-a2c1-4b90-87d8-0e1781e12855",
   "metadata": {},
   "source": [
    "### ResNet - 152"
   ]
  },
  {
   "cell_type": "markdown",
   "id": "245d6f6e-b337-4f17-bd62-34c01316f9c4",
   "metadata": {},
   "source": [
    "ResNets deeper than that, such as ResNet-152, use slightly different residual units. Instead of two 3 × 3 convolutional layers with, say, 256 feature maps, they use three convolutional layers: first a 1 × 1 convolutional layer with just 64 feature maps (4 times less), which acts as a bottleneck layer (as discussed already), then a 3 × 3 layer with 64 feature maps, and finally another 1 × 1 convolutional layer with 256 feature maps (4 times 64) that restores the original depth. ResNet-152 contains 3 such RUs that output 256 maps, then 8 RUs with 512 maps, a whopping 36 RUs with 1,024 maps, and finally 3 RUs with 2,048 maps."
   ]
  },
  {
   "cell_type": "code",
   "execution_count": null,
   "id": "80989bf8-8277-43c1-bf96-00de4fc3c786",
   "metadata": {},
   "outputs": [],
   "source": []
  },
  {
   "cell_type": "markdown",
   "id": "6455f083-2435-4c99-af9f-982531ceff99",
   "metadata": {},
   "source": [
    "## Xception"
   ]
  },
  {
   "cell_type": "markdown",
   "id": "08aa991f-5ba0-4fd6-842f-6f15659ef064",
   "metadata": {},
   "source": [
    "Another variant of the GoogLeNet architecture is worth noting: Xception19 (which stands for Extreme Inception) was proposed in 2016 by François Chollet (the author of Keras), and it significantly outperformed Inception-v3 on a huge vision task (350 million images and 17,000 classes)."
   ]
  },
  {
   "cell_type": "markdown",
   "id": "7f07ceaa-0126-41e5-9d73-504746685dc5",
   "metadata": {},
   "source": [
    "Just like Inception-v4, it merges the ideas of GoogLeNet and ResNet, but it replaces the inception modules with a special type of layer called a depthwise separable convolution layer (or separable convolution layer for short). These layers had been used before in some CNN architectures, but they were not as central as in the Xception architecture. "
   ]
  },
  {
   "cell_type": "code",
   "execution_count": null,
   "id": "bb794918-d287-41ac-9000-fdadef805a9c",
   "metadata": {},
   "outputs": [],
   "source": []
  },
  {
   "cell_type": "markdown",
   "id": "6ba4b69c-42cb-45ac-a2c3-a0d7d7fad094",
   "metadata": {},
   "source": [
    "### Separable Convolutional layer in Xception"
   ]
  },
  {
   "cell_type": "markdown",
   "id": "23281762-8c7f-4e38-8a31-b07b53dc70a6",
   "metadata": {},
   "source": [
    "While a regular convolutional layer uses filters that try to simultaneously capture spatial patterns (e.g., an oval) and crosschannel patterns (e.g., mouth + nose + eyes = face), a separable convolutional layer makes the strong assumption that spatial patterns and cross-channel patterns can be modeled separately."
   ]
  },
  {
   "cell_type": "markdown",
   "id": "9da657a8-7656-40fc-bb98-309796b35cf9",
   "metadata": {},
   "source": [
    "Thus, it is composed of two parts: the first part applies a single spatial filter for each input feature map, then the second part looks exclusively for cross-channel patterns—it is just a regular convolutional layer with 1 × 1 filters. For this reason, the Xception architecture starts with 2 regular convolutional layers, but then the rest of the architecture uses only separable convolutions (34 in all), plus a few max pooling layers and the usual final layers (a global average pooling layer and a dense output layer).."
   ]
  },
  {
   "cell_type": "markdown",
   "id": "ec9c0c68-1b53-48e3-bf90-92c5c8355dc5",
   "metadata": {},
   "source": [
    "#### Xception and Inception"
   ]
  },
  {
   "cell_type": "markdown",
   "id": "0d94b566-b186-46b9-a0b7-37452ce1113c",
   "metadata": {},
   "source": [
    "You might wonder why Xception is considered a variant of GoogLeNet, since it contains no inception module at all. Well, as we discussed earlier, an inception module contains convolutional layers with 1 × 1 filters: these look exclusively for crosschannel patterns. However, the convolutional layers that sit on top of them are regular convolutional layers that look both for spatial and cross-channel patterns. So you can think of an inception module as an intermediate between a regular convolutional layer (which considers spatial patterns and cross-channel patterns jointly) and a separable convolutional layer (which considers them separately). In practice, it seems that separable convolutional layers generally perform better."
   ]
  },
  {
   "cell_type": "code",
   "execution_count": null,
   "id": "7cf9b4c2-a342-41b0-a8f9-1cbdf35a0b02",
   "metadata": {},
   "outputs": [],
   "source": []
  },
  {
   "cell_type": "markdown",
   "id": "2fb8700c-cec3-4243-94e6-ea4600a27c22",
   "metadata": {},
   "source": [
    "#### Note Separable CNNs"
   ]
  },
  {
   "cell_type": "markdown",
   "id": "b2009088-d281-4d5f-85e7-e6d032d2eb8f",
   "metadata": {},
   "source": [
    "Separable convolutional layers use fewer parameters, less memory, and fewer computations than regular convolutional layers, and in general they even perform better, so you should consider using them by default (except after layers with few channels)."
   ]
  },
  {
   "cell_type": "code",
   "execution_count": null,
   "id": "2dd456a8-6342-4e07-9d05-d74405caf280",
   "metadata": {},
   "outputs": [],
   "source": []
  },
  {
   "cell_type": "markdown",
   "id": "03b06c45-6067-471a-99a5-821134ba21c6",
   "metadata": {},
   "source": [
    "## SENet"
   ]
  },
  {
   "cell_type": "markdown",
   "id": "520778ca-37ff-4e84-b98f-bbe352a83ff3",
   "metadata": {},
   "source": [
    "The winning architecture in the ILSVRC 2017 challenge was the Squeeze-andExcitation Network (SENet). This architecture extends existing architectures such as inception networks and ResNets, and boosts their performance. This allowed SENet to win the competition with an astonishing 2.25% top-five error rate!"
   ]
  },
  {
   "cell_type": "markdown",
   "id": "974b062a-fd72-4ad1-a83e-8869eb25ea6a",
   "metadata": {},
   "source": [
    "The extended versions of inception networks and ResNets are called SE-Inception and SE-ResNet, respectively. The boost comes from the fact that a SENet adds a small neural network, called an SE block, to every unit in the original architecture (i.e., every inception module or every residual unit)."
   ]
  },
  {
   "cell_type": "markdown",
   "id": "d8ba917a-4d89-4139-af5b-655fe372f855",
   "metadata": {},
   "source": [
    "### SE Block from SENet"
   ]
  },
  {
   "cell_type": "markdown",
   "id": "e5e1e2a1-3ec9-43a5-81d2-0a6e20c9ae22",
   "metadata": {},
   "source": [
    "An SE block analyzes the output of the unit it is attached to, focusing exclusively on the depth dimension or the color channel (it does not look for any spatial pattern), and it learns which features are usually most active together. It then uses this information to recalibrate the feature maps."
   ]
  },
  {
   "cell_type": "markdown",
   "id": "1b973dc5-33b5-4d87-89ba-385a5416df40",
   "metadata": {},
   "source": [
    "For example, an SE block may learn that mouths, noses, and eyes usually appear together in pictures: if you see a mouth and a nose, you should expect to see eyes as well. So if the block sees a strong activation in the mouth and nose feature maps, but only mild activation in the eye feature map, it will boost the eye feature map (more accurately, it will reduce irrelevant feature maps). If the eyes were somewhat confused with something else, this feature map recalibration will help resolve the ambiguity."
   ]
  },
  {
   "cell_type": "code",
   "execution_count": null,
   "id": "cd00bf81-f5cf-45c3-a857-e35370833bc1",
   "metadata": {},
   "outputs": [],
   "source": []
  },
  {
   "cell_type": "markdown",
   "id": "a583c7d7-10f9-4724-958b-ebc64e92f3b4",
   "metadata": {},
   "source": [
    "### SE Block Architecture"
   ]
  },
  {
   "cell_type": "markdown",
   "id": "eb17654d-b82f-436a-aaf1-d377e8d75ccc",
   "metadata": {},
   "source": [
    "An SE block is composed of just three layers: a global average pooling layer, a hidden dense layer using the ReLU activation function, and a dense output layer using the sigmoid activation function."
   ]
  },
  {
   "cell_type": "markdown",
   "id": "f5478241-5e22-430c-b8c0-5435e163b69a",
   "metadata": {},
   "source": [
    "#### Global Average pooling in SE Block"
   ]
  },
  {
   "cell_type": "markdown",
   "id": "9186c4b6-eae2-4d91-a03b-a6143bfba529",
   "metadata": {},
   "source": [
    "As earlier, the global average pooling layer computes the mean activation for each feature map: for example, if its input contains 256 feature maps, it will output 256 numbers representing the overall level of response for each filter."
   ]
  },
  {
   "cell_type": "markdown",
   "id": "b481a95b-d028-429e-9d85-dea03105888f",
   "metadata": {},
   "source": [
    "#### Squeeze Layer"
   ]
  },
  {
   "cell_type": "markdown",
   "id": "d0378290-6c16-4cc1-a3e9-66a75e5af97d",
   "metadata": {},
   "source": [
    "The next layer is where the “squeeze” happens: this layer has significantly fewer than 256 neurons typically 16 times fewer than the number of feature maps (e.g., 16 neurons)—so the 256 numbers get compressed into a small vector (e.g., 16 dimensions). "
   ]
  },
  {
   "cell_type": "markdown",
   "id": "05fee106-f6ac-43e1-9acc-1bd6be3684d2",
   "metadata": {},
   "source": [
    "This is a lowdimensional vector representation (i.e., an embedding) of the distribution of feature responses. This bottleneck step forces the SE block to learn a general representation of the feature combinations."
   ]
  },
  {
   "cell_type": "markdown",
   "id": "5bf2ad35-8691-487f-9e41-769aaaf8a62d",
   "metadata": {},
   "source": [
    "Finally, the output layer takes the embedding and outputs a recalibration vector containing one number per feature map (e.g., 256), each between 0 and 1. The feature maps are then multiplied by this recalibration vector, so irrelevant features (with a low recalibration score) get scaled down while relevant features (with a recalibration score close to 1) are left alone."
   ]
  },
  {
   "cell_type": "code",
   "execution_count": null,
   "id": "0d542e84-3eef-4971-9802-b4ad9c59446e",
   "metadata": {},
   "outputs": [],
   "source": []
  },
  {
   "cell_type": "markdown",
   "id": "10a125ac-a805-468d-8eec-d212b3a34e3d",
   "metadata": {},
   "source": [
    "## Implementing a ResNet-34 CNN Using Keras"
   ]
  },
  {
   "cell_type": "markdown",
   "id": "287cc3fb-50e9-407c-a2d1-44328c12f8a2",
   "metadata": {},
   "source": [
    "Most CNN architectures described so far are fairly straightforward to implement. To illustrate the process, let’s implement a ResNet-34 from scratch using Keras. First, let’s create a ResidualUnit layer:"
   ]
  },
  {
   "cell_type": "code",
   "execution_count": 37,
   "id": "37b4339e-2726-49e8-86c0-9e6f751195a7",
   "metadata": {},
   "outputs": [],
   "source": [
    "from functools import partial"
   ]
  },
  {
   "cell_type": "code",
   "execution_count": 38,
   "id": "5ec5c23b-c15f-43c6-94d0-c0bb38abbdac",
   "metadata": {},
   "outputs": [],
   "source": [
    "DefaultConv2D = partial(keras.layers.Conv2D, kernel_size=3, strides=1,\n",
    "                        padding=\"SAME\", use_bias=False)"
   ]
  },
  {
   "cell_type": "code",
   "execution_count": 39,
   "id": "4e10d638-60f5-4047-b54f-119199ae7175",
   "metadata": {},
   "outputs": [],
   "source": [
    "class ResidualUnit(keras.layers.Layer):\n",
    "    def __init__(self, filters, strides=1, activation=\"relu\", **kwargs):\n",
    "        super().__init__(**kwargs)\n",
    "        self.activation = keras.activations.get(activation)\n",
    "        self.main_layers = [\n",
    "            DefaultConv2D(filters, strides=strides),\n",
    "            keras.layers.BatchNormalization(),\n",
    "            self.activation,\n",
    "            DefaultConv2D(filters),\n",
    "            keras.layers.BatchNormalization()]\n",
    "        self.skip_layers = []\n",
    "        if strides > 1:\n",
    "            self.skip_layers = [\n",
    "                DefaultConv2D(filters, kernel_size=1, strides=strides),\n",
    "                keras.layers.BatchNormalization()]\n",
    "\n",
    "    def call(self, inputs):\n",
    "        Z = inputs\n",
    "        for layer in self.main_layers:\n",
    "            Z = layer(Z)\n",
    "        skip_Z = inputs\n",
    "        for layer in self.skip_layers:\n",
    "            skip_Z = layer(skip_Z)\n",
    "        return self.activation(Z + skip_Z)"
   ]
  },
  {
   "cell_type": "markdown",
   "id": "c0e0c904-b46c-4902-b50a-162882e6b82f",
   "metadata": {},
   "source": [
    "#### Code Explanation"
   ]
  },
  {
   "cell_type": "markdown",
   "id": "a1cb2e06-27e6-4509-a739-714e4041ecff",
   "metadata": {},
   "source": [
    "As you can see, this code matches the ResNet architecture defined before.  In the constructor, we create all the layers we will need: the main layers and the skip layers(only needed if the stride is greater than 1). Then in the call() method, we make the inputs go through the main layers and the skip layers (if any), then we add both outputs and apply the activation function."
   ]
  },
  {
   "cell_type": "code",
   "execution_count": null,
   "id": "55915006-70b4-477a-9299-0cabac20ea34",
   "metadata": {},
   "outputs": [],
   "source": []
  },
  {
   "cell_type": "markdown",
   "id": "ef2060fc-1dbc-4c8c-bc0a-ac448ecd4169",
   "metadata": {},
   "source": [
    "Next, we can build the ResNet-34 using a Sequential model, since it’s really just a\r\n",
    "long sequence of layers (we can treat each residual unit as a single layer now that we\r\n",
    "have the ResidualUnit class):"
   ]
  },
  {
   "cell_type": "code",
   "execution_count": 40,
   "id": "11289695-4044-42ea-a363-44c01c443e35",
   "metadata": {},
   "outputs": [],
   "source": [
    "model = keras.models.Sequential()\n",
    "model.add(DefaultConv2D(64, kernel_size=7, strides=2,\n",
    "                        input_shape=[224, 224, 3]))\n",
    "model.add(keras.layers.BatchNormalization())\n",
    "model.add(keras.layers.Activation(\"relu\"))\n",
    "model.add(keras.layers.MaxPool2D(pool_size=3, strides=2, padding=\"SAME\"))\n",
    "prev_filters = 64\n",
    "for filters in [64] * 3 + [128] * 4 + [256] * 6 + [512] * 3:\n",
    "    strides = 1 if filters == prev_filters else 2\n",
    "    model.add(ResidualUnit(filters, strides=strides))\n",
    "    prev_filters = filters\n",
    "model.add(keras.layers.GlobalAvgPool2D())\n",
    "model.add(keras.layers.Flatten())\n",
    "model.add(keras.layers.Dense(10, activation=\"softmax\"))"
   ]
  },
  {
   "cell_type": "code",
   "execution_count": 41,
   "id": "dae2ba9d-8a76-4503-97ea-66de7939cb10",
   "metadata": {},
   "outputs": [
    {
     "name": "stdout",
     "output_type": "stream",
     "text": [
      "Model: \"sequential_1\"\n",
      "_________________________________________________________________\n",
      " Layer (type)                Output Shape              Param #   \n",
      "=================================================================\n",
      " conv2d_6 (Conv2D)           (None, 112, 112, 64)      9408      \n",
      "                                                                 \n",
      " batch_normalization (Batch  (None, 112, 112, 64)      256       \n",
      " Normalization)                                                  \n",
      "                                                                 \n",
      " activation (Activation)     (None, 112, 112, 64)      0         \n",
      "                                                                 \n",
      " max_pooling2d_4 (MaxPoolin  (None, 56, 56, 64)        0         \n",
      " g2D)                                                            \n",
      "                                                                 \n",
      " residual_unit (ResidualUni  (None, 56, 56, 64)        74240     \n",
      " t)                                                              \n",
      "                                                                 \n",
      " residual_unit_1 (ResidualU  (None, 56, 56, 64)        74240     \n",
      " nit)                                                            \n",
      "                                                                 \n",
      " residual_unit_2 (ResidualU  (None, 56, 56, 64)        74240     \n",
      " nit)                                                            \n",
      "                                                                 \n",
      " residual_unit_3 (ResidualU  (None, 28, 28, 128)       230912    \n",
      " nit)                                                            \n",
      "                                                                 \n",
      " residual_unit_4 (ResidualU  (None, 28, 28, 128)       295936    \n",
      " nit)                                                            \n",
      "                                                                 \n",
      " residual_unit_5 (ResidualU  (None, 28, 28, 128)       295936    \n",
      " nit)                                                            \n",
      "                                                                 \n",
      " residual_unit_6 (ResidualU  (None, 28, 28, 128)       295936    \n",
      " nit)                                                            \n",
      "                                                                 \n",
      " residual_unit_7 (ResidualU  (None, 14, 14, 256)       920576    \n",
      " nit)                                                            \n",
      "                                                                 \n",
      " residual_unit_8 (ResidualU  (None, 14, 14, 256)       1181696   \n",
      " nit)                                                            \n",
      "                                                                 \n",
      " residual_unit_9 (ResidualU  (None, 14, 14, 256)       1181696   \n",
      " nit)                                                            \n",
      "                                                                 \n",
      " residual_unit_10 (Residual  (None, 14, 14, 256)       1181696   \n",
      " Unit)                                                           \n",
      "                                                                 \n",
      " residual_unit_11 (Residual  (None, 14, 14, 256)       1181696   \n",
      " Unit)                                                           \n",
      "                                                                 \n",
      " residual_unit_12 (Residual  (None, 14, 14, 256)       1181696   \n",
      " Unit)                                                           \n",
      "                                                                 \n",
      " residual_unit_13 (Residual  (None, 7, 7, 512)         3676160   \n",
      " Unit)                                                           \n",
      "                                                                 \n",
      " residual_unit_14 (Residual  (None, 7, 7, 512)         4722688   \n",
      " Unit)                                                           \n",
      "                                                                 \n",
      " residual_unit_15 (Residual  (None, 7, 7, 512)         4722688   \n",
      " Unit)                                                           \n",
      "                                                                 \n",
      " global_average_pooling2d_1  (None, 512)               0         \n",
      "  (GlobalAveragePooling2D)                                       \n",
      "                                                                 \n",
      " flatten_1 (Flatten)         (None, 512)               0         \n",
      "                                                                 \n",
      " dense_3 (Dense)             (None, 10)                5130      \n",
      "                                                                 \n",
      "=================================================================\n",
      "Total params: 21306826 (81.28 MB)\n",
      "Trainable params: 21289802 (81.21 MB)\n",
      "Non-trainable params: 17024 (66.50 KB)\n",
      "_________________________________________________________________\n"
     ]
    }
   ],
   "source": [
    "model.summary()"
   ]
  },
  {
   "cell_type": "code",
   "execution_count": null,
   "id": "f028f266-8ab3-458a-8ba5-2f12a4895162",
   "metadata": {},
   "outputs": [],
   "source": []
  },
  {
   "cell_type": "markdown",
   "id": "543a15d7-2bdc-48e5-8b8e-6645a46b0d0c",
   "metadata": {},
   "source": [
    "### Note about ResNet"
   ]
  },
  {
   "cell_type": "markdown",
   "id": "cd9c4faf-1dfe-4aea-a0ca-eceb4c264255",
   "metadata": {},
   "source": [
    "The only slightly tricky part in this code is the loop that adds the ResidualUnit layers to the model: as explained earlier, the first 3 RUs have 64 filters, then the next 4 RUs have 128 filters, and so on. We then set the stride to 1 when the number of filters is the same as in the previous RU, or else we set it to 2. Then we add the ResidualUnit, and finally we update prev_filters."
   ]
  },
  {
   "cell_type": "code",
   "execution_count": null,
   "id": "056d3e54-2f29-4cd6-bb89-e53bf58e0afb",
   "metadata": {},
   "outputs": [],
   "source": []
  },
  {
   "cell_type": "markdown",
   "id": "b5250dad-f651-490a-832f-d66e451b18e5",
   "metadata": {},
   "source": [
    "## Using Pretrained Models from Keras"
   ]
  },
  {
   "cell_type": "markdown",
   "id": "b4049190-0d29-4cf2-97c9-2f7c7f3dcdd1",
   "metadata": {},
   "source": [
    "In general, you won’t have to implement standard models like GoogLeNet or ResNet manually, since pretrained networks are readily available with a single line of code in the keras.applications package. For example, you can load the ResNet-50 model, pretrained on ImageNet, with the following line of code:"
   ]
  },
  {
   "cell_type": "code",
   "execution_count": 42,
   "id": "d3c24b29-6b5e-4944-a1e0-91f17e86df3d",
   "metadata": {},
   "outputs": [],
   "source": [
    "model = keras.applications.resnet50.ResNet50(weights=\"imagenet\")"
   ]
  },
  {
   "cell_type": "markdown",
   "id": "780409b2-9a7b-4e7f-bfe6-9b29a9e07c31",
   "metadata": {},
   "source": [
    "That’s all! This will create a ResNet-50 model and download weights pretrained on the ImageNet dataset. To use it, you first need to ensure that the images have the right size. A ResNet-50 model expects 224 × 224-pixel images (other models may expect other sizes, such as 299 × 299), so let’s use TensorFlow’s tf.image.resize() function to resize the images we loaded earlier:"
   ]
  },
  {
   "cell_type": "code",
   "execution_count": 43,
   "id": "e12cc6cc-355d-4a10-92c9-14f59f93189e",
   "metadata": {},
   "outputs": [],
   "source": [
    "images_resized = tf.image.resize(images, [224, 224])"
   ]
  },
  {
   "cell_type": "markdown",
   "id": "3fcc254c-6c5e-457a-8f1d-bc7512689407",
   "metadata": {},
   "source": [
    "### Note about resizing"
   ]
  },
  {
   "cell_type": "markdown",
   "id": "cdddab98-4382-40f1-a7e9-0f4f597fa65c",
   "metadata": {},
   "source": [
    "The tf.image.resize() will not preserve the aspect ratio. If this is a problem, try cropping the images to the appropriate aspect ratio before resizing. Both operations can be done in one shot with tf.image.crop_and_resize()."
   ]
  },
  {
   "cell_type": "code",
   "execution_count": null,
   "id": "89433aea-e068-4c1b-9612-3bcf2dc5c059",
   "metadata": {},
   "outputs": [],
   "source": []
  },
  {
   "cell_type": "markdown",
   "id": "f16c1ca1-86c1-429c-8477-b902b664cb1c",
   "metadata": {},
   "source": [
    "### Pre-Processing the inputs"
   ]
  },
  {
   "cell_type": "markdown",
   "id": "dcf5418d-2e2b-4167-86b1-c92fa81d19e1",
   "metadata": {},
   "source": [
    "The pretrained models assume that the images are preprocessed in a specific way. In some cases they may expect the inputs to be scaled from 0 to 1, or –1 to 1, and so on. Each model provides a preprocess_input() function that you can use to preprocess your images. These functions assume that the pixel values range from 0 to 255, so we must multiply them by 255 (since earlier we scaled them to the 0–1 range):"
   ]
  },
  {
   "cell_type": "code",
   "execution_count": 44,
   "id": "8007994d-25aa-47b8-a0e7-f69dac338805",
   "metadata": {},
   "outputs": [],
   "source": [
    "inputs = keras.applications.resnet50.preprocess_input(images_resized * 255)"
   ]
  },
  {
   "cell_type": "code",
   "execution_count": 45,
   "id": "51349be7-9b5c-4f3e-9a34-1bccff34cdbe",
   "metadata": {},
   "outputs": [
    {
     "data": {
      "text/plain": [
       "<tf.Tensor: shape=(2, 224, 224, 3), dtype=float32, numpy=\n",
       "array([[[[ 126.57551  ,   83.73551  ,   49.83451  ],\n",
       "         [ 127.061    ,   84.221    ,   50.32     ],\n",
       "         [ 127.80543  ,   84.96543  ,   51.06443  ],\n",
       "         ...,\n",
       "         [ 149.51413  ,  131.67413  ,  123.773125 ],\n",
       "         [ 150.94382  ,  133.67413  ,  125.773125 ],\n",
       "         [ 151.061    ,  134.67413  ,  126.773125 ]],\n",
       "\n",
       "        [[ 127.42037  ,   84.580376 ,   50.679375 ],\n",
       "         [ 127.13801  ,   84.29801  ,   50.397026 ],\n",
       "         [ 127.70162  ,   84.86164  ,   50.96064  ],\n",
       "         ...,\n",
       "         [ 150.70163  ,  134.58038  ,  126.679375 ],\n",
       "         [ 151.061    ,  135.71765  ,  127.81666  ],\n",
       "         [ 151.061    ,  136.22101  ,  128.32     ]],\n",
       "\n",
       "        [[ 126.061    ,   83.955376 ,   50.585625 ],\n",
       "         [ 127.061    ,   84.955376 ,   51.585625 ],\n",
       "         [ 127.79871  ,   85.69311  ,   52.323357 ],\n",
       "         ...,\n",
       "         [ 149.79538  ,  135.48663  ,  127.85125  ],\n",
       "         [ 149.061    ,  136.95538  ,  128.58563  ],\n",
       "         [ 148.061    ,  135.95538  ,  127.585625 ]],\n",
       "\n",
       "        ...,\n",
       "\n",
       "        [[ -63.457973 ,   13.136177 ,    6.532051 ],\n",
       "         [ -61.288338 ,  -10.579231 ,  -10.903221 ],\n",
       "         [ -52.947937 ,   -4.5970764,   -5.2134857],\n",
       "         ...,\n",
       "         [-103.050575 , -115.89057  , -122.79157  ],\n",
       "         [-101.48367  , -114.99553  , -120.268196 ],\n",
       "         [-101.67338  , -108.044624 , -117.53834  ]],\n",
       "\n",
       "        [[ -56.309536 ,    5.039093 ,    4.6537247],\n",
       "         [ -66.634315 ,  -17.266716 ,  -21.465714 ],\n",
       "         [ -60.282738 ,  -12.889473 ,  -17.176636 ],\n",
       "         ...,\n",
       "         [-101.73691  , -113.93628  , -122.11853  ],\n",
       "         [ -57.997    ,  -68.28787  ,  -75.32616  ],\n",
       "         [-101.4914   , -104.051216 , -116.61853  ]],\n",
       "\n",
       "        [[ -63.202396 ,  -11.412926 ,   -8.109688 ],\n",
       "         [ -81.13878  ,  -34.213142 ,  -38.89987  ],\n",
       "         [ -89.88655  ,  -42.726547 ,  -50.174416 ],\n",
       "         ...,\n",
       "         [-102.77045  , -115.61044  , -122.511444 ],\n",
       "         [-103.13875  , -113.49768  , -120.92437  ],\n",
       "         [ -99.06498  ,  -98.08902  , -112.18762  ]]],\n",
       "\n",
       "\n",
       "       [[[ -90.97137  ,  -98.73994  , -120.7838   ],\n",
       "         [ -89.58298  ,  -95.42297  , -116.8954   ],\n",
       "         [ -84.36199  ,  -93.7165   , -116.136475 ],\n",
       "         ...,\n",
       "         [ -30.397758 ,  -36.94648  , -123.68     ],\n",
       "         [ -39.05619  ,  -38.993286 , -123.465706 ],\n",
       "         [ -39.524956 ,  -41.724335 , -123.226875 ]],\n",
       "\n",
       "        [[ -91.57963  ,  -97.562485 , -117.60634  ],\n",
       "         [ -90.15329  ,  -95.20757  , -118.40545  ],\n",
       "         [ -84.884315 ,  -93.652885 , -116.911026 ],\n",
       "         ...,\n",
       "         [ -31.783913 ,  -38.367188 , -123.320625 ],\n",
       "         [ -38.016014 ,  -40.933014 , -123.60299  ],\n",
       "         [ -37.221313 ,  -43.138374 , -123.01369  ]],\n",
       "\n",
       "        [[ -88.276054 ,  -96.79797  , -116.65321  ],\n",
       "         [ -87.939    ,  -94.993286 , -118.46571  ],\n",
       "         [ -84.2928   ,  -93.34596  , -116.50924  ],\n",
       "         ...,\n",
       "         [ -33.74823  ,  -40.401802 , -123.24695  ],\n",
       "         [ -37.89324  ,  -43.25892  , -123.046074 ],\n",
       "         [ -38.099655 ,  -45.044624 , -122.945625 ]],\n",
       "\n",
       "        ...,\n",
       "\n",
       "        [[ -60.815117 ,  -67.850426 , -122.21125  ],\n",
       "         [ -63.57628  ,  -67.9877   , -121.8887   ],\n",
       "         [ -63.204628 ,  -67.044624 , -123.68     ],\n",
       "         ...,\n",
       "         [ -81.6767   ,  -73.34595  , -119.7592   ],\n",
       "         [ -80.358635 ,  -72.5703   , -118.034904 ],\n",
       "         [ -79.20463  ,  -74.24775  , -115.414375 ]],\n",
       "\n",
       "        [[ -63.528286 ,  -69.25556  , -123.08514  ],\n",
       "         [ -65.01601  ,  -69.274536 , -122.900986 ],\n",
       "         [ -64.68454  ,  -68.47431  , -123.68     ],\n",
       "         ...,\n",
       "         [ -80.581825 ,  -72.42182  , -118.32282  ],\n",
       "         [ -78.291695 ,  -71.2087   , -119.87866  ],\n",
       "         [ -77.9189   ,  -74.11827  , -116.94115  ]],\n",
       "\n",
       "        [[ -63.867573 ,  -68.850426 , -122.75143  ],\n",
       "         [ -64.48476  ,  -68.89618  , -122.5829   ],\n",
       "         [ -63.93342  ,  -68.416275 , -123.3887   ],\n",
       "         ...,\n",
       "         [ -80.939    ,  -72.07028  , -120.09744  ],\n",
       "         [ -78.36868  ,  -71.20868  , -120.10968  ],\n",
       "         [ -76.43121  ,  -72.3103   , -116.09404  ]]]], dtype=float32)>"
      ]
     },
     "execution_count": 45,
     "metadata": {},
     "output_type": "execute_result"
    }
   ],
   "source": [
    "inputs"
   ]
  },
  {
   "cell_type": "code",
   "execution_count": 46,
   "id": "42ccf479-5419-4333-8a5b-cee3ae06e970",
   "metadata": {},
   "outputs": [
    {
     "data": {
      "text/plain": [
       "TensorShape([2, 224, 224, 3])"
      ]
     },
     "execution_count": 46,
     "metadata": {},
     "output_type": "execute_result"
    }
   ],
   "source": [
    "inputs.shape"
   ]
  },
  {
   "cell_type": "markdown",
   "id": "f98af67b-a6a9-4952-b73e-fb14bf7ffaea",
   "metadata": {},
   "source": [
    "Now we can use the pretrained model to make predictions:"
   ]
  },
  {
   "cell_type": "code",
   "execution_count": 47,
   "id": "922ee76a-2e75-426c-884a-49b0e005deef",
   "metadata": {},
   "outputs": [
    {
     "name": "stdout",
     "output_type": "stream",
     "text": [
      "1/1 [==============================] - 1s 1s/step\n"
     ]
    }
   ],
   "source": [
    "Y_proba = model.predict(inputs)"
   ]
  },
  {
   "cell_type": "code",
   "execution_count": 48,
   "id": "6e107068-a8d1-4f19-a6ba-f07217842a5a",
   "metadata": {},
   "outputs": [
    {
     "data": {
      "text/plain": [
       "array([[2.0924848e-08, 6.2120854e-08, 3.4899983e-08, ..., 3.0701461e-09,\n",
       "        1.3317431e-07, 8.0285389e-08],\n",
       "       [5.9666327e-08, 4.5356686e-05, 2.2303728e-07, ..., 3.2242609e-05,\n",
       "        2.9164648e-03, 1.0851730e-05]], dtype=float32)"
      ]
     },
     "execution_count": 48,
     "metadata": {},
     "output_type": "execute_result"
    }
   ],
   "source": [
    "Y_proba"
   ]
  },
  {
   "cell_type": "code",
   "execution_count": 49,
   "id": "f04f53f1-3138-4581-b1ec-f153cecc0bc2",
   "metadata": {},
   "outputs": [
    {
     "data": {
      "text/plain": [
       "(2, 1000)"
      ]
     },
     "execution_count": 49,
     "metadata": {},
     "output_type": "execute_result"
    }
   ],
   "source": [
    "Y_proba.shape"
   ]
  },
  {
   "cell_type": "markdown",
   "id": "e8031eaf-aadc-41b2-a8a3-0a4f27baad03",
   "metadata": {},
   "source": [
    "### Explaining the Model Prediction"
   ]
  },
  {
   "cell_type": "markdown",
   "id": "f39d4de3-dcac-4b7e-a700-76dce58d53a5",
   "metadata": {},
   "source": [
    "So we gave 2 images as inputs, each of 224 x 224 with 3 channels(RGB), the output Y_proba is a matrix with one row per image and one column per class (in this case, there are 1,000 classes). Which means that the original model was trained on a set that had 1000 classes."
   ]
  },
  {
   "cell_type": "markdown",
   "id": "1bb2f58d-9879-4963-84b8-d0af1ea56b69",
   "metadata": {},
   "source": [
    "If you want to display the top K predictions, including the class name and the estimated probability of each predicted class, use the decode_predictions() function. For each image, it returns an array containing the top K predictions, where each prediction is represented as an array containing the class identifier, its name, and the corresponding confidence score:"
   ]
  },
  {
   "cell_type": "markdown",
   "id": "55954774-d959-46fc-84f3-8ca053e582a6",
   "metadata": {},
   "source": [
    "#### Top-K"
   ]
  },
  {
   "cell_type": "code",
   "execution_count": 50,
   "id": "d242cad0-9de1-4322-a25d-eba7a43b6910",
   "metadata": {},
   "outputs": [
    {
     "data": {
      "text/plain": [
       "[[('n02825657', 'bell_cote', 0.8234557),\n",
       "  ('n03877845', 'palace', 0.06752694),\n",
       "  ('n03781244', 'monastery', 0.04187935)],\n",
       " [('n03530642', 'honeycomb', 0.49813053),\n",
       "  ('n13040303', 'stinkhorn', 0.33957794),\n",
       "  ('n02206856', 'bee', 0.043453205)]]"
      ]
     },
     "execution_count": 50,
     "metadata": {},
     "output_type": "execute_result"
    }
   ],
   "source": [
    "top_K = keras.applications.resnet50.decode_predictions(Y_proba, top=3)\n",
    "top_K\n"
   ]
  },
  {
   "cell_type": "code",
   "execution_count": 51,
   "id": "ef0265a9-6120-4ed0-9c44-431133613d19",
   "metadata": {},
   "outputs": [
    {
     "name": "stdout",
     "output_type": "stream",
     "text": [
      "Image #0\n",
      "  n02825657 - bell_cote    82.35%\n",
      "  n03877845 - palace       6.75%\n",
      "  n03781244 - monastery    4.19%\n",
      "\n",
      "Image #1\n",
      "  n03530642 - honeycomb    49.81%\n",
      "  n13040303 - stinkhorn    33.96%\n",
      "  n02206856 - bee          4.35%\n",
      "\n"
     ]
    }
   ],
   "source": [
    "for image_index in range(len(images)):\n",
    "    print(\"Image #{}\".format(image_index))\n",
    "    for class_id, name, y_proba in top_K[image_index]:\n",
    "        print(\"  {} - {:12s} {:.2f}%\".format(class_id, name, y_proba * 100))\n",
    "    print()"
   ]
  },
  {
   "cell_type": "code",
   "execution_count": 52,
   "id": "03feb08d-b5c2-4a2a-a1be-efd36f608548",
   "metadata": {},
   "outputs": [
    {
     "data": {
      "text/plain": [
       "[[('n02825657', 'bell_cote', 0.8234557),\n",
       "  ('n03877845', 'palace', 0.06752694),\n",
       "  ('n03781244', 'monastery', 0.04187935)],\n",
       " [('n03530642', 'honeycomb', 0.49813053),\n",
       "  ('n13040303', 'stinkhorn', 0.33957794),\n",
       "  ('n02206856', 'bee', 0.043453205)]]"
      ]
     },
     "execution_count": 52,
     "metadata": {},
     "output_type": "execute_result"
    }
   ],
   "source": [
    "top_K"
   ]
  },
  {
   "cell_type": "code",
   "execution_count": null,
   "id": "74d0c72f-d96f-4003-9990-ddc87fde91f5",
   "metadata": {},
   "outputs": [],
   "source": []
  },
  {
   "cell_type": "markdown",
   "id": "418ea736-4c8b-4946-bf21-7e8e08eb2479",
   "metadata": {},
   "source": [
    "## Pretrained Models for Transfer Learning"
   ]
  },
  {
   "cell_type": "markdown",
   "id": "6c117f64-b9fc-476c-9746-13db805a8703",
   "metadata": {},
   "source": [
    "If you want to build an image classifier but you do not have enough training data, then it is often a good idea to reuse the lower layers of a pretrained model. For example, let’s train a model to classify pictures of flowers, reusing a pretrained Xception model. First, let’s load the dataset using TensorFlow Datasets."
   ]
  },
  {
   "cell_type": "code",
   "execution_count": 53,
   "id": "8efc70aa-274e-48f8-9777-50ee98b5dcea",
   "metadata": {},
   "outputs": [],
   "source": [
    "# import tensorflow_datasets as tfds"
   ]
  },
  {
   "cell_type": "code",
   "execution_count": 54,
   "id": "9d21e351-5f4a-4e40-8d7f-a8a7b30971ed",
   "metadata": {},
   "outputs": [],
   "source": [
    "# dataset, info = tfds.load(\"tf_flowers\", as_supervised=True, with_info=True)\n",
    "# dataset_size = info.splits[\"train\"].num_examples # 3670\n",
    "# class_names = info.features[\"label\"].names # [\"dandelion\", \"daisy\", ...]\n",
    "# n_classes = info.features[\"label\"].num_classes # 5"
   ]
  },
  {
   "cell_type": "markdown",
   "id": "48c479ac-799f-45fd-b9ae-fad9ef4b1725",
   "metadata": {},
   "source": [
    "Note that you can get information about the dataset by setting with_info=True. Here, we get the dataset size and the names of the classes. Unfortunately, there is only a \"train\" dataset, no test set or validation set, so we need to split the training set. The TF Datasets project provides an API for this. For example, let’s take the first 10% of the dataset for testing, the next 15% for validation, and the remaining 75% for training:"
   ]
  },
  {
   "cell_type": "code",
   "execution_count": 55,
   "id": "883f837a-8b51-4ab2-b3e0-50b5567fbf3a",
   "metadata": {},
   "outputs": [],
   "source": [
    "# test_split, valid_split, train_split = tfds.Split.TRAIN.subsplit([10, 15, 75])\n",
    "# test_set = tfds.load(\"tf_flowers\", split=test_split, as_supervised=True)\n",
    "# valid_set = tfds.load(\"tf_flowers\", split=valid_split, as_supervised=True)\n",
    "# train_set = tfds.load(\"tf_flowers\", split=train_split, as_supervised=True)"
   ]
  },
  {
   "cell_type": "markdown",
   "id": "d7de0784-b6f8-471c-8226-f96ee2cb8269",
   "metadata": {},
   "source": [
    "as_supervised :-\tbool, if True, the returned tf.data.Dataset will have a 2-tuple structure (input, label) according to builder.info.supervised_keys. If False, the default, the returned tf.data.Dataset will have a dictionary with all the features."
   ]
  },
  {
   "cell_type": "code",
   "execution_count": null,
   "id": "3c5975db-18c9-4ab1-b5ab-be5120d3cd3c",
   "metadata": {},
   "outputs": [],
   "source": []
  },
  {
   "cell_type": "markdown",
   "id": "8a7518f7-7f28-4fde-8518-70446a89ee82",
   "metadata": {},
   "source": [
    "Next we must preprocess the images. The CNN expects 224 × 224 images, so we need to resize them. We also need to run the images through Xception’s preprocess_input() function, as discussed before, each pre-trained model comes with their own preprocess function:"
   ]
  },
  {
   "cell_type": "code",
   "execution_count": 56,
   "id": "3421af4a-f51d-4398-ada2-f18a240295cc",
   "metadata": {},
   "outputs": [],
   "source": [
    "def preprocess(image, label):\n",
    "    resized_image = tf.image.resize(image, [224, 224])\n",
    "    final_image = keras.applications.xception.preprocess_input(resized_image)\n",
    "    return final_image, label\n"
   ]
  },
  {
   "cell_type": "code",
   "execution_count": null,
   "id": "50077569-4a28-4a6d-8887-1fe98a3cc7d5",
   "metadata": {},
   "outputs": [],
   "source": []
  },
  {
   "cell_type": "markdown",
   "id": "7b4e5892-c679-4d39-b662-e8a0371cf384",
   "metadata": {},
   "source": [
    "Let’s apply this preprocessing function to all three datasets, shuffle the training set, and add batching and prefetching to all the datasets:"
   ]
  },
  {
   "cell_type": "code",
   "execution_count": 57,
   "id": "d6cfd196-9c7e-4a84-8c49-228136d9d892",
   "metadata": {},
   "outputs": [],
   "source": [
    "# batch_size = 32\n",
    "# train_set = train_set.shuffle(1000)\n",
    "# train_set = train_set.map(preprocess).batch(batch_size).prefetch(1)\n",
    "# valid_set = valid_set.map(preprocess).batch(batch_size).prefetch(1)\n",
    "# test_set = test_set.map(preprocess).batch(batch_size).prefetch(1)"
   ]
  },
  {
   "cell_type": "markdown",
   "id": "5d07fe2d-2b0d-47b9-afd3-6b93fc83cd12",
   "metadata": {},
   "source": [
    "If you want to perform some data augmentation, change the preprocessing function for the training set, adding some random transformations to the training images. For example, use tf.image.random_crop() to randomly crop the images, use tf.image.random_flip_left_right() to randomly flip the images horizontally, and so on, see the “Pretrained Models for Transfer Learning” section of the author's notebook for an example."
   ]
  },
  {
   "cell_type": "markdown",
   "id": "88588aa7-fe08-4498-9b3c-ee826c218b78",
   "metadata": {},
   "source": [
    "### keras.preprocessing.image.ImageDataGenerator"
   ]
  },
  {
   "cell_type": "markdown",
   "id": "ef66ecad-a3ed-4895-ac9a-1f8b3e208dad",
   "metadata": {},
   "source": [
    "The keras.preprocessing.image.ImageDataGenerator class makes it easy to load images from disk and augment them in various ways: you can shift each image, rotate it, rescale it, flip it horizontally or vertically, shear it, or apply any transformation function you want to it. This is very convenient for simple projects. However, building a tf.data pipeline has many advantages: it can read the images efficiently (e.g., in parallel) from any source, not just the local disk and directly give it to the gpu, like we saw using prefetch and prefetch experimenatal; you can manipulate the Dataset as you wish; and if you write a preprocessing function based on tf.image operations, this function can be used both in the tf.data pipeline and in the model you will deploy to production."
   ]
  },
  {
   "cell_type": "code",
   "execution_count": null,
   "id": "ff349666-5567-4c60-9c19-ce59a1482b21",
   "metadata": {},
   "outputs": [],
   "source": []
  },
  {
   "cell_type": "markdown",
   "id": "98caea95-4ce1-4139-b472-6efb466aca6c",
   "metadata": {},
   "source": [
    "### Loading and Training the Pre-trained model"
   ]
  },
  {
   "cell_type": "markdown",
   "id": "eb7be871-33f6-4cb8-bf3f-b6a65991a999",
   "metadata": {},
   "source": [
    "Next let’s load an Xception model, pretrained on ImageNet. We exclude the top of the network by setting include_top=False: this excludes the global average pooling layer and the dense output layer. We then add our own global average pooling layer, based on the output of the base model, followed by a dense output layer with one unit per class, using the softmax activation function. Finally, we create the Keras Model:"
   ]
  },
  {
   "cell_type": "code",
   "execution_count": 58,
   "id": "b456c671-8ab1-4c6b-91f4-8b632d6e87b5",
   "metadata": {},
   "outputs": [],
   "source": [
    "n_classes = 5"
   ]
  },
  {
   "cell_type": "code",
   "execution_count": 59,
   "id": "e5a9841c-0355-40ab-891e-c3da3dd68878",
   "metadata": {},
   "outputs": [],
   "source": [
    "base_model = keras.applications.xception.Xception(weights=\"imagenet\",\n",
    " include_top=False)\n",
    "avg = keras.layers.GlobalAveragePooling2D()(base_model.output)\n",
    "output = keras.layers.Dense(n_classes, activation=\"softmax\")(avg)\n",
    "model = keras.Model(inputs=base_model.input, outputs=output)"
   ]
  },
  {
   "cell_type": "code",
   "execution_count": null,
   "id": "bdc8a587-e64b-42c9-a65e-6659ead47a39",
   "metadata": {},
   "outputs": [],
   "source": []
  },
  {
   "cell_type": "markdown",
   "id": "6781faa1-1402-4946-b414-a4125694fd99",
   "metadata": {},
   "source": [
    "As explained in Chapter 11, it’s usually a good idea to freeze the weights of the pre‐trained layers, at least at the beginning of training:"
   ]
  },
  {
   "cell_type": "code",
   "execution_count": 60,
   "id": "5339a4cd-4f71-4483-89de-2f3ab53304a9",
   "metadata": {},
   "outputs": [],
   "source": [
    "for layer in base_model.layers:\n",
    "    layer.trainable = False"
   ]
  },
  {
   "cell_type": "markdown",
   "id": "7b91ddb7-d855-4a53-b65b-1b11cd8dd49b",
   "metadata": {},
   "source": [
    "#### Important note about freezing layers\n",
    "Since our model uses the base model’s layers directly, rather than the base_model object itself, setting base_model.trainable=False would have no effect."
   ]
  },
  {
   "cell_type": "code",
   "execution_count": null,
   "id": "9f9c959d-c2dd-42d7-ad50-5a905dac0d35",
   "metadata": {},
   "outputs": [],
   "source": []
  },
  {
   "cell_type": "markdown",
   "id": "0848bce0-93aa-41a7-bf78-7b7bab79f695",
   "metadata": {},
   "source": [
    "#### Finally, we can compile the model and start training:"
   ]
  },
  {
   "cell_type": "code",
   "execution_count": 61,
   "id": "24aa2043-0e72-4967-9f71-af92a39d5e7e",
   "metadata": {},
   "outputs": [],
   "source": [
    "optimizer = tf.keras.optimizers.legacy.SGD(learning_rate=0.2, momentum=0.9, decay=0.01)\n",
    "model.compile(loss=\"sparse_categorical_crossentropy\", optimizer=optimizer,metrics=[\"accuracy\"])"
   ]
  },
  {
   "cell_type": "code",
   "execution_count": 62,
   "id": "567741f1-94d1-4ebf-82e6-e731e382d209",
   "metadata": {},
   "outputs": [],
   "source": [
    "# history = model.fit(train_set, epochs=5, validation_data=valid_set)\n",
    "# # "
   ]
  },
  {
   "cell_type": "markdown",
   "id": "9fe76c1d-eb22-4453-b96c-02d8c97f9764",
   "metadata": {},
   "source": [
    "#### This will be very slow, unless you have a GPU."
   ]
  },
  {
   "cell_type": "code",
   "execution_count": 63,
   "id": "b768d89d-c041-4db3-bf32-8bd71fe26067",
   "metadata": {},
   "outputs": [
    {
     "name": "stdout",
     "output_type": "stream",
     "text": [
      "Model: \"model\"\n",
      "__________________________________________________________________________________________________\n",
      " Layer (type)                Output Shape                 Param #   Connected to                  \n",
      "==================================================================================================\n",
      " input_2 (InputLayer)        [(None, None, None, 3)]      0         []                            \n",
      "                                                                                                  \n",
      " block1_conv1 (Conv2D)       (None, None, None, 32)       864       ['input_2[0][0]']             \n",
      "                                                                                                  \n",
      " block1_conv1_bn (BatchNorm  (None, None, None, 32)       128       ['block1_conv1[0][0]']        \n",
      " alization)                                                                                       \n",
      "                                                                                                  \n",
      " block1_conv1_act (Activati  (None, None, None, 32)       0         ['block1_conv1_bn[0][0]']     \n",
      " on)                                                                                              \n",
      "                                                                                                  \n",
      " block1_conv2 (Conv2D)       (None, None, None, 64)       18432     ['block1_conv1_act[0][0]']    \n",
      "                                                                                                  \n",
      " block1_conv2_bn (BatchNorm  (None, None, None, 64)       256       ['block1_conv2[0][0]']        \n",
      " alization)                                                                                       \n",
      "                                                                                                  \n",
      " block1_conv2_act (Activati  (None, None, None, 64)       0         ['block1_conv2_bn[0][0]']     \n",
      " on)                                                                                              \n",
      "                                                                                                  \n",
      " block2_sepconv1 (Separable  (None, None, None, 128)      8768      ['block1_conv2_act[0][0]']    \n",
      " Conv2D)                                                                                          \n",
      "                                                                                                  \n",
      " block2_sepconv1_bn (BatchN  (None, None, None, 128)      512       ['block2_sepconv1[0][0]']     \n",
      " ormalization)                                                                                    \n",
      "                                                                                                  \n",
      " block2_sepconv2_act (Activ  (None, None, None, 128)      0         ['block2_sepconv1_bn[0][0]']  \n",
      " ation)                                                                                           \n",
      "                                                                                                  \n",
      " block2_sepconv2 (Separable  (None, None, None, 128)      17536     ['block2_sepconv2_act[0][0]'] \n",
      " Conv2D)                                                                                          \n",
      "                                                                                                  \n",
      " block2_sepconv2_bn (BatchN  (None, None, None, 128)      512       ['block2_sepconv2[0][0]']     \n",
      " ormalization)                                                                                    \n",
      "                                                                                                  \n",
      " conv2d_42 (Conv2D)          (None, None, None, 128)      8192      ['block1_conv2_act[0][0]']    \n",
      "                                                                                                  \n",
      " block2_pool (MaxPooling2D)  (None, None, None, 128)      0         ['block2_sepconv2_bn[0][0]']  \n",
      "                                                                                                  \n",
      " batch_normalization_36 (Ba  (None, None, None, 128)      512       ['conv2d_42[0][0]']           \n",
      " tchNormalization)                                                                                \n",
      "                                                                                                  \n",
      " add (Add)                   (None, None, None, 128)      0         ['block2_pool[0][0]',         \n",
      "                                                                     'batch_normalization_36[0][0]\n",
      "                                                                    ']                            \n",
      "                                                                                                  \n",
      " block3_sepconv1_act (Activ  (None, None, None, 128)      0         ['add[0][0]']                 \n",
      " ation)                                                                                           \n",
      "                                                                                                  \n",
      " block3_sepconv1 (Separable  (None, None, None, 256)      33920     ['block3_sepconv1_act[0][0]'] \n",
      " Conv2D)                                                                                          \n",
      "                                                                                                  \n",
      " block3_sepconv1_bn (BatchN  (None, None, None, 256)      1024      ['block3_sepconv1[0][0]']     \n",
      " ormalization)                                                                                    \n",
      "                                                                                                  \n",
      " block3_sepconv2_act (Activ  (None, None, None, 256)      0         ['block3_sepconv1_bn[0][0]']  \n",
      " ation)                                                                                           \n",
      "                                                                                                  \n",
      " block3_sepconv2 (Separable  (None, None, None, 256)      67840     ['block3_sepconv2_act[0][0]'] \n",
      " Conv2D)                                                                                          \n",
      "                                                                                                  \n",
      " block3_sepconv2_bn (BatchN  (None, None, None, 256)      1024      ['block3_sepconv2[0][0]']     \n",
      " ormalization)                                                                                    \n",
      "                                                                                                  \n",
      " conv2d_43 (Conv2D)          (None, None, None, 256)      32768     ['add[0][0]']                 \n",
      "                                                                                                  \n",
      " block3_pool (MaxPooling2D)  (None, None, None, 256)      0         ['block3_sepconv2_bn[0][0]']  \n",
      "                                                                                                  \n",
      " batch_normalization_37 (Ba  (None, None, None, 256)      1024      ['conv2d_43[0][0]']           \n",
      " tchNormalization)                                                                                \n",
      "                                                                                                  \n",
      " add_1 (Add)                 (None, None, None, 256)      0         ['block3_pool[0][0]',         \n",
      "                                                                     'batch_normalization_37[0][0]\n",
      "                                                                    ']                            \n",
      "                                                                                                  \n",
      " block4_sepconv1_act (Activ  (None, None, None, 256)      0         ['add_1[0][0]']               \n",
      " ation)                                                                                           \n",
      "                                                                                                  \n",
      " block4_sepconv1 (Separable  (None, None, None, 728)      188672    ['block4_sepconv1_act[0][0]'] \n",
      " Conv2D)                                                                                          \n",
      "                                                                                                  \n",
      " block4_sepconv1_bn (BatchN  (None, None, None, 728)      2912      ['block4_sepconv1[0][0]']     \n",
      " ormalization)                                                                                    \n",
      "                                                                                                  \n",
      " block4_sepconv2_act (Activ  (None, None, None, 728)      0         ['block4_sepconv1_bn[0][0]']  \n",
      " ation)                                                                                           \n",
      "                                                                                                  \n",
      " block4_sepconv2 (Separable  (None, None, None, 728)      536536    ['block4_sepconv2_act[0][0]'] \n",
      " Conv2D)                                                                                          \n",
      "                                                                                                  \n",
      " block4_sepconv2_bn (BatchN  (None, None, None, 728)      2912      ['block4_sepconv2[0][0]']     \n",
      " ormalization)                                                                                    \n",
      "                                                                                                  \n",
      " conv2d_44 (Conv2D)          (None, None, None, 728)      186368    ['add_1[0][0]']               \n",
      "                                                                                                  \n",
      " block4_pool (MaxPooling2D)  (None, None, None, 728)      0         ['block4_sepconv2_bn[0][0]']  \n",
      "                                                                                                  \n",
      " batch_normalization_38 (Ba  (None, None, None, 728)      2912      ['conv2d_44[0][0]']           \n",
      " tchNormalization)                                                                                \n",
      "                                                                                                  \n",
      " add_2 (Add)                 (None, None, None, 728)      0         ['block4_pool[0][0]',         \n",
      "                                                                     'batch_normalization_38[0][0]\n",
      "                                                                    ']                            \n",
      "                                                                                                  \n",
      " block5_sepconv1_act (Activ  (None, None, None, 728)      0         ['add_2[0][0]']               \n",
      " ation)                                                                                           \n",
      "                                                                                                  \n",
      " block5_sepconv1 (Separable  (None, None, None, 728)      536536    ['block5_sepconv1_act[0][0]'] \n",
      " Conv2D)                                                                                          \n",
      "                                                                                                  \n",
      " block5_sepconv1_bn (BatchN  (None, None, None, 728)      2912      ['block5_sepconv1[0][0]']     \n",
      " ormalization)                                                                                    \n",
      "                                                                                                  \n",
      " block5_sepconv2_act (Activ  (None, None, None, 728)      0         ['block5_sepconv1_bn[0][0]']  \n",
      " ation)                                                                                           \n",
      "                                                                                                  \n",
      " block5_sepconv2 (Separable  (None, None, None, 728)      536536    ['block5_sepconv2_act[0][0]'] \n",
      " Conv2D)                                                                                          \n",
      "                                                                                                  \n",
      " block5_sepconv2_bn (BatchN  (None, None, None, 728)      2912      ['block5_sepconv2[0][0]']     \n",
      " ormalization)                                                                                    \n",
      "                                                                                                  \n",
      " block5_sepconv3_act (Activ  (None, None, None, 728)      0         ['block5_sepconv2_bn[0][0]']  \n",
      " ation)                                                                                           \n",
      "                                                                                                  \n",
      " block5_sepconv3 (Separable  (None, None, None, 728)      536536    ['block5_sepconv3_act[0][0]'] \n",
      " Conv2D)                                                                                          \n",
      "                                                                                                  \n",
      " block5_sepconv3_bn (BatchN  (None, None, None, 728)      2912      ['block5_sepconv3[0][0]']     \n",
      " ormalization)                                                                                    \n",
      "                                                                                                  \n",
      " add_3 (Add)                 (None, None, None, 728)      0         ['block5_sepconv3_bn[0][0]',  \n",
      "                                                                     'add_2[0][0]']               \n",
      "                                                                                                  \n",
      " block6_sepconv1_act (Activ  (None, None, None, 728)      0         ['add_3[0][0]']               \n",
      " ation)                                                                                           \n",
      "                                                                                                  \n",
      " block6_sepconv1 (Separable  (None, None, None, 728)      536536    ['block6_sepconv1_act[0][0]'] \n",
      " Conv2D)                                                                                          \n",
      "                                                                                                  \n",
      " block6_sepconv1_bn (BatchN  (None, None, None, 728)      2912      ['block6_sepconv1[0][0]']     \n",
      " ormalization)                                                                                    \n",
      "                                                                                                  \n",
      " block6_sepconv2_act (Activ  (None, None, None, 728)      0         ['block6_sepconv1_bn[0][0]']  \n",
      " ation)                                                                                           \n",
      "                                                                                                  \n",
      " block6_sepconv2 (Separable  (None, None, None, 728)      536536    ['block6_sepconv2_act[0][0]'] \n",
      " Conv2D)                                                                                          \n",
      "                                                                                                  \n",
      " block6_sepconv2_bn (BatchN  (None, None, None, 728)      2912      ['block6_sepconv2[0][0]']     \n",
      " ormalization)                                                                                    \n",
      "                                                                                                  \n",
      " block6_sepconv3_act (Activ  (None, None, None, 728)      0         ['block6_sepconv2_bn[0][0]']  \n",
      " ation)                                                                                           \n",
      "                                                                                                  \n",
      " block6_sepconv3 (Separable  (None, None, None, 728)      536536    ['block6_sepconv3_act[0][0]'] \n",
      " Conv2D)                                                                                          \n",
      "                                                                                                  \n",
      " block6_sepconv3_bn (BatchN  (None, None, None, 728)      2912      ['block6_sepconv3[0][0]']     \n",
      " ormalization)                                                                                    \n",
      "                                                                                                  \n",
      " add_4 (Add)                 (None, None, None, 728)      0         ['block6_sepconv3_bn[0][0]',  \n",
      "                                                                     'add_3[0][0]']               \n",
      "                                                                                                  \n",
      " block7_sepconv1_act (Activ  (None, None, None, 728)      0         ['add_4[0][0]']               \n",
      " ation)                                                                                           \n",
      "                                                                                                  \n",
      " block7_sepconv1 (Separable  (None, None, None, 728)      536536    ['block7_sepconv1_act[0][0]'] \n",
      " Conv2D)                                                                                          \n",
      "                                                                                                  \n",
      " block7_sepconv1_bn (BatchN  (None, None, None, 728)      2912      ['block7_sepconv1[0][0]']     \n",
      " ormalization)                                                                                    \n",
      "                                                                                                  \n",
      " block7_sepconv2_act (Activ  (None, None, None, 728)      0         ['block7_sepconv1_bn[0][0]']  \n",
      " ation)                                                                                           \n",
      "                                                                                                  \n",
      " block7_sepconv2 (Separable  (None, None, None, 728)      536536    ['block7_sepconv2_act[0][0]'] \n",
      " Conv2D)                                                                                          \n",
      "                                                                                                  \n",
      " block7_sepconv2_bn (BatchN  (None, None, None, 728)      2912      ['block7_sepconv2[0][0]']     \n",
      " ormalization)                                                                                    \n",
      "                                                                                                  \n",
      " block7_sepconv3_act (Activ  (None, None, None, 728)      0         ['block7_sepconv2_bn[0][0]']  \n",
      " ation)                                                                                           \n",
      "                                                                                                  \n",
      " block7_sepconv3 (Separable  (None, None, None, 728)      536536    ['block7_sepconv3_act[0][0]'] \n",
      " Conv2D)                                                                                          \n",
      "                                                                                                  \n",
      " block7_sepconv3_bn (BatchN  (None, None, None, 728)      2912      ['block7_sepconv3[0][0]']     \n",
      " ormalization)                                                                                    \n",
      "                                                                                                  \n",
      " add_5 (Add)                 (None, None, None, 728)      0         ['block7_sepconv3_bn[0][0]',  \n",
      "                                                                     'add_4[0][0]']               \n",
      "                                                                                                  \n",
      " block8_sepconv1_act (Activ  (None, None, None, 728)      0         ['add_5[0][0]']               \n",
      " ation)                                                                                           \n",
      "                                                                                                  \n",
      " block8_sepconv1 (Separable  (None, None, None, 728)      536536    ['block8_sepconv1_act[0][0]'] \n",
      " Conv2D)                                                                                          \n",
      "                                                                                                  \n",
      " block8_sepconv1_bn (BatchN  (None, None, None, 728)      2912      ['block8_sepconv1[0][0]']     \n",
      " ormalization)                                                                                    \n",
      "                                                                                                  \n",
      " block8_sepconv2_act (Activ  (None, None, None, 728)      0         ['block8_sepconv1_bn[0][0]']  \n",
      " ation)                                                                                           \n",
      "                                                                                                  \n",
      " block8_sepconv2 (Separable  (None, None, None, 728)      536536    ['block8_sepconv2_act[0][0]'] \n",
      " Conv2D)                                                                                          \n",
      "                                                                                                  \n",
      " block8_sepconv2_bn (BatchN  (None, None, None, 728)      2912      ['block8_sepconv2[0][0]']     \n",
      " ormalization)                                                                                    \n",
      "                                                                                                  \n",
      " block8_sepconv3_act (Activ  (None, None, None, 728)      0         ['block8_sepconv2_bn[0][0]']  \n",
      " ation)                                                                                           \n",
      "                                                                                                  \n",
      " block8_sepconv3 (Separable  (None, None, None, 728)      536536    ['block8_sepconv3_act[0][0]'] \n",
      " Conv2D)                                                                                          \n",
      "                                                                                                  \n",
      " block8_sepconv3_bn (BatchN  (None, None, None, 728)      2912      ['block8_sepconv3[0][0]']     \n",
      " ormalization)                                                                                    \n",
      "                                                                                                  \n",
      " add_6 (Add)                 (None, None, None, 728)      0         ['block8_sepconv3_bn[0][0]',  \n",
      "                                                                     'add_5[0][0]']               \n",
      "                                                                                                  \n",
      " block9_sepconv1_act (Activ  (None, None, None, 728)      0         ['add_6[0][0]']               \n",
      " ation)                                                                                           \n",
      "                                                                                                  \n",
      " block9_sepconv1 (Separable  (None, None, None, 728)      536536    ['block9_sepconv1_act[0][0]'] \n",
      " Conv2D)                                                                                          \n",
      "                                                                                                  \n",
      " block9_sepconv1_bn (BatchN  (None, None, None, 728)      2912      ['block9_sepconv1[0][0]']     \n",
      " ormalization)                                                                                    \n",
      "                                                                                                  \n",
      " block9_sepconv2_act (Activ  (None, None, None, 728)      0         ['block9_sepconv1_bn[0][0]']  \n",
      " ation)                                                                                           \n",
      "                                                                                                  \n",
      " block9_sepconv2 (Separable  (None, None, None, 728)      536536    ['block9_sepconv2_act[0][0]'] \n",
      " Conv2D)                                                                                          \n",
      "                                                                                                  \n",
      " block9_sepconv2_bn (BatchN  (None, None, None, 728)      2912      ['block9_sepconv2[0][0]']     \n",
      " ormalization)                                                                                    \n",
      "                                                                                                  \n",
      " block9_sepconv3_act (Activ  (None, None, None, 728)      0         ['block9_sepconv2_bn[0][0]']  \n",
      " ation)                                                                                           \n",
      "                                                                                                  \n",
      " block9_sepconv3 (Separable  (None, None, None, 728)      536536    ['block9_sepconv3_act[0][0]'] \n",
      " Conv2D)                                                                                          \n",
      "                                                                                                  \n",
      " block9_sepconv3_bn (BatchN  (None, None, None, 728)      2912      ['block9_sepconv3[0][0]']     \n",
      " ormalization)                                                                                    \n",
      "                                                                                                  \n",
      " add_7 (Add)                 (None, None, None, 728)      0         ['block9_sepconv3_bn[0][0]',  \n",
      "                                                                     'add_6[0][0]']               \n",
      "                                                                                                  \n",
      " block10_sepconv1_act (Acti  (None, None, None, 728)      0         ['add_7[0][0]']               \n",
      " vation)                                                                                          \n",
      "                                                                                                  \n",
      " block10_sepconv1 (Separabl  (None, None, None, 728)      536536    ['block10_sepconv1_act[0][0]']\n",
      " eConv2D)                                                                                         \n",
      "                                                                                                  \n",
      " block10_sepconv1_bn (Batch  (None, None, None, 728)      2912      ['block10_sepconv1[0][0]']    \n",
      " Normalization)                                                                                   \n",
      "                                                                                                  \n",
      " block10_sepconv2_act (Acti  (None, None, None, 728)      0         ['block10_sepconv1_bn[0][0]'] \n",
      " vation)                                                                                          \n",
      "                                                                                                  \n",
      " block10_sepconv2 (Separabl  (None, None, None, 728)      536536    ['block10_sepconv2_act[0][0]']\n",
      " eConv2D)                                                                                         \n",
      "                                                                                                  \n",
      " block10_sepconv2_bn (Batch  (None, None, None, 728)      2912      ['block10_sepconv2[0][0]']    \n",
      " Normalization)                                                                                   \n",
      "                                                                                                  \n",
      " block10_sepconv3_act (Acti  (None, None, None, 728)      0         ['block10_sepconv2_bn[0][0]'] \n",
      " vation)                                                                                          \n",
      "                                                                                                  \n",
      " block10_sepconv3 (Separabl  (None, None, None, 728)      536536    ['block10_sepconv3_act[0][0]']\n",
      " eConv2D)                                                                                         \n",
      "                                                                                                  \n",
      " block10_sepconv3_bn (Batch  (None, None, None, 728)      2912      ['block10_sepconv3[0][0]']    \n",
      " Normalization)                                                                                   \n",
      "                                                                                                  \n",
      " add_8 (Add)                 (None, None, None, 728)      0         ['block10_sepconv3_bn[0][0]', \n",
      "                                                                     'add_7[0][0]']               \n",
      "                                                                                                  \n",
      " block11_sepconv1_act (Acti  (None, None, None, 728)      0         ['add_8[0][0]']               \n",
      " vation)                                                                                          \n",
      "                                                                                                  \n",
      " block11_sepconv1 (Separabl  (None, None, None, 728)      536536    ['block11_sepconv1_act[0][0]']\n",
      " eConv2D)                                                                                         \n",
      "                                                                                                  \n",
      " block11_sepconv1_bn (Batch  (None, None, None, 728)      2912      ['block11_sepconv1[0][0]']    \n",
      " Normalization)                                                                                   \n",
      "                                                                                                  \n",
      " block11_sepconv2_act (Acti  (None, None, None, 728)      0         ['block11_sepconv1_bn[0][0]'] \n",
      " vation)                                                                                          \n",
      "                                                                                                  \n",
      " block11_sepconv2 (Separabl  (None, None, None, 728)      536536    ['block11_sepconv2_act[0][0]']\n",
      " eConv2D)                                                                                         \n",
      "                                                                                                  \n",
      " block11_sepconv2_bn (Batch  (None, None, None, 728)      2912      ['block11_sepconv2[0][0]']    \n",
      " Normalization)                                                                                   \n",
      "                                                                                                  \n",
      " block11_sepconv3_act (Acti  (None, None, None, 728)      0         ['block11_sepconv2_bn[0][0]'] \n",
      " vation)                                                                                          \n",
      "                                                                                                  \n",
      " block11_sepconv3 (Separabl  (None, None, None, 728)      536536    ['block11_sepconv3_act[0][0]']\n",
      " eConv2D)                                                                                         \n",
      "                                                                                                  \n",
      " block11_sepconv3_bn (Batch  (None, None, None, 728)      2912      ['block11_sepconv3[0][0]']    \n",
      " Normalization)                                                                                   \n",
      "                                                                                                  \n",
      " add_9 (Add)                 (None, None, None, 728)      0         ['block11_sepconv3_bn[0][0]', \n",
      "                                                                     'add_8[0][0]']               \n",
      "                                                                                                  \n",
      " block12_sepconv1_act (Acti  (None, None, None, 728)      0         ['add_9[0][0]']               \n",
      " vation)                                                                                          \n",
      "                                                                                                  \n",
      " block12_sepconv1 (Separabl  (None, None, None, 728)      536536    ['block12_sepconv1_act[0][0]']\n",
      " eConv2D)                                                                                         \n",
      "                                                                                                  \n",
      " block12_sepconv1_bn (Batch  (None, None, None, 728)      2912      ['block12_sepconv1[0][0]']    \n",
      " Normalization)                                                                                   \n",
      "                                                                                                  \n",
      " block12_sepconv2_act (Acti  (None, None, None, 728)      0         ['block12_sepconv1_bn[0][0]'] \n",
      " vation)                                                                                          \n",
      "                                                                                                  \n",
      " block12_sepconv2 (Separabl  (None, None, None, 728)      536536    ['block12_sepconv2_act[0][0]']\n",
      " eConv2D)                                                                                         \n",
      "                                                                                                  \n",
      " block12_sepconv2_bn (Batch  (None, None, None, 728)      2912      ['block12_sepconv2[0][0]']    \n",
      " Normalization)                                                                                   \n",
      "                                                                                                  \n",
      " block12_sepconv3_act (Acti  (None, None, None, 728)      0         ['block12_sepconv2_bn[0][0]'] \n",
      " vation)                                                                                          \n",
      "                                                                                                  \n",
      " block12_sepconv3 (Separabl  (None, None, None, 728)      536536    ['block12_sepconv3_act[0][0]']\n",
      " eConv2D)                                                                                         \n",
      "                                                                                                  \n",
      " block12_sepconv3_bn (Batch  (None, None, None, 728)      2912      ['block12_sepconv3[0][0]']    \n",
      " Normalization)                                                                                   \n",
      "                                                                                                  \n",
      " add_10 (Add)                (None, None, None, 728)      0         ['block12_sepconv3_bn[0][0]', \n",
      "                                                                     'add_9[0][0]']               \n",
      "                                                                                                  \n",
      " block13_sepconv1_act (Acti  (None, None, None, 728)      0         ['add_10[0][0]']              \n",
      " vation)                                                                                          \n",
      "                                                                                                  \n",
      " block13_sepconv1 (Separabl  (None, None, None, 728)      536536    ['block13_sepconv1_act[0][0]']\n",
      " eConv2D)                                                                                         \n",
      "                                                                                                  \n",
      " block13_sepconv1_bn (Batch  (None, None, None, 728)      2912      ['block13_sepconv1[0][0]']    \n",
      " Normalization)                                                                                   \n",
      "                                                                                                  \n",
      " block13_sepconv2_act (Acti  (None, None, None, 728)      0         ['block13_sepconv1_bn[0][0]'] \n",
      " vation)                                                                                          \n",
      "                                                                                                  \n",
      " block13_sepconv2 (Separabl  (None, None, None, 1024)     752024    ['block13_sepconv2_act[0][0]']\n",
      " eConv2D)                                                                                         \n",
      "                                                                                                  \n",
      " block13_sepconv2_bn (Batch  (None, None, None, 1024)     4096      ['block13_sepconv2[0][0]']    \n",
      " Normalization)                                                                                   \n",
      "                                                                                                  \n",
      " conv2d_45 (Conv2D)          (None, None, None, 1024)     745472    ['add_10[0][0]']              \n",
      "                                                                                                  \n",
      " block13_pool (MaxPooling2D  (None, None, None, 1024)     0         ['block13_sepconv2_bn[0][0]'] \n",
      " )                                                                                                \n",
      "                                                                                                  \n",
      " batch_normalization_39 (Ba  (None, None, None, 1024)     4096      ['conv2d_45[0][0]']           \n",
      " tchNormalization)                                                                                \n",
      "                                                                                                  \n",
      " add_11 (Add)                (None, None, None, 1024)     0         ['block13_pool[0][0]',        \n",
      "                                                                     'batch_normalization_39[0][0]\n",
      "                                                                    ']                            \n",
      "                                                                                                  \n",
      " block14_sepconv1 (Separabl  (None, None, None, 1536)     1582080   ['add_11[0][0]']              \n",
      " eConv2D)                                                                                         \n",
      "                                                                                                  \n",
      " block14_sepconv1_bn (Batch  (None, None, None, 1536)     6144      ['block14_sepconv1[0][0]']    \n",
      " Normalization)                                                                                   \n",
      "                                                                                                  \n",
      " block14_sepconv1_act (Acti  (None, None, None, 1536)     0         ['block14_sepconv1_bn[0][0]'] \n",
      " vation)                                                                                          \n",
      "                                                                                                  \n",
      " block14_sepconv2 (Separabl  (None, None, None, 2048)     3159552   ['block14_sepconv1_act[0][0]']\n",
      " eConv2D)                                                                                         \n",
      "                                                                                                  \n",
      " block14_sepconv2_bn (Batch  (None, None, None, 2048)     8192      ['block14_sepconv2[0][0]']    \n",
      " Normalization)                                                                                   \n",
      "                                                                                                  \n",
      " block14_sepconv2_act (Acti  (None, None, None, 2048)     0         ['block14_sepconv2_bn[0][0]'] \n",
      " vation)                                                                                          \n",
      "                                                                                                  \n",
      " global_average_pooling2d_2  (None, 2048)                 0         ['block14_sepconv2_act[0][0]']\n",
      "  (GlobalAveragePooling2D)                                                                        \n",
      "                                                                                                  \n",
      " dense_4 (Dense)             (None, 5)                    10245     ['global_average_pooling2d_2[0\n",
      "                                                                    ][0]']                        \n",
      "                                                                                                  \n",
      "==================================================================================================\n",
      "Total params: 20871725 (79.62 MB)\n",
      "Trainable params: 10245 (40.02 KB)\n",
      "Non-trainable params: 20861480 (79.58 MB)\n",
      "__________________________________________________________________________________________________\n"
     ]
    }
   ],
   "source": [
    "model.summary()"
   ]
  },
  {
   "cell_type": "markdown",
   "id": "0879f217-675d-4ac1-afdd-a9c6e5b43957",
   "metadata": {},
   "source": [
    "#### Final training after un-freezing the layers"
   ]
  },
  {
   "cell_type": "markdown",
   "id": "7e4aa82c-150a-4734-8878-cb0d12fca8ed",
   "metadata": {},
   "source": [
    "After training the model for a few epochs, its validation accuracy should reach about 75–80% and stop making much progress. This means that the top layers are now pretty well trained, so we are ready to unfreeze all the layers (or you could try unfreezing just the top ones) and continue training (don’t forget to compile the model when you freeze or unfreeze layers). This time we use a much lower learning rate to avoid damaging the pretrained weights:"
   ]
  },
  {
   "cell_type": "code",
   "execution_count": 64,
   "id": "8bf1b327-bc81-4537-b2b0-7859239381df",
   "metadata": {},
   "outputs": [],
   "source": [
    "for layer in base_model.layers:\n",
    "    layer.trainable = True"
   ]
  },
  {
   "cell_type": "code",
   "execution_count": 65,
   "id": "55f14753-3507-42a3-8a16-d26b8c025299",
   "metadata": {},
   "outputs": [],
   "source": [
    "optimizer = tf.keras.optimizers.legacy.SGD(learning_rate=0.01, momentum=0.9, decay=0.001)\n",
    "model.compile(loss=\"sparse_categorical_crossentropy\", optimizer=optimizer,metrics=[\"accuracy\"])"
   ]
  },
  {
   "cell_type": "code",
   "execution_count": 66,
   "id": "312af016-eb53-4ee8-8c00-9bacaefc2c09",
   "metadata": {},
   "outputs": [],
   "source": [
    "# history = model.fit(train_set, epochs=5, validation_data=valid_set)\n",
    "# # "
   ]
  },
  {
   "cell_type": "code",
   "execution_count": null,
   "id": "86af3548-9d56-477a-9037-1a02174271d4",
   "metadata": {},
   "outputs": [],
   "source": []
  },
  {
   "cell_type": "markdown",
   "id": "fe5862a8-fac5-43f7-9bdc-d36011161098",
   "metadata": {},
   "source": [
    "## Classification and Localization"
   ]
  },
  {
   "cell_type": "markdown",
   "id": "faa79902-0c42-4af7-8989-1b437d73f277",
   "metadata": {},
   "source": [
    "Localizing an object in a picture can be expressed as a regression task: to predict a bounding box around the object, a common approach is to predict the horizontal and vertical coordinates of the object’s center, as well as its height and width."
   ]
  },
  {
   "cell_type": "markdown",
   "id": "5676bf5a-ab10-4b87-8045-a71e68676e70",
   "metadata": {},
   "source": [
    "This means we have four numbers to predict. It does not require much change to the model; we just need to add a second dense output layer with four units (typically on top of the global average pooling layer), and it can be trained using the MSE loss:"
   ]
  },
  {
   "cell_type": "code",
   "execution_count": 67,
   "id": "b075b2bb-10a7-496b-a3c2-ff08e8ba482d",
   "metadata": {},
   "outputs": [],
   "source": [
    "base_model = keras.applications.xception.Xception(weights=\"imagenet\",include_top=False)"
   ]
  },
  {
   "cell_type": "code",
   "execution_count": 68,
   "id": "ba1b1ad1-0cf7-4d24-8602-704709d899f4",
   "metadata": {},
   "outputs": [],
   "source": [
    "avg = keras.layers.GlobalAveragePooling2D()(base_model.output)\n",
    "class_output = keras.layers.Dense(n_classes, activation=\"softmax\")(avg)\n",
    "loc_output = keras.layers.Dense(4)(avg)\n",
    "model = keras.Model(inputs=base_model.input,\n",
    " outputs=[class_output, loc_output])\n",
    "model.compile(loss=[\"sparse_categorical_crossentropy\", \"mse\"],\n",
    " loss_weights=[0.8, 0.2], # depends on what you care most about\n",
    " optimizer=optimizer, metrics=[\"accuracy\"])"
   ]
  },
  {
   "cell_type": "code",
   "execution_count": 69,
   "id": "5c624d13-62d5-4a1b-a2c7-25dc194d9024",
   "metadata": {},
   "outputs": [
    {
     "name": "stdout",
     "output_type": "stream",
     "text": [
      "Model: \"model_1\"\n",
      "__________________________________________________________________________________________________\n",
      " Layer (type)                Output Shape                 Param #   Connected to                  \n",
      "==================================================================================================\n",
      " input_3 (InputLayer)        [(None, None, None, 3)]      0         []                            \n",
      "                                                                                                  \n",
      " block1_conv1 (Conv2D)       (None, None, None, 32)       864       ['input_3[0][0]']             \n",
      "                                                                                                  \n",
      " block1_conv1_bn (BatchNorm  (None, None, None, 32)       128       ['block1_conv1[0][0]']        \n",
      " alization)                                                                                       \n",
      "                                                                                                  \n",
      " block1_conv1_act (Activati  (None, None, None, 32)       0         ['block1_conv1_bn[0][0]']     \n",
      " on)                                                                                              \n",
      "                                                                                                  \n",
      " block1_conv2 (Conv2D)       (None, None, None, 64)       18432     ['block1_conv1_act[0][0]']    \n",
      "                                                                                                  \n",
      " block1_conv2_bn (BatchNorm  (None, None, None, 64)       256       ['block1_conv2[0][0]']        \n",
      " alization)                                                                                       \n",
      "                                                                                                  \n",
      " block1_conv2_act (Activati  (None, None, None, 64)       0         ['block1_conv2_bn[0][0]']     \n",
      " on)                                                                                              \n",
      "                                                                                                  \n",
      " block2_sepconv1 (Separable  (None, None, None, 128)      8768      ['block1_conv2_act[0][0]']    \n",
      " Conv2D)                                                                                          \n",
      "                                                                                                  \n",
      " block2_sepconv1_bn (BatchN  (None, None, None, 128)      512       ['block2_sepconv1[0][0]']     \n",
      " ormalization)                                                                                    \n",
      "                                                                                                  \n",
      " block2_sepconv2_act (Activ  (None, None, None, 128)      0         ['block2_sepconv1_bn[0][0]']  \n",
      " ation)                                                                                           \n",
      "                                                                                                  \n",
      " block2_sepconv2 (Separable  (None, None, None, 128)      17536     ['block2_sepconv2_act[0][0]'] \n",
      " Conv2D)                                                                                          \n",
      "                                                                                                  \n",
      " block2_sepconv2_bn (BatchN  (None, None, None, 128)      512       ['block2_sepconv2[0][0]']     \n",
      " ormalization)                                                                                    \n",
      "                                                                                                  \n",
      " conv2d_46 (Conv2D)          (None, None, None, 128)      8192      ['block1_conv2_act[0][0]']    \n",
      "                                                                                                  \n",
      " block2_pool (MaxPooling2D)  (None, None, None, 128)      0         ['block2_sepconv2_bn[0][0]']  \n",
      "                                                                                                  \n",
      " batch_normalization_40 (Ba  (None, None, None, 128)      512       ['conv2d_46[0][0]']           \n",
      " tchNormalization)                                                                                \n",
      "                                                                                                  \n",
      " add_12 (Add)                (None, None, None, 128)      0         ['block2_pool[0][0]',         \n",
      "                                                                     'batch_normalization_40[0][0]\n",
      "                                                                    ']                            \n",
      "                                                                                                  \n",
      " block3_sepconv1_act (Activ  (None, None, None, 128)      0         ['add_12[0][0]']              \n",
      " ation)                                                                                           \n",
      "                                                                                                  \n",
      " block3_sepconv1 (Separable  (None, None, None, 256)      33920     ['block3_sepconv1_act[0][0]'] \n",
      " Conv2D)                                                                                          \n",
      "                                                                                                  \n",
      " block3_sepconv1_bn (BatchN  (None, None, None, 256)      1024      ['block3_sepconv1[0][0]']     \n",
      " ormalization)                                                                                    \n",
      "                                                                                                  \n",
      " block3_sepconv2_act (Activ  (None, None, None, 256)      0         ['block3_sepconv1_bn[0][0]']  \n",
      " ation)                                                                                           \n",
      "                                                                                                  \n",
      " block3_sepconv2 (Separable  (None, None, None, 256)      67840     ['block3_sepconv2_act[0][0]'] \n",
      " Conv2D)                                                                                          \n",
      "                                                                                                  \n",
      " block3_sepconv2_bn (BatchN  (None, None, None, 256)      1024      ['block3_sepconv2[0][0]']     \n",
      " ormalization)                                                                                    \n",
      "                                                                                                  \n",
      " conv2d_47 (Conv2D)          (None, None, None, 256)      32768     ['add_12[0][0]']              \n",
      "                                                                                                  \n",
      " block3_pool (MaxPooling2D)  (None, None, None, 256)      0         ['block3_sepconv2_bn[0][0]']  \n",
      "                                                                                                  \n",
      " batch_normalization_41 (Ba  (None, None, None, 256)      1024      ['conv2d_47[0][0]']           \n",
      " tchNormalization)                                                                                \n",
      "                                                                                                  \n",
      " add_13 (Add)                (None, None, None, 256)      0         ['block3_pool[0][0]',         \n",
      "                                                                     'batch_normalization_41[0][0]\n",
      "                                                                    ']                            \n",
      "                                                                                                  \n",
      " block4_sepconv1_act (Activ  (None, None, None, 256)      0         ['add_13[0][0]']              \n",
      " ation)                                                                                           \n",
      "                                                                                                  \n",
      " block4_sepconv1 (Separable  (None, None, None, 728)      188672    ['block4_sepconv1_act[0][0]'] \n",
      " Conv2D)                                                                                          \n",
      "                                                                                                  \n",
      " block4_sepconv1_bn (BatchN  (None, None, None, 728)      2912      ['block4_sepconv1[0][0]']     \n",
      " ormalization)                                                                                    \n",
      "                                                                                                  \n",
      " block4_sepconv2_act (Activ  (None, None, None, 728)      0         ['block4_sepconv1_bn[0][0]']  \n",
      " ation)                                                                                           \n",
      "                                                                                                  \n",
      " block4_sepconv2 (Separable  (None, None, None, 728)      536536    ['block4_sepconv2_act[0][0]'] \n",
      " Conv2D)                                                                                          \n",
      "                                                                                                  \n",
      " block4_sepconv2_bn (BatchN  (None, None, None, 728)      2912      ['block4_sepconv2[0][0]']     \n",
      " ormalization)                                                                                    \n",
      "                                                                                                  \n",
      " conv2d_48 (Conv2D)          (None, None, None, 728)      186368    ['add_13[0][0]']              \n",
      "                                                                                                  \n",
      " block4_pool (MaxPooling2D)  (None, None, None, 728)      0         ['block4_sepconv2_bn[0][0]']  \n",
      "                                                                                                  \n",
      " batch_normalization_42 (Ba  (None, None, None, 728)      2912      ['conv2d_48[0][0]']           \n",
      " tchNormalization)                                                                                \n",
      "                                                                                                  \n",
      " add_14 (Add)                (None, None, None, 728)      0         ['block4_pool[0][0]',         \n",
      "                                                                     'batch_normalization_42[0][0]\n",
      "                                                                    ']                            \n",
      "                                                                                                  \n",
      " block5_sepconv1_act (Activ  (None, None, None, 728)      0         ['add_14[0][0]']              \n",
      " ation)                                                                                           \n",
      "                                                                                                  \n",
      " block5_sepconv1 (Separable  (None, None, None, 728)      536536    ['block5_sepconv1_act[0][0]'] \n",
      " Conv2D)                                                                                          \n",
      "                                                                                                  \n",
      " block5_sepconv1_bn (BatchN  (None, None, None, 728)      2912      ['block5_sepconv1[0][0]']     \n",
      " ormalization)                                                                                    \n",
      "                                                                                                  \n",
      " block5_sepconv2_act (Activ  (None, None, None, 728)      0         ['block5_sepconv1_bn[0][0]']  \n",
      " ation)                                                                                           \n",
      "                                                                                                  \n",
      " block5_sepconv2 (Separable  (None, None, None, 728)      536536    ['block5_sepconv2_act[0][0]'] \n",
      " Conv2D)                                                                                          \n",
      "                                                                                                  \n",
      " block5_sepconv2_bn (BatchN  (None, None, None, 728)      2912      ['block5_sepconv2[0][0]']     \n",
      " ormalization)                                                                                    \n",
      "                                                                                                  \n",
      " block5_sepconv3_act (Activ  (None, None, None, 728)      0         ['block5_sepconv2_bn[0][0]']  \n",
      " ation)                                                                                           \n",
      "                                                                                                  \n",
      " block5_sepconv3 (Separable  (None, None, None, 728)      536536    ['block5_sepconv3_act[0][0]'] \n",
      " Conv2D)                                                                                          \n",
      "                                                                                                  \n",
      " block5_sepconv3_bn (BatchN  (None, None, None, 728)      2912      ['block5_sepconv3[0][0]']     \n",
      " ormalization)                                                                                    \n",
      "                                                                                                  \n",
      " add_15 (Add)                (None, None, None, 728)      0         ['block5_sepconv3_bn[0][0]',  \n",
      "                                                                     'add_14[0][0]']              \n",
      "                                                                                                  \n",
      " block6_sepconv1_act (Activ  (None, None, None, 728)      0         ['add_15[0][0]']              \n",
      " ation)                                                                                           \n",
      "                                                                                                  \n",
      " block6_sepconv1 (Separable  (None, None, None, 728)      536536    ['block6_sepconv1_act[0][0]'] \n",
      " Conv2D)                                                                                          \n",
      "                                                                                                  \n",
      " block6_sepconv1_bn (BatchN  (None, None, None, 728)      2912      ['block6_sepconv1[0][0]']     \n",
      " ormalization)                                                                                    \n",
      "                                                                                                  \n",
      " block6_sepconv2_act (Activ  (None, None, None, 728)      0         ['block6_sepconv1_bn[0][0]']  \n",
      " ation)                                                                                           \n",
      "                                                                                                  \n",
      " block6_sepconv2 (Separable  (None, None, None, 728)      536536    ['block6_sepconv2_act[0][0]'] \n",
      " Conv2D)                                                                                          \n",
      "                                                                                                  \n",
      " block6_sepconv2_bn (BatchN  (None, None, None, 728)      2912      ['block6_sepconv2[0][0]']     \n",
      " ormalization)                                                                                    \n",
      "                                                                                                  \n",
      " block6_sepconv3_act (Activ  (None, None, None, 728)      0         ['block6_sepconv2_bn[0][0]']  \n",
      " ation)                                                                                           \n",
      "                                                                                                  \n",
      " block6_sepconv3 (Separable  (None, None, None, 728)      536536    ['block6_sepconv3_act[0][0]'] \n",
      " Conv2D)                                                                                          \n",
      "                                                                                                  \n",
      " block6_sepconv3_bn (BatchN  (None, None, None, 728)      2912      ['block6_sepconv3[0][0]']     \n",
      " ormalization)                                                                                    \n",
      "                                                                                                  \n",
      " add_16 (Add)                (None, None, None, 728)      0         ['block6_sepconv3_bn[0][0]',  \n",
      "                                                                     'add_15[0][0]']              \n",
      "                                                                                                  \n",
      " block7_sepconv1_act (Activ  (None, None, None, 728)      0         ['add_16[0][0]']              \n",
      " ation)                                                                                           \n",
      "                                                                                                  \n",
      " block7_sepconv1 (Separable  (None, None, None, 728)      536536    ['block7_sepconv1_act[0][0]'] \n",
      " Conv2D)                                                                                          \n",
      "                                                                                                  \n",
      " block7_sepconv1_bn (BatchN  (None, None, None, 728)      2912      ['block7_sepconv1[0][0]']     \n",
      " ormalization)                                                                                    \n",
      "                                                                                                  \n",
      " block7_sepconv2_act (Activ  (None, None, None, 728)      0         ['block7_sepconv1_bn[0][0]']  \n",
      " ation)                                                                                           \n",
      "                                                                                                  \n",
      " block7_sepconv2 (Separable  (None, None, None, 728)      536536    ['block7_sepconv2_act[0][0]'] \n",
      " Conv2D)                                                                                          \n",
      "                                                                                                  \n",
      " block7_sepconv2_bn (BatchN  (None, None, None, 728)      2912      ['block7_sepconv2[0][0]']     \n",
      " ormalization)                                                                                    \n",
      "                                                                                                  \n",
      " block7_sepconv3_act (Activ  (None, None, None, 728)      0         ['block7_sepconv2_bn[0][0]']  \n",
      " ation)                                                                                           \n",
      "                                                                                                  \n",
      " block7_sepconv3 (Separable  (None, None, None, 728)      536536    ['block7_sepconv3_act[0][0]'] \n",
      " Conv2D)                                                                                          \n",
      "                                                                                                  \n",
      " block7_sepconv3_bn (BatchN  (None, None, None, 728)      2912      ['block7_sepconv3[0][0]']     \n",
      " ormalization)                                                                                    \n",
      "                                                                                                  \n",
      " add_17 (Add)                (None, None, None, 728)      0         ['block7_sepconv3_bn[0][0]',  \n",
      "                                                                     'add_16[0][0]']              \n",
      "                                                                                                  \n",
      " block8_sepconv1_act (Activ  (None, None, None, 728)      0         ['add_17[0][0]']              \n",
      " ation)                                                                                           \n",
      "                                                                                                  \n",
      " block8_sepconv1 (Separable  (None, None, None, 728)      536536    ['block8_sepconv1_act[0][0]'] \n",
      " Conv2D)                                                                                          \n",
      "                                                                                                  \n",
      " block8_sepconv1_bn (BatchN  (None, None, None, 728)      2912      ['block8_sepconv1[0][0]']     \n",
      " ormalization)                                                                                    \n",
      "                                                                                                  \n",
      " block8_sepconv2_act (Activ  (None, None, None, 728)      0         ['block8_sepconv1_bn[0][0]']  \n",
      " ation)                                                                                           \n",
      "                                                                                                  \n",
      " block8_sepconv2 (Separable  (None, None, None, 728)      536536    ['block8_sepconv2_act[0][0]'] \n",
      " Conv2D)                                                                                          \n",
      "                                                                                                  \n",
      " block8_sepconv2_bn (BatchN  (None, None, None, 728)      2912      ['block8_sepconv2[0][0]']     \n",
      " ormalization)                                                                                    \n",
      "                                                                                                  \n",
      " block8_sepconv3_act (Activ  (None, None, None, 728)      0         ['block8_sepconv2_bn[0][0]']  \n",
      " ation)                                                                                           \n",
      "                                                                                                  \n",
      " block8_sepconv3 (Separable  (None, None, None, 728)      536536    ['block8_sepconv3_act[0][0]'] \n",
      " Conv2D)                                                                                          \n",
      "                                                                                                  \n",
      " block8_sepconv3_bn (BatchN  (None, None, None, 728)      2912      ['block8_sepconv3[0][0]']     \n",
      " ormalization)                                                                                    \n",
      "                                                                                                  \n",
      " add_18 (Add)                (None, None, None, 728)      0         ['block8_sepconv3_bn[0][0]',  \n",
      "                                                                     'add_17[0][0]']              \n",
      "                                                                                                  \n",
      " block9_sepconv1_act (Activ  (None, None, None, 728)      0         ['add_18[0][0]']              \n",
      " ation)                                                                                           \n",
      "                                                                                                  \n",
      " block9_sepconv1 (Separable  (None, None, None, 728)      536536    ['block9_sepconv1_act[0][0]'] \n",
      " Conv2D)                                                                                          \n",
      "                                                                                                  \n",
      " block9_sepconv1_bn (BatchN  (None, None, None, 728)      2912      ['block9_sepconv1[0][0]']     \n",
      " ormalization)                                                                                    \n",
      "                                                                                                  \n",
      " block9_sepconv2_act (Activ  (None, None, None, 728)      0         ['block9_sepconv1_bn[0][0]']  \n",
      " ation)                                                                                           \n",
      "                                                                                                  \n",
      " block9_sepconv2 (Separable  (None, None, None, 728)      536536    ['block9_sepconv2_act[0][0]'] \n",
      " Conv2D)                                                                                          \n",
      "                                                                                                  \n",
      " block9_sepconv2_bn (BatchN  (None, None, None, 728)      2912      ['block9_sepconv2[0][0]']     \n",
      " ormalization)                                                                                    \n",
      "                                                                                                  \n",
      " block9_sepconv3_act (Activ  (None, None, None, 728)      0         ['block9_sepconv2_bn[0][0]']  \n",
      " ation)                                                                                           \n",
      "                                                                                                  \n",
      " block9_sepconv3 (Separable  (None, None, None, 728)      536536    ['block9_sepconv3_act[0][0]'] \n",
      " Conv2D)                                                                                          \n",
      "                                                                                                  \n",
      " block9_sepconv3_bn (BatchN  (None, None, None, 728)      2912      ['block9_sepconv3[0][0]']     \n",
      " ormalization)                                                                                    \n",
      "                                                                                                  \n",
      " add_19 (Add)                (None, None, None, 728)      0         ['block9_sepconv3_bn[0][0]',  \n",
      "                                                                     'add_18[0][0]']              \n",
      "                                                                                                  \n",
      " block10_sepconv1_act (Acti  (None, None, None, 728)      0         ['add_19[0][0]']              \n",
      " vation)                                                                                          \n",
      "                                                                                                  \n",
      " block10_sepconv1 (Separabl  (None, None, None, 728)      536536    ['block10_sepconv1_act[0][0]']\n",
      " eConv2D)                                                                                         \n",
      "                                                                                                  \n",
      " block10_sepconv1_bn (Batch  (None, None, None, 728)      2912      ['block10_sepconv1[0][0]']    \n",
      " Normalization)                                                                                   \n",
      "                                                                                                  \n",
      " block10_sepconv2_act (Acti  (None, None, None, 728)      0         ['block10_sepconv1_bn[0][0]'] \n",
      " vation)                                                                                          \n",
      "                                                                                                  \n",
      " block10_sepconv2 (Separabl  (None, None, None, 728)      536536    ['block10_sepconv2_act[0][0]']\n",
      " eConv2D)                                                                                         \n",
      "                                                                                                  \n",
      " block10_sepconv2_bn (Batch  (None, None, None, 728)      2912      ['block10_sepconv2[0][0]']    \n",
      " Normalization)                                                                                   \n",
      "                                                                                                  \n",
      " block10_sepconv3_act (Acti  (None, None, None, 728)      0         ['block10_sepconv2_bn[0][0]'] \n",
      " vation)                                                                                          \n",
      "                                                                                                  \n",
      " block10_sepconv3 (Separabl  (None, None, None, 728)      536536    ['block10_sepconv3_act[0][0]']\n",
      " eConv2D)                                                                                         \n",
      "                                                                                                  \n",
      " block10_sepconv3_bn (Batch  (None, None, None, 728)      2912      ['block10_sepconv3[0][0]']    \n",
      " Normalization)                                                                                   \n",
      "                                                                                                  \n",
      " add_20 (Add)                (None, None, None, 728)      0         ['block10_sepconv3_bn[0][0]', \n",
      "                                                                     'add_19[0][0]']              \n",
      "                                                                                                  \n",
      " block11_sepconv1_act (Acti  (None, None, None, 728)      0         ['add_20[0][0]']              \n",
      " vation)                                                                                          \n",
      "                                                                                                  \n",
      " block11_sepconv1 (Separabl  (None, None, None, 728)      536536    ['block11_sepconv1_act[0][0]']\n",
      " eConv2D)                                                                                         \n",
      "                                                                                                  \n",
      " block11_sepconv1_bn (Batch  (None, None, None, 728)      2912      ['block11_sepconv1[0][0]']    \n",
      " Normalization)                                                                                   \n",
      "                                                                                                  \n",
      " block11_sepconv2_act (Acti  (None, None, None, 728)      0         ['block11_sepconv1_bn[0][0]'] \n",
      " vation)                                                                                          \n",
      "                                                                                                  \n",
      " block11_sepconv2 (Separabl  (None, None, None, 728)      536536    ['block11_sepconv2_act[0][0]']\n",
      " eConv2D)                                                                                         \n",
      "                                                                                                  \n",
      " block11_sepconv2_bn (Batch  (None, None, None, 728)      2912      ['block11_sepconv2[0][0]']    \n",
      " Normalization)                                                                                   \n",
      "                                                                                                  \n",
      " block11_sepconv3_act (Acti  (None, None, None, 728)      0         ['block11_sepconv2_bn[0][0]'] \n",
      " vation)                                                                                          \n",
      "                                                                                                  \n",
      " block11_sepconv3 (Separabl  (None, None, None, 728)      536536    ['block11_sepconv3_act[0][0]']\n",
      " eConv2D)                                                                                         \n",
      "                                                                                                  \n",
      " block11_sepconv3_bn (Batch  (None, None, None, 728)      2912      ['block11_sepconv3[0][0]']    \n",
      " Normalization)                                                                                   \n",
      "                                                                                                  \n",
      " add_21 (Add)                (None, None, None, 728)      0         ['block11_sepconv3_bn[0][0]', \n",
      "                                                                     'add_20[0][0]']              \n",
      "                                                                                                  \n",
      " block12_sepconv1_act (Acti  (None, None, None, 728)      0         ['add_21[0][0]']              \n",
      " vation)                                                                                          \n",
      "                                                                                                  \n",
      " block12_sepconv1 (Separabl  (None, None, None, 728)      536536    ['block12_sepconv1_act[0][0]']\n",
      " eConv2D)                                                                                         \n",
      "                                                                                                  \n",
      " block12_sepconv1_bn (Batch  (None, None, None, 728)      2912      ['block12_sepconv1[0][0]']    \n",
      " Normalization)                                                                                   \n",
      "                                                                                                  \n",
      " block12_sepconv2_act (Acti  (None, None, None, 728)      0         ['block12_sepconv1_bn[0][0]'] \n",
      " vation)                                                                                          \n",
      "                                                                                                  \n",
      " block12_sepconv2 (Separabl  (None, None, None, 728)      536536    ['block12_sepconv2_act[0][0]']\n",
      " eConv2D)                                                                                         \n",
      "                                                                                                  \n",
      " block12_sepconv2_bn (Batch  (None, None, None, 728)      2912      ['block12_sepconv2[0][0]']    \n",
      " Normalization)                                                                                   \n",
      "                                                                                                  \n",
      " block12_sepconv3_act (Acti  (None, None, None, 728)      0         ['block12_sepconv2_bn[0][0]'] \n",
      " vation)                                                                                          \n",
      "                                                                                                  \n",
      " block12_sepconv3 (Separabl  (None, None, None, 728)      536536    ['block12_sepconv3_act[0][0]']\n",
      " eConv2D)                                                                                         \n",
      "                                                                                                  \n",
      " block12_sepconv3_bn (Batch  (None, None, None, 728)      2912      ['block12_sepconv3[0][0]']    \n",
      " Normalization)                                                                                   \n",
      "                                                                                                  \n",
      " add_22 (Add)                (None, None, None, 728)      0         ['block12_sepconv3_bn[0][0]', \n",
      "                                                                     'add_21[0][0]']              \n",
      "                                                                                                  \n",
      " block13_sepconv1_act (Acti  (None, None, None, 728)      0         ['add_22[0][0]']              \n",
      " vation)                                                                                          \n",
      "                                                                                                  \n",
      " block13_sepconv1 (Separabl  (None, None, None, 728)      536536    ['block13_sepconv1_act[0][0]']\n",
      " eConv2D)                                                                                         \n",
      "                                                                                                  \n",
      " block13_sepconv1_bn (Batch  (None, None, None, 728)      2912      ['block13_sepconv1[0][0]']    \n",
      " Normalization)                                                                                   \n",
      "                                                                                                  \n",
      " block13_sepconv2_act (Acti  (None, None, None, 728)      0         ['block13_sepconv1_bn[0][0]'] \n",
      " vation)                                                                                          \n",
      "                                                                                                  \n",
      " block13_sepconv2 (Separabl  (None, None, None, 1024)     752024    ['block13_sepconv2_act[0][0]']\n",
      " eConv2D)                                                                                         \n",
      "                                                                                                  \n",
      " block13_sepconv2_bn (Batch  (None, None, None, 1024)     4096      ['block13_sepconv2[0][0]']    \n",
      " Normalization)                                                                                   \n",
      "                                                                                                  \n",
      " conv2d_49 (Conv2D)          (None, None, None, 1024)     745472    ['add_22[0][0]']              \n",
      "                                                                                                  \n",
      " block13_pool (MaxPooling2D  (None, None, None, 1024)     0         ['block13_sepconv2_bn[0][0]'] \n",
      " )                                                                                                \n",
      "                                                                                                  \n",
      " batch_normalization_43 (Ba  (None, None, None, 1024)     4096      ['conv2d_49[0][0]']           \n",
      " tchNormalization)                                                                                \n",
      "                                                                                                  \n",
      " add_23 (Add)                (None, None, None, 1024)     0         ['block13_pool[0][0]',        \n",
      "                                                                     'batch_normalization_43[0][0]\n",
      "                                                                    ']                            \n",
      "                                                                                                  \n",
      " block14_sepconv1 (Separabl  (None, None, None, 1536)     1582080   ['add_23[0][0]']              \n",
      " eConv2D)                                                                                         \n",
      "                                                                                                  \n",
      " block14_sepconv1_bn (Batch  (None, None, None, 1536)     6144      ['block14_sepconv1[0][0]']    \n",
      " Normalization)                                                                                   \n",
      "                                                                                                  \n",
      " block14_sepconv1_act (Acti  (None, None, None, 1536)     0         ['block14_sepconv1_bn[0][0]'] \n",
      " vation)                                                                                          \n",
      "                                                                                                  \n",
      " block14_sepconv2 (Separabl  (None, None, None, 2048)     3159552   ['block14_sepconv1_act[0][0]']\n",
      " eConv2D)                                                                                         \n",
      "                                                                                                  \n",
      " block14_sepconv2_bn (Batch  (None, None, None, 2048)     8192      ['block14_sepconv2[0][0]']    \n",
      " Normalization)                                                                                   \n",
      "                                                                                                  \n",
      " block14_sepconv2_act (Acti  (None, None, None, 2048)     0         ['block14_sepconv2_bn[0][0]'] \n",
      " vation)                                                                                          \n",
      "                                                                                                  \n",
      " global_average_pooling2d_3  (None, 2048)                 0         ['block14_sepconv2_act[0][0]']\n",
      "  (GlobalAveragePooling2D)                                                                        \n",
      "                                                                                                  \n",
      " dense_5 (Dense)             (None, 5)                    10245     ['global_average_pooling2d_3[0\n",
      "                                                                    ][0]']                        \n",
      "                                                                                                  \n",
      " dense_6 (Dense)             (None, 4)                    8196      ['global_average_pooling2d_3[0\n",
      "                                                                    ][0]']                        \n",
      "                                                                                                  \n",
      "==================================================================================================\n",
      "Total params: 20879921 (79.65 MB)\n",
      "Trainable params: 20825393 (79.44 MB)\n",
      "Non-trainable params: 54528 (213.00 KB)\n",
      "__________________________________________________________________________________________________\n"
     ]
    }
   ],
   "source": [
    "model.summary()"
   ]
  },
  {
   "cell_type": "markdown",
   "id": "23eec930-6211-4464-8446-bd08f5910074",
   "metadata": {},
   "source": [
    "### Labelled Data Training Problem"
   ]
  },
  {
   "cell_type": "markdown",
   "id": "b598464b-f30a-4ca9-a4cf-2f5717bc9629",
   "metadata": {},
   "source": [
    "But now we have a problem: the flowers dataset does not have bounding boxes around the flowers. So, we need to add them ourselves. This is often one of the hardest and most costly parts of a Machine Learning project: getting the labels. It’s a good idea to spend time looking for the right tools. To annotate images with bounding boxes, you may want to use an open source image labeling tool like VGG Image Annotator, LabelImg, OpenLabeler, or ImgLab, or perhaps a commercial tool like LabelBox or Supervisely. You may also want to consider crowdsourcing platforms such as Amazon Mechanical Turk if you have a very large number of images to annotate. However, it is quite a lot of work to set up a crowdsourcing platform, prepare the form to be sent to the workers, supervise them, and ensure that the quality of the bounding boxes they produce is good, so make sure it is worth the effort. If there are just a few thousand images to label, and you don’t plan to do this frequently, it may be preferable to do it yourself. "
   ]
  },
  {
   "cell_type": "markdown",
   "id": "94e33e0b-e00d-42a1-8a1a-fe3a3704a83c",
   "metadata": {},
   "source": [
    "Adriana Kovashka et al. has written a very practical paper about crowdsourcing in computer vision(Adriana Kovashka et al., “Crowdsourcing in Computer Vision,” Foundations and Trends in Computer Graphics and Vision 10, no. 3 (2014): 177–243.). You can check it out, even if you do not plan to use crowdsourcing."
   ]
  },
  {
   "cell_type": "code",
   "execution_count": null,
   "id": "2397590b-321e-4b8c-9372-cbd95b7702ee",
   "metadata": {},
   "outputs": [],
   "source": []
  },
  {
   "cell_type": "markdown",
   "id": "c8edf388-f806-4dec-a0d7-6b4a12ec9f47",
   "metadata": {},
   "source": [
    "### Training assuming you have the labelled data"
   ]
  },
  {
   "cell_type": "markdown",
   "id": "7c60260d-d60f-4969-938e-d6647e3e3370",
   "metadata": {},
   "source": [
    "Let’s suppose you’ve obtained the bounding boxes for every image in the flowers dataset (for now we will assume there is a single bounding box per image). You then need to create a dataset whose items will be batches of preprocessed images along with their class labels and their bounding boxes. Each item should be a tuple of the form (images, (class_labels, bounding_boxes)). Then you are ready to train your model!"
   ]
  },
  {
   "cell_type": "code",
   "execution_count": null,
   "id": "02f260b8-c430-4f88-abe8-71bf0f52467e",
   "metadata": {},
   "outputs": [],
   "source": []
  },
  {
   "cell_type": "markdown",
   "id": "54ea1be0-8f98-418d-80e7-261be8ae43ec",
   "metadata": {},
   "source": [
    "#### Warning about Data for Training"
   ]
  },
  {
   "cell_type": "markdown",
   "id": "997ffbbb-575d-4b08-9879-374bc9ac64f6",
   "metadata": {},
   "source": [
    "The bounding boxes should be normalized so that the horizontal and vertical coordinates, as well as the height and width, all range from 0 to 1. Also, it is common to predict the square root of the height and width rather than the height and width directly: this way, a 10-pixel error for a large bounding box will not be penalized as much as a 10-pixel error for a small bounding box."
   ]
  },
  {
   "cell_type": "code",
   "execution_count": null,
   "id": "2fec68a7-9758-4355-9a0d-7ce5c183efdc",
   "metadata": {},
   "outputs": [],
   "source": []
  },
  {
   "cell_type": "markdown",
   "id": "b752375e-8966-4d45-86d3-28560a46e59a",
   "metadata": {},
   "source": [
    "### tf.keras.metrics.MeanIoU"
   ]
  },
  {
   "cell_type": "markdown",
   "id": "fa9734c8-00de-4541-8fc2-8bea2e0c99ce",
   "metadata": {},
   "source": [
    "The MSE often works fairly well as a cost function to train the model, but it is not a great metric to evaluate how well the model can predict bounding boxes. The most common metric for this is the Intersection over Union (IoU): the area of overlap between the predicted bounding box and the target bounding box, divided by the area of their union. In tf.keras, it is implemented by the tf.keras.metrics.MeanIoU class."
   ]
  },
  {
   "cell_type": "code",
   "execution_count": null,
   "id": "1f170100-aa19-499f-aeb6-ad1adc2dd547",
   "metadata": {},
   "outputs": [],
   "source": []
  },
  {
   "cell_type": "code",
   "execution_count": null,
   "id": "74e39878-fcb7-4d49-9b7e-31c3fecacd06",
   "metadata": {},
   "outputs": [],
   "source": []
  },
  {
   "cell_type": "markdown",
   "id": "63571e10-3cc4-409f-95b8-42d900293400",
   "metadata": {},
   "source": [
    "## Object Detection"
   ]
  },
  {
   "cell_type": "markdown",
   "id": "04c03989-1ac9-4765-910c-e36d761854cf",
   "metadata": {},
   "source": [
    "The task of classifying and localizing multiple objects in an image is called object detection. Until a few years ago, a common approach was to take a CNN that was trained to classify and locate a single object, then slide it across the image."
   ]
  },
  {
   "cell_type": "markdown",
   "id": "08f4c174-34d6-441b-aee0-922bd68a39ec",
   "metadata": {},
   "source": [
    "This technique is fairly straightforward, but as you can see it will detect the same object multiple times, at slightly different positions. Some post-processing will then be needed to get rid of all the unnecessary bounding boxes. A common approach for this is called non-max suppression. Here’s how you do it:"
   ]
  },
  {
   "cell_type": "markdown",
   "id": "2be1e178-fda9-4cb7-9178-fc14711486ec",
   "metadata": {},
   "source": [
    "1) Suppose you are trying to identify flowers in an image. First, you need to add an extra objectness output to your CNN, to estimate the probability that a flower is indeed present in the image (alternatively, you could add a “no-flower” class, but this usually does not work as well). It must use the sigmoid activation function, and you can train it using binary cross-entropy loss. Then get rid of all the bounding boxes for which the objectness score is below some threshold: this will drop all the bounding boxes that don’t actually contain a flower."
   ]
  },
  {
   "cell_type": "markdown",
   "id": "d7ce6781-f2ff-4720-82c7-0209f8467c7d",
   "metadata": {},
   "source": [
    "2) Find the bounding box with the highest objectness score, and get rid of all the other bounding boxes that overlap a lot with it (e.g., with an IoU greater than 60%)."
   ]
  },
  {
   "cell_type": "markdown",
   "id": "29908af3-adfa-4086-a326-153431b9b114",
   "metadata": {},
   "source": [
    "3) Repeat step two until there are no more bounding boxes to get rid of."
   ]
  },
  {
   "cell_type": "code",
   "execution_count": null,
   "id": "38c6e9aa-ea24-4db5-8b05-267c30dac82c",
   "metadata": {},
   "outputs": [],
   "source": []
  },
  {
   "cell_type": "markdown",
   "id": "0708fb3a-566e-4c29-8ff9-137dbac27e3c",
   "metadata": {},
   "source": [
    "#### This simple approach to object detection works pretty well, but it requires running the CNN many times, so it is quite slow. Fortunately, there is a much faster way to slide a CNN across an image: using a fully convolutional network (FCN)."
   ]
  },
  {
   "cell_type": "code",
   "execution_count": null,
   "id": "a5643a78-c807-4cde-b1a9-7f38c9a4fc47",
   "metadata": {},
   "outputs": [],
   "source": []
  },
  {
   "cell_type": "markdown",
   "id": "ec7a2555-11be-4e1c-8d4f-77ef51f629aa",
   "metadata": {},
   "source": [
    "## Fully Convolutional Networks"
   ]
  },
  {
   "cell_type": "markdown",
   "id": "f3ba20bf-e7e4-4d8e-9d1b-76dbb108f007",
   "metadata": {},
   "source": [
    "The idea of FCNs was first introduced in a 2015 paper by Jonathan Long et al., for semantic segmentation (the task of classifying every pixel in an image according to the class of the object it belongs to)."
   ]
  },
  {
   "cell_type": "markdown",
   "id": "189d56f2-61b8-457b-a429-0bcff959cd74",
   "metadata": {},
   "source": [
    "The authors pointed out that you could replace the dense layers at the top of a CNN by convolutional layers."
   ]
  },
  {
   "cell_type": "markdown",
   "id": "91c23d95-d45b-4323-ba36-3bbb0691e518",
   "metadata": {},
   "source": [
    "### Example FCN"
   ]
  },
  {
   "cell_type": "markdown",
   "id": "dee2ce60-138e-4853-a637-bd3168ad0669",
   "metadata": {},
   "source": [
    "To understand this, let’s look at an example: suppose a dense layer with 200 neurons sits on top of a convolutional layer that outputs 100 feature maps, each of size 7 × 7 (this is the feature map size, not the kernel size)."
   ]
  },
  {
   "cell_type": "markdown",
   "id": "b66bd8c1-b520-4228-82da-6854ab0c4cf8",
   "metadata": {},
   "source": [
    "Each neuron will compute a weighted sum of all 100 × 7 × 7 activations from the convolutional layer (plus a bias term)."
   ]
  },
  {
   "cell_type": "markdown",
   "id": "2e321422-0c9b-4b01-aee2-38e8a8aff367",
   "metadata": {},
   "source": [
    "Now let’s see what happens if we replace the dense layer with a convolutional layer using 200 filters, each of size 7 × 7, and with \"valid\" padding."
   ]
  },
  {
   "cell_type": "markdown",
   "id": "1eb4eaf8-e31e-43fa-b55d-a657e515bcf3",
   "metadata": {},
   "source": [
    "This layer will output 200 feature maps, each 1 × 1 (since the kernel size of the CNN layer is exactly the size of the  feature maps that it is getting as inputs so 7 x 7 kernels of the output CNN layers will roll over/slide over the feature maps of size 7 x 7 and hence we get as output each 1 × 1 and we are using \"valid\" padding so no zero padding is done)."
   ]
  },
  {
   "cell_type": "markdown",
   "id": "f148e53f-2531-4fd6-966f-f774d43bdc5e",
   "metadata": {},
   "source": [
    "In other words, it will output 200 numbers, just like the dense layer did; and if you look closely at the computations performed by a convolutional layer, you will notice that these numbers will be precisely the same as those the dense layer produced. The only difference is that the dense layer’s output was a tensor of shape [batch size, 200], while the convolutional layer will output a tensor of shape [batch size, 1, 1, 200]."
   ]
  },
  {
   "cell_type": "markdown",
   "id": "ffc807d6-210f-4094-b033-5ed773af7ebb",
   "metadata": {},
   "source": [
    "### Note about using CNNs in the output layer"
   ]
  },
  {
   "cell_type": "markdown",
   "id": "13b3ee1c-41d9-4292-adf7-3030cb6f0059",
   "metadata": {},
   "source": [
    "To convert a dense layer to a convolutional layer, the number of filters in the convolutional layer must be equal to the number of units in the dense layer, the filter size must be equal to the size of the input feature maps, and you must use \"valid\" padding. The stride may be set to 1 or more, as we will see shortly."
   ]
  },
  {
   "cell_type": "code",
   "execution_count": null,
   "id": "c9158a54-8abf-409d-be78-9fa43935547f",
   "metadata": {},
   "outputs": [],
   "source": []
  },
  {
   "cell_type": "markdown",
   "id": "e3676e11-dd7e-480f-b1b8-2440ed2aa783",
   "metadata": {},
   "source": [
    "### FCN training"
   ]
  },
  {
   "cell_type": "markdown",
   "id": "1a838487-f6da-4ea0-a39b-8bfba351b415",
   "metadata": {},
   "source": [
    "Why is this important? Well, while a dense layer expects a specific input size (since it has one weight per input feature), a convolutional layer will happily process images of any size(There is one small exception: a convolutional layer using \"valid\" padding will complain if the input size is smaller than the kernel size, since if you slide a kernel of size 5 x 5 over an input of size 3 x 3 then it's a problem), however, it does expect its inputs to have a specific number of channels like 3 for RGB or more if it also has infrared since each kernel contains a different set of weights for each input channel). Since an FCN contains only convolutional layers (and pooling layers, which have the same property), it can be trained and executed on images of any size!"
   ]
  },
  {
   "cell_type": "markdown",
   "id": "7fa39d12-26a7-4e41-a322-3b15051a1697",
   "metadata": {},
   "source": [
    "#### Training Example"
   ]
  },
  {
   "cell_type": "markdown",
   "id": "99a89761-d2b7-43c2-9cea-e2d4b99ce7df",
   "metadata": {},
   "source": [
    "For example, suppose we’d already trained a CNN for flower classification and localization. It was trained on 224 × 224 images, and it outputs 10 numbers: outputs 0 to 4 are sent through the softmax activation function, and this gives the class probabilities (one per class); output 5 is sent through the logistic activation function, and this gives the objectness score; outputs 6 to 9 do not use any activation function, and they rep‐ resent the bounding box’s center coordinates, as well as its height and width."
   ]
  },
  {
   "cell_type": "markdown",
   "id": "3962d479-5312-4461-b2d0-5f8647f94095",
   "metadata": {},
   "source": [
    "We can now convert its dense layers to convolutional layers. In fact, we don’t even need to retrain it; we can just copy the weights from the dense layers to the convolutional layers! Alternatively, we could have converted the CNN into an FCN before training."
   ]
  },
  {
   "cell_type": "code",
   "execution_count": null,
   "id": "6ef75ad4-133d-4d71-964a-ead61acf7556",
   "metadata": {},
   "outputs": [],
   "source": []
  },
  {
   "cell_type": "markdown",
   "id": "1ec8b371-0d2d-47bd-a217-78fe777330a4",
   "metadata": {},
   "source": [
    "#### Training Scenario"
   ]
  },
  {
   "cell_type": "markdown",
   "id": "23c1c2e2-b3e5-402d-850b-a5b1993efe5a",
   "metadata": {},
   "source": [
    "##### The CNN layer before the output layer"
   ]
  },
  {
   "cell_type": "markdown",
   "id": "42826024-4c31-4db1-9b88-0faa5334db5a",
   "metadata": {},
   "source": [
    "Now suppose the last convolutional layer before the output layer (also called the bottleneck layer) outputs 7 × 7 feature maps when the network is fed a 224 × 224 image. If we feed the FCN a 448 × 448 image, the bottleneck layer will now output 14 × 14 feature maps(Note!!! This assumes we used only \"same\" padding in the network and hence get 14 X 14 as output, however, indeed using \"valid\" padding would reduce the size of the feature maps. Moreover, 448 can be neatly divided by 2 several times until we reach 7, without any rounding error. If any layer uses a different stride than 1 or 2, then there may be some rounding error, so again the feature maps may end up being smaller)."
   ]
  },
  {
   "cell_type": "markdown",
   "id": "0e6cc9af-cd28-4ced-983a-2a33438b0393",
   "metadata": {},
   "source": [
    "##### CNN as the output layer\n"
   ]
  },
  {
   "cell_type": "markdown",
   "id": "ce3dd95c-94c4-4a2f-aa0c-6d3aff89c80b",
   "metadata": {},
   "source": [
    "Now, Since the dense output layer was replaced by a convolutional layer using 10 filters of size 7 × 7, with \"valid\" padding and stride 1, the output will be composed of 10 features maps, each of size 8 × 8 (since 14 – 7 + 1 = 8). "
   ]
  },
  {
   "cell_type": "markdown",
   "id": "4215ad77-5868-476a-ad56-b2561f008d6b",
   "metadata": {},
   "source": [
    "In other words, the FCN will process the whole image only once, and it will output an 8 × 8 grid, now read this carefully, because earlier for CNN as output layer, we said that :-- (This layer will output 200 feature maps, each 1 × 1 since the kernel is exactly the size of the input feature maps and we are using \"valid\" padding. In other words, it will output 200 numbers), so now why 8 x 8? well because in this particular example  the input that the CNN of the output layer is getting has the size of 14 x 14 and after (14 – 7 + 1 = 8) we get 8 x 8. Now, just like the dense layer did where each cell contains 10 numbers (5 class probabilities, 1 objectness score, and 4 bounding box coordinates), hence there will be a total of 64 cell each containing 10 values. It’s exactly like taking the original CNN and sliding it across the image using 8 steps per row and 8 steps per column."
   ]
  },
  {
   "cell_type": "markdown",
   "id": "02b48d2f-5eed-42a6-bfee-9f41ec129c39",
   "metadata": {},
   "source": [
    "#### Important point\n",
    "To visualize this, imagine chopping the original image into a 14 × 14 grid, then sliding a 7 × 7 window across this grid; there will be 8 × 8 = 64 possible locations for the window, hence 8 × 8 predictions."
   ]
  },
  {
   "cell_type": "code",
   "execution_count": null,
   "id": "6de26340-abf1-4972-90c7-bbb7f8a77aa0",
   "metadata": {},
   "outputs": [],
   "source": []
  },
  {
   "cell_type": "markdown",
   "id": "c82c9038-b20f-4507-b410-6a4898080e8c",
   "metadata": {},
   "source": [
    "## You Only Look Once (YOLO)"
   ]
  },
  {
   "cell_type": "markdown",
   "id": "12435d72-1907-4d32-93b8-58b622312c3e",
   "metadata": {},
   "source": [
    "YOLO is an extremely fast and accurate object detection architecture proposed byJoseph Redmon et al. in a 2015 paper, and subsequently improved in 2016 (YOLOv2) and in 2018 (YOLOv3). It is so fast that it can run in real time on a video."
   ]
  },
  {
   "cell_type": "code",
   "execution_count": null,
   "id": "f0744437-60a3-4861-8fd2-cd6d7ea598c4",
   "metadata": {},
   "outputs": [],
   "source": []
  },
  {
   "cell_type": "markdown",
   "id": "c3811d71-b791-482b-9de2-133682c21106",
   "metadata": {},
   "source": [
    "### YOLO V3"
   ]
  },
  {
   "cell_type": "markdown",
   "id": "e30bd873-fb45-4752-9932-0c0daf35c401",
   "metadata": {},
   "source": [
    "YOLOv3’s architecture is quite similar to the one we just discussed, but with a few \n",
    "important differences:"
   ]
  },
  {
   "cell_type": "markdown",
   "id": "801f329c-4977-4623-945f-52ae14e5a063",
   "metadata": {},
   "source": [
    "1) It outputs five bounding boxes for each grid cell (instead of just one), and each bounding box comes with an objectness score. It also outputs 20 class probabilities per grid cell, as it was trained on the PASCAL VOC dataset, which contains 20 classes. That’s a total of 45 numbers per grid cell: 5 bounding boxes, each with 4 coordinates, plus 5 objectness scores, plus 20 class probabilities."
   ]
  },
  {
   "cell_type": "markdown",
   "id": "31514507-62b1-4067-aa50-68f11cc86567",
   "metadata": {},
   "source": [
    "2) Instead of predicting the absolute coordinates of the bounding box centers, YOLOv3 predicts an offset relative to the coordinates of the grid cell, where (0, 0) means the top left of that cell and (1, 1) means the bottom right. For each grid cell, YOLOv3 is trained to predict only bounding boxes whose center lies in that cell (but the bounding box itself generally extends well beyond the grid cell, meaning the entity inside the box may be big and extend beyond the particular grid cell). YOLOv3 applies the logistic activation function to the bounding box coordinates to ensure they remain in the 0 to 1 range."
   ]
  },
  {
   "cell_type": "markdown",
   "id": "d81dcd62-c5cd-458a-a596-f4a665711876",
   "metadata": {},
   "source": [
    "#### Bounding Boxes of YoloV3"
   ]
  },
  {
   "cell_type": "markdown",
   "id": "59c7b2b5-2dd6-4bea-aca7-f14e7cfe35dd",
   "metadata": {},
   "source": [
    "1) Before training the neural net, YOLOv3 finds five representative bounding box dimensions, called anchor boxes (or bounding box priors)."
   ]
  },
  {
   "cell_type": "markdown",
   "id": "29fc2bb6-b1c5-4a3a-8111-3d408d1b692c",
   "metadata": {},
   "source": [
    "2)  It does this by applying the K-Means algorithm to the height and width of the training set bounding boxes(of course this is the time consuming process of labelling the objects in the image, basically creating the bounding boxes)."
   ]
  },
  {
   "cell_type": "markdown",
   "id": "e1ab391a-4df3-490a-b4c4-ab48c1785bd9",
   "metadata": {},
   "source": [
    "##### Example Bounding boxes"
   ]
  },
  {
   "cell_type": "markdown",
   "id": "f815da9e-5bd5-469f-a187-551566012179",
   "metadata": {},
   "source": [
    "1) For example, if the training images contain many pedestrians, then one of the anchor boxes will likely have the dimensions of a typical pedestrian. Then when the neural net predicts five bounding boxes per grid cell, it actually predicts how much to rescale each of the anchor boxes. "
   ]
  },
  {
   "cell_type": "markdown",
   "id": "67593922-0bdb-42fd-a494-c824168e0743",
   "metadata": {},
   "source": [
    "2) For example, suppose one anchor box is 100 pixels tall and 50 pixels wide, and the network predicts, say, a vertical rescaling factor of 1.5 and a horizontal rescaling of 0.9 (for one of the grid cells). This will result in a predicted bounding box of size 150 × 45 pixels. "
   ]
  },
  {
   "cell_type": "markdown",
   "id": "583535d2-7c60-419e-a6e0-ce7bc5d34f21",
   "metadata": {},
   "source": [
    "3) To be more precise, for each grid cell and each anchor box, the network predicts the log of the vertical and horizontal rescaling factors. Having these priors makes the network more likely to predict bounding boxes of the appropriate dimensions, and it also speeds up training because it will more quickly learn what reasonable bounding boxes look like."
   ]
  },
  {
   "cell_type": "markdown",
   "id": "fb41919b-a066-4e1f-9301-39d41394edd8",
   "metadata": {},
   "source": [
    "4) The network is trained using images of different scales: every few batches during training, the network randomly chooses a new image dimension (from 330 × 330 to 608 × 608 pixels). This allows the network to learn to detect objects at different scales. Moreover, it makes it possible to use YOLOv3 at different scales: the smaller scale will be less accurate but faster than the larger scale, so you can choose the right trade-off for your use case."
   ]
  },
  {
   "cell_type": "markdown",
   "id": "7abdda64-3edf-4c72-9a2b-a82fea332d31",
   "metadata": {},
   "source": [
    "#### There are a few more innovations that are interesting, such as the use of skip connections to recover some of the spatial resolution that is lost in the CNN (we will discuss this shortly, when we look at semantic segmentation). In the 2016 paper, the authors introduce the YOLO9000 model that uses hierarchical classification: the model predicts a probability for each node in a visual hierarchy called WordTree. This makes it possible for the network to predict with high confidence that an image represents, say, a dog, even though it is unsure what specific type of dog."
   ]
  },
  {
   "cell_type": "code",
   "execution_count": null,
   "id": "048c39f3-374e-4e16-8399-9994cd1f50b9",
   "metadata": {},
   "outputs": [],
   "source": []
  },
  {
   "cell_type": "markdown",
   "id": "83de989d-b6a0-4b12-8400-f28491642024",
   "metadata": {},
   "source": [
    "## Mean Average Precision in Object Detection"
   ]
  },
  {
   "cell_type": "markdown",
   "id": "eb7ded54-4d0d-4dee-a034-507ee666227f",
   "metadata": {},
   "source": [
    "A very common metric used in object detection tasks is the mean Average Precision (mAP). To understand this met‐\r\n",
    "ric, let’s go back to two classification metrics we discussed in Chapter 3: precision and recall. Remember the trade-off: the higher the recall, the lower the precision. You can visualize this in a precision/recall curve (see Figure 3-5). To summarize this curve into a single number, we could compute its area under the curve (AUC). But note that the precision/recall curve may contain a few sections where precision actually goes up when recall increases, especially at low recall values (you can see this at the top left of Figure 3-5). This is one of the motivations for the mAP metric."
   ]
  },
  {
   "cell_type": "markdown",
   "id": "7936ed3f-b4e0-4f74-b90f-dc9f65b61316",
   "metadata": {},
   "source": [
    "### Precision Recall in MAP"
   ]
  },
  {
   "cell_type": "markdown",
   "id": "92da1df4-d202-41bd-bdb6-7a1f6d803cb6",
   "metadata": {},
   "source": [
    "Suppose the classifier has 90% precision at 10% recall, but 96% precision at 20% recall. There’s really no trade-off here: it simply makes more sense to use the classifier at 20% recall rather than at 10% recall, as you will get both higher recall and higher precision. "
   ]
  },
  {
   "cell_type": "markdown",
   "id": "bfdafa82-d8de-418f-876b-1a0b56db630d",
   "metadata": {},
   "source": [
    "So instead of looking at the precision at 10% recall, we should really be looking at the maximum precision that the classifier can offer with at least 10% recall."
   ]
  },
  {
   "cell_type": "markdown",
   "id": "f3e9c91e-b468-4c60-a457-9a4f5d842702",
   "metadata": {},
   "source": [
    "It would be 96%, not 90%. Therefore, one way to get a fair idea of the model’s performance is to compute the maximum precision you can get with at least 0% recall, then 10% recall, 20%, and so on up to 100%, and then calculate the mean of these maximum precisions. This is called the Average Precision (AP) metric. Now when there are more than two classes, we can compute the AP for each class, and then compute the mean AP (mAP). That’s it!"
   ]
  },
  {
   "cell_type": "code",
   "execution_count": null,
   "id": "aa973ca1-8e65-4456-ac2a-40e6ee9b7bf0",
   "metadata": {},
   "outputs": [],
   "source": []
  },
  {
   "cell_type": "markdown",
   "id": "e82152e3-25e1-4bca-8c0b-592eec31b6de",
   "metadata": {},
   "source": [
    "### Complexity in object detection"
   ]
  },
  {
   "cell_type": "markdown",
   "id": "16c6c321-8a36-44dd-9278-f22e5bc94206",
   "metadata": {},
   "source": [
    "In an object detection system, there is an additional level of complexity: what if the system detected the correct class, but at the wrong location (i.e., the bounding box is completely off)? Surely we should not count this as a positive prediction. One approach is to define an IOU threshold: for example, we may consider that a prediction is correct only if the IOU is greater than, say, 0.5, and the predicted class is correct. The corresponding mAP is generally noted mAP@0.5 (or mAP@50%, or sometimes just AP50). In some competitions (such as the PASCAL VOC challenge), this is what is done. In others (such as the COCO competition), the mAP is computed for different IOU thresholds (0.50, 0.55, 0.60, …, 0.95), and the final metric is the mean of all these mAPs (noted AP@[.50:.95] or AP@[.50:0.05:.95]). Yes, that’s a mean mean average."
   ]
  },
  {
   "cell_type": "code",
   "execution_count": null,
   "id": "00bad2c6-57d8-4285-b209-b2ab008a9772",
   "metadata": {},
   "outputs": [],
   "source": []
  },
  {
   "cell_type": "code",
   "execution_count": null,
   "id": "ab5aa240-b68b-478d-996f-1b9d6671325e",
   "metadata": {},
   "outputs": [],
   "source": []
  },
  {
   "cell_type": "markdown",
   "id": "89e08a3c-6024-4328-8e73-2c8f76c61b44",
   "metadata": {},
   "source": [
    "## Semantic Segmentation"
   ]
  },
  {
   "cell_type": "markdown",
   "id": "9058b953-7a39-4157-9df6-667c182fc063",
   "metadata": {},
   "source": [
    "In semantic segmentation, each pixel is classified according to the class of the object it belongs to (e.g., road, car, pedestrian, building, etc.)."
   ]
  },
  {
   "cell_type": "markdown",
   "id": "c83b6782-a8ab-48eb-8cc7-f4a686acc6ca",
   "metadata": {},
   "source": [
    "Note that different objects of the same class are not distinguished. For example, if there is a group of bicycles on the right side of the segmented image, they end up as one big lump of pixels. The main difficulty in this task is that when images go through a regular CNN, they gradually lose their spatial resolution (due to the layers with strides greater than 1); so, a regular CNN may end up knowing that there’s a person somewhere in the bottom left of the image, but it will not be much more precise than that."
   ]
  },
  {
   "cell_type": "markdown",
   "id": "a662ee5c-abb2-41d4-85db-51506b679581",
   "metadata": {},
   "source": [
    "### Solving the segmentation problem"
   ]
  },
  {
   "cell_type": "markdown",
   "id": "050189f4-ccb7-4e4b-9586-f6ca77ad8d19",
   "metadata": {},
   "source": [
    "Just like for object detection, there are many different approaches to tackle this problem, some quite complex. However, a fairly simple solution was proposed in the 2015 paper by Jonathan Long et al."
   ]
  },
  {
   "cell_type": "markdown",
   "id": "5331090e-1522-48f2-8c05-785d1d4f5997",
   "metadata": {},
   "source": [
    "The authors start by taking a pre‐trained CNN and turning it into an FCN. The CNN applies an overall stride of 32 to the input image (i.e., if you add up all the strides greater than 1), meaning the last layer outputs feature maps that are 32 times smaller than the input image. This is clearly too coarse, so they add a single upsampling layer that multiplies the resolution by 32."
   ]
  },
  {
   "cell_type": "code",
   "execution_count": null,
   "id": "8d5de78a-5d3b-4075-8178-097a56a64c3b",
   "metadata": {},
   "outputs": [],
   "source": []
  },
  {
   "cell_type": "markdown",
   "id": "72fc86c7-d425-4fcc-9f80-a55eda4f80c2",
   "metadata": {},
   "source": [
    "### Upsampling a layer"
   ]
  },
  {
   "cell_type": "markdown",
   "id": "a4271bc9-b443-4cca-b25a-c754c8b0ee95",
   "metadata": {},
   "source": [
    "There are several solutions available for upsampling (increasing the size of an image), such as bilinear interpolation, but that only works reasonably well up to ×4 or ×8. Instead, they use a transposed convolutional layer(This type of layer is sometimes referred to as a deconvolution layer, but it does not perform what mathematicians call a deconvolution, so this name should be avoided): it is equivalent to first stretching the image by inserting empty rows and columns (full of zeros), then performing a regular convolution."
   ]
  },
  {
   "cell_type": "markdown",
   "id": "c98b44c1-057a-4ebd-af77-6af838159630",
   "metadata": {},
   "source": [
    "Alternatively, some people prefer to think of it as a regular convolutional layer that uses fractional strides (e.g., 1/2, basically since you are using a smaller stride, hence you're preserving a lot of original feature from the image). The transposed convolutional layer can be initialized to perform something close to linear interpolation, but since it is a trainable layer, it will learn to do better during training. In tf.keras, you can use the Conv2DTranspose layer."
   ]
  },
  {
   "cell_type": "markdown",
   "id": "3b001bbc-3bb7-45c6-bba9-a6ea68e69647",
   "metadata": {},
   "source": [
    "This solution is OK, but still too imprecise. To do better, the authors added skip connections from lower layers: for example, they upsampled the output image by a factor of 2 (instead of 32), and they added the output of a lower layer that had this double resolution. Then they upsampled the result by a factor of 16, leading to a total upsampling factor of 32."
   ]
  },
  {
   "cell_type": "markdown",
   "id": "b5172cbb-49a5-4e4b-afca-d473901cebd2",
   "metadata": {},
   "source": [
    "This recovered some of the spatial resolution that was lost in earlier pooling layers. In their best architecture, they used a second similar skip connection to recover even finer details from an even lower layer. In short, the output of the original CNN goes through the following extra steps: upscale ×2, add the output of a lower layer (of the appropriate scale), upscale ×2, add the output of an even lower layer, and finally upscale ×8. It is even possible to scale up beyond the size of the original image: this can be used to increase the resolution of an image, which is a technique called super-resolution."
   ]
  },
  {
   "cell_type": "markdown",
   "id": "158365c5-f6aa-47b7-b1cc-1ad58c65d615",
   "metadata": {},
   "source": [
    "### Warning Transpose Layer\n",
    "In a transposed convolutional layer, the stride defines how much the input will be stretched, not the size of the filter steps, so the larger the stride, the larger the output (unlike for convolutional layers or pooling layers)."
   ]
  },
  {
   "cell_type": "code",
   "execution_count": null,
   "id": "202b6a88-0fd2-489e-9af3-2dce498b787f",
   "metadata": {},
   "outputs": [],
   "source": []
  },
  {
   "cell_type": "markdown",
   "id": "93d04e70-ede5-49b4-8f90-29b9accd985b",
   "metadata": {},
   "source": [
    "## TensorFlow Convolution Operations"
   ]
  },
  {
   "cell_type": "markdown",
   "id": "b3189dd9-937a-44db-bb67-083de9882488",
   "metadata": {},
   "source": [
    "TensorFlow also offers a few other kinds of convolutional layers:\r"
   ]
  },
  {
   "cell_type": "markdown",
   "id": "be8e0a2a-ff1d-44c7-9ab3-9418aa8b6b3d",
   "metadata": {},
   "source": [
    "### keras.layers.Conv1D\n",
    "Creates a convolutional layer for 1D inputs, such as time series or text (sequences of letters or words)."
   ]
  },
  {
   "cell_type": "markdown",
   "id": "d3a20e2b-7ef4-4a82-a3fd-486a31e0b72a",
   "metadata": {},
   "source": [
    "### keras.layers.Conv3D\n",
    "Creates a convolutional layer for 3D inputs, such as 3D PET scans."
   ]
  },
  {
   "cell_type": "markdown",
   "id": "4a7c6a58-b5bf-4ede-ad9d-bdfd69e8636d",
   "metadata": {},
   "source": [
    "### dilation_rate\n",
    "Setting the dilation_rate hyperparameter of any convolutional layer to a value of 2 or more creates an à-trous convolutional layer (“à trous” is French for “with holes”). This is equivalent to using a regular convolutional layer with a filter dilated by inserting rows and columns of zeros (i.e., holes). For example, a 1 × 3 filter equal to [[1,2,3]] may be dilated with a dilation rate of 4, resulting in a dilated filter of [[1, 0, 0, 0, 2, 0, 0, 0, 3]]. This lets the convolutional layer have a larger receptive field at no computational price and using no extra parameters."
   ]
  },
  {
   "cell_type": "markdown",
   "id": "28cdb970-b25a-4f59-95ac-893ef1a7553d",
   "metadata": {},
   "source": [
    "### tf.nn.depthwise_conv2d()\n",
    "Can be used to create a depthwise convolutional layer (but you need to create the variables yourself). It applies every filter to every individual input channel independently. Thus, if there are fn filters and fn′ input channels, then this will output fn × fn′ feature maps."
   ]
  },
  {
   "cell_type": "code",
   "execution_count": null,
   "id": "7aae69b6-56e6-483a-9258-fa207520b1a3",
   "metadata": {},
   "outputs": [],
   "source": []
  },
  {
   "cell_type": "markdown",
   "id": "51913708-a90c-4da3-acb4-6444c4d5c429",
   "metadata": {},
   "source": [
    "## Instance Segmentation"
   ]
  },
  {
   "cell_type": "markdown",
   "id": "8e214d20-6ced-474c-aafb-6b9f2cde483c",
   "metadata": {},
   "source": [
    "Instance segmentation is similar to semantic segmentation, but instead of merging all objects of the same class into one big lump, each object is distinguished from the others (e.g., it identifies each individual bicycle). At present, the instance segmentation models available in the TensorFlow Models project are based on the Mask R-CNN architecture(regions with convolutional neural networks), which was proposed in a 2017 paper(Kaiming He et al., “Mask R-CNN,” arXiv preprint arXiv:1703.06870 (2017).):  it extends the Faster R-CNN model by additionally producing a pixel mask for each bounding box. So not only do you get a bounding box around each object, with a set of estimated class probabilities, but you also get a pixel mask that locates pixels in the bounding box that belong to the object."
   ]
  },
  {
   "cell_type": "code",
   "execution_count": null,
   "id": "7be7a76e-d008-49aa-8e11-ebc4986e2cf1",
   "metadata": {},
   "outputs": [],
   "source": []
  },
  {
   "cell_type": "markdown",
   "id": "896620c3-2475-4d21-bebf-bf84f9b5bdf4",
   "metadata": {},
   "source": [
    "## New Architectures"
   ]
  },
  {
   "cell_type": "markdown",
   "id": "784e01ea-ddc1-494d-bc25-161fbb22e89d",
   "metadata": {},
   "source": [
    "New novel architectures, such as Geoffrey Hinton’s capsule networks (https://www.youtube.com/watch?v=pPN8d0E3900&list=PLuTYjXW7aAt3HLCATBOkkXtifCVAm0O_A) (https://www.youtube.com/watch?v=2Kawrd5szHE), code in author's notebook."
   ]
  },
  {
   "cell_type": "code",
   "execution_count": null,
   "id": "0bcfc0a4-be55-4121-afe6-15915bb6066a",
   "metadata": {},
   "outputs": [],
   "source": []
  },
  {
   "cell_type": "code",
   "execution_count": null,
   "id": "cd2f4d2f-f42b-48bc-af74-7edb22a3bf36",
   "metadata": {},
   "outputs": [],
   "source": []
  },
  {
   "cell_type": "code",
   "execution_count": null,
   "id": "f39ca28f-5499-4f56-99cf-8796862996f8",
   "metadata": {},
   "outputs": [],
   "source": []
  },
  {
   "cell_type": "code",
   "execution_count": null,
   "id": "dc33524c-fc67-4af6-b24e-21c6e6f5baf1",
   "metadata": {},
   "outputs": [],
   "source": []
  },
  {
   "cell_type": "code",
   "execution_count": null,
   "id": "55cc4f5b-0b68-4d34-a284-377927975cdd",
   "metadata": {},
   "outputs": [],
   "source": []
  },
  {
   "cell_type": "code",
   "execution_count": null,
   "id": "0264b437-1197-49ec-a204-d409d109798a",
   "metadata": {},
   "outputs": [],
   "source": []
  },
  {
   "cell_type": "code",
   "execution_count": null,
   "id": "8f4af1ff-5355-49d3-8113-78a25a927617",
   "metadata": {},
   "outputs": [],
   "source": []
  },
  {
   "cell_type": "code",
   "execution_count": null,
   "id": "befc6a04-665f-4be3-962c-46d791b5fff2",
   "metadata": {},
   "outputs": [],
   "source": []
  },
  {
   "cell_type": "code",
   "execution_count": null,
   "id": "5f84203b-195f-4e1d-ba09-7013daa626eb",
   "metadata": {},
   "outputs": [],
   "source": []
  },
  {
   "cell_type": "code",
   "execution_count": null,
   "id": "3bec2d62-5576-4baf-8d24-c6dbfb758a8e",
   "metadata": {},
   "outputs": [],
   "source": []
  },
  {
   "cell_type": "code",
   "execution_count": null,
   "id": "917ce630-7658-4a2c-bb40-31c4688829d2",
   "metadata": {},
   "outputs": [],
   "source": []
  },
  {
   "cell_type": "code",
   "execution_count": null,
   "id": "f2be3247-4d05-407d-bc58-9f7cb72863d4",
   "metadata": {},
   "outputs": [],
   "source": []
  },
  {
   "cell_type": "code",
   "execution_count": null,
   "id": "76d5132a-dbff-4f75-bc9e-c0384013205c",
   "metadata": {},
   "outputs": [],
   "source": []
  },
  {
   "cell_type": "code",
   "execution_count": null,
   "id": "8c263da1-389c-46ec-ad52-8c3c4a62b52d",
   "metadata": {},
   "outputs": [],
   "source": []
  },
  {
   "cell_type": "code",
   "execution_count": null,
   "id": "18b7e22a-77aa-49d6-84cd-c002175ee71e",
   "metadata": {},
   "outputs": [],
   "source": []
  },
  {
   "cell_type": "code",
   "execution_count": null,
   "id": "e3517248-3de3-4be4-8326-90e2847a650c",
   "metadata": {},
   "outputs": [],
   "source": []
  },
  {
   "cell_type": "code",
   "execution_count": null,
   "id": "ef692f1e-e543-41bf-a79a-a928300df8f2",
   "metadata": {},
   "outputs": [],
   "source": []
  },
  {
   "cell_type": "code",
   "execution_count": null,
   "id": "4cf59a80-254c-423c-94df-d9cda8d2317f",
   "metadata": {},
   "outputs": [],
   "source": []
  },
  {
   "cell_type": "code",
   "execution_count": null,
   "id": "e70dce7e-6430-4013-bf3b-fa9d560f0e7b",
   "metadata": {},
   "outputs": [],
   "source": []
  },
  {
   "cell_type": "code",
   "execution_count": null,
   "id": "c9708e49-9c0d-4a82-9fa8-8e38ba8f6b2f",
   "metadata": {},
   "outputs": [],
   "source": []
  },
  {
   "cell_type": "code",
   "execution_count": null,
   "id": "d7f67515-26ad-483b-bf7f-d3f623866c18",
   "metadata": {},
   "outputs": [],
   "source": []
  },
  {
   "cell_type": "code",
   "execution_count": null,
   "id": "2e0561ad-d3ea-4b8d-a0bd-bb925844ad6a",
   "metadata": {},
   "outputs": [],
   "source": []
  },
  {
   "cell_type": "code",
   "execution_count": null,
   "id": "ed5fdba9-9761-4c87-b2f7-dc06a66f420d",
   "metadata": {},
   "outputs": [],
   "source": []
  },
  {
   "cell_type": "code",
   "execution_count": null,
   "id": "281241f0-5c05-4c92-bea1-f3ce1f2fce20",
   "metadata": {},
   "outputs": [],
   "source": []
  },
  {
   "cell_type": "code",
   "execution_count": null,
   "id": "22846840-95dd-4049-a4af-bf7beff9155a",
   "metadata": {},
   "outputs": [],
   "source": []
  },
  {
   "cell_type": "code",
   "execution_count": null,
   "id": "aec2065a-5529-4573-baf1-2fb2d292593d",
   "metadata": {},
   "outputs": [],
   "source": []
  },
  {
   "cell_type": "code",
   "execution_count": null,
   "id": "6f006556-e5b1-4311-989c-a2e5d441b700",
   "metadata": {},
   "outputs": [],
   "source": []
  },
  {
   "cell_type": "code",
   "execution_count": null,
   "id": "d8ba1ec9-8f2c-402e-a18b-dd120e3d94ee",
   "metadata": {},
   "outputs": [],
   "source": []
  },
  {
   "cell_type": "code",
   "execution_count": null,
   "id": "8015e6a5-a001-46d7-b06f-46c68637d174",
   "metadata": {},
   "outputs": [],
   "source": []
  },
  {
   "cell_type": "code",
   "execution_count": null,
   "id": "9a22e9ee-6c46-4dfa-a234-59d1b57cf79f",
   "metadata": {},
   "outputs": [],
   "source": []
  },
  {
   "cell_type": "code",
   "execution_count": null,
   "id": "c8f8256e-c611-453d-9643-b5a26ceaac31",
   "metadata": {},
   "outputs": [],
   "source": []
  },
  {
   "cell_type": "code",
   "execution_count": null,
   "id": "51445c66-48a0-4a01-8c38-e3697ebae909",
   "metadata": {},
   "outputs": [],
   "source": []
  },
  {
   "cell_type": "code",
   "execution_count": null,
   "id": "2b68ee78-b741-4f6d-b1c0-3e62e2eb479d",
   "metadata": {},
   "outputs": [],
   "source": []
  },
  {
   "cell_type": "code",
   "execution_count": null,
   "id": "28391f1a-41bf-4bf4-b638-c1fa08c66e8e",
   "metadata": {},
   "outputs": [],
   "source": []
  },
  {
   "cell_type": "code",
   "execution_count": null,
   "id": "d23ad903-78ee-45df-b49f-476d17bf6097",
   "metadata": {},
   "outputs": [],
   "source": []
  },
  {
   "cell_type": "code",
   "execution_count": null,
   "id": "9b29da46-3817-4280-9c10-7a837d121404",
   "metadata": {},
   "outputs": [],
   "source": []
  },
  {
   "cell_type": "code",
   "execution_count": null,
   "id": "501472e4-6826-4ca6-94b8-41f2834b65e1",
   "metadata": {},
   "outputs": [],
   "source": []
  },
  {
   "cell_type": "code",
   "execution_count": null,
   "id": "85633357-3f9a-453d-a04e-692874201b12",
   "metadata": {},
   "outputs": [],
   "source": []
  },
  {
   "cell_type": "code",
   "execution_count": null,
   "id": "6105d888-4b30-4385-9b4e-0d8576f8ca39",
   "metadata": {},
   "outputs": [],
   "source": []
  },
  {
   "cell_type": "code",
   "execution_count": null,
   "id": "20394c71-83ed-4ac2-8caa-7640cb81f49c",
   "metadata": {},
   "outputs": [],
   "source": []
  },
  {
   "cell_type": "code",
   "execution_count": null,
   "id": "b7524a25-e91f-429a-a9b9-a18bb71b2df4",
   "metadata": {},
   "outputs": [],
   "source": []
  },
  {
   "cell_type": "code",
   "execution_count": null,
   "id": "5fa44227-87eb-4a93-937b-88d4529eb5ad",
   "metadata": {},
   "outputs": [],
   "source": []
  },
  {
   "cell_type": "code",
   "execution_count": null,
   "id": "343e89cf-41d6-4d46-a188-3ba16ec384c0",
   "metadata": {},
   "outputs": [],
   "source": []
  },
  {
   "cell_type": "code",
   "execution_count": null,
   "id": "58c35e1a-b0d6-4974-88ac-d4e17bfb80bb",
   "metadata": {},
   "outputs": [],
   "source": []
  },
  {
   "cell_type": "code",
   "execution_count": null,
   "id": "d00a13ef-e0f8-47d5-a7f5-59a224dcd437",
   "metadata": {},
   "outputs": [],
   "source": []
  },
  {
   "cell_type": "code",
   "execution_count": null,
   "id": "9fa4e1e6-d530-468a-a970-3b8b19cb54d1",
   "metadata": {},
   "outputs": [],
   "source": []
  },
  {
   "cell_type": "code",
   "execution_count": null,
   "id": "e0afaf9e-e8c6-495f-9b20-82f9aef7168b",
   "metadata": {},
   "outputs": [],
   "source": []
  },
  {
   "cell_type": "code",
   "execution_count": null,
   "id": "a607903d-1954-4f44-9117-554e4e385e91",
   "metadata": {},
   "outputs": [],
   "source": []
  },
  {
   "cell_type": "code",
   "execution_count": null,
   "id": "8f457ea9-c0ee-4b57-a937-d863b9cc5bf8",
   "metadata": {},
   "outputs": [],
   "source": []
  },
  {
   "cell_type": "code",
   "execution_count": null,
   "id": "061d2fb8-ccb1-474a-a65c-b0a22b869169",
   "metadata": {},
   "outputs": [],
   "source": []
  },
  {
   "cell_type": "code",
   "execution_count": null,
   "id": "992c1245-9d9b-494b-a491-3b719869a92b",
   "metadata": {},
   "outputs": [],
   "source": []
  },
  {
   "cell_type": "code",
   "execution_count": null,
   "id": "0b283cb5-1045-494b-b64b-e547164ed361",
   "metadata": {},
   "outputs": [],
   "source": []
  },
  {
   "cell_type": "code",
   "execution_count": null,
   "id": "41b29576-957b-4e01-8f6c-289c16d98a03",
   "metadata": {},
   "outputs": [],
   "source": []
  },
  {
   "cell_type": "code",
   "execution_count": null,
   "id": "023ce86b-85d3-4fac-97b3-1db5c99dded3",
   "metadata": {},
   "outputs": [],
   "source": []
  },
  {
   "cell_type": "code",
   "execution_count": null,
   "id": "203df6f3-8856-4966-9349-777e597f1f6f",
   "metadata": {},
   "outputs": [],
   "source": []
  },
  {
   "cell_type": "code",
   "execution_count": null,
   "id": "fe563b4e-5979-4587-ad72-94041b9ae7a4",
   "metadata": {},
   "outputs": [],
   "source": []
  },
  {
   "cell_type": "code",
   "execution_count": null,
   "id": "3607758d-fe14-4ebf-aa12-e93a601b2b22",
   "metadata": {},
   "outputs": [],
   "source": []
  },
  {
   "cell_type": "code",
   "execution_count": null,
   "id": "1a1be143-0411-499d-a851-f89ddeb2851a",
   "metadata": {},
   "outputs": [],
   "source": []
  },
  {
   "cell_type": "code",
   "execution_count": null,
   "id": "db5c42f6-cc4f-4975-bba3-375c63ce1dab",
   "metadata": {},
   "outputs": [],
   "source": []
  },
  {
   "cell_type": "code",
   "execution_count": null,
   "id": "39ddc041-9220-4b96-9c2a-ed01ca566856",
   "metadata": {},
   "outputs": [],
   "source": []
  },
  {
   "cell_type": "code",
   "execution_count": null,
   "id": "cb53321a-b42b-4bd5-831d-ce95bc0fa3ff",
   "metadata": {},
   "outputs": [],
   "source": []
  },
  {
   "cell_type": "code",
   "execution_count": null,
   "id": "86271467-e3ef-4e90-8bb9-14c345dffe43",
   "metadata": {},
   "outputs": [],
   "source": []
  },
  {
   "cell_type": "code",
   "execution_count": null,
   "id": "6c10eaf1-384c-404a-b917-e21467f54a0b",
   "metadata": {},
   "outputs": [],
   "source": []
  },
  {
   "cell_type": "code",
   "execution_count": null,
   "id": "5afdf85e-19ed-460d-9917-6b507b5c45e1",
   "metadata": {},
   "outputs": [],
   "source": []
  },
  {
   "cell_type": "code",
   "execution_count": null,
   "id": "7293f9da-dd17-4567-b277-b7880d78d7a1",
   "metadata": {},
   "outputs": [],
   "source": []
  },
  {
   "cell_type": "code",
   "execution_count": null,
   "id": "2a50aea1-b715-42be-9e65-d817b812fe28",
   "metadata": {},
   "outputs": [],
   "source": []
  },
  {
   "cell_type": "code",
   "execution_count": null,
   "id": "3f85f9ac-50ff-4c79-9327-4e418a7f2023",
   "metadata": {},
   "outputs": [],
   "source": []
  },
  {
   "cell_type": "code",
   "execution_count": null,
   "id": "782a897e-4a69-40ae-b986-a7050d8e3891",
   "metadata": {},
   "outputs": [],
   "source": []
  },
  {
   "cell_type": "code",
   "execution_count": null,
   "id": "ef4f76e8-209b-4399-b923-f4b4e5e5d5bb",
   "metadata": {},
   "outputs": [],
   "source": []
  },
  {
   "cell_type": "code",
   "execution_count": null,
   "id": "968e599b-e29a-4543-8e0e-a7ffa5eb647b",
   "metadata": {},
   "outputs": [],
   "source": []
  },
  {
   "cell_type": "code",
   "execution_count": null,
   "id": "bd537a98-339f-4fb2-a250-b4938dd94855",
   "metadata": {},
   "outputs": [],
   "source": []
  },
  {
   "cell_type": "code",
   "execution_count": null,
   "id": "79c7bef3-6fad-4480-85ee-0c08a2dafaf0",
   "metadata": {},
   "outputs": [],
   "source": []
  },
  {
   "cell_type": "code",
   "execution_count": null,
   "id": "0d2f606b-442d-46b9-a654-8b6b70e9e91b",
   "metadata": {},
   "outputs": [],
   "source": []
  },
  {
   "cell_type": "code",
   "execution_count": null,
   "id": "ced1d0b6-9797-4da0-8c6c-3bd0712d5941",
   "metadata": {},
   "outputs": [],
   "source": []
  },
  {
   "cell_type": "code",
   "execution_count": null,
   "id": "34989cdb-e105-4450-9ccc-39c49ca3fe56",
   "metadata": {},
   "outputs": [],
   "source": []
  },
  {
   "cell_type": "code",
   "execution_count": null,
   "id": "6b5ead4f-fdf5-43d0-8258-3cbba384e695",
   "metadata": {},
   "outputs": [],
   "source": []
  },
  {
   "cell_type": "code",
   "execution_count": null,
   "id": "b805ac94-194d-454b-9298-3ad1d8ca8e84",
   "metadata": {},
   "outputs": [],
   "source": []
  },
  {
   "cell_type": "code",
   "execution_count": null,
   "id": "9f6db384-922b-4130-93bf-23e44a7106ef",
   "metadata": {},
   "outputs": [],
   "source": []
  },
  {
   "cell_type": "code",
   "execution_count": null,
   "id": "3a92f528-e58f-4b1f-b13a-00bea220d6a4",
   "metadata": {},
   "outputs": [],
   "source": []
  },
  {
   "cell_type": "code",
   "execution_count": null,
   "id": "a443d149-fbfc-4f17-89cd-bccf2866234e",
   "metadata": {},
   "outputs": [],
   "source": []
  },
  {
   "cell_type": "code",
   "execution_count": null,
   "id": "c816a392-801a-4786-b4e4-1f43a8f4b5a1",
   "metadata": {},
   "outputs": [],
   "source": []
  },
  {
   "cell_type": "code",
   "execution_count": null,
   "id": "8b45139e-943c-4236-b77f-01bde2cd66a3",
   "metadata": {},
   "outputs": [],
   "source": []
  },
  {
   "cell_type": "code",
   "execution_count": null,
   "id": "6cf06464-d8b3-4e93-b0a2-d2460f19881c",
   "metadata": {},
   "outputs": [],
   "source": []
  },
  {
   "cell_type": "code",
   "execution_count": null,
   "id": "9e2e45d3-d202-490a-8683-ee7cbf2a3fc2",
   "metadata": {},
   "outputs": [],
   "source": []
  },
  {
   "cell_type": "code",
   "execution_count": null,
   "id": "33dcbda0-a4a5-4a35-a9f5-25fa19c4cc70",
   "metadata": {},
   "outputs": [],
   "source": []
  },
  {
   "cell_type": "code",
   "execution_count": null,
   "id": "933ce73c-f21a-469c-8fd3-b53884abd432",
   "metadata": {},
   "outputs": [],
   "source": []
  },
  {
   "cell_type": "code",
   "execution_count": null,
   "id": "49d7e2ef-942b-48e4-a9aa-db01a4fa373a",
   "metadata": {},
   "outputs": [],
   "source": []
  },
  {
   "cell_type": "code",
   "execution_count": null,
   "id": "2085d756-fc13-4f28-aaff-f8d2d142bfa0",
   "metadata": {},
   "outputs": [],
   "source": []
  },
  {
   "cell_type": "code",
   "execution_count": null,
   "id": "f01a1ae6-399e-4bdb-b831-e0e0234f859b",
   "metadata": {},
   "outputs": [],
   "source": []
  },
  {
   "cell_type": "code",
   "execution_count": null,
   "id": "b9142341-a538-4a68-b26e-381356880242",
   "metadata": {},
   "outputs": [],
   "source": []
  },
  {
   "cell_type": "code",
   "execution_count": null,
   "id": "d12eb137-0f45-4d7d-9d81-5be30dfb4fd8",
   "metadata": {},
   "outputs": [],
   "source": []
  },
  {
   "cell_type": "code",
   "execution_count": null,
   "id": "338d7086-8a90-4249-a32b-0e0ef8ef9a55",
   "metadata": {},
   "outputs": [],
   "source": []
  },
  {
   "cell_type": "code",
   "execution_count": null,
   "id": "5dab386e-4501-45dd-8603-e9e8ad73aa0f",
   "metadata": {},
   "outputs": [],
   "source": []
  },
  {
   "cell_type": "code",
   "execution_count": null,
   "id": "39ea0435-1441-4335-b58b-22d6b580a79c",
   "metadata": {},
   "outputs": [],
   "source": []
  },
  {
   "cell_type": "code",
   "execution_count": null,
   "id": "c40efb53-5b6a-40fe-89f4-85b1929844c9",
   "metadata": {},
   "outputs": [],
   "source": []
  },
  {
   "cell_type": "code",
   "execution_count": null,
   "id": "4503dc06-b915-4a11-a3ce-fc8818360905",
   "metadata": {},
   "outputs": [],
   "source": []
  },
  {
   "cell_type": "code",
   "execution_count": null,
   "id": "e9eccf72-48d5-4f02-befc-66bde9fa7a15",
   "metadata": {},
   "outputs": [],
   "source": []
  },
  {
   "cell_type": "code",
   "execution_count": null,
   "id": "b443e757-72c1-4f96-93eb-571f08f52a3e",
   "metadata": {},
   "outputs": [],
   "source": []
  },
  {
   "cell_type": "code",
   "execution_count": null,
   "id": "3d7c72ac-134d-474c-bfec-48b9d80426da",
   "metadata": {},
   "outputs": [],
   "source": []
  },
  {
   "cell_type": "code",
   "execution_count": null,
   "id": "5478adb3-aafd-4f13-a36b-701048c8dd71",
   "metadata": {},
   "outputs": [],
   "source": []
  },
  {
   "cell_type": "code",
   "execution_count": null,
   "id": "c6efd713-d435-4c35-a97f-12ca36fc3c6f",
   "metadata": {},
   "outputs": [],
   "source": []
  },
  {
   "cell_type": "code",
   "execution_count": null,
   "id": "0b4745b6-48f0-405c-94ed-c8e2a24e2b05",
   "metadata": {},
   "outputs": [],
   "source": []
  },
  {
   "cell_type": "code",
   "execution_count": null,
   "id": "776fef38-42d4-4de5-a142-890b86019e91",
   "metadata": {},
   "outputs": [],
   "source": []
  },
  {
   "cell_type": "code",
   "execution_count": null,
   "id": "5a491e16-d50c-4b53-ab71-7b7ab2f46838",
   "metadata": {},
   "outputs": [],
   "source": []
  },
  {
   "cell_type": "code",
   "execution_count": null,
   "id": "59ed2ab1-01c7-40c8-aa87-142e698ca33b",
   "metadata": {},
   "outputs": [],
   "source": []
  },
  {
   "cell_type": "code",
   "execution_count": null,
   "id": "eea04cc8-80e9-40ee-a51e-7a30f39adab0",
   "metadata": {},
   "outputs": [],
   "source": []
  },
  {
   "cell_type": "code",
   "execution_count": null,
   "id": "f3039b06-602f-4b66-abbb-d9190cec99a5",
   "metadata": {},
   "outputs": [],
   "source": []
  },
  {
   "cell_type": "code",
   "execution_count": null,
   "id": "c11784ca-3eff-4530-bf0a-f7b16dbf503c",
   "metadata": {},
   "outputs": [],
   "source": []
  },
  {
   "cell_type": "code",
   "execution_count": null,
   "id": "551b6908-f824-430a-a9bc-dfd1e473e2a1",
   "metadata": {},
   "outputs": [],
   "source": []
  },
  {
   "cell_type": "code",
   "execution_count": null,
   "id": "50a90126-5563-411e-8188-73ae3d26eae6",
   "metadata": {},
   "outputs": [],
   "source": []
  },
  {
   "cell_type": "code",
   "execution_count": null,
   "id": "84d10ff1-beaa-49ff-b134-af971cb1f335",
   "metadata": {},
   "outputs": [],
   "source": []
  },
  {
   "cell_type": "code",
   "execution_count": null,
   "id": "1b76afea-b702-4869-af56-127c23e037a6",
   "metadata": {},
   "outputs": [],
   "source": []
  },
  {
   "cell_type": "code",
   "execution_count": null,
   "id": "1b46c0ff-3350-4afe-907d-643e2c591ca5",
   "metadata": {},
   "outputs": [],
   "source": []
  },
  {
   "cell_type": "code",
   "execution_count": null,
   "id": "58b6b5b1-6769-4c90-bfb1-a18dec855d8b",
   "metadata": {},
   "outputs": [],
   "source": []
  },
  {
   "cell_type": "code",
   "execution_count": null,
   "id": "4260e905-8bf1-46b8-987f-c0b20f924004",
   "metadata": {},
   "outputs": [],
   "source": []
  },
  {
   "cell_type": "code",
   "execution_count": null,
   "id": "f736ca95-cbfd-43f2-b5e0-16ef30fbb628",
   "metadata": {},
   "outputs": [],
   "source": []
  },
  {
   "cell_type": "code",
   "execution_count": null,
   "id": "a41a2f22-6ce7-4406-8bb5-6585690a6de4",
   "metadata": {},
   "outputs": [],
   "source": []
  },
  {
   "cell_type": "code",
   "execution_count": null,
   "id": "ee990272-2747-459e-a38e-6290327c27a3",
   "metadata": {},
   "outputs": [],
   "source": []
  },
  {
   "cell_type": "code",
   "execution_count": null,
   "id": "0bc8f0e2-0c38-4f61-90ad-12b257ab5e18",
   "metadata": {},
   "outputs": [],
   "source": []
  },
  {
   "cell_type": "code",
   "execution_count": null,
   "id": "1aceb2f6-0f88-4b23-9df6-ecbcb5ebeff3",
   "metadata": {},
   "outputs": [],
   "source": []
  },
  {
   "cell_type": "code",
   "execution_count": null,
   "id": "e30db916-3092-40a9-a4d6-ab837147a40e",
   "metadata": {},
   "outputs": [],
   "source": []
  },
  {
   "cell_type": "code",
   "execution_count": null,
   "id": "9275eb3d-eae4-486f-b0b0-c3acc1da65a2",
   "metadata": {},
   "outputs": [],
   "source": []
  },
  {
   "cell_type": "code",
   "execution_count": null,
   "id": "fe810a7b-0045-41d0-a73d-e4c15be286a1",
   "metadata": {},
   "outputs": [],
   "source": []
  },
  {
   "cell_type": "code",
   "execution_count": null,
   "id": "81351d51-076a-4a6b-b116-b4eae57c8e79",
   "metadata": {},
   "outputs": [],
   "source": []
  },
  {
   "cell_type": "code",
   "execution_count": null,
   "id": "7c0776e6-070a-44a0-82f6-9e6ccbac62ca",
   "metadata": {},
   "outputs": [],
   "source": []
  },
  {
   "cell_type": "code",
   "execution_count": null,
   "id": "99aa638d-ae04-4b60-8a1f-08acb9ef64ff",
   "metadata": {},
   "outputs": [],
   "source": []
  },
  {
   "cell_type": "code",
   "execution_count": null,
   "id": "e2f3fd51-bde5-47c5-b31b-2c3a26d3d23f",
   "metadata": {},
   "outputs": [],
   "source": []
  },
  {
   "cell_type": "code",
   "execution_count": null,
   "id": "4fd964d4-e2d5-46d0-9f40-309d33986b7a",
   "metadata": {},
   "outputs": [],
   "source": []
  },
  {
   "cell_type": "code",
   "execution_count": null,
   "id": "86ab8d2e-6425-4f2f-9fbe-a164b2eb798e",
   "metadata": {},
   "outputs": [],
   "source": []
  },
  {
   "cell_type": "code",
   "execution_count": null,
   "id": "fa7e9371-ba5a-4ac5-83fb-ad12110dee0b",
   "metadata": {},
   "outputs": [],
   "source": []
  },
  {
   "cell_type": "code",
   "execution_count": null,
   "id": "7c08635d-0b7f-4ef2-a830-a76d2c72107e",
   "metadata": {},
   "outputs": [],
   "source": []
  },
  {
   "cell_type": "code",
   "execution_count": null,
   "id": "53e4b519-ff72-4075-953f-a2c0347ab3cb",
   "metadata": {},
   "outputs": [],
   "source": []
  },
  {
   "cell_type": "code",
   "execution_count": null,
   "id": "d661c410-16ce-4143-b2e8-291445ea823c",
   "metadata": {},
   "outputs": [],
   "source": []
  },
  {
   "cell_type": "code",
   "execution_count": null,
   "id": "15b67c5b-52a9-4e96-a85a-c3b2dc5ee35e",
   "metadata": {},
   "outputs": [],
   "source": []
  },
  {
   "cell_type": "code",
   "execution_count": null,
   "id": "bb684b77-51e9-49db-a7db-15fe316bcc55",
   "metadata": {},
   "outputs": [],
   "source": []
  },
  {
   "cell_type": "code",
   "execution_count": null,
   "id": "64f70475-b832-443a-8d55-89a46b5a6745",
   "metadata": {},
   "outputs": [],
   "source": []
  },
  {
   "cell_type": "code",
   "execution_count": null,
   "id": "aa89a5d6-824a-4d2e-ae0f-7856e6e4e122",
   "metadata": {},
   "outputs": [],
   "source": []
  },
  {
   "cell_type": "code",
   "execution_count": null,
   "id": "8cfd096b-362b-447f-af9d-ef572a4f6531",
   "metadata": {},
   "outputs": [],
   "source": []
  },
  {
   "cell_type": "code",
   "execution_count": null,
   "id": "cd693346-66a5-4bfe-b70f-6752e12dac6f",
   "metadata": {},
   "outputs": [],
   "source": []
  },
  {
   "cell_type": "code",
   "execution_count": null,
   "id": "6e94a726-7ac8-4c42-ade5-1b8063b565fd",
   "metadata": {},
   "outputs": [],
   "source": []
  },
  {
   "cell_type": "code",
   "execution_count": null,
   "id": "25079cff-0e28-4529-ad30-efb52e49b203",
   "metadata": {},
   "outputs": [],
   "source": []
  },
  {
   "cell_type": "code",
   "execution_count": null,
   "id": "44acaee4-02d9-4dcc-8146-c7d6066c916f",
   "metadata": {},
   "outputs": [],
   "source": []
  },
  {
   "cell_type": "code",
   "execution_count": null,
   "id": "99ffe681-ce57-4e1c-8ea3-0d6e4bb57e7f",
   "metadata": {},
   "outputs": [],
   "source": []
  },
  {
   "cell_type": "code",
   "execution_count": null,
   "id": "63f28624-c126-4d41-abc7-4469813c70a8",
   "metadata": {},
   "outputs": [],
   "source": []
  },
  {
   "cell_type": "code",
   "execution_count": null,
   "id": "a47cfa02-39e4-4aea-956e-8829fae9acf2",
   "metadata": {},
   "outputs": [],
   "source": []
  },
  {
   "cell_type": "code",
   "execution_count": null,
   "id": "c32da390-196d-49c6-9ffc-0d244dac7893",
   "metadata": {},
   "outputs": [],
   "source": []
  },
  {
   "cell_type": "code",
   "execution_count": null,
   "id": "32440df0-f9d4-407f-8de6-390218938212",
   "metadata": {},
   "outputs": [],
   "source": []
  },
  {
   "cell_type": "code",
   "execution_count": null,
   "id": "1675eb31-803c-4bae-be3c-4aa721aef3f8",
   "metadata": {},
   "outputs": [],
   "source": []
  },
  {
   "cell_type": "code",
   "execution_count": null,
   "id": "65861730-7c7d-4c97-afe5-7dc0f84e2caa",
   "metadata": {},
   "outputs": [],
   "source": []
  },
  {
   "cell_type": "code",
   "execution_count": null,
   "id": "ea5e4677-78f8-4e5a-abde-d2ccfc3dbd8b",
   "metadata": {},
   "outputs": [],
   "source": []
  },
  {
   "cell_type": "code",
   "execution_count": null,
   "id": "5bdd6a19-ccde-41ea-bbd5-5db3c847e281",
   "metadata": {},
   "outputs": [],
   "source": []
  },
  {
   "cell_type": "code",
   "execution_count": null,
   "id": "e7394505-5948-4c3b-9499-71cfd967564b",
   "metadata": {},
   "outputs": [],
   "source": []
  },
  {
   "cell_type": "code",
   "execution_count": null,
   "id": "f874ea2b-8a57-43ed-89a4-d846fffb670b",
   "metadata": {},
   "outputs": [],
   "source": []
  },
  {
   "cell_type": "code",
   "execution_count": null,
   "id": "a4df2832-465f-42c5-880c-18770b17fa65",
   "metadata": {},
   "outputs": [],
   "source": []
  },
  {
   "cell_type": "code",
   "execution_count": null,
   "id": "c5117226-bd48-4675-baf8-ad74f8c6d49d",
   "metadata": {},
   "outputs": [],
   "source": []
  },
  {
   "cell_type": "code",
   "execution_count": null,
   "id": "63f091da-9ca0-4fc3-873d-6a35d1ba0cb8",
   "metadata": {},
   "outputs": [],
   "source": []
  },
  {
   "cell_type": "code",
   "execution_count": null,
   "id": "013f2c97-e8f7-41e2-b0e1-92ec3a7d6c80",
   "metadata": {},
   "outputs": [],
   "source": []
  },
  {
   "cell_type": "code",
   "execution_count": null,
   "id": "52e43a84-ce40-4a9d-b32e-3562e7a62a34",
   "metadata": {},
   "outputs": [],
   "source": []
  },
  {
   "cell_type": "code",
   "execution_count": null,
   "id": "349e1851-1d69-48f5-aeb8-f694881682b4",
   "metadata": {},
   "outputs": [],
   "source": []
  },
  {
   "cell_type": "code",
   "execution_count": null,
   "id": "8467bb18-351f-46cc-9240-9253f0ca2843",
   "metadata": {},
   "outputs": [],
   "source": []
  },
  {
   "cell_type": "code",
   "execution_count": null,
   "id": "0677e7d1-c1c0-4bcf-b4c1-a4f8e37a40db",
   "metadata": {},
   "outputs": [],
   "source": []
  },
  {
   "cell_type": "code",
   "execution_count": null,
   "id": "d49bec27-ae7e-4689-937e-bdf2d8bb1922",
   "metadata": {},
   "outputs": [],
   "source": []
  },
  {
   "cell_type": "code",
   "execution_count": null,
   "id": "18737610-9977-4bb2-8894-5d3ebaa1e33d",
   "metadata": {},
   "outputs": [],
   "source": []
  },
  {
   "cell_type": "code",
   "execution_count": null,
   "id": "2839dfcd-7aad-4329-85b5-31617869278b",
   "metadata": {},
   "outputs": [],
   "source": []
  },
  {
   "cell_type": "code",
   "execution_count": null,
   "id": "54c4d6a7-275e-4808-8c47-9fb76aa79a6f",
   "metadata": {},
   "outputs": [],
   "source": []
  },
  {
   "cell_type": "code",
   "execution_count": null,
   "id": "7c06231c-966c-4e66-9306-51fa25b86245",
   "metadata": {},
   "outputs": [],
   "source": []
  },
  {
   "cell_type": "code",
   "execution_count": null,
   "id": "5a4cd54a-eeed-4cff-ac16-510e7a9ca0d3",
   "metadata": {},
   "outputs": [],
   "source": []
  },
  {
   "cell_type": "code",
   "execution_count": null,
   "id": "c6221aec-6fa7-4403-be60-746763398673",
   "metadata": {},
   "outputs": [],
   "source": []
  },
  {
   "cell_type": "code",
   "execution_count": null,
   "id": "8b87c5dd-212c-41e9-b8ba-0691800ea043",
   "metadata": {},
   "outputs": [],
   "source": []
  },
  {
   "cell_type": "code",
   "execution_count": null,
   "id": "700682d9-18ec-476d-a35c-b31ed264d6a1",
   "metadata": {},
   "outputs": [],
   "source": []
  },
  {
   "cell_type": "code",
   "execution_count": null,
   "id": "df36741e-e587-43b7-abc9-c8f5f51a9c47",
   "metadata": {},
   "outputs": [],
   "source": []
  },
  {
   "cell_type": "code",
   "execution_count": null,
   "id": "ef7f5034-7bb6-455a-8f00-7d5956945aee",
   "metadata": {},
   "outputs": [],
   "source": []
  },
  {
   "cell_type": "code",
   "execution_count": null,
   "id": "8b97004e-4f97-4633-8f18-4cd9bc896b7c",
   "metadata": {},
   "outputs": [],
   "source": []
  },
  {
   "cell_type": "code",
   "execution_count": null,
   "id": "8c9a3618-c38b-44b8-9185-e2b578eddafa",
   "metadata": {},
   "outputs": [],
   "source": []
  },
  {
   "cell_type": "code",
   "execution_count": null,
   "id": "38b89962-f833-462e-85af-77fa3ef22e42",
   "metadata": {},
   "outputs": [],
   "source": []
  },
  {
   "cell_type": "code",
   "execution_count": null,
   "id": "d464262a-30ee-45b5-aca7-e87d1ed6e27c",
   "metadata": {},
   "outputs": [],
   "source": []
  },
  {
   "cell_type": "code",
   "execution_count": null,
   "id": "95b5485e-21d9-4d58-916f-02a7ce486c23",
   "metadata": {},
   "outputs": [],
   "source": []
  },
  {
   "cell_type": "code",
   "execution_count": null,
   "id": "7f647827-4b9d-4347-b72d-3f1b6de60c94",
   "metadata": {},
   "outputs": [],
   "source": []
  },
  {
   "cell_type": "code",
   "execution_count": null,
   "id": "720ffe0e-a0bc-4ffe-a5ba-05f2ff834537",
   "metadata": {},
   "outputs": [],
   "source": []
  },
  {
   "cell_type": "code",
   "execution_count": null,
   "id": "79a7a2d0-c902-4810-ac8e-767ba4ab67bd",
   "metadata": {},
   "outputs": [],
   "source": []
  },
  {
   "cell_type": "code",
   "execution_count": null,
   "id": "fcc71d6f-ab7d-4438-a661-4086ce2a0545",
   "metadata": {},
   "outputs": [],
   "source": []
  },
  {
   "cell_type": "code",
   "execution_count": null,
   "id": "957b9fc5-5094-4f4d-9ae5-b4e75b5d3b9b",
   "metadata": {},
   "outputs": [],
   "source": []
  },
  {
   "cell_type": "code",
   "execution_count": null,
   "id": "9a2a31cd-7328-48c5-95fb-abf72ba88c66",
   "metadata": {},
   "outputs": [],
   "source": []
  },
  {
   "cell_type": "code",
   "execution_count": null,
   "id": "23038a4c-1634-49a7-91ae-318617f48bae",
   "metadata": {},
   "outputs": [],
   "source": []
  },
  {
   "cell_type": "code",
   "execution_count": null,
   "id": "3d8c6c02-5478-48a9-8178-939cc2b2071e",
   "metadata": {},
   "outputs": [],
   "source": []
  },
  {
   "cell_type": "code",
   "execution_count": null,
   "id": "195035e5-1db6-4065-bebc-2f7248f7bc17",
   "metadata": {},
   "outputs": [],
   "source": []
  },
  {
   "cell_type": "code",
   "execution_count": null,
   "id": "31b990cf-6484-450c-ac9f-fac3f63a8633",
   "metadata": {},
   "outputs": [],
   "source": []
  },
  {
   "cell_type": "code",
   "execution_count": null,
   "id": "94b753b8-c64c-42b6-a6a7-dd29b100ab73",
   "metadata": {},
   "outputs": [],
   "source": []
  },
  {
   "cell_type": "code",
   "execution_count": null,
   "id": "77ea88a7-7560-4232-83d6-3d3a26b05784",
   "metadata": {},
   "outputs": [],
   "source": []
  },
  {
   "cell_type": "code",
   "execution_count": null,
   "id": "40a683b5-3524-4f9f-a992-5fbee24dcd24",
   "metadata": {},
   "outputs": [],
   "source": []
  },
  {
   "cell_type": "code",
   "execution_count": null,
   "id": "6ce8be3c-b3bf-4993-9889-0949dc1d2673",
   "metadata": {},
   "outputs": [],
   "source": []
  },
  {
   "cell_type": "code",
   "execution_count": null,
   "id": "a422d86c-688f-47f9-8a15-d0d5263865c0",
   "metadata": {},
   "outputs": [],
   "source": []
  },
  {
   "cell_type": "code",
   "execution_count": null,
   "id": "55c04fb6-4f8c-4ef7-a3e4-10816e927864",
   "metadata": {},
   "outputs": [],
   "source": []
  },
  {
   "cell_type": "code",
   "execution_count": null,
   "id": "9d39360c-4bda-4776-9a23-d3912150b48a",
   "metadata": {},
   "outputs": [],
   "source": []
  },
  {
   "cell_type": "code",
   "execution_count": null,
   "id": "44c4b739-9786-4952-b8f8-3c37e708eff5",
   "metadata": {},
   "outputs": [],
   "source": []
  },
  {
   "cell_type": "code",
   "execution_count": null,
   "id": "7e07eeba-de00-4a33-a82a-068227e2a119",
   "metadata": {},
   "outputs": [],
   "source": []
  },
  {
   "cell_type": "code",
   "execution_count": null,
   "id": "a595c44d-4430-4049-9c93-7f752d009db8",
   "metadata": {},
   "outputs": [],
   "source": []
  },
  {
   "cell_type": "code",
   "execution_count": null,
   "id": "4bc96974-0c67-40c9-9313-08dbe0bf8f23",
   "metadata": {},
   "outputs": [],
   "source": []
  },
  {
   "cell_type": "code",
   "execution_count": null,
   "id": "41541ce0-b82d-4187-8ddd-fe02d4710ec4",
   "metadata": {},
   "outputs": [],
   "source": []
  },
  {
   "cell_type": "code",
   "execution_count": null,
   "id": "2fd301cf-706d-41d1-b4a2-0f16371cdf1f",
   "metadata": {},
   "outputs": [],
   "source": []
  },
  {
   "cell_type": "code",
   "execution_count": null,
   "id": "3c462a4e-ece6-42d0-9396-d7e372681785",
   "metadata": {},
   "outputs": [],
   "source": []
  },
  {
   "cell_type": "code",
   "execution_count": null,
   "id": "013a5bb5-b6e4-4f1e-82e8-d79336ba55bd",
   "metadata": {},
   "outputs": [],
   "source": []
  },
  {
   "cell_type": "code",
   "execution_count": null,
   "id": "bdf3c002-b461-4b0f-851e-541f9b19005e",
   "metadata": {},
   "outputs": [],
   "source": []
  },
  {
   "cell_type": "code",
   "execution_count": null,
   "id": "78fe7802-eabd-4f5d-8728-2b3d74736824",
   "metadata": {},
   "outputs": [],
   "source": []
  },
  {
   "cell_type": "code",
   "execution_count": null,
   "id": "6d53ea24-2aa7-4d28-9445-c53b2c2ac3d3",
   "metadata": {},
   "outputs": [],
   "source": []
  },
  {
   "cell_type": "code",
   "execution_count": null,
   "id": "586d0844-da2e-4b44-87ad-ad7b4d8d47eb",
   "metadata": {},
   "outputs": [],
   "source": []
  },
  {
   "cell_type": "code",
   "execution_count": null,
   "id": "16bcbc22-3e87-42c3-bd39-ec9bdc2f5cef",
   "metadata": {},
   "outputs": [],
   "source": []
  },
  {
   "cell_type": "code",
   "execution_count": null,
   "id": "0be98c48-54fa-4165-9905-4609d29181a7",
   "metadata": {},
   "outputs": [],
   "source": []
  },
  {
   "cell_type": "code",
   "execution_count": null,
   "id": "e84f995b-350c-4597-a4c4-b41ce41eb184",
   "metadata": {},
   "outputs": [],
   "source": []
  },
  {
   "cell_type": "code",
   "execution_count": null,
   "id": "fc309940-f8d4-45b5-afdb-2187424dc682",
   "metadata": {},
   "outputs": [],
   "source": []
  },
  {
   "cell_type": "code",
   "execution_count": null,
   "id": "ac9c3ed3-c3f9-4ff9-bce7-71ba2f347fdd",
   "metadata": {},
   "outputs": [],
   "source": []
  },
  {
   "cell_type": "code",
   "execution_count": null,
   "id": "e9a45fcf-5b05-43fd-a0c5-f84f164140b2",
   "metadata": {},
   "outputs": [],
   "source": []
  },
  {
   "cell_type": "code",
   "execution_count": null,
   "id": "93d545f4-c84a-4c8e-baf1-6deae87be4c0",
   "metadata": {},
   "outputs": [],
   "source": []
  },
  {
   "cell_type": "code",
   "execution_count": null,
   "id": "61ec3488-edcc-4b4f-bdf2-c897524ec674",
   "metadata": {},
   "outputs": [],
   "source": []
  },
  {
   "cell_type": "code",
   "execution_count": null,
   "id": "4a658628-b1c1-4c37-a68e-2fddf41f4b30",
   "metadata": {},
   "outputs": [],
   "source": []
  },
  {
   "cell_type": "code",
   "execution_count": null,
   "id": "16d67d91-deaa-4f4c-9ffa-7fc3ad3f6c08",
   "metadata": {},
   "outputs": [],
   "source": []
  },
  {
   "cell_type": "code",
   "execution_count": null,
   "id": "81419163-f990-4729-8259-d4087fd5df47",
   "metadata": {},
   "outputs": [],
   "source": []
  },
  {
   "cell_type": "code",
   "execution_count": null,
   "id": "c3ae12b2-1144-4662-a184-26a124e323fd",
   "metadata": {},
   "outputs": [],
   "source": []
  },
  {
   "cell_type": "code",
   "execution_count": null,
   "id": "4ce2bd39-5834-420f-9a15-f09473c605ca",
   "metadata": {},
   "outputs": [],
   "source": []
  },
  {
   "cell_type": "code",
   "execution_count": null,
   "id": "0ed9c0c6-0f05-4227-bdf4-69d2c98b732b",
   "metadata": {},
   "outputs": [],
   "source": []
  },
  {
   "cell_type": "code",
   "execution_count": null,
   "id": "c434323b-9ecd-44ba-8586-7a7d59843ee0",
   "metadata": {},
   "outputs": [],
   "source": []
  },
  {
   "cell_type": "code",
   "execution_count": null,
   "id": "2608caa2-fd91-4360-993c-ecc133469947",
   "metadata": {},
   "outputs": [],
   "source": []
  },
  {
   "cell_type": "code",
   "execution_count": null,
   "id": "bb005810-bb3f-4aea-8bf7-b31e402b625e",
   "metadata": {},
   "outputs": [],
   "source": []
  },
  {
   "cell_type": "code",
   "execution_count": null,
   "id": "69a683f5-8609-4ac8-95f5-40acaf93fa46",
   "metadata": {},
   "outputs": [],
   "source": []
  },
  {
   "cell_type": "code",
   "execution_count": null,
   "id": "6f36336a-260d-439f-9dff-7f71188c674e",
   "metadata": {},
   "outputs": [],
   "source": []
  },
  {
   "cell_type": "code",
   "execution_count": null,
   "id": "3658f637-0aa2-496c-b70a-4c8b17063e40",
   "metadata": {},
   "outputs": [],
   "source": []
  },
  {
   "cell_type": "code",
   "execution_count": null,
   "id": "9addf6e0-f4bf-40f1-8eac-8eb2bea890d7",
   "metadata": {},
   "outputs": [],
   "source": []
  },
  {
   "cell_type": "code",
   "execution_count": null,
   "id": "3bd5543c-42cc-4c55-811b-f7c6263f56a9",
   "metadata": {},
   "outputs": [],
   "source": []
  },
  {
   "cell_type": "code",
   "execution_count": null,
   "id": "8022f9b1-21ca-4d57-a010-c12428102afb",
   "metadata": {},
   "outputs": [],
   "source": []
  },
  {
   "cell_type": "code",
   "execution_count": null,
   "id": "2deb03cb-135e-4657-8102-d6ec805ddd4c",
   "metadata": {},
   "outputs": [],
   "source": []
  },
  {
   "cell_type": "code",
   "execution_count": null,
   "id": "a9eddb1b-a577-4c91-8455-aca83ef14aa0",
   "metadata": {},
   "outputs": [],
   "source": []
  },
  {
   "cell_type": "code",
   "execution_count": null,
   "id": "c9887d0b-2850-4eb8-aa80-1aabd383b2a6",
   "metadata": {},
   "outputs": [],
   "source": []
  },
  {
   "cell_type": "code",
   "execution_count": null,
   "id": "0ce13248-2d6b-4428-b358-26acc5ad85dc",
   "metadata": {},
   "outputs": [],
   "source": []
  },
  {
   "cell_type": "code",
   "execution_count": null,
   "id": "693e3d6d-da0c-45b3-a780-5181266e8526",
   "metadata": {},
   "outputs": [],
   "source": []
  },
  {
   "cell_type": "code",
   "execution_count": null,
   "id": "0af4d9a3-32fe-41f2-99a9-d1bc290b49e8",
   "metadata": {},
   "outputs": [],
   "source": []
  },
  {
   "cell_type": "code",
   "execution_count": null,
   "id": "b010838d-9e1b-42ac-95e5-99291602e988",
   "metadata": {},
   "outputs": [],
   "source": []
  },
  {
   "cell_type": "code",
   "execution_count": null,
   "id": "bfcc2ca6-a0f2-422e-a0d0-56110705157a",
   "metadata": {},
   "outputs": [],
   "source": []
  },
  {
   "cell_type": "code",
   "execution_count": null,
   "id": "ae1c610c-f48f-4b64-849a-e86d5617a3f5",
   "metadata": {},
   "outputs": [],
   "source": []
  },
  {
   "cell_type": "code",
   "execution_count": null,
   "id": "8caaf2e1-f37f-403a-9a51-e27a43dca69c",
   "metadata": {},
   "outputs": [],
   "source": []
  },
  {
   "cell_type": "code",
   "execution_count": null,
   "id": "804173b1-b83f-45f1-a858-278f00458820",
   "metadata": {},
   "outputs": [],
   "source": []
  },
  {
   "cell_type": "code",
   "execution_count": null,
   "id": "a87d4965-b889-44de-a55a-eeabd6778c44",
   "metadata": {},
   "outputs": [],
   "source": []
  },
  {
   "cell_type": "code",
   "execution_count": null,
   "id": "e3ed4adf-d94c-4ea6-8f5e-97a563ad65d2",
   "metadata": {},
   "outputs": [],
   "source": []
  },
  {
   "cell_type": "code",
   "execution_count": null,
   "id": "cdf87080-d1d7-4fa2-b8a9-54055929e6e5",
   "metadata": {},
   "outputs": [],
   "source": []
  },
  {
   "cell_type": "code",
   "execution_count": null,
   "id": "306adc2f-f19a-4337-a855-b51e8d50dd28",
   "metadata": {},
   "outputs": [],
   "source": []
  },
  {
   "cell_type": "code",
   "execution_count": null,
   "id": "718eb34a-6a48-4578-a158-22fd1adb74af",
   "metadata": {},
   "outputs": [],
   "source": []
  },
  {
   "cell_type": "code",
   "execution_count": null,
   "id": "970bd2dd-d742-44a3-b81a-043eddc03f49",
   "metadata": {},
   "outputs": [],
   "source": []
  },
  {
   "cell_type": "code",
   "execution_count": null,
   "id": "1a36f232-50a5-437d-b1a5-bdcf7551269b",
   "metadata": {},
   "outputs": [],
   "source": []
  },
  {
   "cell_type": "code",
   "execution_count": null,
   "id": "3cff6ae5-f5bc-419e-9fe9-61ab607233c5",
   "metadata": {},
   "outputs": [],
   "source": []
  },
  {
   "cell_type": "code",
   "execution_count": null,
   "id": "cc6f4a6a-9342-4e24-a433-5cf36c4c238e",
   "metadata": {},
   "outputs": [],
   "source": []
  },
  {
   "cell_type": "code",
   "execution_count": null,
   "id": "0d18b170-7557-42a2-a564-7300fea090d6",
   "metadata": {},
   "outputs": [],
   "source": []
  },
  {
   "cell_type": "code",
   "execution_count": null,
   "id": "293c90ea-55f8-4524-b0f2-659342c871ef",
   "metadata": {},
   "outputs": [],
   "source": []
  },
  {
   "cell_type": "code",
   "execution_count": null,
   "id": "1e49a183-4951-428e-9e0a-1239f301cf1f",
   "metadata": {},
   "outputs": [],
   "source": []
  },
  {
   "cell_type": "code",
   "execution_count": null,
   "id": "3cffbdda-efad-452e-b4b0-6bbaadb76974",
   "metadata": {},
   "outputs": [],
   "source": []
  },
  {
   "cell_type": "code",
   "execution_count": null,
   "id": "03393452-fc49-4651-a316-733f3b417058",
   "metadata": {},
   "outputs": [],
   "source": []
  },
  {
   "cell_type": "code",
   "execution_count": null,
   "id": "459d231f-6772-4f47-ae64-a2df3fe8d57a",
   "metadata": {},
   "outputs": [],
   "source": []
  },
  {
   "cell_type": "code",
   "execution_count": null,
   "id": "e77cac30-c1fa-4a4f-bf61-fdee2790d967",
   "metadata": {},
   "outputs": [],
   "source": []
  },
  {
   "cell_type": "code",
   "execution_count": null,
   "id": "b6ed1e07-f63c-4819-9b0d-9fcde68fa4cd",
   "metadata": {},
   "outputs": [],
   "source": []
  },
  {
   "cell_type": "code",
   "execution_count": null,
   "id": "f2035673-eeea-450a-9ce8-4bb5983629da",
   "metadata": {},
   "outputs": [],
   "source": []
  },
  {
   "cell_type": "code",
   "execution_count": null,
   "id": "179f3832-68a3-4b52-8288-da0b8a74fa3d",
   "metadata": {},
   "outputs": [],
   "source": []
  },
  {
   "cell_type": "code",
   "execution_count": null,
   "id": "b31b634e-457b-4bc1-bd34-e9d8f11bfbba",
   "metadata": {},
   "outputs": [],
   "source": []
  },
  {
   "cell_type": "code",
   "execution_count": null,
   "id": "bd48a305-9fdc-4de2-8f15-b17aaf089501",
   "metadata": {},
   "outputs": [],
   "source": []
  },
  {
   "cell_type": "code",
   "execution_count": null,
   "id": "113eb703-6ee6-40eb-b801-ddc555c0764e",
   "metadata": {},
   "outputs": [],
   "source": []
  },
  {
   "cell_type": "code",
   "execution_count": null,
   "id": "71493454-a769-4880-974c-e16573404e16",
   "metadata": {},
   "outputs": [],
   "source": []
  },
  {
   "cell_type": "code",
   "execution_count": null,
   "id": "06e6183d-8c42-410a-b1a2-cf5cacc78686",
   "metadata": {},
   "outputs": [],
   "source": []
  },
  {
   "cell_type": "code",
   "execution_count": null,
   "id": "06285ebc-34c1-438a-8e99-51d77047b165",
   "metadata": {},
   "outputs": [],
   "source": []
  },
  {
   "cell_type": "code",
   "execution_count": null,
   "id": "1c47f46d-b799-4714-a082-d8abafb0ae2a",
   "metadata": {},
   "outputs": [],
   "source": []
  },
  {
   "cell_type": "code",
   "execution_count": null,
   "id": "934302b6-a98b-4651-b5e6-34f8858015e9",
   "metadata": {},
   "outputs": [],
   "source": []
  },
  {
   "cell_type": "code",
   "execution_count": null,
   "id": "d241f7b4-7553-444c-a981-7ef6adaa9b17",
   "metadata": {},
   "outputs": [],
   "source": []
  },
  {
   "cell_type": "code",
   "execution_count": null,
   "id": "53aed5f1-846e-4ea4-b2f3-4bb83a79e948",
   "metadata": {},
   "outputs": [],
   "source": []
  },
  {
   "cell_type": "code",
   "execution_count": null,
   "id": "1e110749-f6e5-4c30-b439-2bf2f917932f",
   "metadata": {},
   "outputs": [],
   "source": []
  },
  {
   "cell_type": "code",
   "execution_count": null,
   "id": "f3873aed-c1dc-4b43-a87d-dadad1704cfa",
   "metadata": {},
   "outputs": [],
   "source": []
  },
  {
   "cell_type": "code",
   "execution_count": null,
   "id": "16157ac5-9d95-4498-a9b2-fb56213bc92b",
   "metadata": {},
   "outputs": [],
   "source": []
  },
  {
   "cell_type": "code",
   "execution_count": null,
   "id": "86fd5042-9ad8-4b6f-bd70-da85e522c657",
   "metadata": {},
   "outputs": [],
   "source": []
  },
  {
   "cell_type": "code",
   "execution_count": null,
   "id": "78afd864-c490-4bd9-b4fb-c155c2981557",
   "metadata": {},
   "outputs": [],
   "source": []
  },
  {
   "cell_type": "code",
   "execution_count": null,
   "id": "fe732473-3a22-4986-8a47-054a8188ee7c",
   "metadata": {},
   "outputs": [],
   "source": []
  },
  {
   "cell_type": "code",
   "execution_count": null,
   "id": "85ff6c13-00c3-4df9-9dd9-64610c390af6",
   "metadata": {},
   "outputs": [],
   "source": []
  },
  {
   "cell_type": "code",
   "execution_count": null,
   "id": "d5e5ca94-402a-46cb-b019-aa525cf9df99",
   "metadata": {},
   "outputs": [],
   "source": []
  },
  {
   "cell_type": "code",
   "execution_count": null,
   "id": "b95c33ad-36c7-4030-8bb9-f76e42962e5e",
   "metadata": {},
   "outputs": [],
   "source": []
  },
  {
   "cell_type": "code",
   "execution_count": null,
   "id": "71b344d8-b648-476a-afb9-52c0f8bd88d3",
   "metadata": {},
   "outputs": [],
   "source": []
  },
  {
   "cell_type": "code",
   "execution_count": null,
   "id": "565d3b9f-5941-4abe-bbe6-1da2f9b08d2a",
   "metadata": {},
   "outputs": [],
   "source": []
  },
  {
   "cell_type": "code",
   "execution_count": null,
   "id": "73f06464-8102-4c04-98e9-db10917f42eb",
   "metadata": {},
   "outputs": [],
   "source": []
  },
  {
   "cell_type": "code",
   "execution_count": null,
   "id": "ee91019c-d4b0-408f-8a1b-8d8978a33863",
   "metadata": {},
   "outputs": [],
   "source": []
  },
  {
   "cell_type": "code",
   "execution_count": null,
   "id": "d0ec4529-ea62-481b-886c-3e6d5733b826",
   "metadata": {},
   "outputs": [],
   "source": []
  },
  {
   "cell_type": "code",
   "execution_count": null,
   "id": "066da5c4-0f91-4ed9-b8d3-c2004260d1ca",
   "metadata": {},
   "outputs": [],
   "source": []
  },
  {
   "cell_type": "code",
   "execution_count": null,
   "id": "40918b90-41a6-483a-8ef2-13b6a27a03d5",
   "metadata": {},
   "outputs": [],
   "source": []
  },
  {
   "cell_type": "code",
   "execution_count": null,
   "id": "b3e76e6d-6895-4d47-987d-b78a27caf839",
   "metadata": {},
   "outputs": [],
   "source": []
  },
  {
   "cell_type": "code",
   "execution_count": null,
   "id": "6739eef3-b5a0-4c97-9f08-b4fc9fb7ed6a",
   "metadata": {},
   "outputs": [],
   "source": []
  },
  {
   "cell_type": "code",
   "execution_count": null,
   "id": "45a2f4a4-b2d8-46e4-ba38-0df680383904",
   "metadata": {},
   "outputs": [],
   "source": []
  },
  {
   "cell_type": "code",
   "execution_count": null,
   "id": "453bd9a7-df6c-4ae3-a0c4-bed1b1904eed",
   "metadata": {},
   "outputs": [],
   "source": []
  },
  {
   "cell_type": "code",
   "execution_count": null,
   "id": "08d109fd-b4f9-4410-983f-864312af529f",
   "metadata": {},
   "outputs": [],
   "source": []
  },
  {
   "cell_type": "code",
   "execution_count": null,
   "id": "e069135d-8282-430c-90e7-919341bdc065",
   "metadata": {},
   "outputs": [],
   "source": []
  },
  {
   "cell_type": "code",
   "execution_count": null,
   "id": "18a7bca7-cec2-4b52-bd18-f9d37ab30f54",
   "metadata": {},
   "outputs": [],
   "source": []
  },
  {
   "cell_type": "code",
   "execution_count": null,
   "id": "022f85ec-93c5-4076-a8cd-84465f400ec8",
   "metadata": {},
   "outputs": [],
   "source": []
  },
  {
   "cell_type": "code",
   "execution_count": null,
   "id": "fe799ab5-83f0-4cd2-98a2-f5002500569d",
   "metadata": {},
   "outputs": [],
   "source": []
  },
  {
   "cell_type": "code",
   "execution_count": null,
   "id": "69290af2-c1dc-4aec-89d8-c4e728e4ae21",
   "metadata": {},
   "outputs": [],
   "source": []
  },
  {
   "cell_type": "code",
   "execution_count": null,
   "id": "6fdc8c11-e8fa-4c54-87ef-b47018ff4746",
   "metadata": {},
   "outputs": [],
   "source": []
  },
  {
   "cell_type": "code",
   "execution_count": null,
   "id": "d3910332-f77f-45ac-ae4f-0f50ff544690",
   "metadata": {},
   "outputs": [],
   "source": []
  },
  {
   "cell_type": "code",
   "execution_count": null,
   "id": "542f3961-490f-4e61-9c2c-e30bda63b555",
   "metadata": {},
   "outputs": [],
   "source": []
  },
  {
   "cell_type": "code",
   "execution_count": null,
   "id": "856a9c68-22ca-4499-91e7-4e4747f100f9",
   "metadata": {},
   "outputs": [],
   "source": []
  },
  {
   "cell_type": "code",
   "execution_count": null,
   "id": "2f3a2337-5007-4bfc-8131-c441264b1d69",
   "metadata": {},
   "outputs": [],
   "source": []
  },
  {
   "cell_type": "code",
   "execution_count": null,
   "id": "04433dd8-c3e7-4918-8ff6-cd2101638c0c",
   "metadata": {},
   "outputs": [],
   "source": []
  },
  {
   "cell_type": "code",
   "execution_count": null,
   "id": "582264fc-d85c-4875-9c70-7072e297ecdf",
   "metadata": {},
   "outputs": [],
   "source": []
  },
  {
   "cell_type": "code",
   "execution_count": null,
   "id": "bc268fca-8459-48ef-b393-8adc229c3f8a",
   "metadata": {},
   "outputs": [],
   "source": []
  },
  {
   "cell_type": "code",
   "execution_count": null,
   "id": "a136b2d6-00c6-437a-8093-fa48d5f2948d",
   "metadata": {},
   "outputs": [],
   "source": []
  },
  {
   "cell_type": "code",
   "execution_count": null,
   "id": "7f2e11ec-5196-4b22-a55e-34aeee994865",
   "metadata": {},
   "outputs": [],
   "source": []
  },
  {
   "cell_type": "code",
   "execution_count": null,
   "id": "825a48d6-cab3-412b-826e-89ece67727d2",
   "metadata": {},
   "outputs": [],
   "source": []
  },
  {
   "cell_type": "code",
   "execution_count": null,
   "id": "75371017-de6c-44c7-adaf-94db45bdb993",
   "metadata": {},
   "outputs": [],
   "source": []
  },
  {
   "cell_type": "code",
   "execution_count": null,
   "id": "e02a1676-8a80-4c62-a649-101892597008",
   "metadata": {},
   "outputs": [],
   "source": []
  },
  {
   "cell_type": "code",
   "execution_count": null,
   "id": "3cb451ec-64de-44ea-949d-8af9ac751452",
   "metadata": {},
   "outputs": [],
   "source": []
  },
  {
   "cell_type": "code",
   "execution_count": null,
   "id": "0fb06a75-5f2a-4e18-afbb-7a55520c2f08",
   "metadata": {},
   "outputs": [],
   "source": []
  },
  {
   "cell_type": "code",
   "execution_count": null,
   "id": "0c47f310-9834-40eb-a903-50a7b178e93a",
   "metadata": {},
   "outputs": [],
   "source": []
  },
  {
   "cell_type": "code",
   "execution_count": null,
   "id": "a5aeeb31-25b8-4de2-98cc-adf523fd1380",
   "metadata": {},
   "outputs": [],
   "source": []
  },
  {
   "cell_type": "code",
   "execution_count": null,
   "id": "68421bae-d67f-4e99-a9e1-562908a56285",
   "metadata": {},
   "outputs": [],
   "source": []
  },
  {
   "cell_type": "code",
   "execution_count": null,
   "id": "a611e7b7-2ee8-4d53-8f31-12991a31ee32",
   "metadata": {},
   "outputs": [],
   "source": []
  },
  {
   "cell_type": "code",
   "execution_count": null,
   "id": "5c4c18c3-a6a2-4a7c-a774-858feb92e31f",
   "metadata": {},
   "outputs": [],
   "source": []
  },
  {
   "cell_type": "code",
   "execution_count": null,
   "id": "57c73af2-4af7-41c5-b9f1-e6f5762a1d4c",
   "metadata": {},
   "outputs": [],
   "source": []
  },
  {
   "cell_type": "code",
   "execution_count": null,
   "id": "d9751c57-48d1-4668-94c3-666b482cd823",
   "metadata": {},
   "outputs": [],
   "source": []
  },
  {
   "cell_type": "code",
   "execution_count": null,
   "id": "a885704c-ec14-434e-91d1-a9b99194744c",
   "metadata": {},
   "outputs": [],
   "source": []
  },
  {
   "cell_type": "code",
   "execution_count": null,
   "id": "7c6554e1-826b-4872-8450-7165a2ba9211",
   "metadata": {},
   "outputs": [],
   "source": []
  },
  {
   "cell_type": "code",
   "execution_count": null,
   "id": "1bd28c0f-8d92-4edb-a4f3-87184ff8bb07",
   "metadata": {},
   "outputs": [],
   "source": []
  },
  {
   "cell_type": "code",
   "execution_count": null,
   "id": "5be3543d-e26e-4fe3-af8b-bab673d13c5d",
   "metadata": {},
   "outputs": [],
   "source": []
  },
  {
   "cell_type": "code",
   "execution_count": null,
   "id": "0d22af3c-2c3c-44f5-b062-b0a84071182c",
   "metadata": {},
   "outputs": [],
   "source": []
  },
  {
   "cell_type": "code",
   "execution_count": null,
   "id": "4f16d5c2-adb4-4c35-a06e-cb496b734b06",
   "metadata": {},
   "outputs": [],
   "source": []
  },
  {
   "cell_type": "code",
   "execution_count": null,
   "id": "005ad378-2383-4a9c-90bb-cf302aa66361",
   "metadata": {},
   "outputs": [],
   "source": []
  },
  {
   "cell_type": "code",
   "execution_count": null,
   "id": "3a94fdc8-b66c-4ae7-9ea8-381ce0154f8e",
   "metadata": {},
   "outputs": [],
   "source": []
  },
  {
   "cell_type": "code",
   "execution_count": null,
   "id": "4b098dc8-e15e-440b-99cf-e0306346fe19",
   "metadata": {},
   "outputs": [],
   "source": []
  },
  {
   "cell_type": "code",
   "execution_count": null,
   "id": "904fa950-a1cf-48c7-82db-288224f56169",
   "metadata": {},
   "outputs": [],
   "source": []
  },
  {
   "cell_type": "code",
   "execution_count": null,
   "id": "1a96098d-8ef9-4870-b157-e794f0797f44",
   "metadata": {},
   "outputs": [],
   "source": []
  },
  {
   "cell_type": "code",
   "execution_count": null,
   "id": "f332a4e1-d337-4c20-b40f-9eeb9a2a2f28",
   "metadata": {},
   "outputs": [],
   "source": []
  },
  {
   "cell_type": "code",
   "execution_count": null,
   "id": "1a5ad62f-8a27-43e8-a19d-4c9d2c49a857",
   "metadata": {},
   "outputs": [],
   "source": []
  },
  {
   "cell_type": "code",
   "execution_count": null,
   "id": "11d0ec67-3dd9-4fdb-8931-ed59bd35b79e",
   "metadata": {},
   "outputs": [],
   "source": []
  },
  {
   "cell_type": "code",
   "execution_count": null,
   "id": "8146a86d-aaa8-4003-b7fb-bd0176b914c1",
   "metadata": {},
   "outputs": [],
   "source": []
  },
  {
   "cell_type": "code",
   "execution_count": null,
   "id": "8954315e-8aba-4e83-9199-ee6df9fca623",
   "metadata": {},
   "outputs": [],
   "source": []
  },
  {
   "cell_type": "code",
   "execution_count": null,
   "id": "dcf29980-5bed-4b81-8d08-1b533fb2d637",
   "metadata": {},
   "outputs": [],
   "source": []
  },
  {
   "cell_type": "code",
   "execution_count": null,
   "id": "85e6292a-b7b7-4292-bc6f-aad96e613d28",
   "metadata": {},
   "outputs": [],
   "source": []
  },
  {
   "cell_type": "code",
   "execution_count": null,
   "id": "7a8b5ee8-bd14-4873-b929-6438f95d06b5",
   "metadata": {},
   "outputs": [],
   "source": []
  },
  {
   "cell_type": "code",
   "execution_count": null,
   "id": "9ab3c219-433e-4e50-a6f3-d3908b25ad04",
   "metadata": {},
   "outputs": [],
   "source": []
  },
  {
   "cell_type": "code",
   "execution_count": null,
   "id": "80cfcccb-3b28-4f20-88ee-c31f0eb34460",
   "metadata": {},
   "outputs": [],
   "source": []
  },
  {
   "cell_type": "code",
   "execution_count": null,
   "id": "0de9bdcd-0a3d-4add-a4ae-2004cd1c3782",
   "metadata": {},
   "outputs": [],
   "source": []
  },
  {
   "cell_type": "code",
   "execution_count": null,
   "id": "1b3ccef0-855b-4cce-a962-496ff4647479",
   "metadata": {},
   "outputs": [],
   "source": []
  },
  {
   "cell_type": "code",
   "execution_count": null,
   "id": "7690a904-b18d-4840-af66-c3970b6448fa",
   "metadata": {},
   "outputs": [],
   "source": []
  },
  {
   "cell_type": "code",
   "execution_count": null,
   "id": "3968dafd-7f52-4780-9046-cb5c4578b2ad",
   "metadata": {},
   "outputs": [],
   "source": []
  },
  {
   "cell_type": "code",
   "execution_count": null,
   "id": "a9fce2cd-879b-4b06-b80b-f71da1c352f0",
   "metadata": {},
   "outputs": [],
   "source": []
  },
  {
   "cell_type": "code",
   "execution_count": null,
   "id": "d23d08c4-a003-4f50-9a85-c4f405ebd934",
   "metadata": {},
   "outputs": [],
   "source": []
  },
  {
   "cell_type": "code",
   "execution_count": null,
   "id": "f542d605-bfb3-4048-b6df-dec21aa8e86b",
   "metadata": {},
   "outputs": [],
   "source": []
  },
  {
   "cell_type": "code",
   "execution_count": null,
   "id": "bede2e61-7160-4c93-8c46-a59c54c1ce55",
   "metadata": {},
   "outputs": [],
   "source": []
  },
  {
   "cell_type": "code",
   "execution_count": null,
   "id": "85a5993f-d4c6-4496-8df9-4bded83a8122",
   "metadata": {},
   "outputs": [],
   "source": []
  },
  {
   "cell_type": "code",
   "execution_count": null,
   "id": "a7c2f53d-b5c7-427c-aa62-e0a5f5640e5b",
   "metadata": {},
   "outputs": [],
   "source": []
  },
  {
   "cell_type": "code",
   "execution_count": null,
   "id": "c915f232-4d29-4aa0-92ea-7809294add5c",
   "metadata": {},
   "outputs": [],
   "source": []
  },
  {
   "cell_type": "code",
   "execution_count": null,
   "id": "82d94f7b-a0f9-4f9a-b893-eee455d312d4",
   "metadata": {},
   "outputs": [],
   "source": []
  },
  {
   "cell_type": "code",
   "execution_count": null,
   "id": "e298be3b-f875-49b1-bcd1-1837786d363f",
   "metadata": {},
   "outputs": [],
   "source": []
  },
  {
   "cell_type": "code",
   "execution_count": null,
   "id": "cf91d321-6a97-42af-be83-3390ea8ded17",
   "metadata": {},
   "outputs": [],
   "source": []
  },
  {
   "cell_type": "code",
   "execution_count": null,
   "id": "9566a9cb-df30-40d0-a2b4-0c75abce12b7",
   "metadata": {},
   "outputs": [],
   "source": []
  },
  {
   "cell_type": "code",
   "execution_count": null,
   "id": "f11cae7c-596e-4d9b-84d8-546314350495",
   "metadata": {},
   "outputs": [],
   "source": []
  },
  {
   "cell_type": "code",
   "execution_count": null,
   "id": "b0610b05-8ef5-4524-9a30-8124cf2f50f5",
   "metadata": {},
   "outputs": [],
   "source": []
  },
  {
   "cell_type": "code",
   "execution_count": null,
   "id": "0df781dd-ee2f-48ac-8e50-a358520bc1c6",
   "metadata": {},
   "outputs": [],
   "source": []
  },
  {
   "cell_type": "code",
   "execution_count": null,
   "id": "6a271a40-8076-4f73-aa9a-637c1c5a215b",
   "metadata": {},
   "outputs": [],
   "source": []
  },
  {
   "cell_type": "code",
   "execution_count": null,
   "id": "758a836d-c79e-4059-9375-2e64b178b104",
   "metadata": {},
   "outputs": [],
   "source": []
  },
  {
   "cell_type": "code",
   "execution_count": null,
   "id": "3ce33c21-607a-43cd-89ea-61ab5338702c",
   "metadata": {},
   "outputs": [],
   "source": []
  },
  {
   "cell_type": "code",
   "execution_count": null,
   "id": "943bc502-dc0b-484d-a2fc-715d7eab9efb",
   "metadata": {},
   "outputs": [],
   "source": []
  },
  {
   "cell_type": "code",
   "execution_count": null,
   "id": "8cf8025f-fa3f-45e4-aea1-87620f27f4c5",
   "metadata": {},
   "outputs": [],
   "source": []
  },
  {
   "cell_type": "code",
   "execution_count": null,
   "id": "a8eb276d-138d-4a7c-a62d-e5a064158a43",
   "metadata": {},
   "outputs": [],
   "source": []
  },
  {
   "cell_type": "code",
   "execution_count": null,
   "id": "f525c4a1-8746-4f1a-9e78-fcccd6e2e0d2",
   "metadata": {},
   "outputs": [],
   "source": []
  },
  {
   "cell_type": "code",
   "execution_count": null,
   "id": "b5a052a1-296a-42ba-b219-c34c767ddbee",
   "metadata": {},
   "outputs": [],
   "source": []
  },
  {
   "cell_type": "code",
   "execution_count": null,
   "id": "52a142ac-70c5-4ef0-96cc-e6f83ed747be",
   "metadata": {},
   "outputs": [],
   "source": []
  },
  {
   "cell_type": "code",
   "execution_count": null,
   "id": "369f89eb-9ecc-4358-aadb-71d0366748d6",
   "metadata": {},
   "outputs": [],
   "source": []
  },
  {
   "cell_type": "code",
   "execution_count": null,
   "id": "fc202108-2105-4836-a7c0-e52459b1f65d",
   "metadata": {},
   "outputs": [],
   "source": []
  },
  {
   "cell_type": "code",
   "execution_count": null,
   "id": "a39e1bb3-be3a-4998-bcb7-40895a716b4e",
   "metadata": {},
   "outputs": [],
   "source": []
  },
  {
   "cell_type": "code",
   "execution_count": null,
   "id": "b0291b7f-0b20-4ed9-8ba0-f20fb95a520e",
   "metadata": {},
   "outputs": [],
   "source": []
  },
  {
   "cell_type": "code",
   "execution_count": null,
   "id": "d6bbdb14-869a-4e1b-b416-226a2b5784fc",
   "metadata": {},
   "outputs": [],
   "source": []
  },
  {
   "cell_type": "code",
   "execution_count": null,
   "id": "fd6a2a0d-1ca4-470b-8523-eb884d962dc7",
   "metadata": {},
   "outputs": [],
   "source": []
  },
  {
   "cell_type": "code",
   "execution_count": null,
   "id": "a49c3920-62a4-4163-a113-f63ec3c497be",
   "metadata": {},
   "outputs": [],
   "source": []
  },
  {
   "cell_type": "code",
   "execution_count": null,
   "id": "88e3d128-e038-4166-88e8-6e968d7d73f9",
   "metadata": {},
   "outputs": [],
   "source": []
  },
  {
   "cell_type": "code",
   "execution_count": null,
   "id": "c2bec9f0-d4e9-454e-8248-8db50860b46a",
   "metadata": {},
   "outputs": [],
   "source": []
  },
  {
   "cell_type": "code",
   "execution_count": null,
   "id": "055a2641-fd3f-4bcf-98c3-ed17249a420c",
   "metadata": {},
   "outputs": [],
   "source": []
  },
  {
   "cell_type": "code",
   "execution_count": null,
   "id": "23c4f400-0c30-4cdf-9dbf-b22ba6428012",
   "metadata": {},
   "outputs": [],
   "source": []
  },
  {
   "cell_type": "code",
   "execution_count": null,
   "id": "9f2ab6c6-997b-4002-87dc-02e55f0344df",
   "metadata": {},
   "outputs": [],
   "source": []
  },
  {
   "cell_type": "code",
   "execution_count": null,
   "id": "85d83876-2713-43db-b11e-62272b068a10",
   "metadata": {},
   "outputs": [],
   "source": []
  },
  {
   "cell_type": "code",
   "execution_count": null,
   "id": "be1c2177-bf72-4c19-ab91-6a6d4341e667",
   "metadata": {},
   "outputs": [],
   "source": []
  },
  {
   "cell_type": "code",
   "execution_count": null,
   "id": "1f87ec8e-30bf-4ed3-932b-a8e6ffca68a9",
   "metadata": {},
   "outputs": [],
   "source": []
  },
  {
   "cell_type": "code",
   "execution_count": null,
   "id": "1660f6b5-e2bc-471e-9471-df96d5113e63",
   "metadata": {},
   "outputs": [],
   "source": []
  },
  {
   "cell_type": "code",
   "execution_count": null,
   "id": "ed8523c6-50ec-406f-bce7-376a7a24bd4f",
   "metadata": {},
   "outputs": [],
   "source": []
  },
  {
   "cell_type": "code",
   "execution_count": null,
   "id": "1a0d4393-3fb2-443c-8648-61599a0b3dce",
   "metadata": {},
   "outputs": [],
   "source": []
  },
  {
   "cell_type": "code",
   "execution_count": null,
   "id": "2db82de9-b11c-44c7-83dc-dc13d8c5544c",
   "metadata": {},
   "outputs": [],
   "source": []
  },
  {
   "cell_type": "code",
   "execution_count": null,
   "id": "e70329db-ba13-4ad4-b921-7acd65d9b368",
   "metadata": {},
   "outputs": [],
   "source": []
  },
  {
   "cell_type": "code",
   "execution_count": null,
   "id": "b87bbd91-47fd-4505-938c-728908214e61",
   "metadata": {},
   "outputs": [],
   "source": []
  },
  {
   "cell_type": "code",
   "execution_count": null,
   "id": "ef3ac22d-78ad-41d5-a2fb-005f433fb726",
   "metadata": {},
   "outputs": [],
   "source": []
  },
  {
   "cell_type": "code",
   "execution_count": null,
   "id": "556e382e-4b84-436b-aa31-39c07be4492e",
   "metadata": {},
   "outputs": [],
   "source": []
  },
  {
   "cell_type": "code",
   "execution_count": null,
   "id": "d3e48255-bae5-4418-b299-951d2d395a3f",
   "metadata": {},
   "outputs": [],
   "source": []
  },
  {
   "cell_type": "code",
   "execution_count": null,
   "id": "191ae18d-bd46-4bf9-8bed-051574c4eeed",
   "metadata": {},
   "outputs": [],
   "source": []
  },
  {
   "cell_type": "code",
   "execution_count": null,
   "id": "7c8b2211-481f-4a59-a23d-2cfdcef564c7",
   "metadata": {},
   "outputs": [],
   "source": []
  },
  {
   "cell_type": "code",
   "execution_count": null,
   "id": "5be5d6ba-166b-4075-9dde-b95565099af2",
   "metadata": {},
   "outputs": [],
   "source": []
  },
  {
   "cell_type": "code",
   "execution_count": null,
   "id": "8a6159a1-aa28-4c8f-8884-8d8ae191665e",
   "metadata": {},
   "outputs": [],
   "source": []
  },
  {
   "cell_type": "code",
   "execution_count": null,
   "id": "ba646cdf-7197-468c-8f8a-43cf71c9bc76",
   "metadata": {},
   "outputs": [],
   "source": []
  },
  {
   "cell_type": "code",
   "execution_count": null,
   "id": "24b6626d-4c88-4c40-ab9d-d1938d673a2e",
   "metadata": {},
   "outputs": [],
   "source": []
  },
  {
   "cell_type": "code",
   "execution_count": null,
   "id": "805af742-d1f5-455d-b869-4ed959a1071b",
   "metadata": {},
   "outputs": [],
   "source": []
  },
  {
   "cell_type": "code",
   "execution_count": null,
   "id": "232c15eb-3e9a-4b5e-8182-64e9bdada162",
   "metadata": {},
   "outputs": [],
   "source": []
  },
  {
   "cell_type": "code",
   "execution_count": null,
   "id": "e3f515b3-6e04-432c-b11b-ff074e9c3157",
   "metadata": {},
   "outputs": [],
   "source": []
  },
  {
   "cell_type": "code",
   "execution_count": null,
   "id": "095a546a-23cb-4f8e-b964-ef08e937e49a",
   "metadata": {},
   "outputs": [],
   "source": []
  },
  {
   "cell_type": "code",
   "execution_count": null,
   "id": "5ee4fb59-4e9b-4208-87f5-ff3297aa540f",
   "metadata": {},
   "outputs": [],
   "source": []
  },
  {
   "cell_type": "code",
   "execution_count": null,
   "id": "86cd5156-31ad-40e6-a433-9998022e53f8",
   "metadata": {},
   "outputs": [],
   "source": []
  },
  {
   "cell_type": "code",
   "execution_count": null,
   "id": "6414737e-014e-4a49-8cd3-dd6d94ed8197",
   "metadata": {},
   "outputs": [],
   "source": []
  },
  {
   "cell_type": "code",
   "execution_count": null,
   "id": "cc83167e-7256-46a7-94ce-b0e1be847dd1",
   "metadata": {},
   "outputs": [],
   "source": []
  },
  {
   "cell_type": "code",
   "execution_count": null,
   "id": "f9fd5d68-2f69-4167-9a75-3491fc28ff49",
   "metadata": {},
   "outputs": [],
   "source": []
  },
  {
   "cell_type": "code",
   "execution_count": null,
   "id": "ff8d6295-0dab-4284-915b-0e0e03b000f0",
   "metadata": {},
   "outputs": [],
   "source": []
  },
  {
   "cell_type": "code",
   "execution_count": null,
   "id": "58503f27-87ac-45b5-8075-c4ada43e53b2",
   "metadata": {},
   "outputs": [],
   "source": []
  },
  {
   "cell_type": "code",
   "execution_count": null,
   "id": "98037dc9-62cf-42be-8992-5e362d378332",
   "metadata": {},
   "outputs": [],
   "source": []
  },
  {
   "cell_type": "code",
   "execution_count": null,
   "id": "78f3dcc9-0cd0-46a5-af5b-1c6f3eeef9eb",
   "metadata": {},
   "outputs": [],
   "source": []
  },
  {
   "cell_type": "code",
   "execution_count": null,
   "id": "f58ec267-c98b-49f2-b2ab-faef8cb139d6",
   "metadata": {},
   "outputs": [],
   "source": []
  },
  {
   "cell_type": "code",
   "execution_count": null,
   "id": "b4a06b0b-a248-4543-a3c0-eb0f5f6c071d",
   "metadata": {},
   "outputs": [],
   "source": []
  },
  {
   "cell_type": "code",
   "execution_count": null,
   "id": "8aa7561f-ee04-487e-94e3-5db10c485b20",
   "metadata": {},
   "outputs": [],
   "source": []
  },
  {
   "cell_type": "code",
   "execution_count": null,
   "id": "dec131fc-b5ac-4a97-9340-b54164033887",
   "metadata": {},
   "outputs": [],
   "source": []
  },
  {
   "cell_type": "code",
   "execution_count": null,
   "id": "14f6183e-595a-408a-bbfe-e583c531edb4",
   "metadata": {},
   "outputs": [],
   "source": []
  },
  {
   "cell_type": "code",
   "execution_count": null,
   "id": "9c427510-4512-4ac6-951b-216f2478b9ad",
   "metadata": {},
   "outputs": [],
   "source": []
  },
  {
   "cell_type": "code",
   "execution_count": null,
   "id": "41a6c62f-63c1-4116-a684-652de192e599",
   "metadata": {},
   "outputs": [],
   "source": []
  },
  {
   "cell_type": "code",
   "execution_count": null,
   "id": "543914ba-3f39-4694-a046-2bf7f4dc6106",
   "metadata": {},
   "outputs": [],
   "source": []
  },
  {
   "cell_type": "code",
   "execution_count": null,
   "id": "13438c69-6bc5-4e1c-8041-f3740db15536",
   "metadata": {},
   "outputs": [],
   "source": []
  },
  {
   "cell_type": "code",
   "execution_count": null,
   "id": "9833fa06-1b21-4014-b8d9-ae3e1acaab9d",
   "metadata": {},
   "outputs": [],
   "source": []
  },
  {
   "cell_type": "code",
   "execution_count": null,
   "id": "854df504-5656-4b21-99bb-ebe5ee53eade",
   "metadata": {},
   "outputs": [],
   "source": []
  },
  {
   "cell_type": "code",
   "execution_count": null,
   "id": "4ffff2fd-b46d-4de1-9255-f91c004d6141",
   "metadata": {},
   "outputs": [],
   "source": []
  },
  {
   "cell_type": "code",
   "execution_count": null,
   "id": "41ce79d5-20d4-4804-ab9a-f70a8f53b2e4",
   "metadata": {},
   "outputs": [],
   "source": []
  },
  {
   "cell_type": "code",
   "execution_count": null,
   "id": "3203bf62-f008-476c-9135-0e888cfc97c6",
   "metadata": {},
   "outputs": [],
   "source": []
  },
  {
   "cell_type": "code",
   "execution_count": null,
   "id": "8d2ed677-ca4d-4dd8-990a-db171d959663",
   "metadata": {},
   "outputs": [],
   "source": []
  },
  {
   "cell_type": "code",
   "execution_count": null,
   "id": "bff7c4b3-f44b-4b88-8c64-c7fc75d0a3e5",
   "metadata": {},
   "outputs": [],
   "source": []
  },
  {
   "cell_type": "code",
   "execution_count": null,
   "id": "8731db75-d346-45aa-854c-19a8e7366529",
   "metadata": {},
   "outputs": [],
   "source": []
  },
  {
   "cell_type": "code",
   "execution_count": null,
   "id": "4ffa1599-ef95-46b9-b76e-bbc686b5a71b",
   "metadata": {},
   "outputs": [],
   "source": []
  },
  {
   "cell_type": "code",
   "execution_count": null,
   "id": "c44adfe3-d725-4e4f-b0b9-0d00c36e19a4",
   "metadata": {},
   "outputs": [],
   "source": []
  },
  {
   "cell_type": "code",
   "execution_count": null,
   "id": "59b4ea02-dcaf-4924-a04a-24bf17da126e",
   "metadata": {},
   "outputs": [],
   "source": []
  },
  {
   "cell_type": "code",
   "execution_count": null,
   "id": "d5c74fa8-438b-4196-8e76-caeb698ed100",
   "metadata": {},
   "outputs": [],
   "source": []
  },
  {
   "cell_type": "code",
   "execution_count": null,
   "id": "d965a055-f37e-4269-b0a7-cc239797b276",
   "metadata": {},
   "outputs": [],
   "source": []
  },
  {
   "cell_type": "code",
   "execution_count": null,
   "id": "ad92329b-8b41-417d-89dc-19a32af63ead",
   "metadata": {},
   "outputs": [],
   "source": []
  },
  {
   "cell_type": "code",
   "execution_count": null,
   "id": "13cd62b0-f049-447e-8a1f-a7df0b2f61e0",
   "metadata": {},
   "outputs": [],
   "source": []
  },
  {
   "cell_type": "code",
   "execution_count": null,
   "id": "41658395-16e2-45d2-8276-164d67f5dfbd",
   "metadata": {},
   "outputs": [],
   "source": []
  },
  {
   "cell_type": "code",
   "execution_count": null,
   "id": "307a2e90-9823-417e-91f7-3376f507bf62",
   "metadata": {},
   "outputs": [],
   "source": []
  },
  {
   "cell_type": "code",
   "execution_count": null,
   "id": "027b4b4c-24ea-451c-a25f-2600b6089d73",
   "metadata": {},
   "outputs": [],
   "source": []
  },
  {
   "cell_type": "code",
   "execution_count": null,
   "id": "30557040-1ee5-40c0-9580-4e209cdde59b",
   "metadata": {},
   "outputs": [],
   "source": []
  },
  {
   "cell_type": "code",
   "execution_count": null,
   "id": "03712559-2721-4949-a4b9-509897a4f6a0",
   "metadata": {},
   "outputs": [],
   "source": []
  },
  {
   "cell_type": "code",
   "execution_count": null,
   "id": "5d124140-8951-49b2-bd98-faa3c3ba81fb",
   "metadata": {},
   "outputs": [],
   "source": []
  },
  {
   "cell_type": "code",
   "execution_count": null,
   "id": "0d595c8b-8800-48ce-86fe-50be8ce1af36",
   "metadata": {},
   "outputs": [],
   "source": []
  },
  {
   "cell_type": "code",
   "execution_count": null,
   "id": "083038ed-e634-4098-919f-3c278e87b3c4",
   "metadata": {},
   "outputs": [],
   "source": []
  },
  {
   "cell_type": "code",
   "execution_count": null,
   "id": "bb4916dd-526e-4928-932d-cdd3db6de783",
   "metadata": {},
   "outputs": [],
   "source": []
  },
  {
   "cell_type": "code",
   "execution_count": null,
   "id": "778d6527-7a05-45cb-a292-a5cdecebc50a",
   "metadata": {},
   "outputs": [],
   "source": []
  },
  {
   "cell_type": "code",
   "execution_count": null,
   "id": "1d183297-4f16-499b-a724-4db7a02161a7",
   "metadata": {},
   "outputs": [],
   "source": []
  },
  {
   "cell_type": "code",
   "execution_count": null,
   "id": "6d4a4248-7e60-40cc-9a66-84914d2b2048",
   "metadata": {},
   "outputs": [],
   "source": []
  },
  {
   "cell_type": "code",
   "execution_count": null,
   "id": "2149b6c9-03f4-4d80-954d-17516ddfb5a2",
   "metadata": {},
   "outputs": [],
   "source": []
  },
  {
   "cell_type": "code",
   "execution_count": null,
   "id": "8659ef47-dd95-497a-b577-70a7abc9d2f4",
   "metadata": {},
   "outputs": [],
   "source": []
  },
  {
   "cell_type": "code",
   "execution_count": null,
   "id": "db4d1beb-752e-485e-ad0d-1dcc03eb7f63",
   "metadata": {},
   "outputs": [],
   "source": []
  },
  {
   "cell_type": "code",
   "execution_count": null,
   "id": "eef5826d-2fa5-4177-ba4d-db48628832cc",
   "metadata": {},
   "outputs": [],
   "source": []
  },
  {
   "cell_type": "code",
   "execution_count": null,
   "id": "394aa9b4-17cc-4c3f-a587-f0fd678e16a5",
   "metadata": {},
   "outputs": [],
   "source": []
  },
  {
   "cell_type": "code",
   "execution_count": null,
   "id": "f65b0111-1289-46b3-9b58-8021656ec6e8",
   "metadata": {},
   "outputs": [],
   "source": []
  },
  {
   "cell_type": "code",
   "execution_count": null,
   "id": "b9abb481-9df0-49d5-99a9-f8c1377778fd",
   "metadata": {},
   "outputs": [],
   "source": []
  },
  {
   "cell_type": "code",
   "execution_count": null,
   "id": "e1f4219c-0eb9-4af8-a489-2ce111f0d110",
   "metadata": {},
   "outputs": [],
   "source": []
  },
  {
   "cell_type": "code",
   "execution_count": null,
   "id": "13c147a5-892c-4946-9f8f-b5f6c42ec9a8",
   "metadata": {},
   "outputs": [],
   "source": []
  },
  {
   "cell_type": "code",
   "execution_count": null,
   "id": "526d6119-1f50-4b74-b303-2d6493e018d0",
   "metadata": {},
   "outputs": [],
   "source": []
  },
  {
   "cell_type": "code",
   "execution_count": null,
   "id": "5eadbc84-8394-43c9-9ec7-fd2678f888e3",
   "metadata": {},
   "outputs": [],
   "source": []
  },
  {
   "cell_type": "code",
   "execution_count": null,
   "id": "7af6d692-6773-4901-80a9-248a91714ca7",
   "metadata": {},
   "outputs": [],
   "source": []
  },
  {
   "cell_type": "code",
   "execution_count": null,
   "id": "8ce8b267-6f05-46d6-b5a1-130a2e847d5d",
   "metadata": {},
   "outputs": [],
   "source": []
  },
  {
   "cell_type": "code",
   "execution_count": null,
   "id": "db919bc7-0dec-4cd7-82d0-d64cd1a9515f",
   "metadata": {},
   "outputs": [],
   "source": []
  },
  {
   "cell_type": "code",
   "execution_count": null,
   "id": "2633e5d8-4f19-48ba-aa00-466609e1e62b",
   "metadata": {},
   "outputs": [],
   "source": []
  },
  {
   "cell_type": "code",
   "execution_count": null,
   "id": "d908e59b-45d5-43ce-b787-3f46d664997e",
   "metadata": {},
   "outputs": [],
   "source": []
  },
  {
   "cell_type": "code",
   "execution_count": null,
   "id": "1e72e1c3-1124-4f38-976f-94013ca88598",
   "metadata": {},
   "outputs": [],
   "source": []
  },
  {
   "cell_type": "code",
   "execution_count": null,
   "id": "6ea887e8-446f-45f4-ae44-2a85f045fc99",
   "metadata": {},
   "outputs": [],
   "source": []
  },
  {
   "cell_type": "code",
   "execution_count": null,
   "id": "e463b6c0-b6b3-4a23-b370-b175d5407cad",
   "metadata": {},
   "outputs": [],
   "source": []
  },
  {
   "cell_type": "code",
   "execution_count": null,
   "id": "4943eb72-a6a1-4b1b-a058-ae6ad8f90541",
   "metadata": {},
   "outputs": [],
   "source": []
  },
  {
   "cell_type": "code",
   "execution_count": null,
   "id": "f6a47ef8-2159-4018-b2ab-f8adc500ce7f",
   "metadata": {},
   "outputs": [],
   "source": []
  },
  {
   "cell_type": "code",
   "execution_count": null,
   "id": "589c506b-8c14-4f4e-8ced-8e9a116cca30",
   "metadata": {},
   "outputs": [],
   "source": []
  },
  {
   "cell_type": "code",
   "execution_count": null,
   "id": "7e5f0be6-7f6f-4724-bf43-a350649a4778",
   "metadata": {},
   "outputs": [],
   "source": []
  },
  {
   "cell_type": "code",
   "execution_count": null,
   "id": "54bd53ea-0ad7-43f7-a2de-19bbe5ad1663",
   "metadata": {},
   "outputs": [],
   "source": []
  },
  {
   "cell_type": "code",
   "execution_count": null,
   "id": "711310dc-2422-45d2-9ce2-44c6bf3815b1",
   "metadata": {},
   "outputs": [],
   "source": []
  },
  {
   "cell_type": "code",
   "execution_count": null,
   "id": "8ea848d5-cd2d-447e-a553-46163fc6aaeb",
   "metadata": {},
   "outputs": [],
   "source": []
  },
  {
   "cell_type": "code",
   "execution_count": null,
   "id": "7353c8d7-76f1-420f-aa08-0f96baeac72e",
   "metadata": {},
   "outputs": [],
   "source": []
  },
  {
   "cell_type": "code",
   "execution_count": null,
   "id": "5237e975-c251-4013-b473-958f2d19ef09",
   "metadata": {},
   "outputs": [],
   "source": []
  },
  {
   "cell_type": "code",
   "execution_count": null,
   "id": "fd9c2622-1f70-4045-821a-4093b464a6c1",
   "metadata": {},
   "outputs": [],
   "source": []
  },
  {
   "cell_type": "code",
   "execution_count": null,
   "id": "ee1522d3-ffaf-4e6c-bcbe-d9387f6afd27",
   "metadata": {},
   "outputs": [],
   "source": []
  },
  {
   "cell_type": "code",
   "execution_count": null,
   "id": "66d2b8e9-ac08-497f-8dfc-15d7a36b898e",
   "metadata": {},
   "outputs": [],
   "source": []
  },
  {
   "cell_type": "code",
   "execution_count": null,
   "id": "a5621725-e2db-4399-9815-517da939a026",
   "metadata": {},
   "outputs": [],
   "source": []
  }
 ],
 "metadata": {
  "kernelspec": {
   "display_name": "Python 3 (ipykernel)",
   "language": "python",
   "name": "python3"
  },
  "language_info": {
   "codemirror_mode": {
    "name": "ipython",
    "version": 3
   },
   "file_extension": ".py",
   "mimetype": "text/x-python",
   "name": "python",
   "nbconvert_exporter": "python",
   "pygments_lexer": "ipython3",
   "version": "3.11.2"
  }
 },
 "nbformat": 4,
 "nbformat_minor": 5
}
