{
 "cells": [
  {
   "cell_type": "markdown",
   "id": "f98bb162-7d96-4a9a-a346-77d9d2b37d3d",
   "metadata": {},
   "source": [
    "# Introduction to Artificial Neural Networks  with Keras"
   ]
  },
  {
   "cell_type": "code",
   "execution_count": null,
   "id": "f726bd26-d81f-485b-aa46-4378a08e6bd9",
   "metadata": {},
   "outputs": [],
   "source": []
  },
  {
   "cell_type": "markdown",
   "id": "bb6ed029-898b-47d7-915f-2314a85052fc",
   "metadata": {},
   "source": [
    "# From Biological to Artificial Neurons"
   ]
  },
  {
   "cell_type": "markdown",
   "id": "ff67c472-ad03-4ad5-9bb9-69f37fb4dee3",
   "metadata": {},
   "source": [
    "### 1 )There is now a huge quantity of data available to train neural networks, and ANNs frequently outperform other ML techniques on very large and complex problems.s."
   ]
  },
  {
   "cell_type": "markdown",
   "id": "f0fcac5a-4cbd-4edc-bc56-189c8b29c446",
   "metadata": {},
   "source": [
    "### 2) The tremendous increase in computing power since the 1990s now makes it possible to train large neural networks in a reasonable amount of time."
   ]
  },
  {
   "cell_type": "markdown",
   "id": "5ed94fbf-3f56-48ca-8cb0-287561459767",
   "metadata": {},
   "source": [
    "### 3) This is in part due to Moore’s law (the number of components in integrated circuits has doubled about every 2 years over the last 50 years), but also thanks to the gaming industry, which has stimulated the production of powerful GPU cards by the millions. "
   ]
  },
  {
   "cell_type": "markdown",
   "id": "f2cd769f-c188-4140-ac11-84a076a06e00",
   "metadata": {},
   "source": [
    "### 4) The training algorithms have been improved. To be fair they are only slightly different from the ones used in the 1990s, but these relatively small tweaks have had a huge positive impact."
   ]
  },
  {
   "cell_type": "markdown",
   "id": "1e6a005e-c74d-4479-adbb-b63da6d5cfc6",
   "metadata": {},
   "source": [
    "### 5) Some theoretical limitations of ANNs have turned out to be benign in practice. For example, many people thought that ANN training algorithms were doomed because they were likely to get stuck in local optima, but it turns out that this is rather rare in practice (and when it is the case, they are usually fairly close to the global optimum)."
   ]
  },
  {
   "cell_type": "markdown",
   "id": "7bc9c5b5-c9e0-4801-94b6-231a7df1493e",
   "metadata": {},
   "source": [
    "### 6) ANNs seem to have entered a virtuous circle of funding and progress. Amazing products based on ANNs regularly make the headline news, which pulls more and more attention and funding toward them,resulting in more and more progress and even more amazing products."
   ]
  },
  {
   "cell_type": "code",
   "execution_count": null,
   "id": "2758a871-201c-49fa-94ca-868ff90a2347",
   "metadata": {},
   "outputs": [],
   "source": []
  },
  {
   "cell_type": "code",
   "execution_count": null,
   "id": "8bcba407-c036-4128-8760-ae3f991e173f",
   "metadata": {},
   "outputs": [],
   "source": []
  },
  {
   "cell_type": "markdown",
   "id": "8ad2e5a7-4e4f-4a61-aee4-52e9de5957ef",
   "metadata": {},
   "source": [
    "# The Perceptron\n",
    "\n",
    "It is based on a slightly different artificial neuron called a threshold logic unit (TLU), or sometimes a linear threshold unit (LTU). The inputs and output are numbers (instead of binary on/off values), and each input connection is associated with a weight. The TLU computes a weighted sum of its inputs (z = w1x1+ w2x2 + ⋯ + wnxn = x⊺ w), then applies a step function to that sum and outputs the result: hw(x) = step(z), where z = x⊺ w."
   ]
  },
  {
   "cell_type": "markdown",
   "id": "40a2ce9a-4c4a-4233-97ac-d5e901647eb9",
   "metadata": {},
   "source": [
    "#### The most common step function used in Perceptrons is the Heaviside step function. Sometimes the sign function is used instead."
   ]
  },
  {
   "cell_type": "markdown",
   "id": "4cc68ade-aa45-4744-abf0-e399dc732db5",
   "metadata": {},
   "source": [
    " heaviside z = 0 if z < 0 ,1 if z ≥ 0 \r\n",
    " \r\n",
    " sgn z =  −1 if z < 0 ,0 if z=0 ,+1 if z > 0"
   ]
  },
  {
   "cell_type": "markdown",
   "id": "29995a82-5184-4b54-b8e3-57c773f5abb6",
   "metadata": {},
   "source": [
    "A single TLU can be used for simple linear binary classification. It computes a linear\r\n",
    " combination of the inputs, and if the result exceeds a threshold, it outputs the posi\r\n",
    "tive class. Otherwise it outputs the negative class (just like a Logistic Regression or\r\n",
    " linear SVM classifier). "
   ]
  },
  {
   "cell_type": "markdown",
   "id": "0701f2d6-edf0-4bed-8b36-4235dc16887f",
   "metadata": {},
   "source": [
    "#### Training a TLU means finding the right values for w0, w1, and w2 "
   ]
  },
  {
   "cell_type": "markdown",
   "id": "f17941b8-4071-478d-987d-eca8cb637aff",
   "metadata": {},
   "source": [
    "A Perceptron is simply composed of a single layer of TLUs,7 with each TLU connected to all the inputs. When all the neurons in a layer are connected to every neuron in the previous layer (i.e., its input neurons), the layer is called a fully connected layer, or a dense layer. "
   ]
  },
  {
   "cell_type": "markdown",
   "id": "6c1eaa00-6b13-4817-9d3b-1538d8c8d56e",
   "metadata": {},
   "source": [
    "The inputs of the Perceptron are fed to special passthrough neurons called input neurons: they output whatever input they are fed. All the input neurons form the input layer. Moreover, an extra bias feature is generally added (x0 = 1): it is typically represented using a special type of neuron called a bias neuron, which outputs 1 all the time."
   ]
  },
  {
   "cell_type": "markdown",
   "id": "ab7960b0-c32c-4ec1-8b21-6111827d38ca",
   "metadata": {},
   "source": [
    "#### IMPORTANT:  Computing the outputs of a fully connected layer\n",
    "ϕ(XW+b) (explanation of terms is there in the notebook)"
   ]
  },
  {
   "cell_type": "markdown",
   "id": "8f3867e5-f130-42d8-b6d7-6d854a3e3f55",
   "metadata": {},
   "source": [
    "## Training algorithm of Perceptron"
   ]
  },
  {
   "cell_type": "markdown",
   "id": "19a6e3fc-0358-466d-9786-54d52be429a9",
   "metadata": {},
   "source": [
    "Perceptrons are trained using a rule that takes into account the error made by the network when it makes a prediction; Perceptron learning rule reinforces connections that help reduce the error. More specifically, the Perceptron is fed one training instance at a time, and for each instance it makes its predictions. For every output neuron that produced a wrong prediction, it reinforces the connection weights from the inputs that would have contributed to the correct prediction.\n",
    "\n",
    "For the line \"For every output neuron that produced a wrong prediction, it reinforces the connection weights from the inputs that would have contributed to the correct prediction.\" What this means is that suppose if for an input the output given by perceptron was wrong, then in that case we update the weight, which basically means reinforcing, i.e. we increase/decrease the weight values for the inputs that got classified as incorrect. NOTE: I think this line should have been written as \"For every output neuron that produced a wrong prediction, it reinforces the connection weights FOR  the inputs that would have contributed to the correct prediction.\"\""
   ]
  },
  {
   "cell_type": "markdown",
   "id": "41888729-9857-453e-9486-72c2ef112cfe",
   "metadata": {},
   "source": [
    "#### Perceptron Weight Update\n",
    "W(i, jnext step) = w(i, j) + η(yj − y)\n",
    "Explanation of terms in notebook"
   ]
  },
  {
   "cell_type": "markdown",
   "id": "38fb7c26-c78a-4b97-9a4f-2906a92733e0",
   "metadata": {},
   "source": [
    "#### Perceptron Convergance Theorem\n",
    "The decision boundary of each output neuron is linear, so Perceptrons are incapable of learning complex patterns (just like Logistic Regression classifiers). However, if the training instances are linearly separable, Rosenblatt demonstrated that this algorithm would converge to a solution.8 This is called the Perceptron convergence theorem.\r\n"
   ]
  },
  {
   "cell_type": "code",
   "execution_count": null,
   "id": "fa10e411-2359-4af5-ab23-325f1d68b8bc",
   "metadata": {},
   "outputs": [],
   "source": []
  },
  {
   "cell_type": "markdown",
   "id": "478fb2ea-189a-41c8-b952-76f851258695",
   "metadata": {},
   "source": [
    "### Perceptron Using Scikit-Learn"
   ]
  },
  {
   "cell_type": "code",
   "execution_count": 1,
   "id": "5026bae9-4708-4d6d-abc3-77305f8b7e47",
   "metadata": {},
   "outputs": [],
   "source": [
    "import numpy as np\n",
    "from sklearn.datasets import load_iris\n",
    "from sklearn.linear_model import Perceptron"
   ]
  },
  {
   "cell_type": "code",
   "execution_count": 2,
   "id": "fb40ba45-2387-402b-81d6-d797a44d50a0",
   "metadata": {},
   "outputs": [],
   "source": [
    "iris = load_iris()\n",
    "X = iris.data[:, (2, 3)]  # petal length, petal width\n",
    "y = (iris.target == 0).astype(int)  # Iris setosa"
   ]
  },
  {
   "cell_type": "code",
   "execution_count": 3,
   "id": "fae4b576-07d6-468e-a9b2-b263e7bac123",
   "metadata": {},
   "outputs": [
    {
     "data": {
      "text/html": [
       "<style>#sk-container-id-1 {color: black;}#sk-container-id-1 pre{padding: 0;}#sk-container-id-1 div.sk-toggleable {background-color: white;}#sk-container-id-1 label.sk-toggleable__label {cursor: pointer;display: block;width: 100%;margin-bottom: 0;padding: 0.3em;box-sizing: border-box;text-align: center;}#sk-container-id-1 label.sk-toggleable__label-arrow:before {content: \"▸\";float: left;margin-right: 0.25em;color: #696969;}#sk-container-id-1 label.sk-toggleable__label-arrow:hover:before {color: black;}#sk-container-id-1 div.sk-estimator:hover label.sk-toggleable__label-arrow:before {color: black;}#sk-container-id-1 div.sk-toggleable__content {max-height: 0;max-width: 0;overflow: hidden;text-align: left;background-color: #f0f8ff;}#sk-container-id-1 div.sk-toggleable__content pre {margin: 0.2em;color: black;border-radius: 0.25em;background-color: #f0f8ff;}#sk-container-id-1 input.sk-toggleable__control:checked~div.sk-toggleable__content {max-height: 200px;max-width: 100%;overflow: auto;}#sk-container-id-1 input.sk-toggleable__control:checked~label.sk-toggleable__label-arrow:before {content: \"▾\";}#sk-container-id-1 div.sk-estimator input.sk-toggleable__control:checked~label.sk-toggleable__label {background-color: #d4ebff;}#sk-container-id-1 div.sk-label input.sk-toggleable__control:checked~label.sk-toggleable__label {background-color: #d4ebff;}#sk-container-id-1 input.sk-hidden--visually {border: 0;clip: rect(1px 1px 1px 1px);clip: rect(1px, 1px, 1px, 1px);height: 1px;margin: -1px;overflow: hidden;padding: 0;position: absolute;width: 1px;}#sk-container-id-1 div.sk-estimator {font-family: monospace;background-color: #f0f8ff;border: 1px dotted black;border-radius: 0.25em;box-sizing: border-box;margin-bottom: 0.5em;}#sk-container-id-1 div.sk-estimator:hover {background-color: #d4ebff;}#sk-container-id-1 div.sk-parallel-item::after {content: \"\";width: 100%;border-bottom: 1px solid gray;flex-grow: 1;}#sk-container-id-1 div.sk-label:hover label.sk-toggleable__label {background-color: #d4ebff;}#sk-container-id-1 div.sk-serial::before {content: \"\";position: absolute;border-left: 1px solid gray;box-sizing: border-box;top: 0;bottom: 0;left: 50%;z-index: 0;}#sk-container-id-1 div.sk-serial {display: flex;flex-direction: column;align-items: center;background-color: white;padding-right: 0.2em;padding-left: 0.2em;position: relative;}#sk-container-id-1 div.sk-item {position: relative;z-index: 1;}#sk-container-id-1 div.sk-parallel {display: flex;align-items: stretch;justify-content: center;background-color: white;position: relative;}#sk-container-id-1 div.sk-item::before, #sk-container-id-1 div.sk-parallel-item::before {content: \"\";position: absolute;border-left: 1px solid gray;box-sizing: border-box;top: 0;bottom: 0;left: 50%;z-index: -1;}#sk-container-id-1 div.sk-parallel-item {display: flex;flex-direction: column;z-index: 1;position: relative;background-color: white;}#sk-container-id-1 div.sk-parallel-item:first-child::after {align-self: flex-end;width: 50%;}#sk-container-id-1 div.sk-parallel-item:last-child::after {align-self: flex-start;width: 50%;}#sk-container-id-1 div.sk-parallel-item:only-child::after {width: 0;}#sk-container-id-1 div.sk-dashed-wrapped {border: 1px dashed gray;margin: 0 0.4em 0.5em 0.4em;box-sizing: border-box;padding-bottom: 0.4em;background-color: white;}#sk-container-id-1 div.sk-label label {font-family: monospace;font-weight: bold;display: inline-block;line-height: 1.2em;}#sk-container-id-1 div.sk-label-container {text-align: center;}#sk-container-id-1 div.sk-container {/* jupyter's `normalize.less` sets `[hidden] { display: none; }` but bootstrap.min.css set `[hidden] { display: none !important; }` so we also need the `!important` here to be able to override the default hidden behavior on the sphinx rendered scikit-learn.org. See: https://github.com/scikit-learn/scikit-learn/issues/21755 */display: inline-block !important;position: relative;}#sk-container-id-1 div.sk-text-repr-fallback {display: none;}</style><div id=\"sk-container-id-1\" class=\"sk-top-container\"><div class=\"sk-text-repr-fallback\"><pre>Perceptron()</pre><b>In a Jupyter environment, please rerun this cell to show the HTML representation or trust the notebook. <br />On GitHub, the HTML representation is unable to render, please try loading this page with nbviewer.org.</b></div><div class=\"sk-container\" hidden><div class=\"sk-item\"><div class=\"sk-estimator sk-toggleable\"><input class=\"sk-toggleable__control sk-hidden--visually\" id=\"sk-estimator-id-1\" type=\"checkbox\" checked><label for=\"sk-estimator-id-1\" class=\"sk-toggleable__label sk-toggleable__label-arrow\">Perceptron</label><div class=\"sk-toggleable__content\"><pre>Perceptron()</pre></div></div></div></div></div>"
      ],
      "text/plain": [
       "Perceptron()"
      ]
     },
     "execution_count": 3,
     "metadata": {},
     "output_type": "execute_result"
    }
   ],
   "source": [
    "per_clf = Perceptron()\n",
    "per_clf.fit(X, y)"
   ]
  },
  {
   "cell_type": "code",
   "execution_count": 4,
   "id": "9db98f70-dcea-4430-8d98-089ef01365a1",
   "metadata": {},
   "outputs": [
    {
     "data": {
      "text/plain": [
       "array([0])"
      ]
     },
     "execution_count": 4,
     "metadata": {},
     "output_type": "execute_result"
    }
   ],
   "source": [
    "y_pred = per_clf.predict([[2, 0.5]])\n",
    "y_pred"
   ]
  },
  {
   "cell_type": "code",
   "execution_count": null,
   "id": "15747e18-bc97-4c14-8d38-2261062708aa",
   "metadata": {},
   "outputs": [],
   "source": []
  },
  {
   "cell_type": "markdown",
   "id": "004cbe93-482a-446e-8e6a-a3715bbf7c71",
   "metadata": {},
   "source": [
    "#### NOTE\n",
    "You may have noticed that the Perceptron learning algorithm strongly resembles Stochastic Gradient Descent, remember how Stochastic Gradient Descent deals with one input value at a time . In fact, Scikit-Learn’s Perceptron class is equivalent to using an SGDClassifier with the following hyperparameters: loss=\"perceptron\", learning_rate=\"constant\", eta0=1 (the learning rate), and penalty=None (no regularization)."
   ]
  },
  {
   "cell_type": "code",
   "execution_count": null,
   "id": "cd078db3-ff53-48ff-b16a-12aa3e3ba597",
   "metadata": {},
   "outputs": [],
   "source": []
  },
  {
   "cell_type": "markdown",
   "id": "6edc3a4a-02eb-41cf-ac45-94f24c15a149",
   "metadata": {},
   "source": [
    "# The Multilayer Perceptron and Backpropagation"
   ]
  },
  {
   "cell_type": "markdown",
   "id": "b5c18be2-e00c-4ebe-ac0e-339a31fac202",
   "metadata": {},
   "source": [
    "#### Architecture\n",
    "An MLP is composed of one (passthrough) input layer, one or more layers of TLUs, called hidden layers, and one final layer of TLUs called the output layer. The layers close to the input layer are usually called the lower layers, and\r\n",
    " the ones close to the outputs are usually called the upper layers. Every layer except the\r\n",
    " output layer includes a bias neuron and is fully connected to the next laye The signal flows only in one direction (from the inputs to the outputs), so this architecture is an example of a feedforward neural network (FNN).r."
   ]
  },
  {
   "cell_type": "code",
   "execution_count": null,
   "id": "64a8cd56-80a8-4683-9f9b-a365cdb2acf5",
   "metadata": {},
   "outputs": [],
   "source": []
  },
  {
   "cell_type": "markdown",
   "id": "ca040261-1678-4af8-b3e9-ab42ca2ce727",
   "metadata": {},
   "source": [
    "## Backpropagation training algorithm\n",
    "In short, it is Gradient Descent using an efficient technique for computing the gradients automatically:in just two\r\n",
    "passes through the network (one forward, one backward), the backpropagation algorithm is able to compute the gradient of the network’s error with regard to every single model parameter. In other words, it can find out how each connection weight and each bias term should be tweaked in order to reduce the error. Once it has these gradients, it just performs a regular Gradient Descent step, and the whole process is repeated until the network converges to the solution."
   ]
  },
  {
   "cell_type": "markdown",
   "id": "7da64cdf-0fa8-4bf4-977d-c2a9c9105990",
   "metadata": {},
   "source": [
    "### STEP 1:-  It handles one mini-batch at a time (for example, containing 32 instances each),and it goes through the full training set multiple times. Each pass is called an epoch."
   ]
  },
  {
   "cell_type": "markdown",
   "id": "fdc870e4-e75f-4cea-9860-4dd421abe3f6",
   "metadata": {},
   "source": [
    "### STEP 2:- Each mini-batch is passed to the network’s input layer, which sends it to the first hidden layer. The algorithm then computes the output of all the neurons in this layer (for every instance in the mini-batch). The result is passed on to the next layer, its output is computed and passed to the next layer, and so on until we get the output of the last layer, the output layer. This is the forward pass: it is exactly like making predictions, except all intermediate results are preserved since they are needed for the backward pass."
   ]
  },
  {
   "cell_type": "markdown",
   "id": "246997a3-a091-4685-ab7b-c8b845f1c3e4",
   "metadata": {},
   "source": [
    "### STEP 3:- Next, the algorithm measures the network’s output error (i.e., it uses a loss function that compares the desired output and the actual output of the network, and returns some measure of the error)."
   ]
  },
  {
   "cell_type": "markdown",
   "id": "4bfd4575-d663-47ee-96e4-605469fa22cd",
   "metadata": {},
   "source": [
    "### STEP 4:- Then it computes how much each output connection contributed to the error. This is done analytically by applying the chain rule (perhaps the most fundamental rule in calculus), which makes this step fast and precise.\n",
    "\n",
    "## Important, see notebook part \"chain rule\""
   ]
  },
  {
   "cell_type": "markdown",
   "id": "cd87cfec-9420-4286-8e37-bd37853e1729",
   "metadata": {},
   "source": [
    "### STEP 5:- The algorithm then measures how much of these error contributions came from each connection in the layer below, again using the chain rule, working backward until the algorithm reaches the input layer. As explained earlier, this reverse pass efficiently measures the error gradient across all the connection weights in the network by propagating the error gradient backward through the network (hence the name of the algorithm)."
   ]
  },
  {
   "cell_type": "markdown",
   "id": "fcc9767f-4173-4ab4-9ba4-080fa885a75e",
   "metadata": {},
   "source": [
    "### STEP 6:- Finally, the algorithm performs a Gradient Descent step to tweak all the connection weights in the network, using the error gradients it just computed."
   ]
  },
  {
   "cell_type": "markdown",
   "id": "e94744f3-1dd2-4505-82d2-9abc298d6c02",
   "metadata": {},
   "source": [
    "### SUMMARY of the Algorithm\n",
    "for each training instance, the backpropagation algorithm first makes a prediction (forward pass) and measures the error, then goes through each layer in reverse to measure the error contribution from each connection (reverse pass), and finally tweaks the connection weights to reduce the error (Gradient Descent step)."
   ]
  },
  {
   "cell_type": "code",
   "execution_count": null,
   "id": "ea4fb3a6-aa11-4d6b-8bef-fbb254f4c298",
   "metadata": {},
   "outputs": [],
   "source": []
  },
  {
   "cell_type": "markdown",
   "id": "77083888-15da-4d2b-9c87-1407a9cd54fc",
   "metadata": {},
   "source": [
    "#### Autodiff\n",
    "Automatically computing gradients is called automatic differentiation, or autodiff. There are various autodiff techniques, with different pros and cons. The one used by backpropagation is called reverse-mode autodiff. It is fast and precise, and is well suited when the function to differentiate has many variables (e.g., connection weights) and few outputs (e.g., one loss)."
   ]
  },
  {
   "cell_type": "code",
   "execution_count": null,
   "id": "6b8b86cb-a237-48b5-b9aa-2a4e38a4b264",
   "metadata": {},
   "outputs": [],
   "source": []
  },
  {
   "cell_type": "markdown",
   "id": "130f5d86-a7fc-4131-a8fe-1955d916d0a6",
   "metadata": {},
   "source": [
    "## Why do we need activation functions \n",
    "If you chain several linear transformations, all you get is a linear transformation. For example, if f(x) = 2x + 3 and g(x) = 5x – 1, then chaining these two linear functions gives you another linear function: f(g(x)) = 2(5x – 1) + 3 = 10x + 1. So if you don’t have some nonlinearity between layers, then even a deep stack of layers is equivalent to a single layer, and you can’t solve very complex problems with that. Conversely, a large enough DNN with nonlinear activations can theoretically approximate any continuous function."
   ]
  },
  {
   "cell_type": "code",
   "execution_count": null,
   "id": "beb09b76-417e-4d5a-a1c1-4bbdd12d842a",
   "metadata": {},
   "outputs": [],
   "source": []
  },
  {
   "cell_type": "markdown",
   "id": "00b26efa-e6e0-4f81-be60-7dc8cbb46ee2",
   "metadata": {},
   "source": [
    "## Regression MLPs\n",
    "\n",
    "NOTE :- see Table 10-1. Typical regression MLP architecture from the Textbook "
   ]
  },
  {
   "cell_type": "markdown",
   "id": "e4f7bb25-2df5-49ae-9b12-148d80fe7985",
   "metadata": {},
   "source": [
    "First, MLPs can be used for regression tasks. If you want to predict a single value (e.g., the price of a house, given many of its features), then you just need a single output neuron: its output is the predicted value. For multivariate regression (i.e., to predict multiple values at once), you need one output neuron per output dimension. For example, to locate the center of an object in an image, you need to predict 2D coordinates, so you need two output neurons. If you also want to place a bounding box around the object, then you need two more numbers: the width and the height of the object. So, you end up with four output neurons."
   ]
  },
  {
   "cell_type": "markdown",
   "id": "00013194-0a94-4c86-b556-a8442aa91cf9",
   "metadata": {},
   "source": [
    "In general, when building an MLP for regression, you do not want to use any activation function for the output neurons, so they are free to output any range of values. If you want to guarantee that the output will always be positive, then you can use the ReLU activation function in the output layer. Alternatively, you can use the softplus activation function, which is a smooth variant of ReLU: softplus(z) = log(1 + exp(z)). It is close to 0 when z is negative, and close to z when z is positive. Finally, if you want to guarantee that the predictions will fall within a given range of values, then you can use the logistic function or the hyperbolic tangent, and then scale the labels to the appropriate range: 0 to 1 for the logistic function and –1 to 1 for the hyperbolic tangent."
   ]
  },
  {
   "cell_type": "markdown",
   "id": "ceb23bb3-de49-4e2a-8928-c80ba52beee1",
   "metadata": {},
   "source": [
    "The loss function to use during training is typically the mean squared error, but if you The Huber loss is quadratic when the error is smaller than a threshold δ (typically 1) but linear when the error is larger than δ. The linear part makes it less sensitive to outliers than the mean squared error, and the quadratic part allows it to converge faster and be more precise than the mean absolute error.have a lot of outliers in the training set, you may prefer to use the mean absolute error instead. Alternatively, you can use the Huber loss, which is a combination of both."
   ]
  },
  {
   "cell_type": "code",
   "execution_count": null,
   "id": "c863ee7a-716d-4db2-8a9a-2aa087728786",
   "metadata": {},
   "outputs": [],
   "source": []
  },
  {
   "cell_type": "markdown",
   "id": "53c4c38c-bc94-44f5-adce-e7e1afb44995",
   "metadata": {},
   "source": [
    "## Classification MLPs"
   ]
  },
  {
   "cell_type": "markdown",
   "id": "dd37c4ae-01b9-470a-9ff3-5056b978cfc9",
   "metadata": {},
   "source": [
    "MLPs can also be used for classification tasks. For a binary classification problem, you just need a single output neuron using the logistic activation function: the output will be a number between 0 and 1, which you can interpret as the estimated probability of the positive class. The estimated probability of the negative class is equal to one minus that number."
   ]
  },
  {
   "cell_type": "markdown",
   "id": "e6e3e3fc-3e41-4bd7-9d84-cb26e5a61435",
   "metadata": {},
   "source": [
    "MLPs can also easily handle multilabel binary classification tasks (see Chapter 3). For example, you could have an email classification system that predicts whether each incoming email is ham or spam, and simultaneously predicts whether it is an urgent or nonurgent email. In this case, you would need two output neurons, both using the logistic activation function: the first would output the probability that the email is spam, and the second would output the probability that it is urgent. More generally, you would dedicate one output neuron for each positive class. Note that the output probabilities do not necessarily add up to 1. This lets the model output any combination of labels: you can have nonurgent ham, urgent ham, nonurgent spam, and perhaps even urgent spam (although that would probably be an error)."
   ]
  },
  {
   "cell_type": "markdown",
   "id": "2595ec4a-7d44-46b0-8b5f-60114c2da7e3",
   "metadata": {},
   "source": [
    "If each instance can belong only to a single class, out of three or more possible classes (e.g., classes 0 through 9 for digit image classification), then you need to have one output neuron per class, and you should use the softmax activation function for the whole output layer. The softmax function (introduced in Chapter 4)will ensure that all the estimated probabilities are between 0 and 1 and that they add up to 1 (which is required if the classes are exclusive). This is called multiclass classification."
   ]
  },
  {
   "cell_type": "markdown",
   "id": "e594915d-513f-42d7-94ac-9f96981ac48f",
   "metadata": {},
   "source": [
    "Regarding the loss function, since we are predicting probability distributions, the cross-entropy loss (also called the log loss, see Chapter 4) is generally a good choice."
   ]
  },
  {
   "cell_type": "code",
   "execution_count": null,
   "id": "efee6b2f-248c-4bb0-b49a-15775df2c5e1",
   "metadata": {},
   "outputs": [],
   "source": []
  },
  {
   "cell_type": "markdown",
   "id": "f2c3615a-1f41-4b40-8393-c78b1cebb165",
   "metadata": {},
   "source": [
    "# Implementing MLPs with Keras"
   ]
  },
  {
   "cell_type": "markdown",
   "id": "cb13b0aa-553e-4a83-a97f-f4aa22809aa5",
   "metadata": {},
   "source": [
    "Keras is a high-level Deep Learning API that allows you to easily build, train, evaluate, and execute all sorts of neural networks."
   ]
  },
  {
   "cell_type": "markdown",
   "id": "e8ba0b1b-60a4-4be1-b790-2471bd9b3c6f",
   "metadata": {},
   "source": [
    "To perform the heavy computations required by neural networks, this reference implementation relies on a computation backend. At present, you can choose from three popular open source Deep Learning libraries:TensorFlow, Microsoft Cognitive Toolkit (CNTK), and Theano."
   ]
  },
  {
   "cell_type": "markdown",
   "id": "f918995c-6d5f-4d1b-a924-6bd47b04ccb8",
   "metadata": {},
   "source": [
    "Since late 2016, other implementations have been released. You can now run Keras on Apache MXNet, Apple’s Core ML, JavaScript or TypeScript (to run Keras code in a web browser), and PlaidML (which can run on all sorts of GPU devices, not just Nvidia)."
   ]
  },
  {
   "cell_type": "markdown",
   "id": "151250fa-1e54-49e4-95a5-cd6610713415",
   "metadata": {},
   "source": [
    "Moreover, TensorFlow itself now comes bundled with its own Keras implementation, tf.keras. It only supports TensorFlow as the backend, but it has the advantage of offering some very useful extra features: for example, it supports TensorFlow’s Data API, which makes it easy to load and preprocess data efficiently.\r\n"
   ]
  },
  {
   "cell_type": "code",
   "execution_count": 5,
   "id": "8d296c4e-bf72-44a4-bc14-a01fa7e80f43",
   "metadata": {},
   "outputs": [
    {
     "name": "stdout",
     "output_type": "stream",
     "text": [
      "WARNING:tensorflow:From C:\\Python 3.11\\Lib\\site-packages\\keras\\src\\losses.py:2976: The name tf.losses.sparse_softmax_cross_entropy is deprecated. Please use tf.compat.v1.losses.sparse_softmax_cross_entropy instead.\n",
      "\n"
     ]
    }
   ],
   "source": [
    "import tensorflow as tf"
   ]
  },
  {
   "cell_type": "code",
   "execution_count": 6,
   "id": "41bd01a8-ff2e-4668-b71f-691742f4e5f2",
   "metadata": {},
   "outputs": [],
   "source": [
    "from tensorflow import keras"
   ]
  },
  {
   "cell_type": "code",
   "execution_count": 7,
   "id": "db4a0d22-bf81-4494-b9c0-ae1cec6c1457",
   "metadata": {},
   "outputs": [
    {
     "data": {
      "text/plain": [
       "'2.15.0'"
      ]
     },
     "execution_count": 7,
     "metadata": {},
     "output_type": "execute_result"
    }
   ],
   "source": [
    "tf.__version__"
   ]
  },
  {
   "cell_type": "code",
   "execution_count": 8,
   "id": "f8b3fd30-afef-4309-86bb-c0e6ff385b8b",
   "metadata": {},
   "outputs": [
    {
     "data": {
      "text/plain": [
       "<KerasLazyLoader (keras_2) keras.api._v2.keras as keras mode=None>"
      ]
     },
     "execution_count": 8,
     "metadata": {},
     "output_type": "execute_result"
    }
   ],
   "source": [
    "keras"
   ]
  },
  {
   "cell_type": "markdown",
   "id": "c73eeb2d-3a5f-4107-8e21-48b202a62f0c",
   "metadata": {},
   "source": [
    "# Building an Image Classifier Using the Sequential API"
   ]
  },
  {
   "cell_type": "markdown",
   "id": "cd247803-2bb0-4682-b7ea-6e5ba866c4f5",
   "metadata": {},
   "source": [
    "First, we need to load a dataset. In this chapter we will tackle Fashion MNIST, which is a drop-in replacement of MNIST (introduced in Chapter 3). It has the exact same format as MNIST (70,000 grayscale images of 28 × 28 pixels each, with 10 classes), but the images represent fashion items rather than handwritten digits, so each class is more diverse, and the problem turns out to be significantly more challenging than MNIST. For example, a simple linear model reaches about 92% accuracy on MNIST, but only about 83% on Fashion MNIST."
   ]
  },
  {
   "cell_type": "markdown",
   "id": "0de888ae-fa5e-4623-84a9-88e4c96f9ea9",
   "metadata": {},
   "source": [
    "## Using Keras to load the dataset"
   ]
  },
  {
   "cell_type": "markdown",
   "id": "0d312767-9250-4525-a2ec-656794526cca",
   "metadata": {},
   "source": [
    "Keras provides some utility functions to fetch and load common datasets, including MNIST, Fashion MNIST, and the California housing dataset we used in Chapter 2. Let’s load Fashion MNIST:"
   ]
  },
  {
   "cell_type": "code",
   "execution_count": 9,
   "id": "6058fdfc-307b-4939-aa9e-74a89347171d",
   "metadata": {},
   "outputs": [
    {
     "data": {
      "text/plain": [
       "<module 'keras.api._v2.keras.datasets.fashion_mnist' from 'C:\\\\Python 3.11\\\\Lib\\\\site-packages\\\\keras\\\\api\\\\_v2\\\\keras\\\\datasets\\\\fashion_mnist\\\\__init__.py'>"
      ]
     },
     "execution_count": 9,
     "metadata": {},
     "output_type": "execute_result"
    }
   ],
   "source": [
    "fashion_mnist = keras.datasets.fashion_mnist\n",
    "fashion_mnist"
   ]
  },
  {
   "cell_type": "code",
   "execution_count": 10,
   "id": "ea18eff0-da7d-47de-a27c-8fa670400147",
   "metadata": {},
   "outputs": [],
   "source": [
    "(X_train_full, y_train_full), (X_test, y_test) = fashion_mnist.load_data()"
   ]
  },
  {
   "cell_type": "code",
   "execution_count": 11,
   "id": "c34a4af1-a00c-47c1-9171-a6d2e56c5776",
   "metadata": {},
   "outputs": [
    {
     "data": {
      "text/plain": [
       "array([[[0, 0, 0, ..., 0, 0, 0],\n",
       "        [0, 0, 0, ..., 0, 0, 0],\n",
       "        [0, 0, 0, ..., 0, 0, 0],\n",
       "        ...,\n",
       "        [0, 0, 0, ..., 0, 0, 0],\n",
       "        [0, 0, 0, ..., 0, 0, 0],\n",
       "        [0, 0, 0, ..., 0, 0, 0]],\n",
       "\n",
       "       [[0, 0, 0, ..., 0, 0, 0],\n",
       "        [0, 0, 0, ..., 0, 0, 0],\n",
       "        [0, 0, 0, ..., 0, 0, 0],\n",
       "        ...,\n",
       "        [0, 0, 0, ..., 0, 0, 0],\n",
       "        [0, 0, 0, ..., 0, 0, 0],\n",
       "        [0, 0, 0, ..., 0, 0, 0]],\n",
       "\n",
       "       [[0, 0, 0, ..., 0, 0, 0],\n",
       "        [0, 0, 0, ..., 0, 0, 0],\n",
       "        [0, 0, 0, ..., 0, 0, 0],\n",
       "        ...,\n",
       "        [0, 0, 0, ..., 0, 0, 0],\n",
       "        [0, 0, 0, ..., 0, 0, 0],\n",
       "        [0, 0, 0, ..., 0, 0, 0]],\n",
       "\n",
       "       ...,\n",
       "\n",
       "       [[0, 0, 0, ..., 0, 0, 0],\n",
       "        [0, 0, 0, ..., 0, 0, 0],\n",
       "        [0, 0, 0, ..., 0, 0, 0],\n",
       "        ...,\n",
       "        [0, 0, 0, ..., 0, 0, 0],\n",
       "        [0, 0, 0, ..., 0, 0, 0],\n",
       "        [0, 0, 0, ..., 0, 0, 0]],\n",
       "\n",
       "       [[0, 0, 0, ..., 0, 0, 0],\n",
       "        [0, 0, 0, ..., 0, 0, 0],\n",
       "        [0, 0, 0, ..., 0, 0, 0],\n",
       "        ...,\n",
       "        [0, 0, 0, ..., 0, 0, 0],\n",
       "        [0, 0, 0, ..., 0, 0, 0],\n",
       "        [0, 0, 0, ..., 0, 0, 0]],\n",
       "\n",
       "       [[0, 0, 0, ..., 0, 0, 0],\n",
       "        [0, 0, 0, ..., 0, 0, 0],\n",
       "        [0, 0, 0, ..., 0, 0, 0],\n",
       "        ...,\n",
       "        [0, 0, 0, ..., 0, 0, 0],\n",
       "        [0, 0, 0, ..., 0, 0, 0],\n",
       "        [0, 0, 0, ..., 0, 0, 0]]], dtype=uint8)"
      ]
     },
     "execution_count": 11,
     "metadata": {},
     "output_type": "execute_result"
    }
   ],
   "source": [
    "X_train_full"
   ]
  },
  {
   "cell_type": "code",
   "execution_count": 12,
   "id": "715338ff-851f-43f5-af1b-a1c10a4b359d",
   "metadata": {},
   "outputs": [
    {
     "data": {
      "text/plain": [
       "(60000, 28, 28)"
      ]
     },
     "execution_count": 12,
     "metadata": {},
     "output_type": "execute_result"
    }
   ],
   "source": [
    "X_train_full.shape"
   ]
  },
  {
   "cell_type": "code",
   "execution_count": 13,
   "id": "0c12cbd2-fdca-45d7-9896-92de0c075a69",
   "metadata": {},
   "outputs": [
    {
     "data": {
      "text/plain": [
       "(28, 28)"
      ]
     },
     "execution_count": 13,
     "metadata": {},
     "output_type": "execute_result"
    }
   ],
   "source": [
    "X_train_full[0].shape"
   ]
  },
  {
   "cell_type": "code",
   "execution_count": null,
   "id": "a8b9193f-1919-4af0-abac-1e5dae1624ec",
   "metadata": {},
   "outputs": [],
   "source": []
  },
  {
   "cell_type": "code",
   "execution_count": null,
   "id": "12c2bbbd-2eca-450d-bc0d-eb048e32e3ee",
   "metadata": {},
   "outputs": [],
   "source": []
  },
  {
   "cell_type": "markdown",
   "id": "43a67626-989c-4a52-acd4-3f54b4251cf4",
   "metadata": {},
   "source": [
    "#### Important Note\n",
    "When loading MNIST or Fashion MNIST using Keras rather than Scikit-Learn, one important difference is that every image is represented as a 28 × 28 array rather than a 1D array of size 784. Moreover, the pixel intensities are represented as integers (from 0 to 255) rather than floats (from 0.0 to 255.0). Let’s take a look at the shape and data type of the training set:"
   ]
  },
  {
   "cell_type": "code",
   "execution_count": 14,
   "id": "7b0af752-88a0-479f-a3f2-506913bcf3a2",
   "metadata": {},
   "outputs": [
    {
     "data": {
      "text/plain": [
       "dtype('uint8')"
      ]
     },
     "execution_count": 14,
     "metadata": {},
     "output_type": "execute_result"
    }
   ],
   "source": [
    "X_train_full.dtype"
   ]
  },
  {
   "cell_type": "markdown",
   "id": "c8db79df-f233-4946-b56d-c8de9d0f0d9b",
   "metadata": {},
   "source": [
    "### Dataset Processing"
   ]
  },
  {
   "cell_type": "markdown",
   "id": "c8813301-94df-423d-97f9-c41edcab47b9",
   "metadata": {},
   "source": [
    "Note that the dataset is already split into a training set and a test set, but there is no validation set, so we’ll create one now. Additionally, since we are going to train the neural network using Gradient Descent, we must scale the input features. For simplicity, we’ll scale the pixel intensities down to the 0–1 range by dividing them by 255.0 (this also converts them to floats):"
   ]
  },
  {
   "cell_type": "code",
   "execution_count": 15,
   "id": "aa5c87ef-2224-4d93-8fac-6ae2bd7eb93f",
   "metadata": {},
   "outputs": [],
   "source": [
    "X_valid, X_train = X_train_full[:5000] / 255.0, X_train_full[5000:] / 255.0"
   ]
  },
  {
   "cell_type": "code",
   "execution_count": 16,
   "id": "f3cda4a3-d410-4602-8c01-c6b6ac144ea0",
   "metadata": {},
   "outputs": [],
   "source": [
    "y_valid, y_train = y_train_full[:5000], y_train_full[5000:]"
   ]
  },
  {
   "cell_type": "code",
   "execution_count": null,
   "id": "d61ee04a-0dfe-4e4a-8de0-6ef3118f7774",
   "metadata": {},
   "outputs": [],
   "source": []
  },
  {
   "cell_type": "markdown",
   "id": "5a03ab8a-5204-4ff3-bba9-17c495d97c56",
   "metadata": {},
   "source": [
    "#### Class Labels"
   ]
  },
  {
   "cell_type": "markdown",
   "id": "460c8a26-7093-4707-9f02-84380b3fc1f9",
   "metadata": {},
   "source": [
    "With MNIST, when the label is equal to 5, it means that the image represents the handwritten digit 5. Easy. For Fashion MNIST, however, we need the list of class names to know what we are dealing with:"
   ]
  },
  {
   "cell_type": "code",
   "execution_count": 17,
   "id": "22ef38ad-f0fb-46ec-9ce5-9bc8a6fdc016",
   "metadata": {},
   "outputs": [],
   "source": [
    "class_names = [\"T-shirt/top\", \"Trouser\", \"Pullover\", \"Dress\", \"Coat\",\n",
    " \"Sandal\", \"Shirt\", \"Sneaker\", \"Bag\", \"Ankle boot\"]"
   ]
  },
  {
   "cell_type": "code",
   "execution_count": 18,
   "id": "03ef76df-7ecf-409b-9f3e-86cf9a8fdf71",
   "metadata": {},
   "outputs": [
    {
     "data": {
      "text/plain": [
       "9"
      ]
     },
     "execution_count": 18,
     "metadata": {},
     "output_type": "execute_result"
    }
   ],
   "source": [
    "y_train[4]"
   ]
  },
  {
   "cell_type": "code",
   "execution_count": 19,
   "id": "5b970fe6-92a9-4072-a729-bbcc18423d1c",
   "metadata": {},
   "outputs": [
    {
     "data": {
      "text/plain": [
       "'Ankle boot'"
      ]
     },
     "execution_count": 19,
     "metadata": {},
     "output_type": "execute_result"
    }
   ],
   "source": [
    "class_names[y_train[4]]"
   ]
  },
  {
   "cell_type": "code",
   "execution_count": null,
   "id": "e0731b27-7ebf-46b6-803b-135fbcdd08cb",
   "metadata": {},
   "outputs": [],
   "source": []
  },
  {
   "cell_type": "markdown",
   "id": "7fb4d417-6237-4b38-9256-c612b7ce3c04",
   "metadata": {},
   "source": [
    "## Creating the model using the Sequential API"
   ]
  },
  {
   "cell_type": "markdown",
   "id": "fc0729db-ab45-4780-8b89-b4c4b1f9cecb",
   "metadata": {},
   "source": [
    "Now let’s build the neural network! Here is a classification MLP with two hidden \n",
    "layers:"
   ]
  },
  {
   "cell_type": "code",
   "execution_count": 20,
   "id": "224d305c-4e93-4a05-9e77-a96fc8ad5696",
   "metadata": {},
   "outputs": [
    {
     "name": "stdout",
     "output_type": "stream",
     "text": [
      "WARNING:tensorflow:From C:\\Python 3.11\\Lib\\site-packages\\keras\\src\\backend.py:873: The name tf.get_default_graph is deprecated. Please use tf.compat.v1.get_default_graph instead.\n",
      "\n"
     ]
    }
   ],
   "source": [
    "model = keras.models.Sequential()\n",
    "model.add(keras.layers.Flatten(input_shape=[28, 28]))\n",
    "model.add(keras.layers.Dense(300, activation=\"relu\"))\n",
    "model.add(keras.layers.Dense(100, activation=\"relu\"))\n",
    "model.add(keras.layers.Dense(10, activation=\"softmax\"))"
   ]
  },
  {
   "cell_type": "markdown",
   "id": "b66306a8-318e-4189-9f4c-05097793a8e3",
   "metadata": {},
   "source": [
    "## Understanding the model"
   ]
  },
  {
   "cell_type": "markdown",
   "id": "8384cb57-3623-4981-a0fd-7b858ea3071f",
   "metadata": {},
   "source": [
    "## 1) The first line creates a Sequential model. This is the simplest kind of Keras model for neural networks that are just composed of a single stack of layers connected sequentially. This is called the Sequential API."
   ]
  },
  {
   "cell_type": "markdown",
   "id": "d17626a6-d4be-435d-8bdb-0ab86452f4ba",
   "metadata": {},
   "source": [
    "## 2) Next, we build the first layer and add it to the model. It is a Flatten layer whose role is to convert each input image into a 1D array: if it receives input data X, it computes X.reshape(-1, 1). This layer does not have any parameters; it is just there to do some simple preprocessing. Since it is the first layer in the model, you should specify the input_shape, which doesn’t include the batch size, only the shape of the instances. Alternatively, you could add a keras.layers.InputLayer as the first layer, setting input_shape=[28,28].\n",
    "\n",
    "Note:- Why the reshape is (-1,1) because (-1,1) means give me an array of any number of rows but only 1 column i.e. an array of shape (784,1) in our case"
   ]
  },
  {
   "cell_type": "code",
   "execution_count": 21,
   "id": "bb9d915f-da68-45f7-96bc-1bd26f288c41",
   "metadata": {},
   "outputs": [
    {
     "data": {
      "text/plain": [
       "(784, 1)"
      ]
     },
     "execution_count": 21,
     "metadata": {},
     "output_type": "execute_result"
    }
   ],
   "source": [
    "X_check= X_valid[0].reshape(-1,1)\n",
    "X_check.shape"
   ]
  },
  {
   "cell_type": "code",
   "execution_count": 22,
   "id": "f947f77f-d0a5-4cb4-a0ec-f11a79f35f12",
   "metadata": {},
   "outputs": [
    {
     "data": {
      "text/plain": [
       "(1, 784)"
      ]
     },
     "execution_count": 22,
     "metadata": {},
     "output_type": "execute_result"
    }
   ],
   "source": [
    "X_check= X_valid[0].reshape(1,-1)\n",
    "X_check.shape"
   ]
  },
  {
   "cell_type": "markdown",
   "id": "7e068f05-e4cc-449d-84bd-2577eaacbbb8",
   "metadata": {},
   "source": [
    "## 3) Next we add a Dense hidden layer with 300 neurons. It will use the ReLU activation function. Each Dense layer manages its own weight matrix, containing all the connection weights between the neurons and their inputs. It also manages a vector of bias terms (one per neuron). When it receives some input data, it computes the equation shown below\n",
    "\n",
    "#### IMPORTANT:  Computing the outputs of a fully connected layer\n",
    "h((W, b))(\n",
    ")X =ϕ(XW+b) (explanation of terms is there in the notebook)"
   ]
  },
  {
   "cell_type": "markdown",
   "id": "3ee23cbe-da7f-4692-b0f3-b798d838b1d6",
   "metadata": {},
   "source": [
    "## 4) Then we add a second Dense hidden layer with 100 neurons, also using the ReLU activation function."
   ]
  },
  {
   "cell_type": "markdown",
   "id": "553b93ed-f516-4ea9-a758-6da249d6c864",
   "metadata": {},
   "source": [
    "## 5) Finally, we add a Dense output layer with 10 neurons (one per class), using the softmax activation function (because the classes are mutually exclusive)."
   ]
  },
  {
   "cell_type": "code",
   "execution_count": null,
   "id": "2e10fd17-33a8-4e10-b338-b695599f275d",
   "metadata": {},
   "outputs": [],
   "source": []
  },
  {
   "cell_type": "markdown",
   "id": "8934b1e5-9631-4f23-9ef3-6b73bc9b0925",
   "metadata": {},
   "source": [
    "### Instead of adding the layers one by one as we just did, you can pass a list of layers when creating the Sequential model:"
   ]
  },
  {
   "cell_type": "code",
   "execution_count": 23,
   "id": "dbda4a17-0cbd-4685-b223-00040dee99b4",
   "metadata": {},
   "outputs": [],
   "source": [
    "model = keras.models.Sequential([\n",
    " keras.layers.Flatten(input_shape=[28, 28]),\n",
    " keras.layers.Dense(300, activation=\"relu\"),\n",
    " keras.layers.Dense(100, activation=\"relu\"),\n",
    " keras.layers.Dense(10, activation=\"softmax\")\n",
    "])\n"
   ]
  },
  {
   "cell_type": "markdown",
   "id": "ca6acb78-b6d6-45a1-a4d8-0502de3a9933",
   "metadata": {},
   "source": [
    "## Model Summary"
   ]
  },
  {
   "cell_type": "markdown",
   "id": "65c85272-00d7-4ae3-9616-8b6b759e8979",
   "metadata": {},
   "source": [
    "The model’s summary() method displays all the model’s layers,14 including each layer’s name (which is automatically generated unless you set it when creating the layer), its output shape (None means the batch size can be anything), and its number of parameters. The summary ends with the total number of parameters, including trainable and non-trainable parameters."
   ]
  },
  {
   "cell_type": "code",
   "execution_count": 24,
   "id": "d18757e1-5586-4a9a-8540-7e0c916f8c27",
   "metadata": {},
   "outputs": [
    {
     "name": "stdout",
     "output_type": "stream",
     "text": [
      "Model: \"sequential_1\"\n",
      "_________________________________________________________________\n",
      " Layer (type)                Output Shape              Param #   \n",
      "=================================================================\n",
      " flatten_1 (Flatten)         (None, 784)               0         \n",
      "                                                                 \n",
      " dense_3 (Dense)             (None, 300)               235500    \n",
      "                                                                 \n",
      " dense_4 (Dense)             (None, 100)               30100     \n",
      "                                                                 \n",
      " dense_5 (Dense)             (None, 10)                1010      \n",
      "                                                                 \n",
      "=================================================================\n",
      "Total params: 266610 (1.02 MB)\n",
      "Trainable params: 266610 (1.02 MB)\n",
      "Non-trainable params: 0 (0.00 Byte)\n",
      "_________________________________________________________________\n"
     ]
    }
   ],
   "source": [
    "model.summary()"
   ]
  },
  {
   "cell_type": "code",
   "execution_count": 25,
   "id": "bafeeb0b-6eb4-477f-b4e0-8f4de033cbbb",
   "metadata": {},
   "outputs": [
    {
     "data": {
      "image/png": "[encoded data removed]",
      "text/plain": [
       "<IPython.core.display.Image object>"
      ]
     },
     "execution_count": 25,
     "metadata": {},
     "output_type": "execute_result"
    }
   ],
   "source": [
    "keras.utils.plot_model(model)"
   ]
  },
  {
   "cell_type": "code",
   "execution_count": null,
   "id": "be07cb72-0dd9-4346-958b-be870f5e0075",
   "metadata": {},
   "outputs": [],
   "source": []
  },
  {
   "cell_type": "markdown",
   "id": "0ffb4384-3cd4-4d92-a2a3-4f3ba3cc7dff",
   "metadata": {},
   "source": [
    "## NOTE:-\n",
    "The Dense layers often have a lot of parameters. For example, the first hidden layer has 784 × 300 connection weights, plus 300 bias terms, which adds up to 235,500 parameters! This gives the model quite a lot of flexibility to fit the training data, but it also means that the model runs the risk of overfitting, especially when you do not have a lot of training data."
   ]
  },
  {
   "cell_type": "code",
   "execution_count": 26,
   "id": "5853b871-df5d-475c-a442-9d48379bb552",
   "metadata": {},
   "outputs": [
    {
     "data": {
      "text/plain": [
       "[<keras.src.layers.reshaping.flatten.Flatten at 0x215cd9eac10>,\n",
       " <keras.src.layers.core.dense.Dense at 0x215cda08f90>,\n",
       " <keras.src.layers.core.dense.Dense at 0x215b0db7310>,\n",
       " <keras.src.layers.core.dense.Dense at 0x215b0dd9910>]"
      ]
     },
     "execution_count": 26,
     "metadata": {},
     "output_type": "execute_result"
    }
   ],
   "source": [
    "model.layers"
   ]
  },
  {
   "cell_type": "code",
   "execution_count": 27,
   "id": "e77b1e8f-23b4-4f1c-a3ea-10c66a738178",
   "metadata": {},
   "outputs": [
    {
     "data": {
      "text/plain": [
       "<keras.src.layers.core.dense.Dense at 0x215cda08f90>"
      ]
     },
     "execution_count": 27,
     "metadata": {},
     "output_type": "execute_result"
    }
   ],
   "source": [
    "hidden_1 = model.layers[1]\n",
    "hidden_1\n"
   ]
  },
  {
   "cell_type": "markdown",
   "id": "91c449b1-2bba-4c38-b052-79f8f2541e1f",
   "metadata": {},
   "source": [
    "## Model Parameters, Weights"
   ]
  },
  {
   "cell_type": "markdown",
   "id": "a7fe6d9f-5a8d-4c74-99b4-75bf6e4ba537",
   "metadata": {},
   "source": [
    "All the parameters of a layer can be accessed using its get_weights() and set_weights() methods. For a Dense layer, this includes both the connection weights and the bias terms:"
   ]
  },
  {
   "cell_type": "code",
   "execution_count": 28,
   "id": "58506b56-0748-4496-b59b-68f3495c17ed",
   "metadata": {},
   "outputs": [
    {
     "data": {
      "text/plain": [
       "[array([[-0.03590026, -0.03438793, -0.0164454 , ..., -0.00143368,\n",
       "         -0.07133218, -0.00539531],\n",
       "        [ 0.0608772 ,  0.00885334,  0.01763325, ...,  0.01980945,\n",
       "         -0.02433419, -0.00415098],\n",
       "        [ 0.01789536, -0.03813708,  0.0546574 , ...,  0.03119663,\n",
       "          0.01778713,  0.00695743],\n",
       "        ...,\n",
       "        [ 0.05229992,  0.01045112,  0.00296415, ..., -0.03323222,\n",
       "         -0.04094354,  0.06404774],\n",
       "        [ 0.05586107,  0.0018981 ,  0.01136605, ...,  0.03471864,\n",
       "         -0.03690504, -0.05734769],\n",
       "        [-0.05228484,  0.06847364, -0.00437561, ..., -0.04923638,\n",
       "          0.00060257,  0.002202  ]], dtype=float32),\n",
       " array([0., 0., 0., 0., 0., 0., 0., 0., 0., 0., 0., 0., 0., 0., 0., 0., 0.,\n",
       "        0., 0., 0., 0., 0., 0., 0., 0., 0., 0., 0., 0., 0., 0., 0., 0., 0.,\n",
       "        0., 0., 0., 0., 0., 0., 0., 0., 0., 0., 0., 0., 0., 0., 0., 0., 0.,\n",
       "        0., 0., 0., 0., 0., 0., 0., 0., 0., 0., 0., 0., 0., 0., 0., 0., 0.,\n",
       "        0., 0., 0., 0., 0., 0., 0., 0., 0., 0., 0., 0., 0., 0., 0., 0., 0.,\n",
       "        0., 0., 0., 0., 0., 0., 0., 0., 0., 0., 0., 0., 0., 0., 0., 0., 0.,\n",
       "        0., 0., 0., 0., 0., 0., 0., 0., 0., 0., 0., 0., 0., 0., 0., 0., 0.,\n",
       "        0., 0., 0., 0., 0., 0., 0., 0., 0., 0., 0., 0., 0., 0., 0., 0., 0.,\n",
       "        0., 0., 0., 0., 0., 0., 0., 0., 0., 0., 0., 0., 0., 0., 0., 0., 0.,\n",
       "        0., 0., 0., 0., 0., 0., 0., 0., 0., 0., 0., 0., 0., 0., 0., 0., 0.,\n",
       "        0., 0., 0., 0., 0., 0., 0., 0., 0., 0., 0., 0., 0., 0., 0., 0., 0.,\n",
       "        0., 0., 0., 0., 0., 0., 0., 0., 0., 0., 0., 0., 0., 0., 0., 0., 0.,\n",
       "        0., 0., 0., 0., 0., 0., 0., 0., 0., 0., 0., 0., 0., 0., 0., 0., 0.,\n",
       "        0., 0., 0., 0., 0., 0., 0., 0., 0., 0., 0., 0., 0., 0., 0., 0., 0.,\n",
       "        0., 0., 0., 0., 0., 0., 0., 0., 0., 0., 0., 0., 0., 0., 0., 0., 0.,\n",
       "        0., 0., 0., 0., 0., 0., 0., 0., 0., 0., 0., 0., 0., 0., 0., 0., 0.,\n",
       "        0., 0., 0., 0., 0., 0., 0., 0., 0., 0., 0., 0., 0., 0., 0., 0., 0.,\n",
       "        0., 0., 0., 0., 0., 0., 0., 0., 0., 0., 0.], dtype=float32),\n",
       " array([[-0.08984014, -0.10823504,  0.0688205 , ...,  0.08856107,\n",
       "         -0.00909933, -0.11563577],\n",
       "        [-0.04942638, -0.11265451,  0.02509657, ...,  0.08687788,\n",
       "         -0.06915371,  0.07112133],\n",
       "        [ 0.05554279,  0.00675546, -0.06104718, ...,  0.01480141,\n",
       "         -0.0611448 , -0.03514859],\n",
       "        ...,\n",
       "        [-0.05882379,  0.07968543, -0.09792425, ...,  0.06348171,\n",
       "          0.05904026, -0.08884188],\n",
       "        [-0.01091614, -0.00674489, -0.08220911, ...,  0.01157811,\n",
       "         -0.07607239, -0.03283293],\n",
       "        [ 0.04500676,  0.00897927,  0.05513974, ..., -0.07784109,\n",
       "         -0.06432104, -0.09941226]], dtype=float32),\n",
       " array([0., 0., 0., 0., 0., 0., 0., 0., 0., 0., 0., 0., 0., 0., 0., 0., 0.,\n",
       "        0., 0., 0., 0., 0., 0., 0., 0., 0., 0., 0., 0., 0., 0., 0., 0., 0.,\n",
       "        0., 0., 0., 0., 0., 0., 0., 0., 0., 0., 0., 0., 0., 0., 0., 0., 0.,\n",
       "        0., 0., 0., 0., 0., 0., 0., 0., 0., 0., 0., 0., 0., 0., 0., 0., 0.,\n",
       "        0., 0., 0., 0., 0., 0., 0., 0., 0., 0., 0., 0., 0., 0., 0., 0., 0.,\n",
       "        0., 0., 0., 0., 0., 0., 0., 0., 0., 0., 0., 0., 0., 0., 0.],\n",
       "       dtype=float32),\n",
       " array([[ 1.79730475e-01, -1.38481081e-01, -1.02019787e-01,\n",
       "          3.32106948e-02,  6.41334057e-02,  8.38174820e-02,\n",
       "         -9.01791751e-02,  1.53706223e-02,  9.68199372e-02,\n",
       "          8.16594064e-02],\n",
       "        [ 1.09849215e-01,  7.12212920e-03, -5.17322421e-02,\n",
       "         -2.01557592e-01, -1.69367552e-01,  3.37455273e-02,\n",
       "          4.08489108e-02, -5.61605692e-02,  1.23400003e-01,\n",
       "         -5.08526713e-02],\n",
       "        [-1.30850345e-01, -1.82945848e-01, -1.40607595e-01,\n",
       "          1.67439252e-01,  1.97670847e-01,  2.01201737e-01,\n",
       "         -9.46711451e-02, -2.19978273e-01,  1.28759116e-01,\n",
       "         -2.26498038e-01],\n",
       "        [-2.81615853e-02,  2.90714204e-02,  1.39742851e-01,\n",
       "          1.86238289e-02, -6.05478436e-02,  6.14751875e-02,\n",
       "          1.76428646e-01, -4.19803858e-02,  5.41407466e-02,\n",
       "          6.51510060e-02],\n",
       "        [ 1.40637159e-01, -1.89450860e-01, -1.23321168e-01,\n",
       "          2.81637013e-02,  1.23221874e-01, -1.62097514e-02,\n",
       "          6.38105571e-02, -1.26551867e-01, -2.20975503e-01,\n",
       "         -1.80430725e-01],\n",
       "        [ 1.74558729e-01,  1.76284701e-01,  1.03425831e-01,\n",
       "         -1.02628350e-01, -1.41862035e-03, -1.77960977e-01,\n",
       "          2.32858390e-01, -4.79056686e-02, -2.04038799e-01,\n",
       "          1.01312965e-01],\n",
       "        [ 1.74526989e-01,  1.60457820e-01, -1.05944082e-01,\n",
       "          1.72173947e-01,  1.52068079e-01, -2.19193608e-01,\n",
       "         -1.83529571e-01, -6.56335056e-02, -1.28569528e-01,\n",
       "          2.17880100e-01],\n",
       "        [ 7.10994005e-03, -2.29111671e-01, -7.33384490e-03,\n",
       "         -1.31400600e-01, -1.51463702e-01,  1.37833953e-02,\n",
       "         -1.11846380e-01,  1.61307663e-01,  2.61620581e-02,\n",
       "         -2.27154374e-01],\n",
       "        [ 2.32215822e-01,  1.90180629e-01,  6.65247142e-02,\n",
       "         -5.29064238e-02,  4.83303070e-02,  9.01094079e-03,\n",
       "         -1.86199665e-01, -6.06958568e-02, -1.26539737e-01,\n",
       "         -3.78918350e-02],\n",
       "        [-6.68651462e-02,  1.59161657e-01, -6.90504760e-02,\n",
       "          9.84939039e-02,  1.08785659e-01, -2.08980143e-02,\n",
       "         -1.44486904e-01,  1.58548653e-01,  1.92086309e-01,\n",
       "          1.07184291e-01],\n",
       "        [ 1.84738666e-01,  2.10124522e-01, -2.83110887e-02,\n",
       "          1.96153492e-01,  3.94438207e-03, -6.61506355e-02,\n",
       "         -1.46519929e-01,  7.48540461e-03,  5.95003366e-02,\n",
       "          1.82611704e-01],\n",
       "        [ 3.08361351e-02, -1.42460883e-01,  8.87167752e-02,\n",
       "         -8.49389434e-02,  9.14403200e-02,  1.11274630e-01,\n",
       "          8.30546319e-02,  7.54590333e-02, -2.17880100e-01,\n",
       "          1.25823140e-01],\n",
       "        [-4.96676415e-02,  2.07444459e-01, -5.42319417e-02,\n",
       "          1.13267392e-01, -1.78268969e-01,  1.35906607e-01,\n",
       "         -1.34007156e-01,  1.76775664e-01, -1.54246882e-01,\n",
       "         -1.68776363e-01],\n",
       "        [-1.70107514e-01,  2.25448936e-01,  1.30020946e-01,\n",
       "          1.58591568e-01,  8.72853994e-02, -2.11433470e-02,\n",
       "         -1.23407811e-01, -1.65482968e-01, -5.32897413e-02,\n",
       "         -9.94609594e-02],\n",
       "        [-1.10803775e-01,  1.27265722e-01, -2.06631333e-01,\n",
       "         -1.89177454e-01,  4.89724278e-02, -4.90297973e-02,\n",
       "         -1.34306401e-01, -2.00342655e-01, -2.09295690e-01,\n",
       "          1.95937335e-01],\n",
       "        [ 1.82287633e-01,  1.66491568e-02,  1.99115187e-01,\n",
       "          7.63218999e-02,  2.10298598e-01, -1.30526870e-01,\n",
       "         -1.16426826e-01, -1.40838027e-02, -3.97515744e-02,\n",
       "          2.09203929e-01],\n",
       "        [ 5.79659641e-02, -2.18256578e-01, -9.49457139e-02,\n",
       "          1.87722921e-01, -1.31922394e-01,  9.99000669e-03,\n",
       "          7.56710172e-02,  7.76733160e-02, -7.69489855e-02,\n",
       "          2.20948458e-03],\n",
       "        [ 1.40288830e-01,  1.68877870e-01, -1.36807978e-01,\n",
       "          4.07157242e-02,  2.28264898e-01, -4.92027402e-03,\n",
       "         -4.21342254e-02,  2.19017476e-01, -1.32925406e-01,\n",
       "         -1.03561416e-01],\n",
       "        [-1.90045491e-01,  1.90352648e-01,  9.02483165e-02,\n",
       "          2.93741822e-02,  5.99098802e-02, -1.38926208e-01,\n",
       "         -1.33185565e-01, -1.29161984e-01,  1.63653344e-01,\n",
       "          4.79924977e-02],\n",
       "        [-1.22972593e-01, -9.04590338e-02, -1.41226172e-01,\n",
       "          1.29209220e-01,  1.78674161e-01,  1.66312754e-01,\n",
       "         -8.74955505e-02, -5.78259677e-02, -8.51608813e-03,\n",
       "          8.53679776e-02],\n",
       "        [-1.01135164e-01,  1.23496801e-01, -3.51774693e-02,\n",
       "         -1.89167827e-01,  2.12340355e-01,  2.15923071e-01,\n",
       "          7.00584948e-02,  1.55171424e-01, -1.90338671e-01,\n",
       "          1.54676914e-01],\n",
       "        [ 3.83578837e-02, -1.18321039e-01, -2.30333179e-01,\n",
       "          7.11078346e-02,  1.65679187e-01,  1.55101568e-01,\n",
       "          8.61240923e-02,  1.56582773e-01, -2.24164724e-01,\n",
       "         -2.00909227e-01],\n",
       "        [-4.63221818e-02, -6.60658330e-02, -2.98572779e-02,\n",
       "          1.72052622e-01, -8.90804827e-03, -1.35979384e-01,\n",
       "         -7.08390474e-02,  1.75094873e-01, -8.41470212e-02,\n",
       "          9.21950936e-02],\n",
       "        [-4.22213227e-02,  1.29903972e-01,  1.44268960e-01,\n",
       "          5.02114892e-02, -1.28669977e-01, -1.19343370e-01,\n",
       "          9.92101133e-02,  2.25289226e-01, -6.05643243e-02,\n",
       "          1.52836055e-01],\n",
       "        [ 1.46834403e-01,  2.25177646e-01,  5.29441833e-02,\n",
       "          3.22053134e-02, -1.49834603e-02,  1.47207201e-01,\n",
       "          6.82889521e-02, -1.55070037e-01,  1.70475572e-01,\n",
       "          2.73391604e-02],\n",
       "        [ 1.47149801e-01,  1.02786660e-01,  1.73209369e-01,\n",
       "          5.37348688e-02,  2.47463286e-02, -3.25770676e-03,\n",
       "          7.85682797e-02,  1.75929666e-02,  8.16343427e-02,\n",
       "          7.27455020e-02],\n",
       "        [-2.27448538e-01, -3.99016887e-02, -1.72932729e-01,\n",
       "         -5.45442700e-02, -2.02177316e-02, -2.01226056e-01,\n",
       "         -1.21459864e-01, -1.27068371e-01, -6.44783676e-02,\n",
       "          2.00569510e-01],\n",
       "        [ 1.87731773e-01,  4.44797575e-02,  1.14941061e-01,\n",
       "          1.00389063e-01,  3.09234858e-02, -1.64925158e-02,\n",
       "         -1.10814631e-01, -1.51435077e-01,  2.22956836e-02,\n",
       "         -2.06572309e-01],\n",
       "        [-4.81465459e-03, -1.54292494e-01, -9.31362510e-02,\n",
       "          6.36184216e-03, -1.38961732e-01,  1.83399945e-01,\n",
       "         -2.18033627e-01,  2.09490925e-01,  1.03074908e-01,\n",
       "          9.99907255e-02],\n",
       "        [-4.57126200e-02,  9.62334871e-03,  2.20598280e-03,\n",
       "         -1.73238367e-01,  1.37969404e-01,  8.27459395e-02,\n",
       "          2.39022374e-02,  3.10516655e-02, -1.28288612e-01,\n",
       "          9.07623470e-02],\n",
       "        [-7.11683631e-02,  7.42647648e-02,  1.40684843e-01,\n",
       "         -5.13728559e-02, -1.33379281e-01, -1.40036136e-01,\n",
       "         -1.79093182e-01, -2.22987086e-01, -1.36670291e-01,\n",
       "         -4.14854735e-02],\n",
       "        [ 6.61672950e-02,  3.24240327e-02,  1.18289292e-01,\n",
       "         -2.09712416e-01, -1.80073634e-01, -7.67004788e-02,\n",
       "         -1.86870083e-01, -1.50980264e-01,  1.16365403e-01,\n",
       "         -1.07915744e-01],\n",
       "        [-1.32944345e-01,  2.84115374e-02, -1.31089836e-01,\n",
       "         -1.49403065e-02,  2.27945685e-01,  2.17334479e-01,\n",
       "         -2.07313836e-01,  1.06397599e-01, -1.12008855e-01,\n",
       "         -8.44447613e-02],\n",
       "        [ 2.03106105e-02, -1.45721987e-01,  8.21923316e-02,\n",
       "         -1.40112936e-02, -2.07027063e-01,  5.36953211e-02,\n",
       "          7.86036551e-02, -2.68377811e-02,  9.67402458e-02,\n",
       "         -1.71705991e-01],\n",
       "        [ 9.60953832e-02,  2.53845155e-02,  2.41568983e-02,\n",
       "          8.92599523e-02,  6.23429418e-02, -1.11288719e-01,\n",
       "          1.03020787e-01, -2.14015782e-01, -2.93590873e-02,\n",
       "          9.44080949e-02],\n",
       "        [-8.71791542e-02, -1.72289759e-01,  1.26351863e-01,\n",
       "          1.00047290e-01, -7.86326677e-02,  1.90336406e-02,\n",
       "          8.38685930e-02, -2.44869143e-02,  1.43223464e-01,\n",
       "          5.33714294e-02],\n",
       "        [-1.60357982e-01,  1.78369641e-01,  5.65783381e-02,\n",
       "         -3.94343436e-02,  8.95054638e-02,  1.59901351e-01,\n",
       "         -2.10811034e-01,  2.55841315e-02, -2.24148065e-01,\n",
       "         -4.59656119e-04],\n",
       "        [ 1.90885901e-01,  2.31544971e-02, -1.56067699e-01,\n",
       "         -1.36885047e-03, -1.69135839e-01,  6.46460950e-02,\n",
       "         -6.40579611e-02, -3.89047563e-02, -4.28419560e-02,\n",
       "         -1.19099811e-01],\n",
       "        [ 9.34876502e-02, -1.53881937e-01, -1.29756734e-01,\n",
       "         -1.82764947e-01, -1.93316907e-01, -1.30966932e-01,\n",
       "          1.98235959e-01,  1.29877299e-01, -4.96194810e-02,\n",
       "         -9.80244577e-02],\n",
       "        [-2.24486232e-01, -4.86103892e-02,  2.16753036e-01,\n",
       "          1.76197022e-01,  1.26224339e-01, -3.13843787e-02,\n",
       "          9.69766676e-02,  1.20952308e-01,  1.56881720e-01,\n",
       "         -2.09389016e-01],\n",
       "        [ 6.53375983e-02,  2.12314785e-01,  1.55503154e-02,\n",
       "          1.69203669e-01,  1.90785915e-01, -1.23689063e-01,\n",
       "          1.36590213e-01, -1.85442656e-01, -8.07782859e-02,\n",
       "         -3.89714092e-02],\n",
       "        [ 2.09867716e-01,  5.44786155e-02,  2.14657873e-01,\n",
       "         -4.33914959e-02,  6.52052462e-02,  8.84932578e-02,\n",
       "         -2.02397063e-01,  1.69957668e-01, -1.17685586e-01,\n",
       "         -1.32300928e-01],\n",
       "        [ 7.50832260e-02, -1.92986369e-01,  3.24841142e-02,\n",
       "         -1.58839077e-02,  2.32459247e-01, -2.02152953e-01,\n",
       "          2.32458979e-01, -1.60760075e-01, -1.33684978e-01,\n",
       "          1.06536329e-01],\n",
       "        [-2.03671798e-01, -1.97731256e-01,  1.55055463e-01,\n",
       "         -9.94304419e-02,  7.51470029e-03, -6.07553273e-02,\n",
       "         -2.27307215e-01, -1.08256340e-02,  9.29783881e-02,\n",
       "         -8.51415098e-03],\n",
       "        [ 6.71048760e-02, -9.06123221e-02,  1.70445234e-01,\n",
       "         -1.21431522e-01,  8.11850429e-02,  9.78698134e-02,\n",
       "          1.18820727e-01,  1.10439003e-01,  8.21951926e-02,\n",
       "         -2.50255913e-02],\n",
       "        [-3.61591578e-03,  2.39954591e-02,  2.17725873e-01,\n",
       "         -1.04293808e-01,  1.57853156e-01,  1.42942160e-01,\n",
       "         -8.95876586e-02, -1.09403081e-01, -9.77829099e-02,\n",
       "         -2.28871554e-02],\n",
       "        [ 7.30787218e-02,  1.61876559e-01, -1.91617757e-02,\n",
       "         -1.23154454e-01, -5.70391715e-02, -2.23226741e-01,\n",
       "         -2.29056373e-01, -1.83792681e-01,  1.63682014e-01,\n",
       "          1.12912476e-01],\n",
       "        [ 2.21228808e-01,  5.14699817e-02,  1.03029937e-01,\n",
       "         -1.56682715e-01,  3.25713158e-02, -1.28578037e-01,\n",
       "          1.96771622e-01, -7.68649131e-02,  6.90464079e-02,\n",
       "         -1.26391679e-01],\n",
       "        [-2.18523458e-01,  1.79484397e-01,  1.35696739e-01,\n",
       "         -1.67561203e-01,  2.14950144e-01,  1.14027917e-01,\n",
       "          1.30835146e-01, -1.31994173e-01, -1.98480189e-01,\n",
       "         -1.45771936e-01],\n",
       "        [-1.92440733e-01, -1.32349759e-01, -6.62678480e-02,\n",
       "         -5.92420995e-02,  4.69188690e-02,  2.92545855e-02,\n",
       "          2.42325068e-02,  1.82321817e-01, -9.47552770e-02,\n",
       "          4.31587994e-02],\n",
       "        [-3.95684391e-02, -1.22138023e-01,  1.33986890e-01,\n",
       "          6.51123226e-02,  2.29867727e-01, -2.21536279e-01,\n",
       "          1.85227007e-01,  1.47751778e-01,  5.40344417e-02,\n",
       "         -1.03431508e-01],\n",
       "        [-2.11649999e-01, -3.75513285e-02, -1.82193354e-01,\n",
       "          6.02380931e-02, -4.11068350e-02,  1.88147396e-01,\n",
       "         -3.23555321e-02,  2.29599893e-01, -2.21495122e-01,\n",
       "          1.90014541e-01],\n",
       "        [ 1.90518618e-01,  1.41441792e-01, -4.28561568e-02,\n",
       "         -1.96951196e-01, -1.66019082e-01,  2.14280903e-01,\n",
       "          3.30309570e-02,  4.27117050e-02, -1.81396320e-01,\n",
       "          2.28973180e-01],\n",
       "        [ 1.64986610e-01,  1.81073368e-01, -1.57972157e-01,\n",
       "          1.45539790e-01,  4.18761373e-02,  1.91792369e-01,\n",
       "          1.62976474e-01,  1.36391640e-01, -6.67046756e-02,\n",
       "          1.75927281e-01],\n",
       "        [-1.78742707e-01,  1.52972579e-01, -9.51305777e-02,\n",
       "         -2.29659870e-01, -6.56104535e-02, -6.60468340e-02,\n",
       "          1.06805205e-01,  1.98066235e-04, -1.16563357e-01,\n",
       "         -4.84457463e-02],\n",
       "        [ 1.69861615e-01,  1.02050602e-02,  1.52115792e-01,\n",
       "         -1.90382823e-01, -1.61912367e-01,  6.90330863e-02,\n",
       "         -9.07417238e-02, -2.14263529e-01,  2.89689302e-02,\n",
       "          2.16576755e-01],\n",
       "        [-4.44798172e-03,  7.04064369e-02, -5.14667928e-02,\n",
       "         -1.22326620e-01,  1.84844851e-01,  4.77477908e-03,\n",
       "          6.65241480e-02, -6.55754805e-02, -1.22278735e-01,\n",
       "         -2.45413184e-02],\n",
       "        [-4.30730432e-02, -7.32391328e-02, -1.97737217e-01,\n",
       "          5.56728840e-02, -1.50913119e-01, -6.74745888e-02,\n",
       "          1.12149447e-01,  8.10296834e-02,  1.37097031e-01,\n",
       "         -1.52837008e-01],\n",
       "        [ 1.32643640e-01,  5.83881438e-02,  1.80748105e-01,\n",
       "         -2.03434989e-01, -8.40696245e-02,  1.38033777e-02,\n",
       "          1.41252398e-01,  5.71631789e-02,  2.13934183e-02,\n",
       "          2.06332386e-01],\n",
       "        [-1.11249387e-02,  6.98565245e-02,  2.87935138e-02,\n",
       "          8.01096559e-02, -1.08668685e-01,  7.75429606e-02,\n",
       "         -2.06007570e-01, -1.53322220e-01, -1.19847462e-01,\n",
       "         -7.76890069e-02],\n",
       "        [ 2.31502891e-01,  1.74754500e-01,  9.13847983e-02,\n",
       "         -1.31410569e-01,  4.34458256e-03,  1.83259398e-01,\n",
       "          4.07500267e-02, -9.22386497e-02,  5.78142107e-02,\n",
       "         -1.60262227e-01],\n",
       "        [-1.28051847e-01,  8.66164863e-02,  1.56617910e-02,\n",
       "          4.60094213e-03, -1.41416505e-01, -7.86323249e-02,\n",
       "         -7.30579495e-02, -1.42959580e-01, -5.01730740e-02,\n",
       "          5.01661003e-03],\n",
       "        [ 2.17484862e-01,  1.86199605e-01, -1.69399559e-01,\n",
       "         -7.17285275e-02,  3.01013887e-02,  4.55985665e-02,\n",
       "          2.02934355e-01, -2.50439048e-02,  1.98534429e-01,\n",
       "          2.24446595e-01],\n",
       "        [-1.60797775e-01,  1.99964523e-01,  2.00100839e-02,\n",
       "         -8.28587413e-02, -5.20237982e-02,  1.54856205e-01,\n",
       "         -1.67100370e-01, -7.84264654e-02,  1.34859830e-02,\n",
       "          5.80184162e-02],\n",
       "        [-1.94221243e-01, -7.89876431e-02,  2.21049011e-01,\n",
       "          1.05589092e-01,  1.51616931e-02,  1.97461814e-01,\n",
       "          3.74046564e-02, -9.66545045e-02, -8.50453973e-02,\n",
       "         -2.19959617e-02],\n",
       "        [-3.08155268e-02,  1.15183711e-01, -3.51378769e-02,\n",
       "          1.67429000e-01,  9.59919393e-02, -1.72490671e-01,\n",
       "          1.45407438e-01,  2.23469079e-01, -3.46130133e-02,\n",
       "         -8.19889307e-02],\n",
       "        [-1.91199064e-01, -7.07112551e-02,  1.77677065e-01,\n",
       "         -6.68105781e-02, -2.12634355e-01,  7.12911487e-02,\n",
       "          1.16758764e-01, -1.53427795e-01, -4.87528741e-03,\n",
       "         -1.14652500e-01],\n",
       "        [ 2.25335002e-01, -9.42074656e-02, -1.44201741e-01,\n",
       "         -3.60205770e-03,  1.09467328e-01,  9.32231545e-04,\n",
       "         -1.26603991e-01,  1.00332946e-01, -2.06232667e-02,\n",
       "          1.19392365e-01],\n",
       "        [-1.53994694e-01, -1.77355707e-01,  5.48419952e-02,\n",
       "         -6.18561059e-02, -1.90908343e-01, -1.21134564e-01,\n",
       "          4.16032970e-02, -9.19602364e-02, -1.93588912e-01,\n",
       "         -1.10079348e-03],\n",
       "        [ 8.29428732e-02, -4.97552305e-02, -1.51750177e-01,\n",
       "         -2.24343404e-01, -1.96661025e-01,  2.80772150e-02,\n",
       "          1.16484582e-01, -4.75891232e-02, -1.34628743e-01,\n",
       "         -2.15710148e-01],\n",
       "        [ 4.98288870e-02,  1.28258765e-03, -1.44085914e-01,\n",
       "         -1.77018270e-01,  1.55837804e-01, -7.41234273e-02,\n",
       "          2.08945155e-01, -1.89723641e-01,  1.23938471e-01,\n",
       "         -7.92701691e-02],\n",
       "        [-1.24602146e-01,  8.69213939e-02, -1.91239119e-02,\n",
       "          1.92812592e-01,  2.15841681e-01, -1.74137920e-01,\n",
       "          2.25993663e-01, -4.97960448e-02,  2.28691548e-01,\n",
       "          8.86556804e-02],\n",
       "        [-6.92788213e-02, -2.16625512e-01, -1.29535794e-01,\n",
       "         -1.07395649e-03, -1.57886460e-01, -1.79280996e-01,\n",
       "         -1.19073533e-01,  2.80173123e-03, -1.81688756e-01,\n",
       "          2.03303307e-01],\n",
       "        [-1.17360123e-01,  1.76926851e-01, -2.01068476e-01,\n",
       "          2.88353264e-02,  2.05377072e-01, -2.03478411e-01,\n",
       "          2.35649347e-02,  3.55820060e-02, -2.68594921e-02,\n",
       "         -1.67940795e-01],\n",
       "        [-1.49950385e-04, -7.01275915e-02,  7.17866123e-02,\n",
       "          1.06371343e-01, -3.32653522e-03,  6.79158866e-02,\n",
       "         -3.37851793e-02, -1.23645850e-01, -1.02969572e-01,\n",
       "         -8.63254964e-02],\n",
       "        [ 6.13443255e-02,  1.52770579e-01,  7.47389495e-02,\n",
       "         -1.46453157e-01,  5.84005117e-02,  4.93579209e-02,\n",
       "          8.69755149e-02,  2.74288058e-02, -1.97221532e-01,\n",
       "         -2.23301589e-01],\n",
       "        [ 4.63569164e-03, -2.05121771e-01,  1.33906990e-01,\n",
       "         -2.31283009e-01, -4.68620211e-02,  5.33433557e-02,\n",
       "          1.93622649e-01, -7.67043233e-02, -7.55545348e-02,\n",
       "         -1.41006351e-01],\n",
       "        [ 1.69173598e-01,  1.59813851e-01, -1.30544245e-01,\n",
       "         -1.29014254e-02,  2.28528082e-02,  3.32233906e-02,\n",
       "          5.25169671e-02, -1.01134211e-01, -1.24762341e-01,\n",
       "          8.65749419e-02],\n",
       "        [-1.78512514e-01, -2.81016678e-02,  4.19654548e-02,\n",
       "         -1.82055995e-01,  4.36389446e-03, -1.99328452e-01,\n",
       "         -1.75821438e-01, -4.95775938e-02, -2.16650635e-01,\n",
       "         -1.93848342e-01],\n",
       "        [-1.36207998e-01, -6.08774871e-02,  8.65012705e-02,\n",
       "          1.45294011e-01, -1.10577255e-01,  8.10791850e-02,\n",
       "          1.12209320e-02,  2.31546879e-01, -7.88876861e-02,\n",
       "         -7.06655979e-02],\n",
       "        [-1.16428882e-02, -2.04275295e-01,  9.28514302e-02,\n",
       "          1.53043360e-01, -1.37862056e-01,  6.48815632e-02,\n",
       "          5.02919555e-02, -1.73511103e-01, -1.63343802e-01,\n",
       "          1.55715406e-01],\n",
       "        [-1.02112785e-01, -5.89665771e-02,  1.27047390e-01,\n",
       "         -6.40440434e-02, -1.79178536e-01,  4.21658456e-02,\n",
       "          5.36776185e-02, -1.87613785e-01, -2.28279382e-01,\n",
       "         -2.09954798e-01],\n",
       "        [ 2.10371017e-02,  2.17864811e-02, -2.27710694e-01,\n",
       "          1.98272824e-01, -1.45996779e-01,  1.19142622e-01,\n",
       "         -5.80383539e-02, -2.17312083e-01, -1.05390996e-02,\n",
       "         -1.25284091e-01],\n",
       "        [ 1.78994060e-01, -1.88547075e-01, -2.55365968e-02,\n",
       "          3.90382111e-02, -3.55273187e-02,  7.54640996e-02,\n",
       "         -1.76331654e-01,  1.77876055e-01,  1.12425208e-01,\n",
       "          2.16616154e-01],\n",
       "        [ 9.28503871e-02,  1.57965094e-01,  5.70139289e-03,\n",
       "         -1.84535146e-01, -1.93041161e-01, -3.65468115e-02,\n",
       "          1.21124476e-01, -2.10210547e-01,  6.83880746e-02,\n",
       "         -1.01004526e-01],\n",
       "        [-1.03756428e-01,  6.18520975e-02,  4.39248681e-02,\n",
       "          2.34306753e-02, -1.61783740e-01,  3.01497877e-02,\n",
       "         -6.11581355e-02,  1.10774219e-01, -2.14585528e-01,\n",
       "         -1.76338673e-01],\n",
       "        [-1.91685349e-01,  1.39688551e-01, -2.45557427e-02,\n",
       "          1.43647194e-05, -2.26228982e-01, -2.19404697e-01,\n",
       "          2.01083183e-01, -1.38264358e-01, -2.63584703e-02,\n",
       "          1.16958767e-01],\n",
       "        [-1.68057173e-01,  3.77365947e-02, -2.23315835e-01,\n",
       "          1.47067606e-01, -2.62761116e-02, -1.55049324e-01,\n",
       "         -3.38385850e-02,  2.01780498e-01,  1.42009556e-02,\n",
       "         -1.07618168e-01],\n",
       "        [ 1.67548358e-02,  1.97964281e-01, -2.08406597e-01,\n",
       "         -2.76636034e-02, -3.90412360e-02,  7.09880888e-03,\n",
       "         -8.88981372e-02, -1.01957619e-02,  1.65896297e-01,\n",
       "         -1.34185895e-01],\n",
       "        [ 2.22324401e-01,  4.45368290e-02,  4.40988243e-02,\n",
       "         -1.55607209e-01, -2.33424515e-01,  8.27705562e-02,\n",
       "         -6.28655255e-02, -2.51774341e-02, -1.10515170e-01,\n",
       "         -1.53470337e-01],\n",
       "        [-5.47737926e-02, -6.28042221e-02,  1.70104563e-01,\n",
       "         -1.20068856e-01, -4.02196944e-02, -1.16084658e-01,\n",
       "         -7.53057003e-03, -2.31800467e-01,  1.03230327e-01,\n",
       "          1.29195392e-01],\n",
       "        [ 1.49731636e-01, -2.08713576e-01,  4.87777889e-02,\n",
       "          5.23503125e-02, -4.34767902e-02,  1.29746050e-02,\n",
       "          1.14592463e-01,  7.81201124e-02, -3.02927792e-02,\n",
       "         -1.46906227e-02],\n",
       "        [ 6.94277287e-02, -1.98645338e-01, -2.09497809e-01,\n",
       "          7.15885460e-02, -2.01981559e-01,  1.27481610e-01,\n",
       "         -1.92490458e-01,  6.27950728e-02,  1.87674373e-01,\n",
       "         -6.60967231e-02],\n",
       "        [-1.16491199e-01, -1.24040358e-01,  3.65372002e-03,\n",
       "          2.17717290e-01, -1.65516645e-01,  5.38333654e-02,\n",
       "         -1.35883480e-01,  4.10306454e-02,  1.12531096e-01,\n",
       "         -7.34594166e-02],\n",
       "        [ 1.14702284e-02,  1.57324910e-01,  1.52853429e-01,\n",
       "          1.37516826e-01,  1.65722013e-01, -3.75916958e-02,\n",
       "          1.00914896e-01,  7.05688298e-02,  8.02980661e-02,\n",
       "         -2.23426923e-01],\n",
       "        [ 1.98209405e-01, -1.49585962e-01,  2.29022533e-01,\n",
       "          1.59283042e-01, -1.45271242e-01, -8.93211067e-02,\n",
       "          2.26938218e-01, -2.15209290e-01, -2.65105367e-02,\n",
       "         -6.07146174e-02],\n",
       "        [ 1.13646090e-01, -9.15599316e-02, -2.15862498e-01,\n",
       "          4.14408147e-02, -1.80910319e-01, -4.87246066e-02,\n",
       "          1.33525789e-01, -1.82657242e-02, -2.20691457e-01,\n",
       "         -2.06172168e-01],\n",
       "        [ 2.19783515e-01,  4.48739231e-02, -7.69248605e-03,\n",
       "         -2.02675134e-01, -1.29189670e-01, -2.29070187e-01,\n",
       "          9.54662263e-02,  2.00569391e-01,  2.21763253e-01,\n",
       "         -4.01683003e-02],\n",
       "        [ 1.34225875e-01,  2.17028439e-01,  1.01571202e-01,\n",
       "         -2.27933705e-01,  4.95209098e-02, -1.30511731e-01,\n",
       "         -1.30857915e-01, -1.33777961e-01,  1.77492738e-01,\n",
       "         -2.13700458e-01],\n",
       "        [ 1.99065626e-01,  2.11385220e-01, -2.31182620e-01,\n",
       "         -5.32581061e-02,  2.27693170e-01,  5.26851416e-02,\n",
       "         -5.83417565e-02, -9.82494205e-02,  2.20932961e-02,\n",
       "         -1.75701112e-01]], dtype=float32),\n",
       " array([0., 0., 0., 0., 0., 0., 0., 0., 0., 0.], dtype=float32)]"
      ]
     },
     "execution_count": 28,
     "metadata": {},
     "output_type": "execute_result"
    }
   ],
   "source": [
    "model.get_weights()"
   ]
  },
  {
   "cell_type": "code",
   "execution_count": 29,
   "id": "66981c0e-d3c3-4ecd-9886-0820ad06c89a",
   "metadata": {},
   "outputs": [],
   "source": [
    "weights_hidden_layer_1,bias_hidden_layer_1 = hidden_1.get_weights()"
   ]
  },
  {
   "cell_type": "code",
   "execution_count": 30,
   "id": "80892090-0c2b-4167-b412-e6255dd97675",
   "metadata": {},
   "outputs": [
    {
     "data": {
      "text/plain": [
       "array([[-0.03590026, -0.03438793, -0.0164454 , ..., -0.00143368,\n",
       "        -0.07133218, -0.00539531],\n",
       "       [ 0.0608772 ,  0.00885334,  0.01763325, ...,  0.01980945,\n",
       "        -0.02433419, -0.00415098],\n",
       "       [ 0.01789536, -0.03813708,  0.0546574 , ...,  0.03119663,\n",
       "         0.01778713,  0.00695743],\n",
       "       ...,\n",
       "       [ 0.05229992,  0.01045112,  0.00296415, ..., -0.03323222,\n",
       "        -0.04094354,  0.06404774],\n",
       "       [ 0.05586107,  0.0018981 ,  0.01136605, ...,  0.03471864,\n",
       "        -0.03690504, -0.05734769],\n",
       "       [-0.05228484,  0.06847364, -0.00437561, ..., -0.04923638,\n",
       "         0.00060257,  0.002202  ]], dtype=float32)"
      ]
     },
     "execution_count": 30,
     "metadata": {},
     "output_type": "execute_result"
    }
   ],
   "source": [
    "weights_hidden_layer_1"
   ]
  },
  {
   "cell_type": "code",
   "execution_count": 31,
   "id": "a27cd629-9e1a-4629-b797-89a5cea5f72c",
   "metadata": {},
   "outputs": [
    {
     "data": {
      "text/plain": [
       "(784, 300)"
      ]
     },
     "execution_count": 31,
     "metadata": {},
     "output_type": "execute_result"
    }
   ],
   "source": [
    "weights_hidden_layer_1.shape"
   ]
  },
  {
   "cell_type": "code",
   "execution_count": 32,
   "id": "fbfb9a90-4025-4200-84f6-20409f5b29f3",
   "metadata": {},
   "outputs": [
    {
     "data": {
      "text/plain": [
       "array([0., 0., 0., 0., 0., 0., 0., 0., 0., 0., 0., 0., 0., 0., 0., 0., 0.,\n",
       "       0., 0., 0., 0., 0., 0., 0., 0., 0., 0., 0., 0., 0., 0., 0., 0., 0.,\n",
       "       0., 0., 0., 0., 0., 0., 0., 0., 0., 0., 0., 0., 0., 0., 0., 0., 0.,\n",
       "       0., 0., 0., 0., 0., 0., 0., 0., 0., 0., 0., 0., 0., 0., 0., 0., 0.,\n",
       "       0., 0., 0., 0., 0., 0., 0., 0., 0., 0., 0., 0., 0., 0., 0., 0., 0.,\n",
       "       0., 0., 0., 0., 0., 0., 0., 0., 0., 0., 0., 0., 0., 0., 0., 0., 0.,\n",
       "       0., 0., 0., 0., 0., 0., 0., 0., 0., 0., 0., 0., 0., 0., 0., 0., 0.,\n",
       "       0., 0., 0., 0., 0., 0., 0., 0., 0., 0., 0., 0., 0., 0., 0., 0., 0.,\n",
       "       0., 0., 0., 0., 0., 0., 0., 0., 0., 0., 0., 0., 0., 0., 0., 0., 0.,\n",
       "       0., 0., 0., 0., 0., 0., 0., 0., 0., 0., 0., 0., 0., 0., 0., 0., 0.,\n",
       "       0., 0., 0., 0., 0., 0., 0., 0., 0., 0., 0., 0., 0., 0., 0., 0., 0.,\n",
       "       0., 0., 0., 0., 0., 0., 0., 0., 0., 0., 0., 0., 0., 0., 0., 0., 0.,\n",
       "       0., 0., 0., 0., 0., 0., 0., 0., 0., 0., 0., 0., 0., 0., 0., 0., 0.,\n",
       "       0., 0., 0., 0., 0., 0., 0., 0., 0., 0., 0., 0., 0., 0., 0., 0., 0.,\n",
       "       0., 0., 0., 0., 0., 0., 0., 0., 0., 0., 0., 0., 0., 0., 0., 0., 0.,\n",
       "       0., 0., 0., 0., 0., 0., 0., 0., 0., 0., 0., 0., 0., 0., 0., 0., 0.,\n",
       "       0., 0., 0., 0., 0., 0., 0., 0., 0., 0., 0., 0., 0., 0., 0., 0., 0.,\n",
       "       0., 0., 0., 0., 0., 0., 0., 0., 0., 0., 0.], dtype=float32)"
      ]
     },
     "execution_count": 32,
     "metadata": {},
     "output_type": "execute_result"
    }
   ],
   "source": [
    "bias_hidden_layer_1"
   ]
  },
  {
   "cell_type": "code",
   "execution_count": 33,
   "id": "f0f40a76-8440-41ce-94ba-29a3e7b2d230",
   "metadata": {},
   "outputs": [
    {
     "data": {
      "text/plain": [
       "(300,)"
      ]
     },
     "execution_count": 33,
     "metadata": {},
     "output_type": "execute_result"
    }
   ],
   "source": [
    "bias_hidden_layer_1.shape"
   ]
  },
  {
   "cell_type": "markdown",
   "id": "9dd31ad4-1477-429a-8c62-6f4bea32f668",
   "metadata": {},
   "source": [
    "### Weights Discussion\n",
    "Notice that the Dense layer initialized the connection weights randomly (which is needed to break symmetry, as we discussed earlier), and the biases were initialized to zeros, which is fine.\n",
    "\n",
    "If you ever want to use a different initialization method, you can set kernel_initializer(kernel is another name for the matrix of connection weights) or bias_initializer when creating the layer."
   ]
  },
  {
   "cell_type": "markdown",
   "id": "aa9bb628-bbd4-4459-be91-0205bf200101",
   "metadata": {},
   "source": [
    "## IMPORTANT NOTE\n",
    "The shape of the weight matrix depends on the number of inputs. This is why it is recommended to specify the input_shape when creating the first layer in a Sequential model. However, if you do not specify the input shape, it’s OK: Keras will simply wait until it knows the input shape before it actually builds the model. This will happen either when you feed it actual data (e.g., during training), or when you call its build() method. Until the model is really built, the layers will not have any weights, and you will not be able to do certain things (such as print the model summary or save the model). So, if you know the input shape when creating the model, it is best to specify it."
   ]
  },
  {
   "cell_type": "code",
   "execution_count": null,
   "id": "3517bc56-0e00-41aa-ae08-8ad5dec65e3d",
   "metadata": {},
   "outputs": [],
   "source": []
  },
  {
   "cell_type": "markdown",
   "id": "65f0f135-876d-4582-8d62-a5103a8c1b30",
   "metadata": {},
   "source": [
    "### Compiling the model"
   ]
  },
  {
   "cell_type": "markdown",
   "id": "424fd1ae-7213-4095-a0f5-eed20e074b65",
   "metadata": {},
   "source": [
    "After a model is created, you must call its compile() method to specify the loss function and the optimizer to use. Optionally, you can specify a list of extra metrics to compute during training and evaluation:\r\n"
   ]
  },
  {
   "cell_type": "code",
   "execution_count": 34,
   "id": "d63cb04f-e996-4f1d-9faf-df00d6063500",
   "metadata": {},
   "outputs": [
    {
     "name": "stdout",
     "output_type": "stream",
     "text": [
      "WARNING:tensorflow:From C:\\Python 3.11\\Lib\\site-packages\\keras\\src\\optimizers\\__init__.py:309: The name tf.train.Optimizer is deprecated. Please use tf.compat.v1.train.Optimizer instead.\n",
      "\n"
     ]
    }
   ],
   "source": [
    "model.compile(loss=keras.losses.sparse_categorical_crossentropy,\n",
    " optimizer=\"sgd\",\n",
    " metrics=[\"accuracy\"])"
   ]
  },
  {
   "cell_type": "markdown",
   "id": "f2ca8652-c54a-47f1-89ca-6d0af7dc931b",
   "metadata": {},
   "source": [
    "## Model explanation\n"
   ]
  },
  {
   "cell_type": "markdown",
   "id": "11d0a418-e425-4ebb-80dd-1381d62e9ad4",
   "metadata": {},
   "source": [
    "### Loss function\n",
    "we use the \"sparse_categorical_crossentropy\" loss because we have sparse labels (i.e., for each instance, there is just a target class index, from 0 to 9 in this case), and the classes are exclusive. If instead we had one target probability per class for each instance (such as one-hot vectors, e.g. [0., 0., 0., 1., 0., 0., 0., 0., 0., 0.] to represent class 3), then we would need to use the \"categorical_crossentropy\" loss instead. If we were doing binary classification (with one or more binary labels), then we would use the \"sigmoid\" (i.e.,logistic) activation function in the output layer instead of the \"softmax\" activation function, and we would use the \"binary_crossentropy\" loss.\r\n"
   ]
  },
  {
   "cell_type": "markdown",
   "id": "f08ce2ea-ecbc-4b24-9d2c-953493fd4245",
   "metadata": {},
   "source": [
    "#### Note for Lables\n",
    "If you want to convert sparse labels (i.e., class indices) to one-hot vector labels, use the keras.utils.to_categorical() function. To go the other way round, use the np.argmax() function with axis=1."
   ]
  },
  {
   "cell_type": "markdown",
   "id": "dbb9ce22-c9b7-4e42-8aae-b2ca3fd94a66",
   "metadata": {},
   "source": [
    "### Optimizer\n",
    "Regarding the optimizer, \"sgd\" means that we will train the model using simple Stochastic Gradient Descent. In other words, Keras will perform the backpropagation algorithm described earlier (i.e., reverse-mode autodiff plus Gradient Descent).\n",
    "\n",
    "NOTE :-  When just using optimizer=\"sgd\", the learning rate defaults to 0.01, to set the learning rate use optimizer=keras.optimizers.SGD(lr=???)"
   ]
  },
  {
   "cell_type": "markdown",
   "id": "add7efd3-bcf5-497d-842d-cf0159dce4f7",
   "metadata": {},
   "source": [
    "### Accuracy\n",
    "Finally, since this is a classifier, it’s useful to measure its \"accuracy\" during training \n",
    "and evaluation."
   ]
  },
  {
   "cell_type": "code",
   "execution_count": null,
   "id": "28443aa9-4c50-4699-8eaf-9aa23d82d0b3",
   "metadata": {},
   "outputs": [],
   "source": []
  },
  {
   "cell_type": "markdown",
   "id": "bef2e82b-76f8-4b9e-ade7-e20b5775663e",
   "metadata": {},
   "source": [
    "## Training and evaluating the model"
   ]
  },
  {
   "cell_type": "code",
   "execution_count": 35,
   "id": "03d2a30a-034a-4ce5-8ea0-8b964698e63e",
   "metadata": {},
   "outputs": [
    {
     "name": "stdout",
     "output_type": "stream",
     "text": [
      "Epoch 1/30\n",
      "WARNING:tensorflow:From C:\\Python 3.11\\Lib\\site-packages\\keras\\src\\utils\\tf_utils.py:492: The name tf.ragged.RaggedTensorValue is deprecated. Please use tf.compat.v1.ragged.RaggedTensorValue instead.\n",
      "\n",
      "WARNING:tensorflow:From C:\\Python 3.11\\Lib\\site-packages\\keras\\src\\engine\\base_layer_utils.py:384: The name tf.executing_eagerly_outside_functions is deprecated. Please use tf.compat.v1.executing_eagerly_outside_functions instead.\n",
      "\n",
      "1719/1719 [==============================] - 7s 3ms/step - loss: 0.7316 - accuracy: 0.7563 - val_loss: 0.5092 - val_accuracy: 0.8222\n",
      "Epoch 2/30\n",
      "1719/1719 [==============================] - 6s 3ms/step - loss: 0.4917 - accuracy: 0.8283 - val_loss: 0.4467 - val_accuracy: 0.8440\n",
      "Epoch 3/30\n",
      "1719/1719 [==============================] - 6s 3ms/step - loss: 0.4444 - accuracy: 0.8447 - val_loss: 0.4161 - val_accuracy: 0.8596\n",
      "Epoch 4/30\n",
      "1719/1719 [==============================] - 6s 3ms/step - loss: 0.4162 - accuracy: 0.8541 - val_loss: 0.4001 - val_accuracy: 0.8636\n",
      "Epoch 5/30\n",
      "1719/1719 [==============================] - 5s 3ms/step - loss: 0.3962 - accuracy: 0.8615 - val_loss: 0.3771 - val_accuracy: 0.8690\n",
      "Epoch 6/30\n",
      "1719/1719 [==============================] - 5s 3ms/step - loss: 0.3788 - accuracy: 0.8670 - val_loss: 0.3709 - val_accuracy: 0.8656\n",
      "Epoch 7/30\n",
      "1719/1719 [==============================] - 5s 3ms/step - loss: 0.3662 - accuracy: 0.8725 - val_loss: 0.3674 - val_accuracy: 0.8682\n",
      "Epoch 8/30\n",
      "1719/1719 [==============================] - 6s 3ms/step - loss: 0.3546 - accuracy: 0.8750 - val_loss: 0.3557 - val_accuracy: 0.8748\n",
      "Epoch 9/30\n",
      "1719/1719 [==============================] - 5s 3ms/step - loss: 0.3441 - accuracy: 0.8776 - val_loss: 0.3541 - val_accuracy: 0.8724\n",
      "Epoch 10/30\n",
      "1719/1719 [==============================] - 6s 3ms/step - loss: 0.3358 - accuracy: 0.8813 - val_loss: 0.3401 - val_accuracy: 0.8790\n",
      "Epoch 11/30\n",
      "1719/1719 [==============================] - 5s 3ms/step - loss: 0.3268 - accuracy: 0.8838 - val_loss: 0.3328 - val_accuracy: 0.8780\n",
      "Epoch 12/30\n",
      "1719/1719 [==============================] - 6s 3ms/step - loss: 0.3197 - accuracy: 0.8850 - val_loss: 0.3274 - val_accuracy: 0.8820\n",
      "Epoch 13/30\n",
      "1719/1719 [==============================] - 6s 3ms/step - loss: 0.3122 - accuracy: 0.8873 - val_loss: 0.3277 - val_accuracy: 0.8810\n",
      "Epoch 14/30\n",
      "1719/1719 [==============================] - 6s 3ms/step - loss: 0.3059 - accuracy: 0.8906 - val_loss: 0.3192 - val_accuracy: 0.8836\n",
      "Epoch 15/30\n",
      "1719/1719 [==============================] - 6s 3ms/step - loss: 0.2993 - accuracy: 0.8923 - val_loss: 0.3254 - val_accuracy: 0.8830\n",
      "Epoch 16/30\n",
      "1719/1719 [==============================] - 6s 3ms/step - loss: 0.2934 - accuracy: 0.8942 - val_loss: 0.3284 - val_accuracy: 0.8826\n",
      "Epoch 17/30\n",
      "1719/1719 [==============================] - 6s 3ms/step - loss: 0.2875 - accuracy: 0.8963 - val_loss: 0.3134 - val_accuracy: 0.8846\n",
      "Epoch 18/30\n",
      "1719/1719 [==============================] - 6s 3ms/step - loss: 0.2826 - accuracy: 0.8972 - val_loss: 0.3231 - val_accuracy: 0.8820\n",
      "Epoch 19/30\n",
      "1719/1719 [==============================] - 6s 3ms/step - loss: 0.2764 - accuracy: 0.8998 - val_loss: 0.3071 - val_accuracy: 0.8890\n",
      "Epoch 20/30\n",
      "1719/1719 [==============================] - 6s 3ms/step - loss: 0.2712 - accuracy: 0.9011 - val_loss: 0.3302 - val_accuracy: 0.8818\n",
      "Epoch 21/30\n",
      "1719/1719 [==============================] - 6s 3ms/step - loss: 0.2677 - accuracy: 0.9027 - val_loss: 0.3188 - val_accuracy: 0.8876\n",
      "Epoch 22/30\n",
      "1719/1719 [==============================] - 5s 3ms/step - loss: 0.2631 - accuracy: 0.9044 - val_loss: 0.3017 - val_accuracy: 0.8918\n",
      "Epoch 23/30\n",
      "1719/1719 [==============================] - 6s 3ms/step - loss: 0.2585 - accuracy: 0.9062 - val_loss: 0.3040 - val_accuracy: 0.8906\n",
      "Epoch 24/30\n",
      "1719/1719 [==============================] - 6s 4ms/step - loss: 0.2542 - accuracy: 0.9070 - val_loss: 0.2992 - val_accuracy: 0.8920\n",
      "Epoch 25/30\n",
      "1719/1719 [==============================] - 6s 3ms/step - loss: 0.2482 - accuracy: 0.9088 - val_loss: 0.3171 - val_accuracy: 0.8838\n",
      "Epoch 26/30\n",
      "1719/1719 [==============================] - 6s 3ms/step - loss: 0.2454 - accuracy: 0.9105 - val_loss: 0.3126 - val_accuracy: 0.8886\n",
      "Epoch 27/30\n",
      "1719/1719 [==============================] - 6s 3ms/step - loss: 0.2417 - accuracy: 0.9127 - val_loss: 0.2933 - val_accuracy: 0.8950\n",
      "Epoch 28/30\n",
      "1719/1719 [==============================] - 6s 4ms/step - loss: 0.2378 - accuracy: 0.9133 - val_loss: 0.3016 - val_accuracy: 0.8902\n",
      "Epoch 29/30\n",
      "1719/1719 [==============================] - 7s 4ms/step - loss: 0.2343 - accuracy: 0.9151 - val_loss: 0.3030 - val_accuracy: 0.8902\n",
      "Epoch 30/30\n",
      "1719/1719 [==============================] - 6s 4ms/step - loss: 0.2296 - accuracy: 0.9167 - val_loss: 0.2980 - val_accuracy: 0.8940\n"
     ]
    }
   ],
   "source": [
    "history = model.fit(X_train, y_train, epochs=30, validation_data=(X_valid, y_valid))"
   ]
  },
  {
   "cell_type": "code",
   "execution_count": null,
   "id": "8151fba6-821b-458f-967e-7276be89f834",
   "metadata": {},
   "outputs": [],
   "source": []
  },
  {
   "cell_type": "markdown",
   "id": "7f2012b5-7d62-4b74-ac1e-0782f576c91e",
   "metadata": {},
   "source": [
    "## Explanation Training and Evaluating"
   ]
  },
  {
   "cell_type": "markdown",
   "id": "81744346-0d39-45e7-8b63-07b87eeb4edd",
   "metadata": {},
   "source": [
    "### Training\n",
    "We pass it the input features (X_train) and the target classes (y_train), as well as the number of epochs to train (or else it would default to just 1, which would definitely not be enough to converge to a good solution). We also pass a validation set (this is optional). Keras will measure the loss and the extra metrics on this set at the end of each epoch, which is very useful to see how well the model really performs. If the performance on the training set is much better than on the validation set, your model is probably overfitting the training set (or there is a bug, such as a data mismatch between the training set and the validation set).\r\n"
   ]
  },
  {
   "cell_type": "markdown",
   "id": "a49e02b5-65ab-4a21-9105-7c455aee3c11",
   "metadata": {},
   "source": [
    "### Result\n",
    "And that’s it! The neural network is trained. At each epoch during training, Keras displays the number of instances processed so far (along with a progress bar), the mean training time per sample, and the loss and accuracy (or any other extra metrics you asked for) on both the training set and the validation set. You can see that the training loss went down, which is a good sign, and the validation accuracy reached 89.44% after 30 epochs. That’s not too far from the training accuracy, so there does not seem to be much overfitting going on."
   ]
  },
  {
   "cell_type": "code",
   "execution_count": null,
   "id": "acad7bb0-e25a-41ed-86e7-fa57f42c763f",
   "metadata": {},
   "outputs": [],
   "source": []
  },
  {
   "cell_type": "markdown",
   "id": "fe503094-d26e-447b-8aff-74984cb28e9b",
   "metadata": {},
   "source": [
    "# Important Note about Training\n",
    "If the training set was very skewed, with some classes being overrepresented and others underrepresented, it would be useful to set the class_weight argument when calling the fit() method, which would give a larger weight to underrepresented classes and a lower weight to overrepresented classes. These weights would be used by Keras when computing the loss. If you need per-instance weights, set the sample_weight argument (if both class_weight and sample_weight are provided, Keras multiplies them). Per-instance weights could be useful if some instances were labeled by experts while others were labeled using a crowdsourcing platform: you might want to give more weight to the former. You can also provide sample weights (but not class weights) for the validation set by adding them as a third item in the validation_data tuple"
   ]
  },
  {
   "cell_type": "code",
   "execution_count": null,
   "id": "193239ec-94e0-44ba-89fa-1ccdc863dcfb",
   "metadata": {},
   "outputs": [],
   "source": []
  },
  {
   "cell_type": "markdown",
   "id": "d3ff1b8b-99df-441e-9adc-1af26ce77673",
   "metadata": {},
   "source": [
    "### HISTORY\n",
    "The fit() method returns a History object containing the training parameters(history.params), the list of epochs it went through (history.epoch), and most importantly a dictionary (history.history) containing the loss and extra metrics it measured at the end of each epoch on the training set and on the validation set (if any). If you use this dictionary to create a pandas DataFrame and call its plot() method, you get the learning curves shown below"
   ]
  },
  {
   "cell_type": "code",
   "execution_count": 36,
   "id": "73e68dfd-66c5-4c48-812a-57e9abefc5e5",
   "metadata": {},
   "outputs": [
    {
     "data": {
      "text/plain": [
       "dict_keys(['loss', 'accuracy', 'val_loss', 'val_accuracy'])"
      ]
     },
     "execution_count": 36,
     "metadata": {},
     "output_type": "execute_result"
    }
   ],
   "source": [
    "history.history.keys()"
   ]
  },
  {
   "cell_type": "code",
   "execution_count": 37,
   "id": "b514b38e-2956-47f3-9fbb-f266e7973a12",
   "metadata": {},
   "outputs": [],
   "source": [
    "import pandas as pd\n",
    "import matplotlib.pyplot as plt"
   ]
  },
  {
   "cell_type": "code",
   "execution_count": 38,
   "id": "ced93230-4d2d-4383-abca-57fb1f827b4d",
   "metadata": {},
   "outputs": [
    {
     "data": {
      "image/png": "[encoded data removed]",
      "text/plain": [
       "<Figure size 800x500 with 1 Axes>"
      ]
     },
     "metadata": {},
     "output_type": "display_data"
    }
   ],
   "source": [
    "pd.DataFrame(history.history).plot(figsize=(8, 5))\n",
    "plt.grid(True)\n",
    "plt.gca().set_ylim(0, 1) # set the vertical range to [0-1]\n",
    "plt.show()"
   ]
  },
  {
   "cell_type": "markdown",
   "id": "c03e1bd4-8306-4c6c-8cac-7b5662289e93",
   "metadata": {},
   "source": [
    "## PLOT Analysis IMPORTANT READ CAREFULLY, ESPECIALLY SHIFTED BY HALF PART\n",
    "You can see that both the training accuracy and the validation accuracy steadily increase during training, while the training loss and the validation loss decrease. Good! Moreover, the validation curves are close to the training curves, which means that there is not too much overfitting. In this particular case, the model looks like it performed better on the validation set than on the training set at the beginning of training. But that’s not the case: indeed, the validation error is computed at the end of each epoch, while the training error is computed using a running mean during each epoch. So the training curve should be shifted by half an epoch to the left. If you do that, you will see that the training and validation curves overlap almost perfectly at the beginning of training."
   ]
  },
  {
   "cell_type": "markdown",
   "id": "52aa3100-afde-49d9-a8c3-e5b529496dcb",
   "metadata": {},
   "source": [
    "### Performance Comparison\n",
    "The training set performance ends up beating the validation performance, as is generally the case when you train for long enough. You can tell that the model has not quite converged yet, as the validation loss is still going down, so you should probably continue training. It’s as simple as calling the fit() method again, since Keras just continues training where it left off (you should be able to reach close to 89% validation accuracy).acy)."
   ]
  },
  {
   "cell_type": "markdown",
   "id": "619304a9-d1bb-4bf2-8ad0-ea42596087d0",
   "metadata": {},
   "source": [
    "### Performance Improvement Tips IMPORTANT!!!!!!!!!!!!!!!!!!!!!!!!!!!!!\n",
    "If you are not satisfied with the performance of your model, you should go back and tune the hyperparameters. The first one to check is the learning rate. If that doesn’t help, try another optimizer (and always retune the learning rate after changing any hyperparameter). If the performance is still not great, then try tuning model hyperparameters such as the number of layers, the number of neurons per layer, and the types of activation functions to use for each hidden layer. You can also try tuning other hyperparameters, such as the batch size (it can be set in the fit() method using the batch_size argument, which defaults to 32). Once you are satisfied with your model’s validation\r\n",
    "accuracy, you should evaluate it on the test set to estimate the generalization error before you deploy the model to production. You can easily do this using the evaluate() method (it also supports several other arguments, such as batch_size and sample_weight;\n",
    "\n"
   ]
  },
  {
   "cell_type": "code",
   "execution_count": null,
   "id": "ee414524-fedb-4306-b169-9a7773868734",
   "metadata": {},
   "outputs": [],
   "source": []
  },
  {
   "cell_type": "markdown",
   "id": "9a6b060d-438f-487a-af44-9863c770789d",
   "metadata": {},
   "source": [
    "## MODEL EVALUATION ON TEST SET"
   ]
  },
  {
   "cell_type": "code",
   "execution_count": 39,
   "id": "b379a194-d973-4a1f-a4a3-ccffba470293",
   "metadata": {},
   "outputs": [
    {
     "name": "stdout",
     "output_type": "stream",
     "text": [
      "313/313 [==============================] - 1s 3ms/step - loss: 66.4700 - accuracy: 0.8463\n"
     ]
    },
    {
     "data": {
      "text/plain": [
       "[66.46995544433594, 0.8463000059127808]"
      ]
     },
     "execution_count": 39,
     "metadata": {},
     "output_type": "execute_result"
    }
   ],
   "source": [
    "model.evaluate(X_test, y_test)"
   ]
  },
  {
   "cell_type": "markdown",
   "id": "04d8217c-6cd8-4ed2-8ddc-b80efc73fb0a",
   "metadata": {},
   "source": [
    "## Test Set Performance Analysis\r\n",
    "it is common to get slightly lower performance on the test set than on the validation set, because the hyperparameters are tuned on the validation set, not the test set (however, in this example, we did not do any hyperparameter tuning, so the lower accuracy is just bad luck). Remember to resist the temptation to tweak the hyperparameters on the test set, or else your estimate of the generalization error will be too optimistic."
   ]
  },
  {
   "cell_type": "code",
   "execution_count": null,
   "id": "e5cfa37c-7847-4d5f-9e71-eff8ce60302a",
   "metadata": {},
   "outputs": [],
   "source": []
  },
  {
   "cell_type": "markdown",
   "id": "7c7eed37-9f8a-4cef-bccc-62367f20293a",
   "metadata": {},
   "source": [
    "## Using the model to make predictions\n",
    "Next, we can use the model’s predict() method to make predictions on new instances. Since we don’t have actual new instances, we will just use the first three instances of the test set:"
   ]
  },
  {
   "cell_type": "code",
   "execution_count": 40,
   "id": "ca657a26-8384-4c5f-880d-e6227ee18ce4",
   "metadata": {},
   "outputs": [
    {
     "name": "stdout",
     "output_type": "stream",
     "text": [
      "1/1 [==============================] - 0s 127ms/step\n"
     ]
    },
    {
     "data": {
      "text/plain": [
       "array([[0., 0., 0., 0., 0., 0., 0., 0., 0., 1.],\n",
       "       [0., 0., 1., 0., 0., 0., 0., 0., 0., 0.],\n",
       "       [0., 1., 0., 0., 0., 0., 0., 0., 0., 0.]], dtype=float32)"
      ]
     },
     "execution_count": 40,
     "metadata": {},
     "output_type": "execute_result"
    }
   ],
   "source": [
    "X_new = X_test[:3]\n",
    "y_proba = model.predict(X_new)\n",
    "y_proba"
   ]
  },
  {
   "cell_type": "markdown",
   "id": "9629ef1e-0063-4517-bc16-f383476ba7d3",
   "metadata": {},
   "source": [
    "### Prediction Performance Analysis\n",
    "As you can see, for each instance the model estimates one probability per class, from class 0 to class 9. For example, for the first image it estimates that the probability of class 9 (ankle boot) is 100%. In other words, it “believes” the first image is footwear, most likely ankle boots."
   ]
  },
  {
   "cell_type": "markdown",
   "id": "f1eb4bc2-1ae4-4553-b8ff-4da7a92e84cd",
   "metadata": {},
   "source": [
    "#### Important Class Probability\n",
    "If you only care about the class with the highest estimated probability (even if that probability is quite low), then you can use the predict_classes() method instead:"
   ]
  },
  {
   "cell_type": "code",
   "execution_count": 41,
   "id": "03557375-4625-4253-850a-0fd429d8be60",
   "metadata": {},
   "outputs": [],
   "source": [
    "# Not working\n",
    "# y_pred = model.predict_classes(X_new)\n",
    "# y_pred"
   ]
  },
  {
   "cell_type": "code",
   "execution_count": 42,
   "id": "c04227c6-5748-413f-9872-998422323896",
   "metadata": {},
   "outputs": [
    {
     "data": {
      "text/plain": [
       "array([9, 2, 1], dtype=uint8)"
      ]
     },
     "execution_count": 42,
     "metadata": {},
     "output_type": "execute_result"
    }
   ],
   "source": [
    "y_new = y_test[:3]\n",
    "y_new"
   ]
  },
  {
   "cell_type": "markdown",
   "id": "924347d9-90da-4f14-a19c-289c57ec3036",
   "metadata": {},
   "source": [
    "### Result \n",
    "Here, the classifier actually classified all three images correctly."
   ]
  },
  {
   "cell_type": "code",
   "execution_count": null,
   "id": "33b33891-eb3d-42a5-9844-f377d797ebea",
   "metadata": {},
   "outputs": [],
   "source": []
  },
  {
   "cell_type": "markdown",
   "id": "4b859bd1-ba69-4128-9a0f-18793af3384d",
   "metadata": {},
   "source": [
    "# Building a Regression MLP Using the Sequential API"
   ]
  },
  {
   "cell_type": "markdown",
   "id": "d3f7e779-bd1f-481f-a9a9-7fc22b7d1e48",
   "metadata": {},
   "source": [
    "Let’s switch to the California housing problem and tackle it using a regression neural network. For simplicity, we will use Scikit-Learn’s fetch_california_housing() function to load the data. After loading the data, we split it into a training set, a validation set, and a test set, and we scale all the features:"
   ]
  },
  {
   "cell_type": "code",
   "execution_count": 43,
   "id": "c18b48b7-aae9-4563-aa5f-b8f0e54ecfd7",
   "metadata": {},
   "outputs": [],
   "source": [
    "from sklearn.datasets import fetch_california_housing\n",
    "from sklearn.model_selection import train_test_split\n",
    "from sklearn.preprocessing import StandardScaler"
   ]
  },
  {
   "cell_type": "code",
   "execution_count": 44,
   "id": "a5d77298-a75e-45ff-9dbc-449d7616f2fd",
   "metadata": {},
   "outputs": [],
   "source": [
    "housing = fetch_california_housing()"
   ]
  },
  {
   "cell_type": "code",
   "execution_count": 45,
   "id": "f853abfc-b557-4aa8-b0f5-18faf23de163",
   "metadata": {},
   "outputs": [],
   "source": [
    "X_train_full, X_test, y_train_full, y_test = train_test_split(housing.data, housing.target)"
   ]
  },
  {
   "cell_type": "code",
   "execution_count": 46,
   "id": "4b4ad6c5-ef32-48e4-8b91-963ccf6e0588",
   "metadata": {},
   "outputs": [],
   "source": [
    "X_train,X_valid,y_train,y_valid = train_test_split(X_train_full,y_train_full)"
   ]
  },
  {
   "cell_type": "code",
   "execution_count": 47,
   "id": "0980758e-0117-44b7-a91d-c00f07b0275d",
   "metadata": {},
   "outputs": [],
   "source": [
    "scaler = StandardScaler()"
   ]
  },
  {
   "cell_type": "code",
   "execution_count": 48,
   "id": "35d65d85-6eb0-4298-b88e-75f7a7c204cc",
   "metadata": {},
   "outputs": [],
   "source": [
    "X_train = scaler.fit_transform(X_train)\n",
    "X_valid = scaler.transform(X_valid)\n",
    "X_test = scaler.transform(X_test)"
   ]
  },
  {
   "cell_type": "markdown",
   "id": "76a13d5d-55fa-4216-bca3-3b48bf0e468f",
   "metadata": {},
   "source": [
    "### Important, see in the above block, and we have discussed this earlier as well that you fit_transform only on the Training data, and not on the Validation or the Testing Data!"
   ]
  },
  {
   "cell_type": "markdown",
   "id": "fbbf3f16-0678-4e1f-b088-06096a793c17",
   "metadata": {},
   "source": [
    "## The regression model"
   ]
  },
  {
   "cell_type": "markdown",
   "id": "24256a46-b79c-4432-8e8b-84065dca29aa",
   "metadata": {},
   "source": [
    "Using the Sequential API to build, train, evaluate, and use a regression MLP to make predictions is quite similar to what we did for classification. The main differences are the fact that the output layer has a single neuron (since we only want to predict a single value) and uses no activation function, and the loss function is the mean squared error. Since the dataset is quite noisy, we just use a single hidden layer with fewer neurons than before, to avoid overfitting:"
   ]
  },
  {
   "cell_type": "markdown",
   "id": "17dd8ced-85a4-458d-9fb9-5bc2e2b51ccc",
   "metadata": {},
   "source": [
    "# Check the notebook for this chapter, \"Rule of Thumb Part\""
   ]
  },
  {
   "cell_type": "code",
   "execution_count": 49,
   "id": "12cac4cb-6b22-44b6-8ff6-1f1589939c49",
   "metadata": {},
   "outputs": [
    {
     "data": {
      "text/plain": [
       "(11610, 8)"
      ]
     },
     "execution_count": 49,
     "metadata": {},
     "output_type": "execute_result"
    }
   ],
   "source": [
    "X_train.shape"
   ]
  },
  {
   "cell_type": "code",
   "execution_count": 50,
   "id": "7533b41a-21db-4d67-ad19-cc927c395245",
   "metadata": {},
   "outputs": [
    {
     "data": {
      "text/plain": [
       "(8,)"
      ]
     },
     "execution_count": 50,
     "metadata": {},
     "output_type": "execute_result"
    }
   ],
   "source": [
    "X_train.shape[1:]"
   ]
  },
  {
   "cell_type": "code",
   "execution_count": 51,
   "id": "ed92a295-5c94-4256-bc54-1d20d168aefa",
   "metadata": {},
   "outputs": [],
   "source": [
    "model = keras.models.Sequential([\n",
    " keras.layers.Dense(30, activation=\"relu\", input_shape=X_train.shape[1:]),\n",
    " keras.layers.Dense(1)])"
   ]
  },
  {
   "cell_type": "code",
   "execution_count": 52,
   "id": "a02b31f2-b2d0-4481-8c0f-ba87db436791",
   "metadata": {},
   "outputs": [],
   "source": [
    "model.compile(loss=\"mean_squared_error\", optimizer=\"sgd\" ,metrics=[\"accuracy\"])"
   ]
  },
  {
   "cell_type": "code",
   "execution_count": 53,
   "id": "ab6dc31d-d4cf-4af2-906b-3b2fb0a9491d",
   "metadata": {},
   "outputs": [
    {
     "name": "stdout",
     "output_type": "stream",
     "text": [
      "Epoch 1/20\n",
      "363/363 [==============================] - 2s 3ms/step - loss: 0.8087 - accuracy: 0.0029 - val_loss: 0.5686 - val_accuracy: 0.0031\n",
      "Epoch 2/20\n",
      "363/363 [==============================] - 1s 3ms/step - loss: 0.5636 - accuracy: 0.0030 - val_loss: 0.5199 - val_accuracy: 0.0031\n",
      "Epoch 3/20\n",
      "363/363 [==============================] - 1s 2ms/step - loss: 0.4981 - accuracy: 0.0030 - val_loss: 0.4885 - val_accuracy: 0.0031\n",
      "Epoch 4/20\n",
      "363/363 [==============================] - 1s 3ms/step - loss: 0.4557 - accuracy: 0.0030 - val_loss: 0.4810 - val_accuracy: 0.0031\n",
      "Epoch 5/20\n",
      "363/363 [==============================] - 1s 3ms/step - loss: 0.4527 - accuracy: 0.0030 - val_loss: 0.4694 - val_accuracy: 0.0031\n",
      "Epoch 6/20\n",
      "363/363 [==============================] - 1s 2ms/step - loss: 0.4367 - accuracy: 0.0030 - val_loss: 0.4540 - val_accuracy: 0.0031\n",
      "Epoch 7/20\n",
      "363/363 [==============================] - 1s 3ms/step - loss: 0.4297 - accuracy: 0.0030 - val_loss: 0.4465 - val_accuracy: 0.0031\n",
      "Epoch 8/20\n",
      "363/363 [==============================] - 1s 3ms/step - loss: 0.4223 - accuracy: 0.0030 - val_loss: 0.4425 - val_accuracy: 0.0031\n",
      "Epoch 9/20\n",
      "363/363 [==============================] - 1s 3ms/step - loss: 0.4237 - accuracy: 0.0030 - val_loss: 0.4307 - val_accuracy: 0.0031\n",
      "Epoch 10/20\n",
      "363/363 [==============================] - 1s 3ms/step - loss: 0.4127 - accuracy: 0.0030 - val_loss: 0.4328 - val_accuracy: 0.0031\n",
      "Epoch 11/20\n",
      "363/363 [==============================] - 1s 3ms/step - loss: 0.4161 - accuracy: 0.0030 - val_loss: 0.4227 - val_accuracy: 0.0031\n",
      "Epoch 12/20\n",
      "363/363 [==============================] - 1s 3ms/step - loss: 0.4074 - accuracy: 0.0030 - val_loss: 0.4209 - val_accuracy: 0.0031\n",
      "Epoch 13/20\n",
      "363/363 [==============================] - 1s 3ms/step - loss: 0.4013 - accuracy: 0.0030 - val_loss: 0.4161 - val_accuracy: 0.0031\n",
      "Epoch 14/20\n",
      "363/363 [==============================] - 1s 2ms/step - loss: 0.4006 - accuracy: 0.0030 - val_loss: 0.4181 - val_accuracy: 0.0031\n",
      "Epoch 15/20\n",
      "363/363 [==============================] - 1s 3ms/step - loss: 0.3987 - accuracy: 0.0030 - val_loss: 0.4075 - val_accuracy: 0.0031\n",
      "Epoch 16/20\n",
      "363/363 [==============================] - 1s 2ms/step - loss: 0.3902 - accuracy: 0.0030 - val_loss: 0.4045 - val_accuracy: 0.0031\n",
      "Epoch 17/20\n",
      "363/363 [==============================] - 1s 2ms/step - loss: 0.3917 - accuracy: 0.0030 - val_loss: 0.4115 - val_accuracy: 0.0031\n",
      "Epoch 18/20\n",
      "363/363 [==============================] - 1s 2ms/step - loss: 0.3856 - accuracy: 0.0030 - val_loss: 0.3951 - val_accuracy: 0.0031\n",
      "Epoch 19/20\n",
      "363/363 [==============================] - 1s 3ms/step - loss: 0.3823 - accuracy: 0.0030 - val_loss: 0.3925 - val_accuracy: 0.0031\n",
      "Epoch 20/20\n",
      "363/363 [==============================] - 1s 3ms/step - loss: 0.3792 - accuracy: 0.0030 - val_loss: 0.3964 - val_accuracy: 0.0031\n"
     ]
    }
   ],
   "source": [
    "history = model.fit(X_train, y_train, epochs=20,validation_data=(X_valid, y_valid))"
   ]
  },
  {
   "cell_type": "code",
   "execution_count": 54,
   "id": "7d765ac7-8391-4cb9-88c7-89e1d1795f22",
   "metadata": {},
   "outputs": [
    {
     "data": {
      "text/plain": [
       "dict_keys(['loss', 'accuracy', 'val_loss', 'val_accuracy'])"
      ]
     },
     "execution_count": 54,
     "metadata": {},
     "output_type": "execute_result"
    }
   ],
   "source": [
    "history.history.keys()"
   ]
  },
  {
   "cell_type": "code",
   "execution_count": 55,
   "id": "15498101-5bc8-4e02-bb76-54b080a4906e",
   "metadata": {},
   "outputs": [
    {
     "data": {
      "image/png": "[encoded data removed]",
      "text/plain": [
       "<Figure size 800x500 with 1 Axes>"
      ]
     },
     "metadata": {},
     "output_type": "display_data"
    }
   ],
   "source": [
    "pd.DataFrame(history.history).plot(figsize=(8, 5))\n",
    "plt.grid(True)\n",
    "plt.gca() # set the vertical range to [0-1]\n",
    "plt.show()"
   ]
  },
  {
   "cell_type": "code",
   "execution_count": 56,
   "id": "324f5a7f-2446-4359-92cd-01120aa01a78",
   "metadata": {},
   "outputs": [
    {
     "name": "stdout",
     "output_type": "stream",
     "text": [
      "162/162 [==============================] - 0s 2ms/step - loss: 0.3866 - accuracy: 0.0029\n"
     ]
    }
   ],
   "source": [
    "mse_test = model.evaluate(X_test, y_test)"
   ]
  },
  {
   "cell_type": "code",
   "execution_count": 57,
   "id": "ed18e421-a2a2-4d87-81e6-c9ddcb9bd9ab",
   "metadata": {},
   "outputs": [],
   "source": [
    "X_new = X_test[:3]"
   ]
  },
  {
   "cell_type": "code",
   "execution_count": 58,
   "id": "c08d116f-7817-481a-a3bb-54f65e4a0b66",
   "metadata": {},
   "outputs": [
    {
     "name": "stdout",
     "output_type": "stream",
     "text": [
      "1/1 [==============================] - 0s 58ms/step\n"
     ]
    }
   ],
   "source": [
    "y_pred = model.predict(X_new)"
   ]
  },
  {
   "cell_type": "code",
   "execution_count": null,
   "id": "b58f2201-f3b1-45c4-8e5f-5d61a59bf496",
   "metadata": {},
   "outputs": [],
   "source": []
  },
  {
   "cell_type": "markdown",
   "id": "d05c738a-3d69-4d67-b195-b9633a1fbb9e",
   "metadata": {},
   "source": [
    "# Building Complex Models Using the Functional API  IMPORTANT!!!!!!!!!!!!!!!!!!!!!!!!!!!!!!!!!!!!!"
   ]
  },
  {
   "cell_type": "markdown",
   "id": "1b4b2aed-5be4-4e65-8d4b-cf702ca6da46",
   "metadata": {},
   "source": [
    "It is sometimes useful to build neural networks with more complex topologies, or with multiple inputs or outputs. For this purpose, Keras offers the Functional API. It connects all or part of the inputs directly to the output layer. This architecture makes it possible for the neural network to learn both deep patterns (using the deep path) and simple rules (through the short path). The short path can also be used to provide manually engineered features to the neural network."
   ]
  },
  {
   "cell_type": "markdown",
   "id": "cdccac0c-3099-4c00-be0f-78f6a4e30703",
   "metadata": {},
   "source": [
    "In contrast, a regular MLP forces all the data to flow through the full stack of layers thus, simple patterns in the data may end up being distorted by this sequence of transformations."
   ]
  },
  {
   "cell_type": "markdown",
   "id": "4cf91988-8c0e-4f03-8278-6e6b5580aeb3",
   "metadata": {},
   "source": [
    "## Let’s build such a neural network to tackle the California housing problem:"
   ]
  },
  {
   "cell_type": "code",
   "execution_count": 59,
   "id": "c55dabd2-9f51-4667-bfcc-73668d742637",
   "metadata": {},
   "outputs": [],
   "source": [
    "input_ = keras.layers.Input(shape=X_train.shape[1:])\n",
    "hidden1 = keras.layers.Dense(30, activation=\"relu\")(input_)\n",
    "hidden2 = keras.layers.Dense(30, activation=\"relu\")(hidden1)\n",
    "concat = keras.layers.Concatenate()([input_, hidden2])\n",
    "output = keras.layers.Dense(1)(concat)\n",
    "model = keras.Model(inputs=[input_], outputs=[output])"
   ]
  },
  {
   "cell_type": "markdown",
   "id": "e65d7605-9bf0-4d25-a406-fda3638fc30e",
   "metadata": {},
   "source": [
    "### Let’s go through each line of this code:"
   ]
  },
  {
   "cell_type": "markdown",
   "id": "0d781df3-5cc0-4bda-b5c5-b42303e3ab4f",
   "metadata": {},
   "source": [
    "### 1) First, we need to create an Input object. This is a specification of the kind of input the model will get, including its shape and dtype. A model may actually have multiple inputs, as we will see shortly. The input_ is the Input object "
   ]
  },
  {
   "cell_type": "markdown",
   "id": "8d26bb1a-dce8-4ddd-8459-8759ec025129",
   "metadata": {},
   "source": [
    "### 2) Next, we create a Dense layer, hidden1 with 30 neurons, using the ReLU activation function. As soon as it is created, notice that we call it like a function, passing it the input_. This is why this is called the Functional API. Note that we are just telling Keras how it should connect the layers together; no actual data is being processed yet."
   ]
  },
  {
   "cell_type": "markdown",
   "id": "a75afe60-ff6d-4067-8fef-552cd5cbcf01",
   "metadata": {},
   "source": [
    "### 3) We then create a second hidden layer, hidden2, and again we use it as a function. Note that we pass it the output of the first hidden layer."
   ]
  },
  {
   "cell_type": "markdown",
   "id": "07bdd485-5a49-4184-8563-fa46f530598e",
   "metadata": {},
   "source": [
    "### 4) Next, we create a Concatenate layer, Now notice that in this concatenate layer we are giving two parameters, the input_ and the hidden2, so hence we're basically achieving our aim of simple features being passed directly from the input_ to the output and the deep patterns being passed from input_ to hidden1 then to hidden2 and finally to the output. And once again we immediately use concatenate like a function, to concatenate the input and the output of the second hidden layer. "
   ]
  },
  {
   "cell_type": "markdown",
   "id": "9af084ad-3c01-47c0-9142-d24decbccac5",
   "metadata": {},
   "source": [
    "### 5) Then we create the output layer, with a single neuron and no activation function, and we call it like a function, passing it the result of the concatenation."
   ]
  },
  {
   "cell_type": "markdown",
   "id": "2c11b8f2-feeb-4507-9ccd-e3d2e0d352e3",
   "metadata": {},
   "source": [
    "### 6) Lastly, we create a Keras Model, specifying which inputs and outputs to use."
   ]
  },
  {
   "cell_type": "code",
   "execution_count": null,
   "id": "2cf0bf6b-f6db-411d-b7fb-e44280d760ea",
   "metadata": {},
   "outputs": [],
   "source": []
  },
  {
   "cell_type": "markdown",
   "id": "e0dfffb8-eb6b-4c48-93fa-33223fefd09f",
   "metadata": {},
   "source": [
    "### Building, Training and Evaluating the model"
   ]
  },
  {
   "cell_type": "code",
   "execution_count": 60,
   "id": "6d6e7e61-a6a3-480f-bd4a-49a57e5c5fc5",
   "metadata": {},
   "outputs": [],
   "source": [
    "model.compile(loss=\"mean_squared_error\", optimizer=\"sgd\" ,metrics=[\"accuracy\"])"
   ]
  },
  {
   "cell_type": "code",
   "execution_count": 61,
   "id": "2c87f03e-44b4-4f26-9d52-131d6c95db93",
   "metadata": {},
   "outputs": [
    {
     "name": "stdout",
     "output_type": "stream",
     "text": [
      "Epoch 1/20\n",
      "363/363 [==============================] - 1s 3ms/step - loss: 0.7480 - accuracy: 0.0029 - val_loss: 0.6021 - val_accuracy: 0.0031\n",
      "Epoch 2/20\n",
      "363/363 [==============================] - 1s 3ms/step - loss: 0.5705 - accuracy: 0.0030 - val_loss: 0.5415 - val_accuracy: 0.0031\n",
      "Epoch 3/20\n",
      "363/363 [==============================] - 1s 3ms/step - loss: 0.4961 - accuracy: 0.0030 - val_loss: 0.5003 - val_accuracy: 0.0031\n",
      "Epoch 4/20\n",
      "363/363 [==============================] - 1s 3ms/step - loss: 0.4967 - accuracy: 0.0030 - val_loss: 1.7908 - val_accuracy: 0.0023\n",
      "Epoch 5/20\n",
      "363/363 [==============================] - 1s 3ms/step - loss: 0.5308 - accuracy: 0.0030 - val_loss: 0.4814 - val_accuracy: 0.0031\n",
      "Epoch 6/20\n",
      "363/363 [==============================] - 1s 3ms/step - loss: 0.4711 - accuracy: 0.0030 - val_loss: 0.4744 - val_accuracy: 0.0031\n",
      "Epoch 7/20\n",
      "363/363 [==============================] - 1s 3ms/step - loss: 0.4357 - accuracy: 0.0030 - val_loss: 0.4636 - val_accuracy: 0.0031\n",
      "Epoch 8/20\n",
      "363/363 [==============================] - 1s 3ms/step - loss: 0.4247 - accuracy: 0.0030 - val_loss: 0.4459 - val_accuracy: 0.0028\n",
      "Epoch 9/20\n",
      "363/363 [==============================] - 1s 3ms/step - loss: 0.6584 - accuracy: 0.0028 - val_loss: 0.4447 - val_accuracy: 0.0028\n",
      "Epoch 10/20\n",
      "363/363 [==============================] - 1s 3ms/step - loss: 0.4391 - accuracy: 0.0030 - val_loss: 0.5024 - val_accuracy: 0.0031\n",
      "Epoch 11/20\n",
      "363/363 [==============================] - 1s 3ms/step - loss: 0.5102 - accuracy: 0.0030 - val_loss: 0.4271 - val_accuracy: 0.0031\n",
      "Epoch 12/20\n",
      "363/363 [==============================] - 1s 3ms/step - loss: 0.4591 - accuracy: 0.0030 - val_loss: 0.4253 - val_accuracy: 0.0031\n",
      "Epoch 13/20\n",
      "363/363 [==============================] - 1s 3ms/step - loss: 0.4090 - accuracy: 0.0030 - val_loss: 0.4065 - val_accuracy: 0.0031\n",
      "Epoch 14/20\n",
      "363/363 [==============================] - 1s 3ms/step - loss: 0.3834 - accuracy: 0.0030 - val_loss: 0.4136 - val_accuracy: 0.0031\n",
      "Epoch 15/20\n",
      "363/363 [==============================] - 1s 3ms/step - loss: 0.3797 - accuracy: 0.0030 - val_loss: 0.3981 - val_accuracy: 0.0031\n",
      "Epoch 16/20\n",
      "363/363 [==============================] - 1s 3ms/step - loss: 0.3745 - accuracy: 0.0030 - val_loss: 0.4209 - val_accuracy: 0.0031\n",
      "Epoch 17/20\n",
      "363/363 [==============================] - 1s 3ms/step - loss: 0.7550 - accuracy: 0.0030 - val_loss: 0.3976 - val_accuracy: 0.0031\n",
      "Epoch 18/20\n",
      "363/363 [==============================] - 1s 3ms/step - loss: 0.3856 - accuracy: 0.0030 - val_loss: 0.3858 - val_accuracy: 0.0031\n",
      "Epoch 19/20\n",
      "363/363 [==============================] - 1s 3ms/step - loss: 0.3809 - accuracy: 0.0030 - val_loss: 0.4275 - val_accuracy: 0.0031\n",
      "Epoch 20/20\n",
      "363/363 [==============================] - 1s 3ms/step - loss: 0.8580 - accuracy: 0.0030 - val_loss: 0.3959 - val_accuracy: 0.0031\n"
     ]
    }
   ],
   "source": [
    "history = model.fit(X_train, y_train, epochs=20,validation_data=(X_valid, y_valid))"
   ]
  },
  {
   "cell_type": "code",
   "execution_count": 62,
   "id": "b7647514-793a-4bef-9797-fe35297cba47",
   "metadata": {},
   "outputs": [
    {
     "data": {
      "image/png": "[encoded data removed]",
      "text/plain": [
       "<Figure size 800x500 with 1 Axes>"
      ]
     },
     "metadata": {},
     "output_type": "display_data"
    }
   ],
   "source": [
    "pd.DataFrame(history.history).plot(figsize=(8, 5))\n",
    "plt.grid(True)\n",
    "plt.gca() # set the vertical range to [0-1]\n",
    "plt.show()"
   ]
  },
  {
   "cell_type": "code",
   "execution_count": 63,
   "id": "d3aa8896-c1df-4d2d-b5be-74dbdd6acf06",
   "metadata": {},
   "outputs": [
    {
     "name": "stdout",
     "output_type": "stream",
     "text": [
      "162/162 [==============================] - 0s 2ms/step - loss: 0.3767 - accuracy: 0.0029\n"
     ]
    }
   ],
   "source": [
    "mse_test = model.evaluate(X_test, y_test)"
   ]
  },
  {
   "cell_type": "code",
   "execution_count": null,
   "id": "c5837fec-692a-413d-9f5c-ed7fa45ac01d",
   "metadata": {},
   "outputs": [],
   "source": []
  },
  {
   "cell_type": "markdown",
   "id": "a2b60091-4151-4192-87af-6d4c30a2c875",
   "metadata": {},
   "source": [
    "### Passing Overlapping Subsets of features through wide path and deep path"
   ]
  },
  {
   "cell_type": "markdown",
   "id": "1d6d1d5e-c998-4d5c-ba64-6c0df4d1b6e6",
   "metadata": {},
   "source": [
    "If you want to send a subset of the features through the wide path and a different subset (possibly overlapping) through the deep path. In this case, one solution is to use multiple inputs. For example, suppose we want to send five features through the wide path (features 0 to 4), and six features through the deep path (features 2 to 7):"
   ]
  },
  {
   "cell_type": "markdown",
   "id": "ce943357-a726-47e6-8f67-061329f8f2af",
   "metadata": {},
   "source": [
    "#### Building the model for this case"
   ]
  },
  {
   "cell_type": "code",
   "execution_count": 64,
   "id": "6df498c0-fd0e-432a-87be-a6e7ebe30dd9",
   "metadata": {},
   "outputs": [],
   "source": [
    "input_A = keras.layers.Input(shape=[5], name=\"wide_input\")\n",
    "input_B = keras.layers.Input(shape=[6], name=\"deep_input\")\n",
    "hidden1 = keras.layers.Dense(30, activation=\"relu\")(input_B)\n",
    "hidden2 = keras.layers.Dense(30, activation=\"relu\")(hidden1)\n",
    "concat = keras.layers.concatenate([input_A, hidden2])\n",
    "output = keras.layers.Dense(1, name=\"output\")(concat)\n",
    "model = keras.Model(inputs=[input_A, input_B], outputs=[output])"
   ]
  },
  {
   "cell_type": "markdown",
   "id": "32a55b43-582a-4890-9697-ccf827716a80",
   "metadata": {},
   "source": [
    "### Model explanation"
   ]
  },
  {
   "cell_type": "markdown",
   "id": "a7238fe2-bd98-4abc-947c-375c45af1f8f",
   "metadata": {},
   "source": [
    "### 1) Now we create two input objects, one that will directly go to the concatenation layer, and second one that will go through the hidden layers"
   ]
  },
  {
   "cell_type": "markdown",
   "id": "35c5fa70-011b-43e4-bd96-4a5d950a7007",
   "metadata": {},
   "source": [
    "### 2) Here remember to name the important layers"
   ]
  },
  {
   "cell_type": "code",
   "execution_count": null,
   "id": "2de6d622-7b56-4dee-b197-aba4b67b2a00",
   "metadata": {},
   "outputs": [],
   "source": []
  },
  {
   "cell_type": "markdown",
   "id": "27b92be2-820b-49ba-91dc-41058a2396db",
   "metadata": {},
   "source": [
    "### Compiling the Model"
   ]
  },
  {
   "cell_type": "markdown",
   "id": "1c328f85-a428-4bad-b1fd-a44f42f6381b",
   "metadata": {},
   "source": [
    "Now we can compile the model as usual, but when we call the fit() method, instead of passing a single input matrix X_train, we must pass a pair of matrices (X_train_A, X_train_B): one per input. The same is true for X_valid, and also for X_test and X_new when you call evaluate() or predict():\r\n"
   ]
  },
  {
   "cell_type": "markdown",
   "id": "a5bc0640-a084-4904-8b8e-184dbc3b9a8d",
   "metadata": {},
   "source": [
    "Alternatively, you can pass a dictionary mapping the input names to the input values, like {\"wide_input\": X_train_A, \"deep_input\": X_train_B}. This is especially useful when there are many inputs, to avoid getting the order wrong."
   ]
  },
  {
   "cell_type": "code",
   "execution_count": null,
   "id": "16a69dd8-0534-4c83-a2d7-1757a3f64ad1",
   "metadata": {},
   "outputs": [],
   "source": []
  },
  {
   "cell_type": "code",
   "execution_count": 65,
   "id": "193802a5-4248-413b-975a-c5ad3783e3be",
   "metadata": {},
   "outputs": [],
   "source": [
    "model.compile(loss=\"mse\", optimizer=keras.optimizers.SGD(learning_rate=1e-3),metrics=[\"accuracy\"])"
   ]
  },
  {
   "cell_type": "markdown",
   "id": "b7c52029-94fe-4d24-8863-6189a1ffe3f2",
   "metadata": {},
   "source": [
    "#### Creating the two subsets of dataset for input A and input B"
   ]
  },
  {
   "cell_type": "code",
   "execution_count": 66,
   "id": "65515f10-f661-4d57-8643-0e894ababe12",
   "metadata": {},
   "outputs": [],
   "source": [
    "X_train_A, X_train_B = X_train[:, :5], X_train[:, 2:]\n",
    "X_valid_A, X_valid_B = X_valid[:, :5], X_valid[:, 2:]\n",
    "X_test_A, X_test_B = X_test[:, :5], X_test[:, 2:]\n",
    "X_new_A, X_new_B = X_test_A[:3], X_test_B[:3]"
   ]
  },
  {
   "cell_type": "markdown",
   "id": "0093a6df-5fa6-43df-8859-3e426249091f",
   "metadata": {},
   "source": [
    "#### Now, notice that we're not splitting the y_train, y_test, and of course you won't split them because your model is learning the one X_train only but just in two ways so you are not going to split the y_train, it is not going to check with two different correct values"
   ]
  },
  {
   "cell_type": "code",
   "execution_count": 67,
   "id": "92e47f50-0536-44b4-aa5a-dbb94c137fec",
   "metadata": {},
   "outputs": [
    {
     "name": "stdout",
     "output_type": "stream",
     "text": [
      "Epoch 1/20\n",
      "363/363 [==============================] - 2s 3ms/step - loss: 2.6988 - accuracy: 0.0027 - val_loss: 1.0965 - val_accuracy: 0.0031\n",
      "Epoch 2/20\n",
      "363/363 [==============================] - 1s 3ms/step - loss: 0.8491 - accuracy: 0.0030 - val_loss: 0.7783 - val_accuracy: 0.0028\n",
      "Epoch 3/20\n",
      "363/363 [==============================] - 1s 3ms/step - loss: 0.7037 - accuracy: 0.0030 - val_loss: 0.7026 - val_accuracy: 0.0028\n",
      "Epoch 4/20\n",
      "363/363 [==============================] - 1s 3ms/step - loss: 0.6509 - accuracy: 0.0030 - val_loss: 0.6636 - val_accuracy: 0.0028\n",
      "Epoch 5/20\n",
      "363/363 [==============================] - 1s 3ms/step - loss: 0.6195 - accuracy: 0.0030 - val_loss: 0.6389 - val_accuracy: 0.0028\n",
      "Epoch 6/20\n",
      "363/363 [==============================] - 1s 3ms/step - loss: 0.5940 - accuracy: 0.0030 - val_loss: 0.6204 - val_accuracy: 0.0028\n",
      "Epoch 7/20\n",
      "363/363 [==============================] - 1s 3ms/step - loss: 0.5733 - accuracy: 0.0030 - val_loss: 0.5954 - val_accuracy: 0.0028\n",
      "Epoch 8/20\n",
      "363/363 [==============================] - 1s 3ms/step - loss: 0.5571 - accuracy: 0.0030 - val_loss: 0.5810 - val_accuracy: 0.0028\n",
      "Epoch 9/20\n",
      "363/363 [==============================] - 1s 2ms/step - loss: 0.5430 - accuracy: 0.0030 - val_loss: 0.5660 - val_accuracy: 0.0028\n",
      "Epoch 10/20\n",
      "363/363 [==============================] - 1s 3ms/step - loss: 0.5337 - accuracy: 0.0030 - val_loss: 0.5554 - val_accuracy: 0.0028\n",
      "Epoch 11/20\n",
      "363/363 [==============================] - 1s 3ms/step - loss: 0.5228 - accuracy: 0.0030 - val_loss: 0.5459 - val_accuracy: 0.0028\n",
      "Epoch 12/20\n",
      "363/363 [==============================] - 1s 3ms/step - loss: 0.5180 - accuracy: 0.0030 - val_loss: 0.5413 - val_accuracy: 0.0028\n",
      "Epoch 13/20\n",
      "363/363 [==============================] - 1s 3ms/step - loss: 0.5078 - accuracy: 0.0030 - val_loss: 0.5301 - val_accuracy: 0.0031\n",
      "Epoch 14/20\n",
      "363/363 [==============================] - 1s 3ms/step - loss: 0.5050 - accuracy: 0.0030 - val_loss: 0.5273 - val_accuracy: 0.0031\n",
      "Epoch 15/20\n",
      "363/363 [==============================] - 1s 3ms/step - loss: 0.4982 - accuracy: 0.0029 - val_loss: 0.5228 - val_accuracy: 0.0031\n",
      "Epoch 16/20\n",
      "363/363 [==============================] - 1s 3ms/step - loss: 0.4933 - accuracy: 0.0029 - val_loss: 0.5148 - val_accuracy: 0.0031\n",
      "Epoch 17/20\n",
      "363/363 [==============================] - 1s 3ms/step - loss: 0.4897 - accuracy: 0.0029 - val_loss: 0.5150 - val_accuracy: 0.0031\n",
      "Epoch 18/20\n",
      "363/363 [==============================] - 1s 3ms/step - loss: 0.4846 - accuracy: 0.0029 - val_loss: 0.5093 - val_accuracy: 0.0031\n",
      "Epoch 19/20\n",
      "363/363 [==============================] - 1s 3ms/step - loss: 0.4812 - accuracy: 0.0029 - val_loss: 0.5134 - val_accuracy: 0.0031\n",
      "Epoch 20/20\n",
      "363/363 [==============================] - 1s 3ms/step - loss: 0.4782 - accuracy: 0.0029 - val_loss: 0.4983 - val_accuracy: 0.0031\n"
     ]
    }
   ],
   "source": [
    "history = model.fit((X_train_A, X_train_B), y_train, epochs=20,validation_data=((X_valid_A, X_valid_B), y_valid))"
   ]
  },
  {
   "cell_type": "code",
   "execution_count": 68,
   "id": "dd1aa2b3-cf83-442e-b686-2901c11a5f9d",
   "metadata": {},
   "outputs": [
    {
     "data": {
      "image/png": "[encoded data removed]",
      "text/plain": [
       "<Figure size 800x500 with 1 Axes>"
      ]
     },
     "metadata": {},
     "output_type": "display_data"
    }
   ],
   "source": [
    "pd.DataFrame(history.history).plot(figsize=(8, 5))\n",
    "plt.grid(True)\n",
    "plt.gca() # set the vertical range to [0-1]\n",
    "plt.show()"
   ]
  },
  {
   "cell_type": "code",
   "execution_count": 69,
   "id": "9c56cbae-28a0-469e-a567-0a6665cf5126",
   "metadata": {},
   "outputs": [
    {
     "name": "stdout",
     "output_type": "stream",
     "text": [
      "162/162 [==============================] - 0s 2ms/step - loss: 0.4815 - accuracy: 0.0027\n"
     ]
    }
   ],
   "source": [
    "mse_test = model.evaluate((X_test_A, X_test_B), y_test)\n",
    "\n"
   ]
  },
  {
   "cell_type": "code",
   "execution_count": 70,
   "id": "775388b4-ba9a-4228-8739-536132b87241",
   "metadata": {},
   "outputs": [
    {
     "name": "stdout",
     "output_type": "stream",
     "text": [
      "1/1 [==============================] - 0s 57ms/step\n"
     ]
    }
   ],
   "source": [
    "y_pred = model.predict((X_new_A, X_new_B))"
   ]
  },
  {
   "cell_type": "code",
   "execution_count": null,
   "id": "160e9b74-3171-4739-9123-bf7f7bce4c27",
   "metadata": {},
   "outputs": [],
   "source": []
  },
  {
   "cell_type": "markdown",
   "id": "31bccc0e-c4f2-450d-b32f-8250b733f508",
   "metadata": {},
   "source": [
    "### Use Cases for Functional API, multi input API"
   ]
  },
  {
   "cell_type": "markdown",
   "id": "ae58ff05-f9f9-4add-96fd-c5721f5b282f",
   "metadata": {},
   "source": [
    "### 1) The task may demand it. For instance, you may want to locate and classify the main object in a picture. This is both a regression task (finding the coordinates of the object’s center, as well as its width and height) and a classification task."
   ]
  },
  {
   "cell_type": "markdown",
   "id": "900ecb7c-ccb2-4110-92dd-bf1983b5cfb7",
   "metadata": {},
   "source": [
    "### 2) Similarly, you may have multiple independent tasks based on the same data. Sure, you could train one neural network per task, but in many cases you will get better results on all tasks by training a single neural network with one output per task. This is because the neural network can learn features in the data that are useful across tasks. For example, you could perform multitask classification on pictures of faces, using one output to classify the person’s facial expression (smiling, surprised, etc.) and another output to identify whether they are wearing glasses or not."
   ]
  },
  {
   "cell_type": "markdown",
   "id": "ed3d5a10-d72e-45c3-819e-6715f68976ec",
   "metadata": {},
   "source": [
    "### 3) Another use case is as a regularization technique (i.e., a training constraint whose objective is to reduce overfitting and thus improve the model’s ability to generalize). For example, you may want to add some auxiliary outputs in a neural network architecture (see Figure 10-16) to ensure that the underlying part of the network learns something useful on its own, without relying on the rest of the network."
   ]
  },
  {
   "cell_type": "code",
   "execution_count": null,
   "id": "85a67e02-766a-4ea8-965e-f2fc43ef2e13",
   "metadata": {},
   "outputs": [],
   "source": []
  },
  {
   "cell_type": "markdown",
   "id": "fa9ffef4-cda9-4ac7-83aa-2925a58eedb9",
   "metadata": {},
   "source": [
    "#### Adding Auxiallry output mentioned in point 3 above"
   ]
  },
  {
   "cell_type": "markdown",
   "id": "aa169d07-f746-4a20-840c-3261fd3aed34",
   "metadata": {},
   "source": [
    "Adding extra outputs is quite easy: just connect them to the appropriate layers and add them to your model’s list of outputs., the following code builds the auxiallry output part."
   ]
  },
  {
   "cell_type": "code",
   "execution_count": 71,
   "id": "1e0c6196-84fe-4cdb-92fd-012c055fb3b3",
   "metadata": {},
   "outputs": [],
   "source": [
    "input_A = keras.layers.Input(shape=[5], name=\"wide_input\")\n",
    "input_B = keras.layers.Input(shape=[6], name=\"deep_input\")\n",
    "hidden1 = keras.layers.Dense(30, activation=\"relu\")(input_B)\n",
    "hidden2 = keras.layers.Dense(30, activation=\"relu\")(hidden1)\n",
    "concat = keras.layers.concatenate([input_A, hidden2])\n",
    "output = keras.layers.Dense(1, name=\"main_output\")(concat)\n",
    "aux_output = keras.layers.Dense(1, name=\"aux_output\")(hidden2)\n",
    "model = keras.Model(inputs=[input_A, input_B], outputs=[output, aux_output])"
   ]
  },
  {
   "cell_type": "markdown",
   "id": "99622804-c9dc-4e3d-b8fb-300352550e7b",
   "metadata": {},
   "source": [
    "Each output will need its own loss function. Therefore, when we compile the model, we should pass a list of losses20 (if we pass a single loss, Keras will assume that the same loss must be used for all outputs). By default, Keras will compute all these losses and simply add them up to get the final loss used for training. We care much more about the main output than about the auxiliary output (as it is just used for regularization), so we want to give the main output’s loss a much greater weight. Fortunately, it is possible to set all the loss weights when compiling the model:"
   ]
  },
  {
   "cell_type": "markdown",
   "id": "e8dc0bb5-b953-47c9-8338-5babaf2207da",
   "metadata": {},
   "source": [
    "#### IMPORTANT NOTE\n",
    "As mentioned before, alternatively, you can pass a dictionary that maps each output name to the corresponding loss. Just like for\r\n",
    "the inputs, this is useful when there are multiple outputs, to avoid getting the order wrong. The loss weights\r\n",
    "and metrics (discussed shortly) can also be set using dictionaries#### Use this in the future.\r"
   ]
  },
  {
   "cell_type": "code",
   "execution_count": 72,
   "id": "4f93d0c4-a52a-47a2-9899-39eae0c79e50",
   "metadata": {},
   "outputs": [],
   "source": [
    "model.compile(loss={'main_output':\"mse\",'aux_output':\"mse\"}, loss_weights={'main_output':0.9,'aux_output':0.1}, optimizer=\"sgd\")\n"
   ]
  },
  {
   "cell_type": "markdown",
   "id": "1d365296-f5ab-441f-b2f2-ec1355eac238",
   "metadata": {},
   "source": [
    "Now when we train the model, we need to provide labels for each output. In this example, the main output and the auxiliary output should try to predict the same thing, so they should use the same labels. So instead of passing y_train, we need to pass (y_train, y_train) (and the same goes for y_valid and y_test):"
   ]
  },
  {
   "cell_type": "code",
   "execution_count": 73,
   "id": "2052e223-f46e-4de6-982b-7b5b7986959c",
   "metadata": {},
   "outputs": [
    {
     "name": "stdout",
     "output_type": "stream",
     "text": [
      "Epoch 1/20\n",
      "363/363 [==============================] - 2s 3ms/step - loss: 0.9853 - main_output_loss: 0.8075 - aux_output_loss: 2.5851 - val_loss: 0.7491 - val_main_output_loss: 0.6843 - val_aux_output_loss: 1.3323\n",
      "Epoch 2/20\n",
      "363/363 [==============================] - 1s 3ms/step - loss: 0.6009 - main_output_loss: 0.5423 - aux_output_loss: 1.1279 - val_loss: 0.5769 - val_main_output_loss: 0.5222 - val_aux_output_loss: 1.0692\n",
      "Epoch 3/20\n",
      "363/363 [==============================] - 1s 3ms/step - loss: 0.5387 - main_output_loss: 0.4927 - aux_output_loss: 0.9525 - val_loss: 0.5432 - val_main_output_loss: 0.4998 - val_aux_output_loss: 0.9336\n",
      "Epoch 4/20\n",
      "363/363 [==============================] - 1s 3ms/step - loss: 0.5120 - main_output_loss: 0.4746 - aux_output_loss: 0.8487 - val_loss: 0.5179 - val_main_output_loss: 0.4826 - val_aux_output_loss: 0.8356\n",
      "Epoch 5/20\n",
      "363/363 [==============================] - 1s 3ms/step - loss: 0.5150 - main_output_loss: 0.4858 - aux_output_loss: 0.7786 - val_loss: 0.6599 - val_main_output_loss: 0.6467 - val_aux_output_loss: 0.7792\n",
      "Epoch 6/20\n",
      "363/363 [==============================] - 1s 3ms/step - loss: 0.4835 - main_output_loss: 0.4564 - aux_output_loss: 0.7273 - val_loss: 0.4907 - val_main_output_loss: 0.4641 - val_aux_output_loss: 0.7303\n",
      "Epoch 7/20\n",
      "363/363 [==============================] - 1s 3ms/step - loss: 0.4711 - main_output_loss: 0.4469 - aux_output_loss: 0.6880 - val_loss: 0.4808 - val_main_output_loss: 0.4566 - val_aux_output_loss: 0.6985\n",
      "Epoch 8/20\n",
      "363/363 [==============================] - 1s 3ms/step - loss: 0.4549 - main_output_loss: 0.4325 - aux_output_loss: 0.6559 - val_loss: 0.4753 - val_main_output_loss: 0.4549 - val_aux_output_loss: 0.6593\n",
      "Epoch 9/20\n",
      "363/363 [==============================] - 1s 3ms/step - loss: 0.4449 - main_output_loss: 0.4246 - aux_output_loss: 0.6279 - val_loss: 0.4548 - val_main_output_loss: 0.4353 - val_aux_output_loss: 0.6307\n",
      "Epoch 10/20\n",
      "363/363 [==============================] - 1s 3ms/step - loss: 0.4406 - main_output_loss: 0.4219 - aux_output_loss: 0.6087 - val_loss: 0.4431 - val_main_output_loss: 0.4243 - val_aux_output_loss: 0.6127\n",
      "Epoch 11/20\n",
      "363/363 [==============================] - 1s 3ms/step - loss: 0.4272 - main_output_loss: 0.4088 - aux_output_loss: 0.5924 - val_loss: 0.4400 - val_main_output_loss: 0.4230 - val_aux_output_loss: 0.5929\n",
      "Epoch 12/20\n",
      "363/363 [==============================] - 1s 3ms/step - loss: 0.4218 - main_output_loss: 0.4046 - aux_output_loss: 0.5763 - val_loss: 0.5582 - val_main_output_loss: 0.5487 - val_aux_output_loss: 0.6429\n",
      "Epoch 13/20\n",
      "363/363 [==============================] - 1s 3ms/step - loss: 0.4480 - main_output_loss: 0.4337 - aux_output_loss: 0.5762 - val_loss: 0.4289 - val_main_output_loss: 0.4130 - val_aux_output_loss: 0.5716\n",
      "Epoch 14/20\n",
      "363/363 [==============================] - 1s 3ms/step - loss: 0.4151 - main_output_loss: 0.3994 - aux_output_loss: 0.5563 - val_loss: 0.4194 - val_main_output_loss: 0.4025 - val_aux_output_loss: 0.5712\n",
      "Epoch 15/20\n",
      "363/363 [==============================] - 1s 3ms/step - loss: 0.4122 - main_output_loss: 0.3966 - aux_output_loss: 0.5530 - val_loss: 0.4103 - val_main_output_loss: 0.3946 - val_aux_output_loss: 0.5516\n",
      "Epoch 16/20\n",
      "363/363 [==============================] - 1s 3ms/step - loss: 0.3965 - main_output_loss: 0.3809 - aux_output_loss: 0.5372 - val_loss: 0.4112 - val_main_output_loss: 0.3965 - val_aux_output_loss: 0.5429\n",
      "Epoch 17/20\n",
      "363/363 [==============================] - 1s 3ms/step - loss: 0.3911 - main_output_loss: 0.3760 - aux_output_loss: 0.5267 - val_loss: 0.3976 - val_main_output_loss: 0.3823 - val_aux_output_loss: 0.5348\n",
      "Epoch 18/20\n",
      "363/363 [==============================] - 1s 3ms/step - loss: 0.3884 - main_output_loss: 0.3738 - aux_output_loss: 0.5195 - val_loss: 0.4064 - val_main_output_loss: 0.3931 - val_aux_output_loss: 0.5265\n",
      "Epoch 19/20\n",
      "363/363 [==============================] - 1s 3ms/step - loss: 0.3812 - main_output_loss: 0.3670 - aux_output_loss: 0.5087 - val_loss: 0.4054 - val_main_output_loss: 0.3907 - val_aux_output_loss: 0.5377\n",
      "Epoch 20/20\n",
      "363/363 [==============================] - 1s 3ms/step - loss: 0.3784 - main_output_loss: 0.3649 - aux_output_loss: 0.4998 - val_loss: 0.3923 - val_main_output_loss: 0.3779 - val_aux_output_loss: 0.5213\n"
     ]
    }
   ],
   "source": [
    "history = model.fit([X_train_A, X_train_B], [y_train, y_train], epochs=20, validation_data=([X_valid_A, X_valid_B], [y_valid, y_valid]))"
   ]
  },
  {
   "cell_type": "code",
   "execution_count": null,
   "id": "ce63e222-185d-46d8-9aca-ae067b119b0b",
   "metadata": {},
   "outputs": [],
   "source": []
  },
  {
   "cell_type": "markdown",
   "id": "b824cd4a-2adb-4243-ad93-6b6f3a88f80b",
   "metadata": {},
   "source": [
    "When we evaluate the model, Keras will return the total loss, as well as all the individual losses:"
   ]
  },
  {
   "cell_type": "code",
   "execution_count": 74,
   "id": "d2201a83-765d-4258-8bef-5286d459891e",
   "metadata": {},
   "outputs": [
    {
     "name": "stdout",
     "output_type": "stream",
     "text": [
      "162/162 [==============================] - 0s 2ms/step - loss: 0.3870 - main_output_loss: 0.3732 - aux_output_loss: 0.5106\n"
     ]
    }
   ],
   "source": [
    "total_loss, main_loss, aux_loss = model.evaluate([X_test_A, X_test_B], [y_test, y_test])"
   ]
  },
  {
   "cell_type": "code",
   "execution_count": null,
   "id": "c783cff7-5110-484d-8c6f-ef5dc63a6667",
   "metadata": {},
   "outputs": [],
   "source": []
  },
  {
   "cell_type": "markdown",
   "id": "0c517608-c20b-4d98-b08e-c9e07221f491",
   "metadata": {},
   "source": [
    "Similarly, the predict() method will return predictions for each output:"
   ]
  },
  {
   "cell_type": "code",
   "execution_count": 75,
   "id": "25e3b6d5-f8b5-47d2-bd33-924dd6704d7d",
   "metadata": {},
   "outputs": [
    {
     "name": "stdout",
     "output_type": "stream",
     "text": [
      "1/1 [==============================] - 0s 60ms/step\n"
     ]
    }
   ],
   "source": [
    "y_pred_main, y_pred_aux = model.predict([X_new_A, X_new_B])"
   ]
  },
  {
   "cell_type": "code",
   "execution_count": null,
   "id": "26a89240-4ddf-4028-85ea-9f29e86bb064",
   "metadata": {},
   "outputs": [],
   "source": []
  },
  {
   "cell_type": "markdown",
   "id": "fb054843-6b9b-40e1-9b03-b97f3ef069a0",
   "metadata": {},
   "source": [
    "# Using the Subclassing API to Build Dynamic Models"
   ]
  },
  {
   "cell_type": "markdown",
   "id": "80d63d45-5a14-4abb-a914-26331ba7f108",
   "metadata": {},
   "source": [
    "When we evaluate the model, Keras will return the total loss, as well as all the individual losses:Both the Sequential API and the Functional API are declarative: you start by declaring which layers you want to use and how they should be connected, and only then can you start feeding the model some data for training or inference. This has many advantages: the model can easily be saved, cloned, and shared; its structure can be displayed and analyzed; the framework can infer shapes and check types, so errors can be caught early (i.e., before any data ever goes through the model). It’s also fairly easy to debug, since the whole model is a static graph of layers. But the flip side is just that: it’s static. Some models involve loops, varying shapes, conditional branching, and other dynamic behaviors. For such cases, or simply if you prefer a more imperative programming style, the Subclassing API is for you"
   ]
  },
  {
   "cell_type": "markdown",
   "id": "5fcf43d9-1e02-4995-b849-983f0bbe469a",
   "metadata": {},
   "source": [
    "#### Refer the code for this in the txtbook"
   ]
  },
  {
   "cell_type": "markdown",
   "id": "a9550710-5856-4a35-a444-144da904eedb",
   "metadata": {},
   "source": [
    "This extra flexibility does come at a cost: your model’s architecture is hidden within the call() method, so Keras cannot easily inspect it; it cannot save or clone it; and when you call the summary() method, you only get a list of layers, without any information on how they are connected to each other. Moreover, Keras cannot check types and shapes ahead of time, and it is easier to make mistakes. So unless you really need that extra flexibility, you should probably stick to the Sequential API or the Functional API."
   ]
  },
  {
   "cell_type": "code",
   "execution_count": null,
   "id": "f5c709cc-30a0-4994-882b-72833a90d3a1",
   "metadata": {},
   "outputs": [],
   "source": []
  },
  {
   "cell_type": "markdown",
   "id": "203a6d49-44f4-4146-bcc3-ce0017408961",
   "metadata": {},
   "source": [
    "## IMPORTANT Keras models can be used just like regular layers, so you can easily combine them to build complex architectures..\r\n",
    "\r"
   ]
  },
  {
   "cell_type": "code",
   "execution_count": null,
   "id": "9975efa8-56fc-4f01-81d6-e341d881f888",
   "metadata": {},
   "outputs": [],
   "source": []
  },
  {
   "cell_type": "markdown",
   "id": "06929dc6-ce4f-4965-b0f8-c2f19b51b8c0",
   "metadata": {},
   "source": [
    "# Saving and Restoring a Model"
   ]
  },
  {
   "cell_type": "markdown",
   "id": "cc4cd723-5fa5-4e62-8bff-b21dee514343",
   "metadata": {},
   "source": [
    "## SAVING"
   ]
  },
  {
   "cell_type": "code",
   "execution_count": 76,
   "id": "a37289c8-66b7-46b0-ac1a-bc8cae779319",
   "metadata": {},
   "outputs": [],
   "source": [
    "X_train_full, X_test, y_train_full, y_test = train_test_split(housing.data, housing.target)"
   ]
  },
  {
   "cell_type": "code",
   "execution_count": 77,
   "id": "d3d9ce45-6d23-49b7-b183-66800f297eaa",
   "metadata": {},
   "outputs": [],
   "source": [
    "X_train,X_valid,y_train,y_valid = train_test_split(X_train_full,y_train_full)"
   ]
  },
  {
   "cell_type": "code",
   "execution_count": 78,
   "id": "1ef649d7-c914-4410-a68b-1f93cbb94e8b",
   "metadata": {},
   "outputs": [],
   "source": [
    "scaler = StandardScaler()\n"
   ]
  },
  {
   "cell_type": "code",
   "execution_count": 79,
   "id": "6b452a5b-8161-4e82-9244-67f997c53573",
   "metadata": {},
   "outputs": [],
   "source": [
    "X_train = scaler.fit_transform(X_train)\n",
    "X_valid = scaler.transform(X_valid)\n",
    "X_test = scaler.transform(X_test)"
   ]
  },
  {
   "cell_type": "code",
   "execution_count": 80,
   "id": "174b083d-e4c4-45e5-b65e-46ba0bdf62e2",
   "metadata": {},
   "outputs": [],
   "source": [
    "model = keras.models.Sequential([\n",
    " keras.layers.Dense(30, activation=\"relu\", input_shape=X_train.shape[1:]),\n",
    " keras.layers.Dense(1)])"
   ]
  },
  {
   "cell_type": "code",
   "execution_count": 81,
   "id": "ac8c5157-c571-4bf8-baa1-eb91adde2191",
   "metadata": {},
   "outputs": [],
   "source": [
    "model.compile(loss=\"mean_squared_error\", optimizer=\"sgd\" ,metrics=[\"accuracy\"])"
   ]
  },
  {
   "cell_type": "code",
   "execution_count": 82,
   "id": "58973e67-c28a-4ac2-ab1a-1e22b5595430",
   "metadata": {},
   "outputs": [
    {
     "name": "stdout",
     "output_type": "stream",
     "text": [
      "Epoch 1/20\n",
      "363/363 [==============================] - 1s 3ms/step - loss: 0.7796 - accuracy: 0.0025 - val_loss: 0.5385 - val_accuracy: 0.0026\n",
      "Epoch 2/20\n",
      "363/363 [==============================] - 1s 2ms/step - loss: 0.5147 - accuracy: 0.0027 - val_loss: 0.4827 - val_accuracy: 0.0026\n",
      "Epoch 3/20\n",
      "363/363 [==============================] - 1s 2ms/step - loss: 0.4844 - accuracy: 0.0027 - val_loss: 0.4808 - val_accuracy: 0.0026\n",
      "Epoch 4/20\n",
      "363/363 [==============================] - 1s 3ms/step - loss: 0.4658 - accuracy: 0.0026 - val_loss: 0.4503 - val_accuracy: 0.0026\n",
      "Epoch 5/20\n",
      "363/363 [==============================] - 1s 2ms/step - loss: 0.4565 - accuracy: 0.0026 - val_loss: 0.4459 - val_accuracy: 0.0026\n",
      "Epoch 6/20\n",
      "363/363 [==============================] - 1s 2ms/step - loss: 0.4482 - accuracy: 0.0026 - val_loss: 0.4352 - val_accuracy: 0.0023\n",
      "Epoch 7/20\n",
      "363/363 [==============================] - 1s 2ms/step - loss: 0.4422 - accuracy: 0.0026 - val_loss: 0.4309 - val_accuracy: 0.0023\n",
      "Epoch 8/20\n",
      "363/363 [==============================] - 1s 2ms/step - loss: 0.4375 - accuracy: 0.0027 - val_loss: 0.4279 - val_accuracy: 0.0023\n",
      "Epoch 9/20\n",
      "363/363 [==============================] - 1s 3ms/step - loss: 0.4270 - accuracy: 0.0027 - val_loss: 0.4222 - val_accuracy: 0.0026\n",
      "Epoch 10/20\n",
      "363/363 [==============================] - 1s 3ms/step - loss: 0.5261 - accuracy: 0.0027 - val_loss: 0.4216 - val_accuracy: 0.0026\n",
      "Epoch 11/20\n",
      "363/363 [==============================] - 1s 2ms/step - loss: 0.4212 - accuracy: 0.0027 - val_loss: 0.4193 - val_accuracy: 0.0023\n",
      "Epoch 12/20\n",
      "363/363 [==============================] - 1s 2ms/step - loss: 0.4154 - accuracy: 0.0025 - val_loss: 0.4122 - val_accuracy: 0.0023\n",
      "Epoch 13/20\n",
      "363/363 [==============================] - 1s 2ms/step - loss: 0.4188 - accuracy: 0.0026 - val_loss: 0.4129 - val_accuracy: 0.0026\n",
      "Epoch 14/20\n",
      "363/363 [==============================] - 1s 3ms/step - loss: 0.4159 - accuracy: 0.0027 - val_loss: 0.4053 - val_accuracy: 0.0023\n",
      "Epoch 15/20\n",
      "363/363 [==============================] - 1s 2ms/step - loss: 0.4088 - accuracy: 0.0027 - val_loss: 0.4052 - val_accuracy: 0.0023\n",
      "Epoch 16/20\n",
      "363/363 [==============================] - 1s 3ms/step - loss: 0.4087 - accuracy: 0.0026 - val_loss: 0.4022 - val_accuracy: 0.0023\n",
      "Epoch 17/20\n",
      "363/363 [==============================] - 1s 3ms/step - loss: 0.3968 - accuracy: 0.0027 - val_loss: 0.3987 - val_accuracy: 0.0023\n",
      "Epoch 18/20\n",
      "363/363 [==============================] - 1s 3ms/step - loss: 0.3951 - accuracy: 0.0027 - val_loss: 0.3990 - val_accuracy: 0.0023\n",
      "Epoch 19/20\n",
      "363/363 [==============================] - 1s 3ms/step - loss: 0.3989 - accuracy: 0.0027 - val_loss: 0.3989 - val_accuracy: 0.0026\n",
      "Epoch 20/20\n",
      "363/363 [==============================] - 1s 2ms/step - loss: 0.5069 - accuracy: 0.0026 - val_loss: 0.4128 - val_accuracy: 0.0026\n"
     ]
    }
   ],
   "source": [
    "history = model.fit(X_train, y_train, epochs=20,validation_data=(X_valid, y_valid))"
   ]
  },
  {
   "cell_type": "code",
   "execution_count": 83,
   "id": "51c0e06c-16c2-487f-946a-96d6aa0827a8",
   "metadata": {},
   "outputs": [],
   "source": [
    "model.save(\"my_keras_model.keras\")"
   ]
  },
  {
   "cell_type": "markdown",
   "id": "1cbda408-3ef2-45aa-b4ad-ceeb6a33e3a6",
   "metadata": {},
   "source": [
    "Keras will use the HDF5 format(HDF5 is legacy now, it saves using .keras) to save both the model’s architecture (including every\r\n",
    "layer’s hyperparameters) and the values of all the model parameters for every layer\r\n",
    "(e.g., connection weights and biases). It also saves the optimizer (including its hyper‐\r\n",
    "parameters and any state it may have)."
   ]
  },
  {
   "cell_type": "code",
   "execution_count": null,
   "id": "30245ed8-f86f-431d-8e63-50c31d4b357c",
   "metadata": {},
   "outputs": [],
   "source": []
  },
  {
   "cell_type": "markdown",
   "id": "5e315c23-7fd2-4629-a168-32c3dd8f1289",
   "metadata": {},
   "source": [
    "## RESTORING"
   ]
  },
  {
   "cell_type": "code",
   "execution_count": 84,
   "id": "8d60a3d1-93a8-4233-9b6d-df17911edea2",
   "metadata": {},
   "outputs": [],
   "source": [
    "model = keras.models.load_model(\"my_keras_model.keras\")"
   ]
  },
  {
   "cell_type": "code",
   "execution_count": null,
   "id": "db25e807-5ea8-4e33-a9a5-14604e671930",
   "metadata": {},
   "outputs": [],
   "source": []
  },
  {
   "cell_type": "markdown",
   "id": "2fd4a700-9ae7-4be9-b66c-0bb5e3f7303c",
   "metadata": {},
   "source": [
    "### WARNING\n",
    "This will work when using the Sequential API or the Functional API, but unfortunately not when using model subclassing. You can use save_weights() and load_weights() to at least save and restore the model parameters, but you will need to save and restore everything else yourself"
   ]
  },
  {
   "cell_type": "code",
   "execution_count": null,
   "id": "1b662500-c01b-4c5c-b587-9fb40db8f421",
   "metadata": {},
   "outputs": [],
   "source": []
  },
  {
   "cell_type": "markdown",
   "id": "e2833736-61f5-4892-9b45-f80e7c67dc3c",
   "metadata": {},
   "source": [
    "# Using Callbacks"
   ]
  },
  {
   "cell_type": "markdown",
   "id": "a4e8e915-f291-405b-9bb8-01c917eb724b",
   "metadata": {},
   "source": [
    "what if training lasts several hours? This is quite common, especially when training on large datasets. In this case, you should not only save your model at the end of training, but also save checkpoints at regular intervals during training, to avoid losing everything if your computer crashes. But how can you tell the fit() method to save checkpoints? Use callbacks."
   ]
  },
  {
   "cell_type": "markdown",
   "id": "e9256235-d989-44a2-88ea-ed139e215d8b",
   "metadata": {},
   "source": [
    "### IMPORTANT Callback working\n",
    "The fit() method accepts a callbacks argument that lets you specify a list of objects that Keras will call at the start and end of training, at the start and end of each epoch, and even before and after processing each batch. For example, the ModelCheckpoint callback saves checkpoints of your model at regular intervals during training, by default at the end of each epoch:"
   ]
  },
  {
   "cell_type": "code",
   "execution_count": 85,
   "id": "33c3afe9-496b-4cae-88fe-5b743bf6fbed",
   "metadata": {},
   "outputs": [
    {
     "name": "stdout",
     "output_type": "stream",
     "text": [
      "Epoch 1/10\n",
      "363/363 [==============================] - 1s 2ms/step - loss: 0.4049 - accuracy: 0.0027\n",
      "Epoch 2/10\n",
      "363/363 [==============================] - 1s 2ms/step - loss: 0.4003 - accuracy: 0.0027\n",
      "Epoch 3/10\n",
      "363/363 [==============================] - 1s 2ms/step - loss: 0.3931 - accuracy: 0.0027\n",
      "Epoch 4/10\n",
      "363/363 [==============================] - 1s 2ms/step - loss: 0.4163 - accuracy: 0.0027\n",
      "Epoch 5/10\n",
      "363/363 [==============================] - 1s 2ms/step - loss: 0.5664 - accuracy: 0.0027\n",
      "Epoch 6/10\n",
      "363/363 [==============================] - 1s 2ms/step - loss: 0.4283 - accuracy: 0.0027\n",
      "Epoch 7/10\n",
      "363/363 [==============================] - 1s 2ms/step - loss: 0.4025 - accuracy: 0.0027\n",
      "Epoch 8/10\n",
      "363/363 [==============================] - 1s 2ms/step - loss: 0.3966 - accuracy: 0.0027\n",
      "Epoch 9/10\n",
      "363/363 [==============================] - 1s 2ms/step - loss: 0.3940 - accuracy: 0.0027\n",
      "Epoch 10/10\n",
      "363/363 [==============================] - 1s 2ms/step - loss: 0.3896 - accuracy: 0.0027\n"
     ]
    }
   ],
   "source": [
    "checkpoint_cb = keras.callbacks.ModelCheckpoint(\"my_keras_model.keras\")\n",
    "history = model.fit(X_train, y_train, epochs=10, callbacks=[checkpoint_cb])"
   ]
  },
  {
   "cell_type": "code",
   "execution_count": null,
   "id": "093bbbb0-2268-4d0a-abde-165bdb113c20",
   "metadata": {},
   "outputs": [],
   "source": []
  },
  {
   "cell_type": "markdown",
   "id": "fd1d3995-31ec-4570-9906-37d5ced2fa65",
   "metadata": {},
   "source": [
    "### SAVING BEST MODEL IMPORTANT!!!!!\n",
    "Moreover, if you use a validation set during training, you can set save_best_only=True when creating the ModelCheckpoint. In this case, it will only save your model when its performance on the validation set is the best so far. This way, you do not need to worry about training for too long and overfitting the training set: simply restore the last model saved after training, and this will be the best model on the validation set. The following code is a simple way to implement early stopping"
   ]
  },
  {
   "cell_type": "code",
   "execution_count": 86,
   "id": "1f911925-b9e9-4272-ae82-f674625a3a91",
   "metadata": {},
   "outputs": [
    {
     "name": "stdout",
     "output_type": "stream",
     "text": [
      "Epoch 1/10\n",
      "363/363 [==============================] - 1s 3ms/step - loss: 0.3860 - accuracy: 0.0027 - val_loss: 0.3827 - val_accuracy: 0.0026\n",
      "Epoch 2/10\n",
      "363/363 [==============================] - 1s 3ms/step - loss: 0.3845 - accuracy: 0.0027 - val_loss: 0.3879 - val_accuracy: 0.0026\n",
      "Epoch 3/10\n",
      "363/363 [==============================] - 1s 3ms/step - loss: 0.3819 - accuracy: 0.0027 - val_loss: 0.3773 - val_accuracy: 0.0026\n",
      "Epoch 4/10\n",
      "363/363 [==============================] - 1s 3ms/step - loss: 0.3796 - accuracy: 0.0027 - val_loss: 0.3804 - val_accuracy: 0.0026\n",
      "Epoch 5/10\n",
      "363/363 [==============================] - 1s 3ms/step - loss: 0.3779 - accuracy: 0.0027 - val_loss: 0.3767 - val_accuracy: 0.0026\n",
      "Epoch 6/10\n",
      "363/363 [==============================] - 1s 2ms/step - loss: 0.3757 - accuracy: 0.0027 - val_loss: 0.3762 - val_accuracy: 0.0026\n",
      "Epoch 7/10\n",
      "363/363 [==============================] - 1s 2ms/step - loss: 0.3737 - accuracy: 0.0027 - val_loss: 0.3727 - val_accuracy: 0.0026\n",
      "Epoch 8/10\n",
      "363/363 [==============================] - 1s 2ms/step - loss: 0.3724 - accuracy: 0.0027 - val_loss: 0.3711 - val_accuracy: 0.0026\n",
      "Epoch 9/10\n",
      "363/363 [==============================] - 1s 2ms/step - loss: 0.3747 - accuracy: 0.0027 - val_loss: 0.3805 - val_accuracy: 0.0026\n",
      "Epoch 10/10\n",
      "363/363 [==============================] - 1s 2ms/step - loss: 0.3757 - accuracy: 0.0027 - val_loss: 0.3768 - val_accuracy: 0.0026\n"
     ]
    }
   ],
   "source": [
    "checkpoint_cb = keras.callbacks.ModelCheckpoint(\"my_keras_best_model.keras\", save_best_only=True)\n",
    "history = model.fit(X_train, y_train, epochs=10, validation_data=(X_valid, y_valid), callbacks=[checkpoint_cb])\n",
    "model = keras.models.load_model(\"my_keras_best_model.keras\")"
   ]
  },
  {
   "cell_type": "code",
   "execution_count": null,
   "id": "5c420422-7a7a-473b-bd74-eea52c03e3c2",
   "metadata": {},
   "outputs": [],
   "source": []
  },
  {
   "cell_type": "markdown",
   "id": "8fed9ca9-8047-49fb-87ce-6770a671c6c7",
   "metadata": {},
   "source": [
    "### EARLY STOPPING !!!!IMPORTANT!!!!!!\n",
    "Another way to implement early stopping is to simply use the EarlyStopping callback. It will interrupt training when it measures no progress on the validation set for a number of epochs (defined by the patience argument), and it will optionally rollback to the best model. You can combine both callbacks to save checkpoints of your model (in case your computer crashes) and interrupt training early when there is no more progress (to avoid wasting time and resources):"
   ]
  },
  {
   "cell_type": "code",
   "execution_count": 87,
   "id": "9082a132-138b-4504-b22f-cf2ceff96a0e",
   "metadata": {},
   "outputs": [
    {
     "name": "stdout",
     "output_type": "stream",
     "text": [
      "Epoch 1/100\n",
      "363/363 [==============================] - 1s 2ms/step - loss: 0.3693 - accuracy: 0.0027 - val_loss: 0.3759 - val_accuracy: 0.0026\n",
      "Epoch 2/100\n",
      "363/363 [==============================] - 1s 2ms/step - loss: 0.3781 - accuracy: 0.0027 - val_loss: 0.3734 - val_accuracy: 0.0026\n",
      "Epoch 3/100\n",
      "363/363 [==============================] - 1s 2ms/step - loss: 0.3684 - accuracy: 0.0027 - val_loss: 0.3703 - val_accuracy: 0.0026\n",
      "Epoch 4/100\n",
      "363/363 [==============================] - 1s 2ms/step - loss: 0.3680 - accuracy: 0.0027 - val_loss: 0.3710 - val_accuracy: 0.0026\n",
      "Epoch 5/100\n",
      "363/363 [==============================] - 1s 2ms/step - loss: 0.3632 - accuracy: 0.0027 - val_loss: 0.3628 - val_accuracy: 0.0026\n",
      "Epoch 6/100\n",
      "363/363 [==============================] - 1s 2ms/step - loss: 0.3612 - accuracy: 0.0027 - val_loss: 0.3688 - val_accuracy: 0.0026\n",
      "Epoch 7/100\n",
      "363/363 [==============================] - 1s 2ms/step - loss: 0.3614 - accuracy: 0.0027 - val_loss: 0.3637 - val_accuracy: 0.0026\n",
      "Epoch 8/100\n",
      "363/363 [==============================] - 1s 2ms/step - loss: 0.3608 - accuracy: 0.0027 - val_loss: 0.3627 - val_accuracy: 0.0026\n",
      "Epoch 9/100\n",
      "363/363 [==============================] - 1s 2ms/step - loss: 0.3586 - accuracy: 0.0027 - val_loss: 0.3656 - val_accuracy: 0.0026\n",
      "Epoch 10/100\n",
      "363/363 [==============================] - 1s 2ms/step - loss: 0.3593 - accuracy: 0.0027 - val_loss: 0.3574 - val_accuracy: 0.0026\n",
      "Epoch 11/100\n",
      "363/363 [==============================] - 1s 2ms/step - loss: 0.3579 - accuracy: 0.0027 - val_loss: 0.3568 - val_accuracy: 0.0026\n",
      "Epoch 12/100\n",
      "363/363 [==============================] - 1s 2ms/step - loss: 0.3552 - accuracy: 0.0027 - val_loss: 0.3591 - val_accuracy: 0.0026\n",
      "Epoch 13/100\n",
      "363/363 [==============================] - 1s 2ms/step - loss: 0.3546 - accuracy: 0.0027 - val_loss: 0.3617 - val_accuracy: 0.0023\n",
      "Epoch 14/100\n",
      "363/363 [==============================] - 1s 2ms/step - loss: 0.3499 - accuracy: 0.0027 - val_loss: 0.3547 - val_accuracy: 0.0026\n",
      "Epoch 15/100\n",
      "363/363 [==============================] - 1s 2ms/step - loss: 0.4510 - accuracy: 0.0027 - val_loss: 0.3839 - val_accuracy: 0.0023\n",
      "Epoch 16/100\n",
      "363/363 [==============================] - 1s 2ms/step - loss: 0.3613 - accuracy: 0.0027 - val_loss: 0.3642 - val_accuracy: 0.0023\n",
      "Epoch 17/100\n",
      "363/363 [==============================] - 1s 2ms/step - loss: 0.3535 - accuracy: 0.0027 - val_loss: 0.3622 - val_accuracy: 0.0026\n",
      "Epoch 18/100\n",
      "363/363 [==============================] - 1s 2ms/step - loss: 0.3498 - accuracy: 0.0027 - val_loss: 0.3534 - val_accuracy: 0.0026\n",
      "Epoch 19/100\n",
      "363/363 [==============================] - 1s 2ms/step - loss: 0.3487 - accuracy: 0.0027 - val_loss: 0.3529 - val_accuracy: 0.0026\n",
      "Epoch 20/100\n",
      "363/363 [==============================] - 1s 2ms/step - loss: 0.3451 - accuracy: 0.0027 - val_loss: 0.3511 - val_accuracy: 0.0023\n",
      "Epoch 21/100\n",
      "363/363 [==============================] - 1s 2ms/step - loss: 0.3437 - accuracy: 0.0027 - val_loss: 0.3544 - val_accuracy: 0.0026\n",
      "Epoch 22/100\n",
      "363/363 [==============================] - 1s 2ms/step - loss: 0.3424 - accuracy: 0.0027 - val_loss: 0.3536 - val_accuracy: 0.0023\n",
      "Epoch 23/100\n",
      "363/363 [==============================] - 1s 2ms/step - loss: 0.3402 - accuracy: 0.0027 - val_loss: 0.3515 - val_accuracy: 0.0023\n",
      "Epoch 24/100\n",
      "363/363 [==============================] - 1s 2ms/step - loss: 0.3409 - accuracy: 0.0027 - val_loss: 0.3465 - val_accuracy: 0.0023\n",
      "Epoch 25/100\n",
      "363/363 [==============================] - 1s 2ms/step - loss: 0.3382 - accuracy: 0.0027 - val_loss: 0.3531 - val_accuracy: 0.0026\n",
      "Epoch 26/100\n",
      "363/363 [==============================] - 1s 2ms/step - loss: 0.3411 - accuracy: 0.0026 - val_loss: 0.3529 - val_accuracy: 0.0023\n",
      "Epoch 27/100\n",
      "363/363 [==============================] - 1s 2ms/step - loss: 0.3394 - accuracy: 0.0027 - val_loss: 0.3432 - val_accuracy: 0.0023\n",
      "Epoch 28/100\n",
      "363/363 [==============================] - 1s 2ms/step - loss: 0.3420 - accuracy: 0.0027 - val_loss: 0.3468 - val_accuracy: 0.0023\n",
      "Epoch 29/100\n",
      "363/363 [==============================] - 1s 2ms/step - loss: 0.3377 - accuracy: 0.0027 - val_loss: 0.3423 - val_accuracy: 0.0026\n",
      "Epoch 30/100\n",
      "363/363 [==============================] - 1s 2ms/step - loss: 0.3348 - accuracy: 0.0027 - val_loss: 0.3396 - val_accuracy: 0.0023\n",
      "Epoch 31/100\n",
      "363/363 [==============================] - 1s 2ms/step - loss: 0.3339 - accuracy: 0.0027 - val_loss: 0.3407 - val_accuracy: 0.0023\n",
      "Epoch 32/100\n",
      "363/363 [==============================] - 1s 2ms/step - loss: 0.3335 - accuracy: 0.0027 - val_loss: 0.3401 - val_accuracy: 0.0026\n",
      "Epoch 33/100\n",
      "363/363 [==============================] - 1s 2ms/step - loss: 0.3321 - accuracy: 0.0027 - val_loss: 0.3415 - val_accuracy: 0.0026\n",
      "Epoch 34/100\n",
      "363/363 [==============================] - 1s 2ms/step - loss: 0.3318 - accuracy: 0.0027 - val_loss: 0.3438 - val_accuracy: 0.0026\n",
      "Epoch 35/100\n",
      "363/363 [==============================] - 1s 2ms/step - loss: 0.3310 - accuracy: 0.0026 - val_loss: 0.3413 - val_accuracy: 0.0026\n",
      "Epoch 36/100\n",
      "363/363 [==============================] - 1s 2ms/step - loss: 0.3309 - accuracy: 0.0027 - val_loss: 0.3349 - val_accuracy: 0.0023\n",
      "Epoch 37/100\n",
      "363/363 [==============================] - 1s 2ms/step - loss: 0.3287 - accuracy: 0.0027 - val_loss: 0.3534 - val_accuracy: 0.0023\n",
      "Epoch 38/100\n",
      "363/363 [==============================] - 1s 2ms/step - loss: 0.3290 - accuracy: 0.0027 - val_loss: 0.3342 - val_accuracy: 0.0026\n",
      "Epoch 39/100\n",
      "363/363 [==============================] - 1s 2ms/step - loss: 0.3280 - accuracy: 0.0027 - val_loss: 0.3347 - val_accuracy: 0.0023\n",
      "Epoch 40/100\n",
      "363/363 [==============================] - 1s 2ms/step - loss: 0.3282 - accuracy: 0.0027 - val_loss: 0.3406 - val_accuracy: 0.0023\n",
      "Epoch 41/100\n",
      "363/363 [==============================] - 1s 2ms/step - loss: 0.3296 - accuracy: 0.0027 - val_loss: 0.3374 - val_accuracy: 0.0023\n",
      "Epoch 42/100\n",
      "363/363 [==============================] - 1s 2ms/step - loss: 0.3270 - accuracy: 0.0027 - val_loss: 0.3352 - val_accuracy: 0.0023\n",
      "Epoch 43/100\n",
      "363/363 [==============================] - 1s 2ms/step - loss: 0.3268 - accuracy: 0.0027 - val_loss: 0.3383 - val_accuracy: 0.0026\n",
      "Epoch 44/100\n",
      "363/363 [==============================] - 1s 2ms/step - loss: 0.3264 - accuracy: 0.0027 - val_loss: 0.3477 - val_accuracy: 0.0023\n",
      "Epoch 45/100\n",
      "363/363 [==============================] - 1s 2ms/step - loss: 0.3249 - accuracy: 0.0027 - val_loss: 0.3358 - val_accuracy: 0.0023\n",
      "Epoch 46/100\n",
      "363/363 [==============================] - 1s 2ms/step - loss: 0.3251 - accuracy: 0.0027 - val_loss: 0.3439 - val_accuracy: 0.0023\n",
      "Epoch 47/100\n",
      "363/363 [==============================] - 1s 2ms/step - loss: 0.3250 - accuracy: 0.0027 - val_loss: 0.3384 - val_accuracy: 0.0026\n",
      "Epoch 48/100\n",
      "363/363 [==============================] - 1s 2ms/step - loss: 0.3239 - accuracy: 0.0027 - val_loss: 0.3377 - val_accuracy: 0.0023\n"
     ]
    }
   ],
   "source": [
    "early_stopping_cb = keras.callbacks.EarlyStopping(patience=10, restore_best_weights=True)\n",
    "history = model.fit(X_train, y_train, epochs=100, validation_data=(X_valid, y_valid), callbacks=[checkpoint_cb, early_stopping_cb])"
   ]
  },
  {
   "cell_type": "code",
   "execution_count": null,
   "id": "7470273c-6078-4752-b329-00130b1f8181",
   "metadata": {},
   "outputs": [],
   "source": []
  },
  {
   "cell_type": "markdown",
   "id": "32d67ad5-71a3-489b-bd0e-9aafc9e229df",
   "metadata": {},
   "source": [
    "### CUSTOM CALLBACKS\n",
    "As you might expect, you can implement on_train_begin(), on_train_end(), on_epoch_begin(), on_epoch_end(), on_batch_begin(), and on_batch_end(). Callbacks can also be used during evaluation and predictions, should you ever need them (e.g., for debugging). For evaluation, you should implement on_test_begin(), on_test_end(), on_test_batch_begin(), or on_test_batch_end() (called by evaluate()), and for prediction you should implement on_predict_begin(), on_predict_end(), on_predict_batch_begin(), or on_predict_batch_end() (called by predict())."
   ]
  },
  {
   "cell_type": "code",
   "execution_count": null,
   "id": "9e07dc77-6ca2-42e2-a68a-7f9d1ffd1071",
   "metadata": {},
   "outputs": [],
   "source": []
  },
  {
   "cell_type": "code",
   "execution_count": null,
   "id": "94da9211-af72-49af-8c7c-eb3557d86eeb",
   "metadata": {},
   "outputs": [],
   "source": []
  },
  {
   "cell_type": "markdown",
   "id": "759e6162-0371-493b-bfb5-2746f167f8af",
   "metadata": {},
   "source": [
    "# Using TensorBoard for Visualization"
   ]
  },
  {
   "cell_type": "markdown",
   "id": "61030407-4330-4cc2-80bc-5e351bb60424",
   "metadata": {},
   "source": [
    "TensorBoard is a great interactive visualization tool that you can use to view the learning curves during training, compare learning curves between multiple runs, visualize the computation graph, analyze training statistics, view images generated by your model, visualize complex multidimensional data projected down to 3D and automatically clustered for you, and more! This tool is installed automatically when you install TensorFlow, so you already have it."
   ]
  },
  {
   "cell_type": "code",
   "execution_count": null,
   "id": "d0a55914-9f71-48c2-9ccd-d0d7d22892d9",
   "metadata": {},
   "outputs": [],
   "source": []
  },
  {
   "cell_type": "markdown",
   "id": "87352b5a-6b3f-4073-88dc-4c7e9c22defa",
   "metadata": {},
   "source": [
    "## Creating Directories for logging"
   ]
  },
  {
   "cell_type": "markdown",
   "id": "8d7f00d6-13cb-4bb4-bddf-72f2529cc6ac",
   "metadata": {},
   "source": [
    "To use TensorBoard, you must modify your program so that it outputs the data you want to visualize to special binary log files called event files. Each binary data record is called a summary. The TensorBoard server will monitor the log directory, and it will automatically pick up the changes and update the visualizations: this allows you to visualize live data (with a short delay), such as the learning curves during training. In general, you want to point the TensorBoard server to a root log directory and configure your program so that it writes to a different subdirectory every time it runs. This way, the same TensorBoard server instance will allow you to visualize and compare data from multiple runs of your program, without getting everything mixed up"
   ]
  },
  {
   "cell_type": "markdown",
   "id": "73cfbc0e-15e0-4135-9c8d-87005060e928",
   "metadata": {},
   "source": [
    "Let’s start by defining the root log directory we will use for our TensorBoard logs, plus a small function that will generate a subdirectory path based on the current date and time so that it’s different at every run. You may want to include extra information in the log directory name, such as hyperparameter values that you are testing, to make it easier to know what you are looking at in TensorBoard:"
   ]
  },
  {
   "cell_type": "code",
   "execution_count": 88,
   "id": "d113bbf6-861e-4b3b-851d-255c253aacb7",
   "metadata": {},
   "outputs": [],
   "source": [
    "import os\n",
    "root_logdir = os.path.join(os.curdir, \"my_logs\")"
   ]
  },
  {
   "cell_type": "code",
   "execution_count": 89,
   "id": "826ee5e8-ea7a-4fa5-b97e-f0aed06d1ec1",
   "metadata": {},
   "outputs": [],
   "source": [
    "def get_run_logdir():\n",
    "    import time\n",
    "    run_id = time.strftime(\"run_%Y_%m_%d-%H_%M_%S\")\n",
    "    ff = 25\n",
    "    return os.path.join(root_logdir,run_id)"
   ]
  },
  {
   "cell_type": "code",
   "execution_count": 90,
   "id": "aa946a5d-54a4-43d4-bbb9-efb5b9d5df75",
   "metadata": {},
   "outputs": [],
   "source": [
    "run_logdir = get_run_logdir()"
   ]
  },
  {
   "cell_type": "code",
   "execution_count": 91,
   "id": "47234b6d-a7d1-4512-a579-6b40a39acadb",
   "metadata": {},
   "outputs": [],
   "source": [
    "ff = 10"
   ]
  },
  {
   "cell_type": "code",
   "execution_count": null,
   "id": "79df7ec2-9803-4d63-8d17-59ed3c20b538",
   "metadata": {},
   "outputs": [],
   "source": []
  },
  {
   "cell_type": "markdown",
   "id": "6c7442aa-eb98-4eb6-8c90-0e3c527c2751",
   "metadata": {},
   "source": [
    "#### The good news is that Keras provides a nice TensorBoard() callback:"
   ]
  },
  {
   "cell_type": "code",
   "execution_count": 92,
   "id": "97cfcb39-d84a-44be-ae31-1e2520a690f9",
   "metadata": {},
   "outputs": [
    {
     "name": "stdout",
     "output_type": "stream",
     "text": [
      "Epoch 1/30\n",
      "363/363 [==============================] - 1s 2ms/step - loss: 0.3294 - accuracy: 0.0027 - val_loss: 0.3420 - val_accuracy: 0.0023\n",
      "Epoch 2/30\n",
      "363/363 [==============================] - 1s 3ms/step - loss: 0.3382 - accuracy: 0.0027 - val_loss: 0.3401 - val_accuracy: 0.0026\n",
      "Epoch 3/30\n",
      "363/363 [==============================] - 1s 2ms/step - loss: 0.3297 - accuracy: 0.0027 - val_loss: 0.3360 - val_accuracy: 0.0023\n",
      "Epoch 4/30\n",
      "363/363 [==============================] - 1s 2ms/step - loss: 0.3284 - accuracy: 0.0027 - val_loss: 0.3380 - val_accuracy: 0.0023\n",
      "Epoch 5/30\n",
      "363/363 [==============================] - 1s 3ms/step - loss: 0.3273 - accuracy: 0.0027 - val_loss: 0.3349 - val_accuracy: 0.0023\n",
      "Epoch 6/30\n",
      "363/363 [==============================] - 1s 3ms/step - loss: 0.3275 - accuracy: 0.0027 - val_loss: 0.3352 - val_accuracy: 0.0026\n",
      "Epoch 7/30\n",
      "363/363 [==============================] - 1s 2ms/step - loss: 0.3263 - accuracy: 0.0027 - val_loss: 0.3438 - val_accuracy: 0.0023\n",
      "Epoch 8/30\n",
      "363/363 [==============================] - 1s 2ms/step - loss: 0.3265 - accuracy: 0.0027 - val_loss: 0.3421 - val_accuracy: 0.0023\n",
      "Epoch 9/30\n",
      "363/363 [==============================] - 1s 2ms/step - loss: 0.3237 - accuracy: 0.0027 - val_loss: 0.3352 - val_accuracy: 0.0023\n",
      "Epoch 10/30\n",
      "363/363 [==============================] - 1s 2ms/step - loss: 0.3232 - accuracy: 0.0027 - val_loss: 0.3366 - val_accuracy: 0.0026\n",
      "Epoch 11/30\n",
      "363/363 [==============================] - 1s 2ms/step - loss: 0.3245 - accuracy: 0.0027 - val_loss: 0.3381 - val_accuracy: 0.0026\n",
      "Epoch 12/30\n",
      "363/363 [==============================] - 1s 2ms/step - loss: 0.3237 - accuracy: 0.0027 - val_loss: 0.3416 - val_accuracy: 0.0026\n",
      "Epoch 13/30\n",
      "363/363 [==============================] - 1s 2ms/step - loss: 0.3237 - accuracy: 0.0027 - val_loss: 0.3385 - val_accuracy: 0.0026\n",
      "Epoch 14/30\n",
      "363/363 [==============================] - 1s 2ms/step - loss: 0.3246 - accuracy: 0.0027 - val_loss: 0.3443 - val_accuracy: 0.0023\n",
      "Epoch 15/30\n",
      "363/363 [==============================] - 1s 2ms/step - loss: 0.3236 - accuracy: 0.0027 - val_loss: 0.3344 - val_accuracy: 0.0026\n",
      "Epoch 16/30\n",
      "363/363 [==============================] - 1s 2ms/step - loss: 0.3217 - accuracy: 0.0027 - val_loss: 0.3394 - val_accuracy: 0.0026\n",
      "Epoch 17/30\n",
      "363/363 [==============================] - 1s 2ms/step - loss: 0.3238 - accuracy: 0.0027 - val_loss: 0.3387 - val_accuracy: 0.0026\n",
      "Epoch 18/30\n",
      "363/363 [==============================] - 1s 2ms/step - loss: 0.3234 - accuracy: 0.0027 - val_loss: 0.3353 - val_accuracy: 0.0026\n",
      "Epoch 19/30\n",
      "363/363 [==============================] - 1s 2ms/step - loss: 0.3218 - accuracy: 0.0027 - val_loss: 0.3447 - val_accuracy: 0.0026\n",
      "Epoch 20/30\n",
      "363/363 [==============================] - 1s 2ms/step - loss: 0.3204 - accuracy: 0.0027 - val_loss: 0.3341 - val_accuracy: 0.0026\n",
      "Epoch 21/30\n",
      "363/363 [==============================] - 1s 2ms/step - loss: 0.3208 - accuracy: 0.0027 - val_loss: 0.3320 - val_accuracy: 0.0026\n",
      "Epoch 22/30\n",
      "363/363 [==============================] - 1s 2ms/step - loss: 0.3198 - accuracy: 0.0027 - val_loss: 0.3287 - val_accuracy: 0.0023\n",
      "Epoch 23/30\n",
      "363/363 [==============================] - 1s 2ms/step - loss: 0.3193 - accuracy: 0.0027 - val_loss: 0.3411 - val_accuracy: 0.0026\n",
      "Epoch 24/30\n",
      "363/363 [==============================] - 1s 2ms/step - loss: 0.3192 - accuracy: 0.0027 - val_loss: 0.3302 - val_accuracy: 0.0026\n",
      "Epoch 25/30\n",
      "363/363 [==============================] - 1s 2ms/step - loss: 0.3190 - accuracy: 0.0027 - val_loss: 0.3289 - val_accuracy: 0.0026\n",
      "Epoch 26/30\n",
      "363/363 [==============================] - 1s 2ms/step - loss: 0.3190 - accuracy: 0.0027 - val_loss: 0.3322 - val_accuracy: 0.0023\n",
      "Epoch 27/30\n",
      "363/363 [==============================] - 1s 3ms/step - loss: 0.3174 - accuracy: 0.0027 - val_loss: 0.3327 - val_accuracy: 0.0026\n",
      "Epoch 28/30\n",
      "363/363 [==============================] - 1s 3ms/step - loss: 0.3187 - accuracy: 0.0027 - val_loss: 0.3345 - val_accuracy: 0.0023\n",
      "Epoch 29/30\n",
      "363/363 [==============================] - 1s 3ms/step - loss: 0.3184 - accuracy: 0.0026 - val_loss: 0.3352 - val_accuracy: 0.0023\n",
      "Epoch 30/30\n",
      "363/363 [==============================] - 1s 2ms/step - loss: 0.3181 - accuracy: 0.0027 - val_loss: 0.3350 - val_accuracy: 0.0026\n"
     ]
    }
   ],
   "source": [
    "tensorboard_cb = keras.callbacks.TensorBoard(run_logdir)\n",
    "history = model.fit(X_train, y_train, epochs=30,validation_data=(X_valid, y_valid), callbacks=[tensorboard_cb])"
   ]
  },
  {
   "cell_type": "code",
   "execution_count": null,
   "id": "2945ae9f-ebf3-40af-a9cb-1118403bffab",
   "metadata": {},
   "outputs": [],
   "source": []
  },
  {
   "cell_type": "markdown",
   "id": "ba698c00-f5b3-408b-be2f-ea2ec6d96038",
   "metadata": {},
   "source": [
    "### Starting the TensorBoard server"
   ]
  },
  {
   "cell_type": "code",
   "execution_count": 103,
   "id": "4ae54671-84ae-4934-a461-2cc3a98ac32e",
   "metadata": {},
   "outputs": [
    {
     "name": "stdout",
     "output_type": "stream",
     "text": [
      "The tensorboard extension is already loaded. To reload it, use:\n",
      "  %reload_ext tensorboard\n"
     ]
    }
   ],
   "source": [
    "%load_ext tensorboard"
   ]
  },
  {
   "cell_type": "code",
   "execution_count": 104,
   "id": "4838472f-3257-48d1-ac19-91d790f143b3",
   "metadata": {},
   "outputs": [
    {
     "data": {
      "text/html": [
       "\n",
       "      <iframe id=\"tensorboard-frame-f910e8cfb509d101\" width=\"100%\" height=\"800\" frameborder=\"0\">\n",
       "      </iframe>\n",
       "      <script>\n",
       "        (function() {\n",
       "          const frame = document.getElementById(\"tensorboard-frame-f910e8cfb509d101\");\n",
       "          const url = new URL(\"/\", window.location);\n",
       "          const port = 6006;\n",
       "          if (port) {\n",
       "            url.port = port;\n",
       "          }\n",
       "          frame.src = url;\n",
       "        })();\n",
       "      </script>\n",
       "    "
      ],
      "text/plain": [
       "<IPython.core.display.HTML object>"
      ]
     },
     "metadata": {},
     "output_type": "display_data"
    }
   ],
   "source": [
    "%tensorboard --logdir=./my_logs --port=6006"
   ]
  },
  {
   "cell_type": "code",
   "execution_count": 102,
   "id": "de23999a-8a8e-4ba3-8e54-d020b4aa1f0e",
   "metadata": {},
   "outputs": [
    {
     "name": "stderr",
     "output_type": "stream",
     "text": [
      "'kill' is not recognized as an internal or external command,\n",
      "operable program or batch file.\n"
     ]
    }
   ],
   "source": [
    "!kill 28636"
   ]
  },
  {
   "cell_type": "code",
   "execution_count": null,
   "id": "91584184-81fa-4884-ad8f-a2e48d3deae9",
   "metadata": {},
   "outputs": [],
   "source": []
  },
  {
   "cell_type": "markdown",
   "id": "b0047ce8-630e-4e91-81b7-200866c5cc62",
   "metadata": {},
   "source": [
    "#### Additional APIs Important!!\n",
    "Additionally, TensorFlow offers a lower-level API in the tf.summary package. The following code creates a SummaryWriter using the create_file_writer() function, and it uses this writer as a context to log scalars, histograms, images, audio, and text, all of which can then be visualized using TensorBoard (give it a try!):"
   ]
  },
  {
   "cell_type": "code",
   "execution_count": 95,
   "id": "fd642632-3e33-4093-8211-5c6e2e106ec0",
   "metadata": {},
   "outputs": [],
   "source": [
    "test_logdir = get_run_logdir()\n",
    "writer = tf.summary.create_file_writer(test_logdir)"
   ]
  },
  {
   "cell_type": "code",
   "execution_count": 96,
   "id": "e114d8a2-e602-4f62-ad39-017458ae3ca1",
   "metadata": {},
   "outputs": [],
   "source": [
    "with writer.as_default():\n",
    "    for step in range(1, 1000 + 1):\n",
    "        tf.summary.scalar(\"my_scalar\", np.sin(step / 10), step=step)\n",
    "        data = (np.random.randn(100) + 2) * step / 100 # some random data\n",
    "        tf.summary.histogram(\"my_hist\", data, buckets=50, step=step)\n",
    "        images = np.random.rand(2, 32, 32, 3) # random 32×32 RGB images\n",
    "        tf.summary.image(\"my_images\", images * step / 1000, step=step)\n",
    "        texts = [\"The step is \" + str(step), \"Its square is \" + str(step**2)]\n",
    "        tf.summary.text(\"my_text\", texts, step=step)\n",
    "        sine_wave = tf.math.sin(tf.range(12000) / 48000 * 2 * np.pi * step)\n",
    "        audio = tf.reshape(tf.cast(sine_wave, tf.float32), [1, -1, 1])\n",
    "        tf.summary.audio(\"my_audio\", audio, sample_rate=48000,step= step)"
   ]
  },
  {
   "cell_type": "code",
   "execution_count": null,
   "id": "da45e1f0-8aa2-4f2d-9c49-a58abafb0ca1",
   "metadata": {},
   "outputs": [],
   "source": []
  },
  {
   "cell_type": "markdown",
   "id": "26895408-16d8-4947-ae62-e4a37310cf47",
   "metadata": {},
   "source": [
    "# Fine-Tuning Neural Network Hyperparameters"
   ]
  },
  {
   "cell_type": "markdown",
   "id": "9c1fa847-9ebe-4f1d-9a87-eb6925873010",
   "metadata": {},
   "source": [
    "The flexibility of neural networks is also one of their main drawbacks: there are many hyperparameters to tweak. Not only can you use any imaginable network architecture, but even in a simple MLP you can change the number of layers, the number of neurons per layer, the type of activation function to use in each layer, the weight initialization logic, and much more. How do you know what combination of hyperparameters is the best for your task?"
   ]
  },
  {
   "cell_type": "code",
   "execution_count": null,
   "id": "52282d17-c09a-4e62-b606-59b7cc315329",
   "metadata": {},
   "outputs": [],
   "source": []
  },
  {
   "cell_type": "markdown",
   "id": "5add8484-728a-448e-912b-d27043d055ed",
   "metadata": {},
   "source": [
    "# IMPORTANT!!!!!!!!!!!!!!!!!!!!!!!!!!!!! REFER NOTEBOOK HYPERPARAMETER PART"
   ]
  },
  {
   "cell_type": "code",
   "execution_count": null,
   "id": "401a79ec-79b6-4f7a-97ed-74a3c8324eb1",
   "metadata": {},
   "outputs": [],
   "source": []
  },
  {
   "cell_type": "code",
   "execution_count": null,
   "id": "434734c7-a8b1-428f-982b-c014d1749210",
   "metadata": {},
   "outputs": [],
   "source": []
  },
  {
   "cell_type": "code",
   "execution_count": null,
   "id": "32272138-355e-48aa-acad-26482bcbaa39",
   "metadata": {},
   "outputs": [],
   "source": []
  },
  {
   "cell_type": "code",
   "execution_count": null,
   "id": "2bc85357-f1c5-4e90-81cb-c5fb65053be1",
   "metadata": {},
   "outputs": [],
   "source": []
  },
  {
   "cell_type": "code",
   "execution_count": null,
   "id": "2c36c5a1-7475-4c11-8cb3-44e5e0f953bf",
   "metadata": {},
   "outputs": [],
   "source": []
  },
  {
   "cell_type": "code",
   "execution_count": null,
   "id": "eeb96cc5-0b8c-4cb1-adc9-79e47be4637f",
   "metadata": {},
   "outputs": [],
   "source": []
  },
  {
   "cell_type": "code",
   "execution_count": null,
   "id": "0473ccc5-7b19-4b31-ab48-37d687784d14",
   "metadata": {},
   "outputs": [],
   "source": []
  },
  {
   "cell_type": "code",
   "execution_count": null,
   "id": "8b01f14d-ebae-4537-9b7e-d29dcf9d559f",
   "metadata": {},
   "outputs": [],
   "source": []
  },
  {
   "cell_type": "code",
   "execution_count": null,
   "id": "0d84884e-7725-4076-84a2-3156027633a1",
   "metadata": {},
   "outputs": [],
   "source": []
  },
  {
   "cell_type": "code",
   "execution_count": null,
   "id": "c8cf53d5-645a-41ef-b064-4f1d20c10527",
   "metadata": {},
   "outputs": [],
   "source": []
  },
  {
   "cell_type": "code",
   "execution_count": null,
   "id": "d31f08d8-0b12-4e42-92c0-51857fd51218",
   "metadata": {},
   "outputs": [],
   "source": []
  },
  {
   "cell_type": "code",
   "execution_count": null,
   "id": "f67ed92a-8ae5-422b-a3a0-1b8d67d8ac14",
   "metadata": {},
   "outputs": [],
   "source": []
  },
  {
   "cell_type": "code",
   "execution_count": null,
   "id": "e3718d5b-3745-4196-bdcb-2006076f5edd",
   "metadata": {},
   "outputs": [],
   "source": []
  },
  {
   "cell_type": "code",
   "execution_count": null,
   "id": "01e48745-417e-47e4-9516-023fcd86d776",
   "metadata": {},
   "outputs": [],
   "source": []
  },
  {
   "cell_type": "code",
   "execution_count": null,
   "id": "9b71c304-cf36-4be4-b5c2-e916bc4e7369",
   "metadata": {},
   "outputs": [],
   "source": []
  },
  {
   "cell_type": "code",
   "execution_count": null,
   "id": "d54b9868-5431-4e21-a0c7-d427cbc2576d",
   "metadata": {},
   "outputs": [],
   "source": []
  },
  {
   "cell_type": "code",
   "execution_count": null,
   "id": "24c5da48-2445-4aab-8c65-d8f2bf3f1b27",
   "metadata": {},
   "outputs": [],
   "source": []
  },
  {
   "cell_type": "code",
   "execution_count": null,
   "id": "a8f0692d-341f-4cde-9ccd-3253311a0f8c",
   "metadata": {},
   "outputs": [],
   "source": []
  },
  {
   "cell_type": "code",
   "execution_count": null,
   "id": "6bfe24da-8d6c-42a7-9893-199f5004bbbf",
   "metadata": {},
   "outputs": [],
   "source": []
  },
  {
   "cell_type": "code",
   "execution_count": null,
   "id": "272fcce8-a69a-49f9-963f-67214d744548",
   "metadata": {},
   "outputs": [],
   "source": []
  },
  {
   "cell_type": "code",
   "execution_count": null,
   "id": "67804675-5a8c-4e6e-b23e-519dda2137d6",
   "metadata": {},
   "outputs": [],
   "source": []
  },
  {
   "cell_type": "code",
   "execution_count": null,
   "id": "0b75fdf9-286c-48d7-bbd5-c2c4ccf6b14e",
   "metadata": {},
   "outputs": [],
   "source": []
  },
  {
   "cell_type": "code",
   "execution_count": null,
   "id": "ab5359b3-a6a2-42a0-8689-e7117b3e6f52",
   "metadata": {},
   "outputs": [],
   "source": []
  },
  {
   "cell_type": "code",
   "execution_count": null,
   "id": "2a7d4d12-e33c-4dde-b6ec-cba9d6260e45",
   "metadata": {},
   "outputs": [],
   "source": []
  },
  {
   "cell_type": "code",
   "execution_count": null,
   "id": "d9003c2b-a101-42ed-8edb-613ac126dfff",
   "metadata": {},
   "outputs": [],
   "source": []
  },
  {
   "cell_type": "code",
   "execution_count": null,
   "id": "8a7586f5-eb46-43c2-83f2-4aed96e82a15",
   "metadata": {},
   "outputs": [],
   "source": []
  },
  {
   "cell_type": "code",
   "execution_count": null,
   "id": "7d484667-1250-40e9-a4b9-116692c23d94",
   "metadata": {},
   "outputs": [],
   "source": []
  },
  {
   "cell_type": "code",
   "execution_count": null,
   "id": "ee129d09-dc9a-4bee-a4dc-5d10ba54cc6e",
   "metadata": {},
   "outputs": [],
   "source": []
  },
  {
   "cell_type": "code",
   "execution_count": null,
   "id": "f902a36d-d2f1-43d4-93bc-8c77567bff85",
   "metadata": {},
   "outputs": [],
   "source": []
  },
  {
   "cell_type": "code",
   "execution_count": null,
   "id": "c37ca32e-771e-4207-9750-c5c42593e677",
   "metadata": {},
   "outputs": [],
   "source": []
  },
  {
   "cell_type": "code",
   "execution_count": null,
   "id": "46b90dac-db32-41e3-a5e6-cee33209b0d3",
   "metadata": {},
   "outputs": [],
   "source": []
  },
  {
   "cell_type": "code",
   "execution_count": null,
   "id": "f9ea37c9-04b9-43f0-9918-ba0f3996a8d7",
   "metadata": {},
   "outputs": [],
   "source": []
  },
  {
   "cell_type": "code",
   "execution_count": null,
   "id": "8354d6a4-8155-4eb1-a855-2c11423e31d8",
   "metadata": {},
   "outputs": [],
   "source": []
  },
  {
   "cell_type": "code",
   "execution_count": null,
   "id": "bf747534-2cf7-42e4-9d37-8a718aa8c700",
   "metadata": {},
   "outputs": [],
   "source": []
  },
  {
   "cell_type": "code",
   "execution_count": null,
   "id": "bfce4f19-b364-4dfc-9eca-6cc4f9499750",
   "metadata": {},
   "outputs": [],
   "source": []
  },
  {
   "cell_type": "code",
   "execution_count": null,
   "id": "53d1793e-9b09-4048-b92c-be8b918a7666",
   "metadata": {},
   "outputs": [],
   "source": []
  },
  {
   "cell_type": "code",
   "execution_count": null,
   "id": "765d237c-3878-4fa1-a5de-f04145f493d2",
   "metadata": {},
   "outputs": [],
   "source": []
  },
  {
   "cell_type": "code",
   "execution_count": null,
   "id": "9104fdd4-bf38-4652-a386-63065ad3bb61",
   "metadata": {},
   "outputs": [],
   "source": []
  },
  {
   "cell_type": "code",
   "execution_count": null,
   "id": "22b4edf8-7e89-41da-9883-9cd2bc796c76",
   "metadata": {},
   "outputs": [],
   "source": []
  },
  {
   "cell_type": "code",
   "execution_count": null,
   "id": "3a28bc5e-8a5b-46ac-8903-d062dbd2478c",
   "metadata": {},
   "outputs": [],
   "source": []
  },
  {
   "cell_type": "code",
   "execution_count": null,
   "id": "a53dab10-306d-4505-b06d-f195483b6df3",
   "metadata": {},
   "outputs": [],
   "source": []
  },
  {
   "cell_type": "code",
   "execution_count": null,
   "id": "33b1429b-31c8-4e09-984f-0bfc53778a77",
   "metadata": {},
   "outputs": [],
   "source": []
  },
  {
   "cell_type": "code",
   "execution_count": null,
   "id": "049a7338-464e-4ca2-b696-e672b17d8cfa",
   "metadata": {},
   "outputs": [],
   "source": []
  },
  {
   "cell_type": "code",
   "execution_count": null,
   "id": "e10ffd58-75c9-421c-930b-8c1afa1f9534",
   "metadata": {},
   "outputs": [],
   "source": []
  },
  {
   "cell_type": "code",
   "execution_count": null,
   "id": "f33f6a8d-62bf-4abf-bbf6-741635d13e6a",
   "metadata": {},
   "outputs": [],
   "source": []
  },
  {
   "cell_type": "code",
   "execution_count": null,
   "id": "4621b792-c3f1-440f-96e3-223fd44eac94",
   "metadata": {},
   "outputs": [],
   "source": []
  },
  {
   "cell_type": "code",
   "execution_count": null,
   "id": "b892541e-cb25-401a-826f-adf6d4c86847",
   "metadata": {},
   "outputs": [],
   "source": []
  },
  {
   "cell_type": "code",
   "execution_count": null,
   "id": "6ebbf17f-3eee-4259-bd12-aba1fea3425e",
   "metadata": {},
   "outputs": [],
   "source": []
  },
  {
   "cell_type": "code",
   "execution_count": null,
   "id": "e5957175-1314-4456-a3cc-f6c48c94e158",
   "metadata": {},
   "outputs": [],
   "source": []
  },
  {
   "cell_type": "code",
   "execution_count": null,
   "id": "86c0421c-0131-4e17-89f1-2bfe6beec004",
   "metadata": {},
   "outputs": [],
   "source": []
  },
  {
   "cell_type": "code",
   "execution_count": null,
   "id": "bdf393da-419d-4958-bfa0-cadcea1f26c5",
   "metadata": {},
   "outputs": [],
   "source": []
  },
  {
   "cell_type": "code",
   "execution_count": null,
   "id": "5b04f7f4-8a00-4145-9355-22702820d736",
   "metadata": {},
   "outputs": [],
   "source": []
  },
  {
   "cell_type": "code",
   "execution_count": null,
   "id": "2ad28763-ff04-4899-91c3-da07af21b548",
   "metadata": {},
   "outputs": [],
   "source": []
  },
  {
   "cell_type": "code",
   "execution_count": null,
   "id": "7393722d-3bee-46f8-b2ba-c1090baca5a5",
   "metadata": {},
   "outputs": [],
   "source": []
  },
  {
   "cell_type": "code",
   "execution_count": null,
   "id": "e3547446-8809-4328-9ca5-790ad25e0b3f",
   "metadata": {},
   "outputs": [],
   "source": []
  },
  {
   "cell_type": "code",
   "execution_count": null,
   "id": "4fbc4428-7e6a-4ee3-914e-e2b657812fc2",
   "metadata": {},
   "outputs": [],
   "source": []
  },
  {
   "cell_type": "code",
   "execution_count": null,
   "id": "e0d7dc5e-c56f-4d53-934e-8058c0043927",
   "metadata": {},
   "outputs": [],
   "source": []
  },
  {
   "cell_type": "code",
   "execution_count": null,
   "id": "59a4fc6c-0340-425b-9907-c051d4c9ee2f",
   "metadata": {},
   "outputs": [],
   "source": []
  },
  {
   "cell_type": "code",
   "execution_count": null,
   "id": "f8fdd082-2cb6-4c16-90ab-4c59a2e69475",
   "metadata": {},
   "outputs": [],
   "source": []
  },
  {
   "cell_type": "code",
   "execution_count": null,
   "id": "13871561-abcf-4f26-a93b-82dc5d26a921",
   "metadata": {},
   "outputs": [],
   "source": []
  },
  {
   "cell_type": "code",
   "execution_count": null,
   "id": "cf28a928-d8d3-402e-9507-eca6800b43f4",
   "metadata": {},
   "outputs": [],
   "source": []
  },
  {
   "cell_type": "code",
   "execution_count": null,
   "id": "20c32474-a16f-48bf-8453-03defb3fe78d",
   "metadata": {},
   "outputs": [],
   "source": []
  },
  {
   "cell_type": "code",
   "execution_count": null,
   "id": "ff24e81f-7825-4382-b873-13dcfcb82c36",
   "metadata": {},
   "outputs": [],
   "source": []
  },
  {
   "cell_type": "code",
   "execution_count": null,
   "id": "f83f145a-0424-41e0-b723-2c746e184f8c",
   "metadata": {},
   "outputs": [],
   "source": []
  },
  {
   "cell_type": "code",
   "execution_count": null,
   "id": "8f470aac-4672-4c67-81c9-eb8cae5ae872",
   "metadata": {},
   "outputs": [],
   "source": []
  },
  {
   "cell_type": "code",
   "execution_count": null,
   "id": "c5a182a1-0aa7-4986-a58c-6b8786c91bc8",
   "metadata": {},
   "outputs": [],
   "source": []
  },
  {
   "cell_type": "code",
   "execution_count": null,
   "id": "2afa7e68-b2ee-4ac9-85b0-97b158487c68",
   "metadata": {},
   "outputs": [],
   "source": []
  },
  {
   "cell_type": "code",
   "execution_count": null,
   "id": "07b290ea-67d3-456a-937c-8d77ea9527b8",
   "metadata": {},
   "outputs": [],
   "source": []
  },
  {
   "cell_type": "code",
   "execution_count": null,
   "id": "6de70f75-6a48-400e-9d46-0adc0bd91c1a",
   "metadata": {},
   "outputs": [],
   "source": []
  },
  {
   "cell_type": "code",
   "execution_count": null,
   "id": "f84dda5f-0060-4dbc-9a3f-d4ad5e3249c7",
   "metadata": {},
   "outputs": [],
   "source": []
  },
  {
   "cell_type": "code",
   "execution_count": null,
   "id": "dc59995b-2048-43f5-8282-6388dad12dfa",
   "metadata": {},
   "outputs": [],
   "source": []
  },
  {
   "cell_type": "code",
   "execution_count": null,
   "id": "3836ad3b-8855-4835-b675-626a61f15b6e",
   "metadata": {},
   "outputs": [],
   "source": []
  },
  {
   "cell_type": "code",
   "execution_count": null,
   "id": "bd7d724b-0ef6-4756-8c0d-2f228b321904",
   "metadata": {},
   "outputs": [],
   "source": []
  },
  {
   "cell_type": "code",
   "execution_count": null,
   "id": "c83c361e-608f-41ea-b7ac-f898a7561d91",
   "metadata": {},
   "outputs": [],
   "source": []
  },
  {
   "cell_type": "code",
   "execution_count": null,
   "id": "ac083556-36ee-4fa8-b012-b48d8eb59af6",
   "metadata": {},
   "outputs": [],
   "source": []
  },
  {
   "cell_type": "code",
   "execution_count": null,
   "id": "1b53f98a-d5e6-4efc-85e6-b3e87704946e",
   "metadata": {},
   "outputs": [],
   "source": []
  },
  {
   "cell_type": "code",
   "execution_count": null,
   "id": "3e385450-1d1a-4ef9-99e9-946d108ca827",
   "metadata": {},
   "outputs": [],
   "source": []
  },
  {
   "cell_type": "code",
   "execution_count": null,
   "id": "5e270576-5635-47fc-befd-bb5b71d00c51",
   "metadata": {},
   "outputs": [],
   "source": []
  },
  {
   "cell_type": "code",
   "execution_count": null,
   "id": "6a63f8fc-bb5c-4ac4-82e9-af8955a7a3c5",
   "metadata": {},
   "outputs": [],
   "source": []
  },
  {
   "cell_type": "code",
   "execution_count": null,
   "id": "8f59fe95-4551-444c-be5c-48efd9a13150",
   "metadata": {},
   "outputs": [],
   "source": []
  },
  {
   "cell_type": "code",
   "execution_count": null,
   "id": "c7ccc9d2-cdb1-4e0b-bf25-7a907a4b2222",
   "metadata": {},
   "outputs": [],
   "source": []
  },
  {
   "cell_type": "code",
   "execution_count": null,
   "id": "d8404ef9-a18a-4088-8aa4-1be33375d8fe",
   "metadata": {},
   "outputs": [],
   "source": []
  },
  {
   "cell_type": "code",
   "execution_count": null,
   "id": "e0aa4900-dfce-4bef-9e5f-3f169e6aaa7a",
   "metadata": {},
   "outputs": [],
   "source": []
  },
  {
   "cell_type": "code",
   "execution_count": null,
   "id": "cd9d75a0-d913-441d-8613-273d2f826ca7",
   "metadata": {},
   "outputs": [],
   "source": []
  },
  {
   "cell_type": "code",
   "execution_count": null,
   "id": "204500b2-be4f-479b-834e-df02bdb17cdb",
   "metadata": {},
   "outputs": [],
   "source": []
  },
  {
   "cell_type": "code",
   "execution_count": null,
   "id": "61ed73f3-4946-4962-b528-c1d9ed506c23",
   "metadata": {},
   "outputs": [],
   "source": []
  },
  {
   "cell_type": "code",
   "execution_count": null,
   "id": "d8a9e5e0-1140-4663-9219-52c69f7964f5",
   "metadata": {},
   "outputs": [],
   "source": []
  },
  {
   "cell_type": "code",
   "execution_count": null,
   "id": "210160f6-3e05-4bb8-ab15-4a9052fe9c1e",
   "metadata": {},
   "outputs": [],
   "source": []
  },
  {
   "cell_type": "code",
   "execution_count": null,
   "id": "e9ff4ded-ed31-4767-8e97-9b7cfeec80f3",
   "metadata": {},
   "outputs": [],
   "source": []
  },
  {
   "cell_type": "code",
   "execution_count": null,
   "id": "19542b61-ed90-4d11-8ecd-405fb72e3c11",
   "metadata": {},
   "outputs": [],
   "source": []
  },
  {
   "cell_type": "code",
   "execution_count": null,
   "id": "ca8450ae-4410-4f44-9553-ae2ec4aa1821",
   "metadata": {},
   "outputs": [],
   "source": []
  },
  {
   "cell_type": "code",
   "execution_count": null,
   "id": "4d2f4346-3af3-47b1-b722-04e8a72804cc",
   "metadata": {},
   "outputs": [],
   "source": []
  },
  {
   "cell_type": "code",
   "execution_count": null,
   "id": "551aa1ad-127e-41fd-9cd2-b87674d35e36",
   "metadata": {},
   "outputs": [],
   "source": []
  },
  {
   "cell_type": "code",
   "execution_count": null,
   "id": "98945453-24ee-4c46-abe3-b7e57d9f0273",
   "metadata": {},
   "outputs": [],
   "source": []
  },
  {
   "cell_type": "code",
   "execution_count": null,
   "id": "89505360-6147-4398-866b-7d5bc52d13ac",
   "metadata": {},
   "outputs": [],
   "source": []
  },
  {
   "cell_type": "code",
   "execution_count": null,
   "id": "d110c7fc-ef90-41dc-ab51-c1ef062f8c06",
   "metadata": {},
   "outputs": [],
   "source": []
  },
  {
   "cell_type": "code",
   "execution_count": null,
   "id": "a99d7607-dca3-4de2-ac61-69dd80974cf5",
   "metadata": {},
   "outputs": [],
   "source": []
  },
  {
   "cell_type": "code",
   "execution_count": null,
   "id": "8c39e0f9-1347-48b7-a68b-916f0f0ef3a0",
   "metadata": {},
   "outputs": [],
   "source": []
  },
  {
   "cell_type": "code",
   "execution_count": null,
   "id": "c792dd9a-bac8-4d9f-8fe9-ab173557a57f",
   "metadata": {},
   "outputs": [],
   "source": []
  },
  {
   "cell_type": "code",
   "execution_count": null,
   "id": "2b320981-fcde-4616-a1a0-30a40e2ea744",
   "metadata": {},
   "outputs": [],
   "source": []
  },
  {
   "cell_type": "code",
   "execution_count": null,
   "id": "8ebee52e-088e-4230-ae29-3cc5f88cf501",
   "metadata": {},
   "outputs": [],
   "source": []
  },
  {
   "cell_type": "code",
   "execution_count": null,
   "id": "3f17bf36-41cc-4d93-a46b-592a3cd96865",
   "metadata": {},
   "outputs": [],
   "source": []
  },
  {
   "cell_type": "code",
   "execution_count": null,
   "id": "8a03e848-edd8-4280-a229-a2140ef975b4",
   "metadata": {},
   "outputs": [],
   "source": []
  },
  {
   "cell_type": "code",
   "execution_count": null,
   "id": "7e9506ab-a3cb-4289-a839-c6e2a18a40d5",
   "metadata": {},
   "outputs": [],
   "source": []
  },
  {
   "cell_type": "code",
   "execution_count": null,
   "id": "e1977ee1-d124-4957-877c-45704ed369f1",
   "metadata": {},
   "outputs": [],
   "source": []
  },
  {
   "cell_type": "code",
   "execution_count": null,
   "id": "775da462-ae9d-478e-bc67-6a922534596f",
   "metadata": {},
   "outputs": [],
   "source": []
  },
  {
   "cell_type": "code",
   "execution_count": null,
   "id": "61414499-035c-42a3-9079-6d21d00e2b73",
   "metadata": {},
   "outputs": [],
   "source": []
  },
  {
   "cell_type": "code",
   "execution_count": null,
   "id": "d452c794-8ae0-4a16-98ee-8ab6dfbb8a28",
   "metadata": {},
   "outputs": [],
   "source": []
  },
  {
   "cell_type": "code",
   "execution_count": null,
   "id": "2df8244a-e71b-4f26-b6d9-46521b91b04f",
   "metadata": {},
   "outputs": [],
   "source": []
  },
  {
   "cell_type": "code",
   "execution_count": null,
   "id": "cdc91892-f01c-43f9-a428-fea41ffb3b47",
   "metadata": {},
   "outputs": [],
   "source": []
  },
  {
   "cell_type": "code",
   "execution_count": null,
   "id": "d799db62-5924-4e00-bfa6-4026a893a74a",
   "metadata": {},
   "outputs": [],
   "source": []
  },
  {
   "cell_type": "code",
   "execution_count": null,
   "id": "ffb51df1-9913-4ecf-85e7-948528be3115",
   "metadata": {},
   "outputs": [],
   "source": []
  },
  {
   "cell_type": "code",
   "execution_count": null,
   "id": "36f4297a-9ff8-4d39-94a5-a1a8c8809994",
   "metadata": {},
   "outputs": [],
   "source": []
  },
  {
   "cell_type": "code",
   "execution_count": null,
   "id": "d93a311f-d766-4416-898b-8407f38de0b2",
   "metadata": {},
   "outputs": [],
   "source": []
  },
  {
   "cell_type": "code",
   "execution_count": null,
   "id": "fdfbb04d-e66e-4d78-aac5-9c90ec1f6ac9",
   "metadata": {},
   "outputs": [],
   "source": []
  },
  {
   "cell_type": "code",
   "execution_count": null,
   "id": "f10119d9-9a99-442f-a511-ab3b8548b50c",
   "metadata": {},
   "outputs": [],
   "source": []
  },
  {
   "cell_type": "code",
   "execution_count": null,
   "id": "6070e951-0561-41e6-83af-ab038aaa9ecb",
   "metadata": {},
   "outputs": [],
   "source": []
  },
  {
   "cell_type": "code",
   "execution_count": null,
   "id": "b02efef9-7230-4809-91a8-8f99146cba21",
   "metadata": {},
   "outputs": [],
   "source": []
  },
  {
   "cell_type": "code",
   "execution_count": null,
   "id": "ad68fca1-fc13-44ef-8f40-7f8221a96eb2",
   "metadata": {},
   "outputs": [],
   "source": []
  },
  {
   "cell_type": "code",
   "execution_count": null,
   "id": "7a44cb31-1e94-4762-8db8-77fcc5e67c54",
   "metadata": {},
   "outputs": [],
   "source": []
  },
  {
   "cell_type": "code",
   "execution_count": null,
   "id": "4dbeea9a-9531-46b4-add5-81a9d006d1f2",
   "metadata": {},
   "outputs": [],
   "source": []
  },
  {
   "cell_type": "code",
   "execution_count": null,
   "id": "9825275f-1459-4f22-8224-4247e5c9994d",
   "metadata": {},
   "outputs": [],
   "source": []
  },
  {
   "cell_type": "code",
   "execution_count": null,
   "id": "ded268d8-c12e-4a6c-b3aa-9bf9c29937e5",
   "metadata": {},
   "outputs": [],
   "source": []
  },
  {
   "cell_type": "code",
   "execution_count": null,
   "id": "7f400dd0-4f5e-49b8-89e6-2d8328bfe767",
   "metadata": {},
   "outputs": [],
   "source": []
  },
  {
   "cell_type": "code",
   "execution_count": null,
   "id": "ab01c504-f2bd-479e-9226-4fdc6ba4a9e6",
   "metadata": {},
   "outputs": [],
   "source": []
  },
  {
   "cell_type": "code",
   "execution_count": null,
   "id": "6dab7f61-c821-410a-a2d5-f4d4c653117f",
   "metadata": {},
   "outputs": [],
   "source": []
  },
  {
   "cell_type": "code",
   "execution_count": null,
   "id": "b4e59d4d-74da-4eb2-85d4-47970c809612",
   "metadata": {},
   "outputs": [],
   "source": []
  },
  {
   "cell_type": "code",
   "execution_count": null,
   "id": "132d3518-1f30-44ee-b308-eb7c870bb844",
   "metadata": {},
   "outputs": [],
   "source": []
  },
  {
   "cell_type": "code",
   "execution_count": null,
   "id": "4d2dc3f2-1054-4719-9917-36152a8638ef",
   "metadata": {},
   "outputs": [],
   "source": []
  },
  {
   "cell_type": "code",
   "execution_count": null,
   "id": "2e851d0c-4300-4f27-a387-499f47eecffe",
   "metadata": {},
   "outputs": [],
   "source": []
  },
  {
   "cell_type": "code",
   "execution_count": null,
   "id": "e667b8ab-af3c-4084-8147-d73f2707753c",
   "metadata": {},
   "outputs": [],
   "source": []
  },
  {
   "cell_type": "code",
   "execution_count": null,
   "id": "3894a738-0cb1-4eb7-85e4-02c874425c30",
   "metadata": {},
   "outputs": [],
   "source": []
  },
  {
   "cell_type": "code",
   "execution_count": null,
   "id": "5e78ff5f-1baa-41c3-8fe1-4730034e1111",
   "metadata": {},
   "outputs": [],
   "source": []
  },
  {
   "cell_type": "code",
   "execution_count": null,
   "id": "b38ca52f-ca75-4035-8106-c4f4128639ab",
   "metadata": {},
   "outputs": [],
   "source": []
  },
  {
   "cell_type": "code",
   "execution_count": null,
   "id": "8cc5b579-6495-4a31-af59-53f0b35d3a66",
   "metadata": {},
   "outputs": [],
   "source": []
  },
  {
   "cell_type": "code",
   "execution_count": null,
   "id": "b2526beb-7940-4a53-9b54-c664daa931bb",
   "metadata": {},
   "outputs": [],
   "source": []
  },
  {
   "cell_type": "code",
   "execution_count": null,
   "id": "9e2db37a-65a5-46d9-9453-26b34e51f5bd",
   "metadata": {},
   "outputs": [],
   "source": []
  },
  {
   "cell_type": "code",
   "execution_count": null,
   "id": "4d871b90-9b18-40b6-95e4-b0fc7b231eb9",
   "metadata": {},
   "outputs": [],
   "source": []
  },
  {
   "cell_type": "code",
   "execution_count": null,
   "id": "352b8ed3-aa4b-4d01-b919-2313f64ba8c8",
   "metadata": {},
   "outputs": [],
   "source": []
  },
  {
   "cell_type": "code",
   "execution_count": null,
   "id": "fb44bfbb-bccc-4f78-8197-204fc4499861",
   "metadata": {},
   "outputs": [],
   "source": []
  },
  {
   "cell_type": "code",
   "execution_count": null,
   "id": "98143199-97fb-4d3d-8e1e-455135561487",
   "metadata": {},
   "outputs": [],
   "source": []
  },
  {
   "cell_type": "code",
   "execution_count": null,
   "id": "bc3ee75c-911d-4620-88d3-8f356aceeae9",
   "metadata": {},
   "outputs": [],
   "source": []
  },
  {
   "cell_type": "code",
   "execution_count": null,
   "id": "949823bb-eab0-41ba-afd0-e097b24e29c0",
   "metadata": {},
   "outputs": [],
   "source": []
  },
  {
   "cell_type": "code",
   "execution_count": null,
   "id": "6440e2c8-3990-4b32-8c2f-07e874d40f29",
   "metadata": {},
   "outputs": [],
   "source": []
  },
  {
   "cell_type": "code",
   "execution_count": null,
   "id": "ece20626-75fd-4848-bd90-61fffb1fd86d",
   "metadata": {},
   "outputs": [],
   "source": []
  },
  {
   "cell_type": "code",
   "execution_count": null,
   "id": "79b3c7c5-60e5-4e65-a309-8223e22ff8ca",
   "metadata": {},
   "outputs": [],
   "source": []
  },
  {
   "cell_type": "code",
   "execution_count": null,
   "id": "a9c2b7f5-cf22-4737-9584-755cbf21e92a",
   "metadata": {},
   "outputs": [],
   "source": []
  },
  {
   "cell_type": "code",
   "execution_count": null,
   "id": "b09d8ad7-a591-455f-986e-28e65d3d73bd",
   "metadata": {},
   "outputs": [],
   "source": []
  },
  {
   "cell_type": "code",
   "execution_count": null,
   "id": "44a6be98-1204-4d66-98b0-1af625a74581",
   "metadata": {},
   "outputs": [],
   "source": []
  },
  {
   "cell_type": "code",
   "execution_count": null,
   "id": "ff6b0c31-9537-479c-baab-eba8b3ef01ae",
   "metadata": {},
   "outputs": [],
   "source": []
  },
  {
   "cell_type": "code",
   "execution_count": null,
   "id": "1d4f83df-05b6-4781-ad45-2cb9e8af6240",
   "metadata": {},
   "outputs": [],
   "source": []
  },
  {
   "cell_type": "code",
   "execution_count": null,
   "id": "5dcc0415-71fb-4bfd-9fd2-f5b4a714f045",
   "metadata": {},
   "outputs": [],
   "source": []
  },
  {
   "cell_type": "code",
   "execution_count": null,
   "id": "e31153b2-9598-4253-914b-31a4e94a1474",
   "metadata": {},
   "outputs": [],
   "source": []
  },
  {
   "cell_type": "code",
   "execution_count": null,
   "id": "b917b34d-1053-4c53-9e13-ab63c8ec05cf",
   "metadata": {},
   "outputs": [],
   "source": []
  },
  {
   "cell_type": "code",
   "execution_count": null,
   "id": "e46cb7dd-9bb0-4a1b-9c6c-e1300fedf066",
   "metadata": {},
   "outputs": [],
   "source": []
  },
  {
   "cell_type": "code",
   "execution_count": null,
   "id": "7cfaa0fd-fab3-4ff5-bebc-c1e16f712219",
   "metadata": {},
   "outputs": [],
   "source": []
  },
  {
   "cell_type": "code",
   "execution_count": null,
   "id": "191192a2-94e9-4934-969c-38dc7698ce41",
   "metadata": {},
   "outputs": [],
   "source": []
  },
  {
   "cell_type": "code",
   "execution_count": null,
   "id": "ae0fcd9f-1688-4a0e-9f2a-15861225ca7c",
   "metadata": {},
   "outputs": [],
   "source": []
  },
  {
   "cell_type": "code",
   "execution_count": null,
   "id": "aedd4525-3ea9-4341-b04f-b75612256c1b",
   "metadata": {},
   "outputs": [],
   "source": []
  },
  {
   "cell_type": "code",
   "execution_count": null,
   "id": "f5fb7e23-5d52-4ee1-8a19-59c6fa0644a3",
   "metadata": {},
   "outputs": [],
   "source": []
  },
  {
   "cell_type": "code",
   "execution_count": null,
   "id": "c354a4cf-eb3a-41b4-9b17-c9687cb5e66a",
   "metadata": {},
   "outputs": [],
   "source": []
  },
  {
   "cell_type": "code",
   "execution_count": null,
   "id": "39474605-7d2b-4c68-b660-d326f1a6a3cf",
   "metadata": {},
   "outputs": [],
   "source": []
  },
  {
   "cell_type": "code",
   "execution_count": null,
   "id": "774258c6-b8c9-4746-8ee3-6dd5b3aec1c0",
   "metadata": {},
   "outputs": [],
   "source": []
  },
  {
   "cell_type": "code",
   "execution_count": null,
   "id": "5a60e721-267c-4cb1-8de3-eaa3e5c77523",
   "metadata": {},
   "outputs": [],
   "source": []
  }
 ],
 "metadata": {
  "kernelspec": {
   "display_name": "Python 3 (ipykernel)",
   "language": "python",
   "name": "python3"
  },
  "language_info": {
   "codemirror_mode": {
    "name": "ipython",
    "version": 3
   },
   "file_extension": ".py",
   "mimetype": "text/x-python",
   "name": "python",
   "nbconvert_exporter": "python",
   "pygments_lexer": "ipython3",
   "version": "3.11.2"
  }
 },
 "nbformat": 4,
 "nbformat_minor": 5
}
