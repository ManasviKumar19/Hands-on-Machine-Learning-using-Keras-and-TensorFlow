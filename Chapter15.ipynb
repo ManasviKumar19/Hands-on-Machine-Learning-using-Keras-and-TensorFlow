{
 "cells": [
  {
   "cell_type": "markdown",
   "id": "3882ce44-45a4-42b9-8930-3463aee7c922",
   "metadata": {},
   "source": [
    "# Processing Sequences Using RNNs and CNNs"
   ]
  },
  {
   "cell_type": "markdown",
   "id": "f0d11690-461d-4999-a37a-d165a4921c36",
   "metadata": {},
   "source": [
    "In this chapter we will discuss recurrent neural networks (RNNs), a class of nets that can predict the future (well, up to a point, of course). "
   ]
  },
  {
   "cell_type": "markdown",
   "id": "63cb6cd9-2092-4865-977d-f4a5d5b17ed5",
   "metadata": {},
   "source": [
    "They can analyze time series data such as stock prices, and tell you when to buy or sell. In autonomous driving systems, they can anticipate car trajectories and help avoid accidents. More generally, they can work on sequences of arbitrary lengths, rather than on fixed-sized inputs like all the nets we have considered so far."
   ]
  },
  {
   "cell_type": "markdown",
   "id": "704121fb-51bf-4147-b116-46f2be478850",
   "metadata": {},
   "source": [
    "For example, they can take sentences, documents, or audio samples as input, making them extremely useful for natural language processing applications such as automatic translation or speech-to-text."
   ]
  },
  {
   "cell_type": "markdown",
   "id": "316f957e-e8fc-4c88-93bc-ddb8d108fa8f",
   "metadata": {},
   "source": [
    "## Important Definition Timestep\n",
    "\n",
    "1) In figure 15-7 of the book, the timestep is X(0), X(1), X(t-1), X(t) which means the network is unrolling through time from left to right. In figure it shows that the network goes from left to right while the input goes from bottom to top in the layers in RNN.\n",
    "2) For the Batch Normalization with RNNs block in Fighting the Unstable Gradients Problem, the first point that says \"Batch Normalization cannot be used as efficiently with RNNs as with deep feedforward nets. In fact, you cannot use it between time steps, only between recurrent layers.\" means that you cannot apply BN for the unrolling part that is between X(0) to X(t) but you can only apply for the input that goes from bottom to top in the layers in RNN."
   ]
  },
  {
   "cell_type": "code",
   "execution_count": 1,
   "id": "8b6b919c-650f-4fd5-a912-ee2c6875a10d",
   "metadata": {},
   "outputs": [
    {
     "name": "stdout",
     "output_type": "stream",
     "text": [
      "WARNING:tensorflow:From C:\\Python 3.11\\Lib\\site-packages\\keras\\src\\losses.py:2976: The name tf.losses.sparse_softmax_cross_entropy is deprecated. Please use tf.compat.v1.losses.sparse_softmax_cross_entropy instead.\n",
      "\n"
     ]
    }
   ],
   "source": [
    "import tensorflow as tf\n",
    "from tensorflow import keras"
   ]
  },
  {
   "cell_type": "markdown",
   "id": "651ac7c0-031d-4ae9-ba7e-6b4d581e1a8d",
   "metadata": {},
   "source": [
    "## Chapter Content"
   ]
  },
  {
   "cell_type": "markdown",
   "id": "cd519e6b-8788-42d0-a26b-a25e81923ddd",
   "metadata": {},
   "source": [
    "In this chapter we will first look at the fundamental concepts underlying RNNs and how to train them using backpropagation through time, then we will use them to forecast a time series. After that we’ll explore the two main difficulties that RNNs face:"
   ]
  },
  {
   "cell_type": "markdown",
   "id": "026a9169-046b-49d4-b597-c921fa3bb14b",
   "metadata": {},
   "source": [
    "1) Unstable gradients, which can be alleviated using various techniques, including recurrent dropout and recurrent layer normalization."
   ]
  },
  {
   "cell_type": "markdown",
   "id": "3f5cec60-85c0-441b-9e7d-e0667d614b44",
   "metadata": {},
   "source": [
    "2) A (very) limited short-term memory, which can be extended using LSTM and GRU cells."
   ]
  },
  {
   "cell_type": "code",
   "execution_count": null,
   "id": "15c09de0-6562-452d-8e08-fb0473aaa074",
   "metadata": {},
   "outputs": [],
   "source": []
  },
  {
   "cell_type": "markdown",
   "id": "0005a5bf-ef99-4786-b62a-fafc73255877",
   "metadata": {},
   "source": [
    "### RNNs vs CNNs"
   ]
  },
  {
   "cell_type": "markdown",
   "id": "de765a06-6edb-45f7-ab1f-89bf8e358a37",
   "metadata": {},
   "source": [
    "RNNs are not the only types of neural networks capable of handling sequential data: for small sequences, a regular dense network can do the trick; and for very long sequences, such as audio samples or text, convolutional neural networks can actually work quite well too. We will discuss both of these possibilities, and we will finish this chapter by implementing a WaveNet: this is a CNN architecture capable of handling sequences of tens of thousands of time steps."
   ]
  },
  {
   "cell_type": "code",
   "execution_count": null,
   "id": "75a695f7-5698-430b-a081-0655c6fbc31c",
   "metadata": {},
   "outputs": [],
   "source": []
  },
  {
   "cell_type": "markdown",
   "id": "d6b240fc-273a-4ee1-8d06-1011707f7fcd",
   "metadata": {},
   "source": [
    " ## Recurrent Neurons and Layers\n",
    " "
   ]
  },
  {
   "cell_type": "markdown",
   "id": "8bd7082b-4795-456f-bd81-0a1fade2ab64",
   "metadata": {},
   "source": [
    "Up to now we have focused on feedforward neural networks, where the activations flow only in one direction, from the input layer to the output layer. A recurrent neural network looks very much like a feedforward neural network, except it also has connections pointing backward."
   ]
  },
  {
   "cell_type": "markdown",
   "id": "6980f0aa-c90c-41f3-98db-7f75ca23d1a0",
   "metadata": {},
   "source": [
    "A recurrent neural network looks very much like a feedforward neural network, except it also has connections pointing backward."
   ]
  },
  {
   "cell_type": "markdown",
   "id": "9d66641f-8353-4fca-9161-e1f488bb2923",
   "metadata": {},
   "source": [
    "### RNN example"
   ]
  },
  {
   "cell_type": "markdown",
   "id": "e7c1d503-8bfa-4dc5-9bb7-df5c8569eca6",
   "metadata": {},
   "source": [
    "Let’s look at the simplest possible RNN, it is composed of one neuron receiving inputs, producing an output, and sending that output back to itself."
   ]
  },
  {
   "cell_type": "markdown",
   "id": "32d94fcc-0b6e-48ea-ad71-dc58711b7011",
   "metadata": {},
   "source": [
    "At each time step t (also called a frame), this recurrent neuron receives the inputs x(t) as well as its own output from the previous time step, y(t–1). Since there is no previous output at the first time step, it is generally set to 0. We can represent this tiny network against the time axis."
   ]
  },
  {
   "cell_type": "markdown",
   "id": "27fa036e-0238-42cd-9d10-b78604e03898",
   "metadata": {},
   "source": [
    "This is called unrolling the network through time (it’s the same recurrent neuron represented once per time step). See Fig 15-1 from book"
   ]
  },
  {
   "cell_type": "markdown",
   "id": "16bffe7d-1091-448c-9afe-01b84a182229",
   "metadata": {},
   "source": [
    "### Creating RNNs"
   ]
  },
  {
   "cell_type": "markdown",
   "id": "50c33dd3-be5f-4af8-93e8-26f8235618ed",
   "metadata": {},
   "source": [
    "You can easily create a layer of recurrent neurons. At each time step t, every neuron receives both the input vector x(t) and the output vector from the previous time step y(t–1). Note that both the inputs and outputs are vectors now (when there was just a single neuron, the output was a scalar). See Fig 15-2 from the book."
   ]
  },
  {
   "cell_type": "markdown",
   "id": "3fc24cf7-7517-4c44-a3ce-8c8fc4eab1d0",
   "metadata": {},
   "source": [
    "### Weights and Equations of RNNs"
   ]
  },
  {
   "cell_type": "markdown",
   "id": "d6eebe32-1459-4ff8-95ef-3cab0753a8a6",
   "metadata": {},
   "source": [
    "Each recurrent neuron has two sets of weights: one for the inputs x(t) and the other for the outputs of the previous time step, y(t–1). Let’s call these weight vectors wx and wy."
   ]
  },
  {
   "cell_type": "markdown",
   "id": "fd448756-08d2-4b66-bd4a-b552d3e0cd59",
   "metadata": {},
   "source": [
    "If we consider the whole recurrent layer instead of just one recurrent neuron, we can place all the weight vectors in two weight matrices, Wx and Wy."
   ]
  },
  {
   "cell_type": "markdown",
   "id": "c3941ce3-4e7f-4b59-8955-5650398191cb",
   "metadata": {},
   "source": [
    "The output vector of the whole recurrent layer can then be computed pretty much as you might expect, as shown.(b is the bias vector and ϕ(·) is the activation function (e.g., ReLU))"
   ]
  },
  {
   "cell_type": "markdown",
   "id": "8dcd9e59-ff3c-4997-9142-4666ae23fb82",
   "metadata": {},
   "source": [
    "$$\r\n",
    "y_t = \\phi(W_x \\cdot x_t + W_y \\cdot y_{t-1} + b)\r\n",
    "$$\r\n"
   ]
  },
  {
   "cell_type": "markdown",
   "id": "b061d1e6-3efe-4981-897d-2b2c7f56c562",
   "metadata": {},
   "source": [
    "Just as with feedforward neural networks, we can compute a recurrent layer’s output in one shot for a whole mini-batch by placing all the inputs at time step t in an input matrix X(t)."
   ]
  },
  {
   "cell_type": "markdown",
   "id": "a201687c-51b5-44a2-984d-738263444fab",
   "metadata": {},
   "source": [
    "$$\r",
    "y_t = \n",
    "\\phi\\left(\\begin{bmatrix} X_t & Y_{t-1} \\end{bmatrix} W + b\\right), \\quad \\text{where} \\quad W = \\begin{bmatrix} W_x \\\\ W_y \\end{bmatrix}\r\n",
    "$$\r\n"
   ]
  },
  {
   "cell_type": "markdown",
   "id": "99ec9864-7919-4588-a149-9ced90ea9205",
   "metadata": {},
   "source": [
    "#### Equation terms explanation"
   ]
  },
  {
   "cell_type": "markdown",
   "id": "317f818b-4188-450e-8a0f-7cb08e7d55ff",
   "metadata": {},
   "source": [
    "In this equation:"
   ]
  },
  {
   "cell_type": "markdown",
   "id": "a03f99e9-6ab9-4eed-b25d-c77dffcd464c",
   "metadata": {},
   "source": [
    "1) Y(t):- Is an m × n_neurons matrix containing the layer’s outputs at time step t for each instance in the mini-batch (m is the number of instances in the mini-batch and n_neurons is the number of neurons)."
   ]
  },
  {
   "cell_type": "markdown",
   "id": "a82181a6-00d5-4d9e-b282-b091c6a5075f",
   "metadata": {},
   "source": [
    "2) X(t) :- Is an m × n_inputs matrix containing the inputs for all instances (n_inputs is the number of input features)."
   ]
  },
  {
   "cell_type": "markdown",
   "id": "0c3706ef-7f60-4d13-a0d4-3997ed6df74c",
   "metadata": {},
   "source": [
    "3. Wx :- Is an n_inputs × n_neurons matrix containing the connection weights for the inputs of the current time step."
   ]
  },
  {
   "cell_type": "markdown",
   "id": "0db03ad4-aa09-4b9b-a9dd-2ca8e8999c1b",
   "metadata": {},
   "source": [
    "4. Wy :- Is an nneurons × nneurons matrix containing the connection weights for the outputs of the previous time step."
   ]
  },
  {
   "cell_type": "markdown",
   "id": "aca36de3-5aa2-41a1-b425-b6eb2ccd7d1f",
   "metadata": {},
   "source": [
    "5. b is a vector of size n_neurons containing each neuron’s bias term."
   ]
  },
  {
   "cell_type": "markdown",
   "id": "f512104a-6574-4572-ad3b-1e59e5da84b3",
   "metadata": {},
   "source": [
    "6. The weight matrices Wx and Wy are often concatenated vertically into a single weight matrix W of shape (n_inputs + n_neurons) × n_neurons."
   ]
  },
  {
   "cell_type": "markdown",
   "id": "b68dc394-9970-4797-a06f-af389c8ab536",
   "metadata": {},
   "source": [
    "7. The notation [X(t) Y(t–1)] represents the horizontal concatenation of the matrices X(t) and Y(t–1)."
   ]
  },
  {
   "cell_type": "markdown",
   "id": "f679af06-5300-471b-b9d8-b7ede7b03f60",
   "metadata": {},
   "source": [
    "#### Y(t)\n",
    "Notice that Y(t), that is the current output is a function of X(t) and Y(t–1), which is a function of X(t–1) and Y(t–2), which is a function of X(t–2) and Y(t–3), and so on. This makes Y(t) a function of all the inputs since time t = 0 (that is, X(0), X(1), …, X(t) ). At the first time step, t = 0, there are no previous outputs, so they are typically assumed to be all zeros."
   ]
  },
  {
   "cell_type": "code",
   "execution_count": null,
   "id": "8de979a2-42ac-4c0a-890a-4ebc2729790a",
   "metadata": {},
   "outputs": [],
   "source": []
  },
  {
   "cell_type": "code",
   "execution_count": null,
   "id": "6ca3ef54-072e-45f8-b653-7859fdf7cdae",
   "metadata": {},
   "outputs": [],
   "source": []
  },
  {
   "cell_type": "markdown",
   "id": "7da59bfb-33e3-4516-98bb-7bf796f68f1c",
   "metadata": {},
   "source": [
    "## Memory Cells"
   ]
  },
  {
   "cell_type": "markdown",
   "id": "ef1c5b15-feb7-4f93-afa5-2f5f7112b5e5",
   "metadata": {},
   "source": [
    "Since the output of a recurrent neuron at time step t is a function of all the inputs from previous time steps, you could say it has a form of memory. A part of a neural network that preserves some state across time steps is called a memory cell (or simply a cell)."
   ]
  },
  {
   "cell_type": "markdown",
   "id": "d2c7e131-c719-45b0-aae7-ca4443ac9766",
   "metadata": {},
   "source": [
    "A single recurrent neuron, or a layer of recurrent neurons, is a very basic cell, capable of learning only short patterns (typically about 10 steps long, but this varies depending on the task)."
   ]
  },
  {
   "cell_type": "markdown",
   "id": "2ec0108d-71da-44f5-a8e6-371bbabdde83",
   "metadata": {},
   "source": [
    "### Cell's state"
   ]
  },
  {
   "cell_type": "markdown",
   "id": "cb87c568-1275-4faa-85de-1b56d6cbec07",
   "metadata": {},
   "source": [
    "In general a cell’s state at time step t, denoted h(t) (the “h” stands for “hidden”), is a function of some inputs at that time step and its state at the previous time step: h(t) = f(h(t–1), x(t))."
   ]
  },
  {
   "cell_type": "markdown",
   "id": "7f0cb53a-4a22-49a0-ad50-f859e5e0917e",
   "metadata": {},
   "source": [
    "Its output at time step t, denoted y(t) , is also a function of the previous state and the current inputsf(h(t–1), x(t)). In the case of the basic cells we have discussed so far, the output is simply equal to the state, but in more complex cells this is not always the case. See fig-15-3 in the right side, the hidden state h(0) of neuron x(0) is given as the hidden state for neuron x(1). Hence here the hidden state of neuron x(1) becomes h(0), however, the output computed by x(1) is y(1)."
   ]
  },
  {
   "cell_type": "code",
   "execution_count": null,
   "id": "150d0c7c-177e-4473-b21a-d56365949ccd",
   "metadata": {},
   "outputs": [],
   "source": []
  },
  {
   "cell_type": "code",
   "execution_count": null,
   "id": "f09c9443-44b1-457a-8d7e-5dd6df158f16",
   "metadata": {},
   "outputs": [],
   "source": []
  },
  {
   "cell_type": "markdown",
   "id": "01017a6b-e01c-470a-9ca5-d489bac614ae",
   "metadata": {},
   "source": [
    "## Input and Output Sequences"
   ]
  },
  {
   "cell_type": "markdown",
   "id": "147dbadf-a067-410a-84a9-4430f3b8a7a3",
   "metadata": {},
   "source": [
    "### Sequence-to-Sequence"
   ]
  },
  {
   "cell_type": "markdown",
   "id": "0cd71901-e20d-4bbb-b0f7-af0eb89425f2",
   "metadata": {},
   "source": [
    "An RNN can simultaneously take a sequence of inputs and produce a sequence of outputs (see the top-left network in Figure 15-4). This type of sequence-to-sequence network is useful for predicting time series such as stock prices: you feed it the prices over the last N days, and it must output the prices shifted by one day into the future (i.e., from N – 1 days ago to tomorrow)."
   ]
  },
  {
   "cell_type": "markdown",
   "id": "3e83c434-c016-4010-a292-9fe246585911",
   "metadata": {},
   "source": [
    "### Sequence-to-Vector network"
   ]
  },
  {
   "cell_type": "markdown",
   "id": "b13d0e45-4c52-4bb0-8753-16c01282ba90",
   "metadata": {},
   "source": [
    "Alternatively, you could feed the network a sequence of inputs and ignore all outputs except for the last one (see the top-right network in Figure 15-4). In other words, this is a sequence-to-vector network. For example, you could feed the network a sequence of words corresponding to a movie review, and the network would output a sentiment score (e.g., from –1 [hate] to +1 [love])."
   ]
  },
  {
   "cell_type": "markdown",
   "id": "9c87c001-006c-494c-baae-fde9cac7f488",
   "metadata": {},
   "source": [
    "### Vector-to-Sequence network\n",
    "Conversely, you could feed the network the same input vector over and over again at each time step and let it output a sequence (see the bottom-left network of Figure 15-4). This is a vector-to-sequence network. For example, the input could be an image (or the output of a CNN), and the output could be a caption for that image."
   ]
  },
  {
   "cell_type": "markdown",
   "id": "5429b481-1acd-478a-8ff4-05c481d2c6b5",
   "metadata": {},
   "source": [
    "### Encoder Decoder\n",
    "Lastly, you could have a sequence-to-vector network, called an encoder, followed by a vector-to-sequence network, called a decoder (see the bottom-right network of Figure 15-4). For example, this could be used for translating a sentence from one language to another. You would feed the network a sentence in one language, the encoder would convert this sentence into a single vector representation, and then the decoder would decode this vector into a sentence in another language. This two-step model, called an Encoder–Decoder, works much better than trying to translate on the fly with a single sequence-to-sequence RNN (like the one represented at the top left): the last words of a sentence can affect the first words of the translation, so you need to wait until you have seen the whole sentence before translating it."
   ]
  },
  {
   "cell_type": "code",
   "execution_count": null,
   "id": "96dadee4-1811-4cc9-bf0e-e75f1a5c0e3b",
   "metadata": {},
   "outputs": [],
   "source": []
  },
  {
   "cell_type": "markdown",
   "id": "221b6e7d-9804-46dc-a77c-3dc5e9a11e98",
   "metadata": {},
   "source": [
    "## Training RNNs"
   ]
  },
  {
   "cell_type": "markdown",
   "id": "6a1dd2c9-1865-4c70-9cde-8c87e8b91a2a",
   "metadata": {},
   "source": [
    "### Backpropagation through time (BPTT)"
   ]
  },
  {
   "cell_type": "markdown",
   "id": "6585021e-6548-40ed-99f9-aa43f6c9c3a5",
   "metadata": {},
   "source": [
    "To train an RNN, the trick is to unroll it through time (like we just did) and then simply use regular backpropagation. This strategy is called backpropagation through time (BPTT)."
   ]
  },
  {
   "cell_type": "markdown",
   "id": "818a3b9a-dfc6-45cc-976d-08d1bfedfb1f",
   "metadata": {},
   "source": [
    "### Training process"
   ]
  },
  {
   "cell_type": "markdown",
   "id": "65c91f89-7489-4f3c-804a-41c3896920f2",
   "metadata": {},
   "source": [
    "Just like in regular backpropagation, there is a first forward pass through the unrolled network (represented by the dashed arrows). Then the output sequence is evaluated using a cost function C(Y(0), Y(1), …Y(T) ) (where T is the max time step). Note that this cost function may ignore some outputs, as shown in Figure 15-5 (for example, in a sequence-to-vector RNN, all outputs are ignored except for the very last one)."
   ]
  },
  {
   "cell_type": "markdown",
   "id": "f3e27635-c1db-4007-9dec-b1ee1eef7731",
   "metadata": {},
   "source": [
    "The gradients of that cost function are then propagated backward through the unrolled network (represented by the solid arrows). Finally the model parameters are updated using the gradients computed during BPTT(Note, here BPTT is very similar to normal BP, only difference is that for each error and weight matrix, we also have the historical data, like how Y(current) is the function of previous state and current input) so when BPTT we are updating based on all the timesteps now and not just current)."
   ]
  },
  {
   "cell_type": "markdown",
   "id": "b1f99a8f-47b2-4c72-b30b-c50a77c27567",
   "metadata": {},
   "source": [
    "Note that the gradients flow backward through only the outputs that were used by the cost function, not just through the final output (for example, in Figure 15-5 the cost function is computed using the last three outputs of the network, Y(2), Y(3), and Y(4), so gradients flow through these three outputs, but not through Y(0) and Y(1)). "
   ]
  },
  {
   "cell_type": "markdown",
   "id": "6808deec-1efc-4d11-8fe7-4e73ed3f5ca7",
   "metadata": {},
   "source": [
    "Moreover, since the same parameters W and b are used at each time step, backpropagation through time will do the right thing and sum over all time steps."
   ]
  },
  {
   "cell_type": "code",
   "execution_count": null,
   "id": "bbdc2424-36ff-4a80-bce9-7e9a68388528",
   "metadata": {},
   "outputs": [],
   "source": []
  },
  {
   "cell_type": "code",
   "execution_count": null,
   "id": "e0b69c19-8765-419c-b7a1-b88ea3c1f9c5",
   "metadata": {},
   "outputs": [],
   "source": []
  },
  {
   "cell_type": "markdown",
   "id": "af8dd293-7382-4444-abde-9005135a870c",
   "metadata": {},
   "source": [
    "## Forecasting a Time Series"
   ]
  },
  {
   "cell_type": "markdown",
   "id": "1f5897bd-2954-4b5d-a73d-8ef39100e5eb",
   "metadata": {},
   "source": [
    "Suppose you are studying the number of active users per hour on your website, or the daily temperature in your city, or your company’s financial health, measured quarterly using multiple metrics. In all these cases, the data will be a sequence of one or more values per time step."
   ]
  },
  {
   "cell_type": "markdown",
   "id": "2955fe4d-6e0d-4406-a020-d82d84cf2801",
   "metadata": {},
   "source": [
    "This is called a time series. In the first two examples there is a single value per time step, so these are univariate time series, while in the financial example there are multiple values per time step (e.g., the company’s revenue, debt, and so on), so it is a multivariate time series."
   ]
  },
  {
   "cell_type": "markdown",
   "id": "ab4334f3-4663-44cf-afc5-eba6127d460f",
   "metadata": {},
   "source": [
    "#### Forecasting and Postdict"
   ]
  },
  {
   "cell_type": "markdown",
   "id": "99514056-e906-4966-892b-499aedb77d2d",
   "metadata": {},
   "source": [
    "A typical task is to predict future values, which is called forecasting. Another common task is to fill in the blanks: to predict (or rather “postdict”) missing values from the past.This is called $imputation$."
   ]
  },
  {
   "cell_type": "markdown",
   "id": "6319669f-1cc2-47cb-97e7-82abb6726ce1",
   "metadata": {},
   "source": [
    "For example, Figure 15-6 shows 3 univariate time series, each of them 50 time steps long, and the goal here is to forecast the value at the next time step (represented by the X) for each of them."
   ]
  },
  {
   "cell_type": "markdown",
   "id": "ecfb18dc-6d3b-4129-b98b-7da716723317",
   "metadata": {},
   "source": [
    "### Generating Time Series"
   ]
  },
  {
   "cell_type": "markdown",
   "id": "1c8a9550-cc36-408d-bea5-8ad8e14ba9b1",
   "metadata": {},
   "source": [
    "For simplicity, we are using a time series generated by the generate_time_series() function, shown here:"
   ]
  },
  {
   "cell_type": "code",
   "execution_count": 2,
   "id": "8c4de8fc-ce94-403f-8677-dd1539ab7e08",
   "metadata": {},
   "outputs": [],
   "source": [
    "import numpy as np\n",
    "\n"
   ]
  },
  {
   "cell_type": "code",
   "execution_count": 3,
   "id": "0e20e6cf-a716-45e5-8bd8-e0279acbc511",
   "metadata": {},
   "outputs": [
    {
     "data": {
      "text/plain": [
       "Ellipsis"
      ]
     },
     "execution_count": 3,
     "metadata": {},
     "output_type": "execute_result"
    }
   ],
   "source": [
    "..."
   ]
  },
  {
   "cell_type": "code",
   "execution_count": 4,
   "id": "7c5c5372-793b-4c20-8d80-0290b08bb028",
   "metadata": {},
   "outputs": [],
   "source": [
    "def generate_time_series(batch_size, n_steps):\n",
    "    freq1, freq2, offsets1, offsets2 = np.random.rand(4, batch_size, 1)\n",
    "    time = np.linspace(0, 1, n_steps)\n",
    "    series = 0.5 * np.sin((time - offsets1) * (freq1 * 10 + 10)) # wave 1\n",
    "    series += 0.2 * np.sin((time - offsets2) * (freq2 * 20 + 20)) # + wave 2\n",
    "    series += 0.1 * (np.random.rand(batch_size, n_steps) - 0.5) # + noise\n",
    "    return series[..., np.newaxis].astype(np.float32)"
   ]
  },
  {
   "cell_type": "markdown",
   "id": "4c5fbf88-c76d-4c46-b804-b92f779e5bac",
   "metadata": {},
   "source": [
    "#### generate_time_series function "
   ]
  },
  {
   "cell_type": "markdown",
   "id": "8ca6823d-b7ab-4b42-90c1-0e14c7db105f",
   "metadata": {},
   "source": [
    "This function creates as many time series as requested (via the batch_size argument), each of length n_steps, and there is just one value per time step in each series (i.e., all series are univariate). The function returns a NumPy array of shape [batch size, time steps, 1], where each series is the sum of two sine waves of fixed amplitudes but random frequencies and phases, plus a bit of noise."
   ]
  },
  {
   "cell_type": "markdown",
   "id": "e1fc3cbe-fe72-4841-869d-4dfeee241c44",
   "metadata": {},
   "source": [
    "### Note about dimension of time series"
   ]
  },
  {
   "cell_type": "markdown",
   "id": "8a7c6eb4-aee0-4676-9053-9221d329b6be",
   "metadata": {},
   "source": [
    "When dealing with time series (and other types of sequences such as sentences), the input features are generally represented as 3D arrays of shape [batch size, time steps, dimensionality], where dimensionality is 1 for univariate time series and more for multivariate time series."
   ]
  },
  {
   "cell_type": "markdown",
   "id": "265433cd-0bb1-4beb-a919-72b4ab36528a",
   "metadata": {},
   "source": [
    "### Creating the Training and Testing Data"
   ]
  },
  {
   "cell_type": "markdown",
   "id": "6205ccd8-91e2-4b29-ab9d-4c22dd816ad1",
   "metadata": {},
   "source": [
    "Now let’s create a training set, a validation set, and a test set using this function:\r"
   ]
  },
  {
   "cell_type": "code",
   "execution_count": 5,
   "id": "b81935c9-c493-4ea9-87b9-51c236a1c51b",
   "metadata": {},
   "outputs": [],
   "source": [
    "n_steps = 50\n",
    "series = generate_time_series(10000, n_steps + 1)\n",
    "X_train, y_train = series[:7000, :n_steps], series[:7000, -1]\n",
    "X_valid, y_valid = series[7000:9000, :n_steps], series[7000:9000, -1]\n",
    "X_test, y_test = series[9000:, :n_steps], series[9000:, -1]"
   ]
  },
  {
   "cell_type": "code",
   "execution_count": 6,
   "id": "0449e512-597b-4460-b0dd-536bca834392",
   "metadata": {},
   "outputs": [
    {
     "data": {
      "text/plain": [
       "(7000, 50, 1)"
      ]
     },
     "execution_count": 6,
     "metadata": {},
     "output_type": "execute_result"
    }
   ],
   "source": [
    "X_train.shape # We have 7000 time series, each with 50 timesteps or 50 values"
   ]
  },
  {
   "cell_type": "code",
   "execution_count": 7,
   "id": "ca02658e-9c9d-475e-9ccd-bf94ac8d6a41",
   "metadata": {},
   "outputs": [
    {
     "data": {
      "text/plain": [
       "(50, 1)"
      ]
     },
     "execution_count": 7,
     "metadata": {},
     "output_type": "execute_result"
    }
   ],
   "source": [
    "X_train[0].shape"
   ]
  },
  {
   "cell_type": "code",
   "execution_count": 8,
   "id": "6ee1c789-20a4-4ec9-8b24-9f044ccb4254",
   "metadata": {},
   "outputs": [
    {
     "data": {
      "text/plain": [
       "(7000, 1)"
      ]
     },
     "execution_count": 8,
     "metadata": {},
     "output_type": "execute_result"
    }
   ],
   "source": [
    "y_train.shape"
   ]
  },
  {
   "cell_type": "markdown",
   "id": "426bee96-f931-4c39-9642-5e0bde6e1ea3",
   "metadata": {},
   "source": [
    "#### Code explanation"
   ]
  },
  {
   "cell_type": "markdown",
   "id": "dfb0aea7-bd12-41d2-80d0-c6d7b66c2be8",
   "metadata": {},
   "source": [
    "X_train contains 7,000 time series (i.e., its shape is [7000, 50, 1]), while X_valid contains 2,000 (from the 7,000th time series to the 8,999th) and X_test contains 1,000 (from the 9,000th to the 9,999th). Since we want to forecast a single value for each series, the targets are column vectors (e.g., y_train has a shape of [7000, 1])."
   ]
  },
  {
   "cell_type": "code",
   "execution_count": null,
   "id": "9e247701-43d6-4b17-8b69-9cc5ea0922db",
   "metadata": {},
   "outputs": [],
   "source": []
  },
  {
   "cell_type": "markdown",
   "id": "49eb6562-c680-4f4a-9c83-95796a84cb10",
   "metadata": {},
   "source": [
    "## Baseline Metrics"
   ]
  },
  {
   "cell_type": "markdown",
   "id": "629980ff-61ac-4ad6-968b-0c0bc5bc1ce7",
   "metadata": {},
   "source": [
    "Before we start using RNNs, it is often a good idea to have a few baseline metrics, or else we may end up thinking our model works great when in fact it is doing worse than basic models. For example, the simplest approach is to predict the last value in each series. This is called naive forecasting, and it is sometimes surprisingly difficult to outperform. In this case, it gives us a mean squared error of about 0.020:"
   ]
  },
  {
   "cell_type": "code",
   "execution_count": 9,
   "id": "975530f8-1211-4fd5-ab08-b49718577d1f",
   "metadata": {},
   "outputs": [
    {
     "data": {
      "text/plain": [
       "0.02010869"
      ]
     },
     "execution_count": 9,
     "metadata": {},
     "output_type": "execute_result"
    }
   ],
   "source": [
    "y_pred = X_valid[:, -1]\n",
    "np.mean(keras.losses.mean_squared_error(y_valid, y_pred))"
   ]
  },
  {
   "cell_type": "code",
   "execution_count": 10,
   "id": "fac87843-e1b7-4589-b52d-c681fa107437",
   "metadata": {},
   "outputs": [
    {
     "name": "stdout",
     "output_type": "stream",
     "text": [
      "(2000, 50, 1)\n"
     ]
    },
    {
     "data": {
      "text/plain": [
       "(2000, 1)"
      ]
     },
     "execution_count": 10,
     "metadata": {},
     "output_type": "execute_result"
    }
   ],
   "source": [
    "print(X_valid.shape)\n",
    "X_valid[:, -1].shape"
   ]
  },
  {
   "cell_type": "code",
   "execution_count": 11,
   "id": "ab68ef61-e395-41a1-a601-e3e129338e93",
   "metadata": {},
   "outputs": [
    {
     "data": {
      "text/plain": [
       "array([[ 0.06317361],\n",
       "       [ 0.53231114],\n",
       "       [-0.17881976],\n",
       "       ...,\n",
       "       [-0.46301198],\n",
       "       [ 0.32124105],\n",
       "       [-0.5564701 ]], dtype=float32)"
      ]
     },
     "execution_count": 11,
     "metadata": {},
     "output_type": "execute_result"
    }
   ],
   "source": [
    "X_valid[:, -1]"
   ]
  },
  {
   "cell_type": "code",
   "execution_count": 12,
   "id": "fb40e30a-8894-4c1d-a306-a076cb3f2f8c",
   "metadata": {},
   "outputs": [
    {
     "name": "stdout",
     "output_type": "stream",
     "text": [
      "[0.06317361]\n",
      "[0.53231114]\n",
      "[-0.17881976]\n",
      "[-0.46301198]\n",
      "[0.32124105]\n",
      "[-0.5564701]\n"
     ]
    }
   ],
   "source": [
    "print(X_valid[0][-1])\n",
    "print(X_valid[1][-1])\n",
    "print(X_valid[2][-1])\n",
    "print(X_valid[1997][-1])\n",
    "print(X_valid[1998][-1])\n",
    "print(X_valid[1999][-1])"
   ]
  },
  {
   "cell_type": "markdown",
   "id": "e599b421-023b-4911-8dd7-55e7f03ee90c",
   "metadata": {},
   "source": [
    "#### Explanation of slicing in  X_valid[:, -1]"
   ]
  },
  {
   "cell_type": "markdown",
   "id": "2a1608a1-d147-45d1-b944-b677c5a2186c",
   "metadata": {},
   "source": [
    "So here in X_valid, we have 2000 time series, each with 50 values or 50 timesteps, now when we do X_valid[:, -1], what we're doing is that we select the last value from the 50 values for each of the 2000 timeseries. This can be verified by checking the above two blocks"
   ]
  },
  {
   "cell_type": "markdown",
   "id": "64411638-2673-434e-8a2f-503f37f00260",
   "metadata": {},
   "source": [
    "### Baseling using Fully connected layer"
   ]
  },
  {
   "cell_type": "markdown",
   "id": "32b8dc9b-77e1-4153-b62d-303a81b47b29",
   "metadata": {},
   "source": [
    "Another simple approach is to use a fully connected network. Since it expects a flat\r\n",
    "list of features for each input, we need to add a Flatten layer. Let’s just use a simple\r\n",
    "Linear Regression model so that each prediction will be a linear combination of the\r\n",
    "values in the time series:"
   ]
  },
  {
   "cell_type": "code",
   "execution_count": 13,
   "id": "c75e8754-11ab-4076-bf4a-08583f62939d",
   "metadata": {},
   "outputs": [
    {
     "name": "stdout",
     "output_type": "stream",
     "text": [
      "WARNING:tensorflow:From C:\\Python 3.11\\Lib\\site-packages\\keras\\src\\backend.py:873: The name tf.get_default_graph is deprecated. Please use tf.compat.v1.get_default_graph instead.\n",
      "\n"
     ]
    }
   ],
   "source": [
    "model = keras.models.Sequential([\n",
    " keras.layers.Flatten(input_shape=[50, 1]),\n",
    " keras.layers.Dense(1)\n",
    "])"
   ]
  },
  {
   "cell_type": "code",
   "execution_count": 14,
   "id": "bdc927e7-ebb5-4f71-acac-3ff61f2dff74",
   "metadata": {},
   "outputs": [
    {
     "name": "stdout",
     "output_type": "stream",
     "text": [
      "WARNING:tensorflow:From C:\\Python 3.11\\Lib\\site-packages\\keras\\src\\optimizers\\__init__.py:309: The name tf.train.Optimizer is deprecated. Please use tf.compat.v1.train.Optimizer instead.\n",
      "\n",
      "Epoch 1/20\n",
      "WARNING:tensorflow:From C:\\Python 3.11\\Lib\\site-packages\\keras\\src\\utils\\tf_utils.py:492: The name tf.ragged.RaggedTensorValue is deprecated. Please use tf.compat.v1.ragged.RaggedTensorValue instead.\n",
      "\n",
      "219/219 [==============================] - 1s 3ms/step - loss: 0.1222 - val_loss: 0.0562\n",
      "Epoch 2/20\n",
      "219/219 [==============================] - 0s 2ms/step - loss: 0.0387 - val_loss: 0.0243\n",
      "Epoch 3/20\n",
      "219/219 [==============================] - 0s 2ms/step - loss: 0.0195 - val_loss: 0.0146\n",
      "Epoch 4/20\n",
      "219/219 [==============================] - 0s 2ms/step - loss: 0.0125 - val_loss: 0.0105\n",
      "Epoch 5/20\n",
      "219/219 [==============================] - 0s 2ms/step - loss: 0.0095 - val_loss: 0.0086\n",
      "Epoch 6/20\n",
      "219/219 [==============================] - 0s 2ms/step - loss: 0.0079 - val_loss: 0.0075\n",
      "Epoch 7/20\n",
      "219/219 [==============================] - 0s 2ms/step - loss: 0.0069 - val_loss: 0.0066\n",
      "Epoch 8/20\n",
      "219/219 [==============================] - 1s 2ms/step - loss: 0.0061 - val_loss: 0.0058\n",
      "Epoch 9/20\n",
      "219/219 [==============================] - 0s 2ms/step - loss: 0.0055 - val_loss: 0.0054\n",
      "Epoch 10/20\n",
      "219/219 [==============================] - 1s 2ms/step - loss: 0.0051 - val_loss: 0.0049\n",
      "Epoch 11/20\n",
      "219/219 [==============================] - 0s 2ms/step - loss: 0.0047 - val_loss: 0.0046\n",
      "Epoch 12/20\n",
      "219/219 [==============================] - 0s 2ms/step - loss: 0.0045 - val_loss: 0.0044\n",
      "Epoch 13/20\n",
      "219/219 [==============================] - 0s 2ms/step - loss: 0.0043 - val_loss: 0.0041\n",
      "Epoch 14/20\n",
      "219/219 [==============================] - 0s 2ms/step - loss: 0.0041 - val_loss: 0.0040\n",
      "Epoch 15/20\n",
      "219/219 [==============================] - 1s 2ms/step - loss: 0.0040 - val_loss: 0.0039\n",
      "Epoch 16/20\n",
      "219/219 [==============================] - 0s 2ms/step - loss: 0.0039 - val_loss: 0.0038\n",
      "Epoch 17/20\n",
      "219/219 [==============================] - 0s 2ms/step - loss: 0.0039 - val_loss: 0.0037\n",
      "Epoch 18/20\n",
      "219/219 [==============================] - 0s 2ms/step - loss: 0.0038 - val_loss: 0.0036\n",
      "Epoch 19/20\n",
      "219/219 [==============================] - 0s 2ms/step - loss: 0.0037 - val_loss: 0.0036\n",
      "Epoch 20/20\n",
      "219/219 [==============================] - 0s 2ms/step - loss: 0.0037 - val_loss: 0.0037\n"
     ]
    }
   ],
   "source": [
    "model.compile(loss=\"mse\", optimizer=\"adam\")\n",
    "history = model.fit(X_train, y_train, epochs=20,validation_data=(X_valid, y_valid))"
   ]
  },
  {
   "cell_type": "markdown",
   "id": "c2530231-410e-4850-bb0b-9bab425fed5d",
   "metadata": {},
   "source": [
    "If we compile this model using the MSE loss and the default Adam optimizer, then fit it on the training set for 20 epochs and evaluate it on the validation set, we get an MSE of about 0.0037. That’s much better than the naive approach!"
   ]
  },
  {
   "cell_type": "code",
   "execution_count": 15,
   "id": "ea1db69e-383d-4bd7-8562-f3c8732bd6aa",
   "metadata": {},
   "outputs": [
    {
     "name": "stdout",
     "output_type": "stream",
     "text": [
      "32/32 [==============================] - 0s 2ms/step - loss: 0.0036\n"
     ]
    },
    {
     "data": {
      "text/plain": [
       "0.003617848502472043"
      ]
     },
     "execution_count": 15,
     "metadata": {},
     "output_type": "execute_result"
    }
   ],
   "source": [
    "model.evaluate(X_test, y_test)"
   ]
  },
  {
   "cell_type": "code",
   "execution_count": 16,
   "id": "a3e1d99e-a253-4543-a99f-c523b514e3d9",
   "metadata": {},
   "outputs": [],
   "source": [
    "import matplotlib as mpl\n",
    "import matplotlib.pyplot as plt"
   ]
  },
  {
   "cell_type": "code",
   "execution_count": 17,
   "id": "3c03fbe1-f6e6-4b0a-b2cc-5bfebbd75aeb",
   "metadata": {},
   "outputs": [
    {
     "data": {
      "image/png": "[encoded data removed]",
      "text/plain": [
       "<Figure size 640x480 with 1 Axes>"
      ]
     },
     "metadata": {},
     "output_type": "display_data"
    }
   ],
   "source": [
    "def plot_learning_curves(loss, val_loss):\n",
    "    plt.plot(np.arange(len(loss)) + 0.5, loss, \"b.-\", label=\"Training loss\")\n",
    "    plt.plot(np.arange(len(val_loss)) + 1, val_loss, \"r.-\", label=\"Validation loss\")\n",
    "    plt.gca().xaxis.set_major_locator(mpl.ticker.MaxNLocator(integer=True))\n",
    "    plt.axis([1, 20, 0, 0.05])\n",
    "    plt.legend(fontsize=14)\n",
    "    plt.xlabel(\"Epochs\")\n",
    "    plt.ylabel(\"Loss\")\n",
    "    plt.grid(True)\n",
    "\n",
    "plot_learning_curves(history.history[\"loss\"], history.history[\"val_loss\"])\n",
    "plt.show()"
   ]
  },
  {
   "cell_type": "code",
   "execution_count": null,
   "id": "6236981d-e4b8-475b-a196-4ed79af0729e",
   "metadata": {},
   "outputs": [],
   "source": []
  },
  {
   "cell_type": "code",
   "execution_count": null,
   "id": "b776f529-2474-453b-a345-a8b4d338bae3",
   "metadata": {},
   "outputs": [],
   "source": []
  },
  {
   "cell_type": "markdown",
   "id": "e198ecb9-4e52-4173-9b73-061a87b3a93b",
   "metadata": {},
   "source": [
    "## Implementing a Simple RNN"
   ]
  },
  {
   "cell_type": "markdown",
   "id": "06632fdf-44ba-4659-9a26-9171043bfcfb",
   "metadata": {},
   "source": [
    "Let’s see if we can beat that with a simple RNN:"
   ]
  },
  {
   "cell_type": "code",
   "execution_count": 18,
   "id": "2221f0c2-2d9d-45a3-ae5d-d037121f2b42",
   "metadata": {},
   "outputs": [
    {
     "name": "stdout",
     "output_type": "stream",
     "text": [
      "Epoch 1/20\n",
      "219/219 [==============================] - 2s 8ms/step - loss: 0.4950 - val_loss: 0.2782\n",
      "Epoch 2/20\n",
      "219/219 [==============================] - 2s 7ms/step - loss: 0.1914 - val_loss: 0.1504\n",
      "Epoch 3/20\n",
      "219/219 [==============================] - 2s 8ms/step - loss: 0.1483 - val_loss: 0.1540\n",
      "Epoch 4/20\n",
      "219/219 [==============================] - 2s 7ms/step - loss: 0.1472 - val_loss: 0.1463\n",
      "Epoch 5/20\n",
      "219/219 [==============================] - 2s 8ms/step - loss: 0.1457 - val_loss: 0.1464\n",
      "Epoch 6/20\n",
      "219/219 [==============================] - 2s 8ms/step - loss: 0.1458 - val_loss: 0.1345\n",
      "Epoch 7/20\n",
      "219/219 [==============================] - 2s 7ms/step - loss: 0.0839 - val_loss: 0.0544\n",
      "Epoch 8/20\n",
      "219/219 [==============================] - 2s 7ms/step - loss: 0.0435 - val_loss: 0.0362\n",
      "Epoch 9/20\n",
      "219/219 [==============================] - 2s 7ms/step - loss: 0.0318 - val_loss: 0.0282\n",
      "Epoch 10/20\n",
      "219/219 [==============================] - 2s 7ms/step - loss: 0.0258 - val_loss: 0.0235\n",
      "Epoch 11/20\n",
      "219/219 [==============================] - 2s 9ms/step - loss: 0.0220 - val_loss: 0.0203\n",
      "Epoch 12/20\n",
      "219/219 [==============================] - 2s 8ms/step - loss: 0.0194 - val_loss: 0.0180\n",
      "Epoch 13/20\n",
      "219/219 [==============================] - 2s 8ms/step - loss: 0.0174 - val_loss: 0.0163\n",
      "Epoch 14/20\n",
      "219/219 [==============================] - 2s 8ms/step - loss: 0.0159 - val_loss: 0.0149\n",
      "Epoch 15/20\n",
      "219/219 [==============================] - 2s 8ms/step - loss: 0.0147 - val_loss: 0.0139\n",
      "Epoch 16/20\n",
      "219/219 [==============================] - 2s 8ms/step - loss: 0.0138 - val_loss: 0.0130\n",
      "Epoch 17/20\n",
      "219/219 [==============================] - 2s 10ms/step - loss: 0.0130 - val_loss: 0.0123\n",
      "Epoch 18/20\n",
      "219/219 [==============================] - 2s 9ms/step - loss: 0.0124 - val_loss: 0.0118\n",
      "Epoch 19/20\n",
      "219/219 [==============================] - 2s 10ms/step - loss: 0.0120 - val_loss: 0.0114\n",
      "Epoch 20/20\n",
      "219/219 [==============================] - 2s 9ms/step - loss: 0.0117 - val_loss: 0.0111\n"
     ]
    }
   ],
   "source": [
    "model = keras.models.Sequential([keras.layers.SimpleRNN(1, input_shape=[None, 1]) ])\n",
    "\n",
    "optimizer = keras.optimizers.Adam(learning_rate=0.005)\n",
    "model.compile(loss=\"mse\", optimizer=optimizer)\n",
    "\n",
    "\n",
    "history = model.fit(X_train, y_train, epochs=20,validation_data=(X_valid, y_valid))"
   ]
  },
  {
   "cell_type": "code",
   "execution_count": 19,
   "id": "a7ba6eb8-8d6e-4908-b866-53a21e9fb2d5",
   "metadata": {},
   "outputs": [
    {
     "name": "stdout",
     "output_type": "stream",
     "text": [
      "32/32 [==============================] - 0s 4ms/step - loss: 0.0112\n"
     ]
    },
    {
     "data": {
      "text/plain": [
       "0.011158519424498081"
      ]
     },
     "execution_count": 19,
     "metadata": {},
     "output_type": "execute_result"
    }
   ],
   "source": [
    "model.evaluate(X_test, y_test)"
   ]
  },
  {
   "cell_type": "markdown",
   "id": "94151790-cd6f-44c0-b3ba-51bc164990a9",
   "metadata": {},
   "source": [
    "### Understanding the RNN model"
   ]
  },
  {
   "cell_type": "markdown",
   "id": "f5930f2e-bf8c-4fe2-b7c8-d83bc939c89c",
   "metadata": {},
   "source": [
    "That’s really the simplest RNN you can build. It just contains a single layer, with a single neuron.We do not need to specify the length of the input sequences (unlike in the previous model), since a recurrent neural network can process any number of time steps (this is why we set the first input dimension to None)."
   ]
  },
  {
   "cell_type": "markdown",
   "id": "4ef8c570-5dac-4481-af09-ac29b5a73e3a",
   "metadata": {},
   "source": [
    "By default, the SimpleRNN layer uses the hyperbolic tangent activation function. It works exactly as we saw earlier: the initial state h(init) is set to 0, and it is passed to a single recurrent neuron, along with the value of the first time step, x(0). "
   ]
  },
  {
   "cell_type": "markdown",
   "id": "2bf435fa-1afb-44af-be74-d4520ea2c86b",
   "metadata": {},
   "source": [
    "The neuron computes a weighted sum of these values and applies the hyperbolic tangent activation function to the result, and this gives the first output, y0 ."
   ]
  },
  {
   "cell_type": "markdown",
   "id": "0ecc0c78-3776-4675-a7e7-13d0ff4e2504",
   "metadata": {},
   "source": [
    "In a simple RNN, this output is also the new state h0. This new state is passed to the same recurrent neuron along with the next input value, x(1), and the process is repeated until the last time step. Then the layer just outputs the last value, y49. All of this is performed simultaneously for every time series."
   ]
  },
  {
   "cell_type": "markdown",
   "id": "2d834ead-2fce-48e9-a34d-9f9e98d60a42",
   "metadata": {},
   "source": [
    "### Note RNN output\n",
    "By default, recurrent layers in Keras only return the final output. To make them return one output per time step, you must set return_sequences=True."
   ]
  },
  {
   "cell_type": "markdown",
   "id": "eb116747-31aa-4ec8-af83-43ffe8da96f0",
   "metadata": {},
   "source": [
    "#### Conclusion Simple RNN"
   ]
  },
  {
   "cell_type": "markdown",
   "id": "f1b9a32b-f0b5-479c-bb28-e889072aef45",
   "metadata": {},
   "source": [
    "If you compile, fit, and evaluate this model (just like earlier, we train for 20 epochs using Adam), you will find that its MSE reaches only 0.010, so it is better than the naive approach but it does not beat a simple linear model, where the MSE is 0.0034"
   ]
  },
  {
   "cell_type": "markdown",
   "id": "e5d83ca0-c529-471e-bbe5-2cc969862d5a",
   "metadata": {},
   "source": [
    "Note that for each neuron, a linear model has one parameter per input timestep(that means for every new input, meaning for 50 values there is one parameter and not like for each 50 value there is a parameter, so per input is different from per input value) , plus a bias term (in the simple linear model we used, that’s a total of 51 parameters, since we are inputting 50 timesteps each time)."
   ]
  },
  {
   "cell_type": "markdown",
   "id": "292c2281-fa40-431d-8a3d-d3a97b5f7e56",
   "metadata": {},
   "source": [
    "In contrast, for each recurrent neuron in a simple RNN, there is just one parameter per input and per hidden state dimension (in a simple RNN, that’s just the number of recurrent neurons in the layer), plus a bias term. In this simple RNN, that’s a total of just three parameters."
   ]
  },
  {
   "cell_type": "code",
   "execution_count": null,
   "id": "609cd57e-4c4f-4812-b55e-2aae235aa9e2",
   "metadata": {},
   "outputs": [],
   "source": []
  },
  {
   "cell_type": "markdown",
   "id": "d9af410b-7f66-4572-8ce9-55da8b5f5ed8",
   "metadata": {},
   "source": [
    "### Trend and Seasonality"
   ]
  },
  {
   "cell_type": "markdown",
   "id": "30a9836d-d4d7-4753-80ab-671a83c78400",
   "metadata": {},
   "source": [
    "There are many other models to forecast time series, such as weighted moving average models or autoregressive integrated moving average (ARIMA) models. Some of them require you to first remove the trend and seasonality. For example, if you are studying the number of active users on your website, and it is growing by 10% every month, you would have to remove this trend from the time series. Once the model is trained and starts making predictions, you would have to add the trend back to get the final predictions.\n"
   ]
  },
  {
   "cell_type": "markdown",
   "id": "428213b9-6de1-4524-ba56-1ef507697cd8",
   "metadata": {},
   "source": [
    "Similarly, if you are trying to predict the amount of sunscreen lotion sold every month, you will probably observe strong seasonality: since it sells well every summer, a similar pattern will be repeated every year. You would have to remove this seasonality from the time series, for example by computing the difference between the value at each time step and the value one year earlier (this technique is called differencing). Again, after the model is trained and makes predictions, you would have to add the seasonal pattern back to get the final predictions."
   ]
  },
  {
   "cell_type": "markdown",
   "id": "be397bdf-de62-4c2f-ba77-905a6337d2ef",
   "metadata": {},
   "source": [
    "When using RNNs, it is generally not necessary to do all this, but it may improve performance in some cases, since the model will not have to learn the trend or the seasonality."
   ]
  },
  {
   "cell_type": "code",
   "execution_count": null,
   "id": "01ed1cbd-0309-49d1-9f25-3d7e352f55c1",
   "metadata": {},
   "outputs": [],
   "source": []
  },
  {
   "cell_type": "markdown",
   "id": "1a22266e-fb80-4771-bc53-ab9a42236328",
   "metadata": {},
   "source": [
    "## Deep RNNs"
   ]
  },
  {
   "cell_type": "markdown",
   "id": "6863c731-c844-43ee-bed5-816c4c5d8ab7",
   "metadata": {},
   "source": [
    "It is quite common to stack multiple layers of cells. This gives you a deep RNN."
   ]
  },
  {
   "cell_type": "markdown",
   "id": "7818bba9-e398-4078-a057-23b46c062964",
   "metadata": {},
   "source": [
    "Implementing a deep RNN with tf.keras is quite simple: just stack recurrent layers. In this example, we use three SimpleRNN layers (but we could add any other type of recurrent layer, such as an LSTM layer or a GRU layer)."
   ]
  },
  {
   "cell_type": "code",
   "execution_count": 20,
   "id": "4654ab29-b404-4921-9eeb-0e6ef197c5dd",
   "metadata": {},
   "outputs": [],
   "source": [
    "model = keras.models.Sequential([\n",
    " keras.layers.SimpleRNN(20, return_sequences=True, input_shape=[None, 1]),\n",
    " keras.layers.SimpleRNN(20, return_sequences=True),\n",
    " keras.layers.SimpleRNN(1)\n",
    "])"
   ]
  },
  {
   "cell_type": "markdown",
   "id": "4ff7b748-8714-4327-93c9-97bed86c3e8f",
   "metadata": {},
   "source": [
    "### Warning - Defining RNNs\n",
    "Make sure to set return_sequences=True for all recurrent layers (except the last one if you only want the last output). If you don’t set return_sequences=True, the layers will output a 2D array (containing only the output of the last time step) instead of a 3D array (containing outputs for all time steps), and the next recurrent layer will complain that you are not feeding it sequences in the expected 3D format."
   ]
  },
  {
   "cell_type": "code",
   "execution_count": 21,
   "id": "7e860015-3176-4dd9-a986-f7c4adc81ec5",
   "metadata": {},
   "outputs": [
    {
     "name": "stdout",
     "output_type": "stream",
     "text": [
      "Epoch 1/20\n",
      "219/219 [==============================] - 10s 31ms/step - loss: 0.0543 - val_loss: 0.0068\n",
      "Epoch 2/20\n",
      "219/219 [==============================] - 6s 30ms/step - loss: 0.0061 - val_loss: 0.0057\n",
      "Epoch 3/20\n",
      "219/219 [==============================] - 6s 28ms/step - loss: 0.0050 - val_loss: 0.0046\n",
      "Epoch 4/20\n",
      "219/219 [==============================] - 6s 29ms/step - loss: 0.0043 - val_loss: 0.0038\n",
      "Epoch 5/20\n",
      "219/219 [==============================] - 6s 27ms/step - loss: 0.0040 - val_loss: 0.0039\n",
      "Epoch 6/20\n",
      "219/219 [==============================] - 6s 30ms/step - loss: 0.0038 - val_loss: 0.0034\n",
      "Epoch 7/20\n",
      "219/219 [==============================] - 6s 27ms/step - loss: 0.0038 - val_loss: 0.0034\n",
      "Epoch 8/20\n",
      "219/219 [==============================] - 6s 27ms/step - loss: 0.0036 - val_loss: 0.0032\n",
      "Epoch 9/20\n",
      "219/219 [==============================] - 7s 30ms/step - loss: 0.0035 - val_loss: 0.0035\n",
      "Epoch 10/20\n",
      "219/219 [==============================] - 6s 29ms/step - loss: 0.0034 - val_loss: 0.0029\n",
      "Epoch 11/20\n",
      "219/219 [==============================] - 6s 28ms/step - loss: 0.0034 - val_loss: 0.0030\n",
      "Epoch 12/20\n",
      "219/219 [==============================] - 6s 27ms/step - loss: 0.0032 - val_loss: 0.0031\n",
      "Epoch 13/20\n",
      "219/219 [==============================] - 6s 29ms/step - loss: 0.0032 - val_loss: 0.0028\n",
      "Epoch 14/20\n",
      "219/219 [==============================] - 6s 28ms/step - loss: 0.0032 - val_loss: 0.0033\n",
      "Epoch 15/20\n",
      "219/219 [==============================] - 6s 29ms/step - loss: 0.0033 - val_loss: 0.0029\n",
      "Epoch 16/20\n",
      "219/219 [==============================] - 6s 29ms/step - loss: 0.0031 - val_loss: 0.0031\n",
      "Epoch 17/20\n",
      "219/219 [==============================] - 6s 29ms/step - loss: 0.0032 - val_loss: 0.0027\n",
      "Epoch 18/20\n",
      "219/219 [==============================] - 6s 29ms/step - loss: 0.0030 - val_loss: 0.0034\n",
      "Epoch 19/20\n",
      "219/219 [==============================] - 6s 29ms/step - loss: 0.0030 - val_loss: 0.0027\n",
      "Epoch 20/20\n",
      "219/219 [==============================] - 6s 28ms/step - loss: 0.0032 - val_loss: 0.0027\n"
     ]
    }
   ],
   "source": [
    "model.compile(loss=\"mse\", optimizer=\"adam\")\n",
    "history = model.fit(X_train, y_train, epochs=20,validation_data=(X_valid, y_valid))"
   ]
  },
  {
   "cell_type": "markdown",
   "id": "84b30229-909b-489a-bdda-137d13318245",
   "metadata": {},
   "source": [
    "#### This model reaches an MSE of 0.003. We finally managed to beat the linear model!"
   ]
  },
  {
   "cell_type": "markdown",
   "id": "8f47358d-f7c7-4d88-8868-eec384d7c532",
   "metadata": {},
   "source": [
    "### RNNs with Dense output layers"
   ]
  },
  {
   "cell_type": "markdown",
   "id": "0d962caa-968e-4038-8745-bc1a96e61748",
   "metadata": {},
   "source": [
    "Note that the last layer is not ideal: it must have a single unit because we want to forecast a univariate time series, and this means we must have a single output value per time step. However, having a single unit means that the hidden state is just a single number. That’s really not much, and it’s probably not that useful; presumably, the RNN will mostly use the hidden states of the other recurrent layers to carry over all the information it needs from time step to time step, and it will not use the final layer’s hidden state very much."
   ]
  },
  {
   "cell_type": "markdown",
   "id": "354ebbc1-a112-4ef0-a2d0-f818352732ed",
   "metadata": {},
   "source": [
    "Moreover, since a SimpleRNN layer uses the tanh activation function by default, the predicted values must lie within the range –1 to 1. But what if you want to use another activation function? For both these reasons, it might be preferable to replace the output layer with a Dense layer: it would run slightly faster, the accuracy would be roughly the same, and it would allow us to choose any output activation function we want. If you make this change, also make sure to remove return_sequences=True from the second (now last) recurrent layer:"
   ]
  },
  {
   "cell_type": "code",
   "execution_count": 22,
   "id": "bb817993-f6f5-40a2-81f6-e6e209c49a17",
   "metadata": {},
   "outputs": [],
   "source": [
    "model = keras.models.Sequential([\n",
    " keras.layers.SimpleRNN(20, return_sequences=True, input_shape=[None, 1]),\n",
    " keras.layers.SimpleRNN(20),\n",
    " keras.layers.Dense(1)\n",
    "])"
   ]
  },
  {
   "cell_type": "markdown",
   "id": "5ea324ff-2ee2-4c82-aac5-6c89e0e284a7",
   "metadata": {},
   "source": [
    "#### If you train this model, you will see that it converges faster and performs just as well. Plus, you could change the output activation function if you wanted. "
   ]
  },
  {
   "cell_type": "code",
   "execution_count": 23,
   "id": "11c49919-c6e8-4c26-ac81-baaa63732ec8",
   "metadata": {},
   "outputs": [
    {
     "name": "stdout",
     "output_type": "stream",
     "text": [
      "Epoch 1/20\n",
      "219/219 [==============================] - 7s 23ms/step - loss: 0.0160 - val_loss: 0.0043\n",
      "Epoch 2/20\n",
      "219/219 [==============================] - 5s 22ms/step - loss: 0.0040 - val_loss: 0.0032\n",
      "Epoch 3/20\n",
      "219/219 [==============================] - 5s 22ms/step - loss: 0.0034 - val_loss: 0.0031\n",
      "Epoch 4/20\n",
      "219/219 [==============================] - 5s 21ms/step - loss: 0.0032 - val_loss: 0.0030\n",
      "Epoch 5/20\n",
      "219/219 [==============================] - 5s 21ms/step - loss: 0.0031 - val_loss: 0.0034\n",
      "Epoch 6/20\n",
      "219/219 [==============================] - 5s 21ms/step - loss: 0.0031 - val_loss: 0.0030\n",
      "Epoch 7/20\n",
      "219/219 [==============================] - 5s 21ms/step - loss: 0.0030 - val_loss: 0.0028\n",
      "Epoch 8/20\n",
      "219/219 [==============================] - 5s 22ms/step - loss: 0.0030 - val_loss: 0.0030\n",
      "Epoch 9/20\n",
      "219/219 [==============================] - 5s 22ms/step - loss: 0.0029 - val_loss: 0.0029\n",
      "Epoch 10/20\n",
      "219/219 [==============================] - 5s 22ms/step - loss: 0.0029 - val_loss: 0.0026\n",
      "Epoch 11/20\n",
      "219/219 [==============================] - 5s 21ms/step - loss: 0.0029 - val_loss: 0.0026\n",
      "Epoch 12/20\n",
      "219/219 [==============================] - 5s 21ms/step - loss: 0.0028 - val_loss: 0.0026\n",
      "Epoch 13/20\n",
      "219/219 [==============================] - 5s 21ms/step - loss: 0.0029 - val_loss: 0.0029\n",
      "Epoch 14/20\n",
      "219/219 [==============================] - 5s 22ms/step - loss: 0.0029 - val_loss: 0.0026\n",
      "Epoch 15/20\n",
      "219/219 [==============================] - 5s 21ms/step - loss: 0.0029 - val_loss: 0.0025\n",
      "Epoch 16/20\n",
      "219/219 [==============================] - 5s 21ms/step - loss: 0.0029 - val_loss: 0.0028\n",
      "Epoch 17/20\n",
      "219/219 [==============================] - 5s 21ms/step - loss: 0.0029 - val_loss: 0.0028\n",
      "Epoch 18/20\n",
      "219/219 [==============================] - 6s 27ms/step - loss: 0.0029 - val_loss: 0.0025\n",
      "Epoch 19/20\n",
      "219/219 [==============================] - 6s 26ms/step - loss: 0.0029 - val_loss: 0.0028\n",
      "Epoch 20/20\n",
      "219/219 [==============================] - 6s 25ms/step - loss: 0.0028 - val_loss: 0.0026\n"
     ]
    }
   ],
   "source": [
    "model.compile(loss=\"mse\", optimizer=\"adam\")\n",
    "history = model.fit(X_train, y_train, epochs=20,validation_data=(X_valid, y_valid))"
   ]
  },
  {
   "cell_type": "code",
   "execution_count": null,
   "id": "1734cab2-b36d-4fdb-806a-65f75669df67",
   "metadata": {},
   "outputs": [],
   "source": []
  },
  {
   "cell_type": "code",
   "execution_count": null,
   "id": "0dac2999-4db7-4c8f-b0a5-2b64b410cbd1",
   "metadata": {},
   "outputs": [],
   "source": []
  },
  {
   "cell_type": "markdown",
   "id": "f2e18f91-d239-45c8-b387-ce0c20e7bf31",
   "metadata": {},
   "source": [
    "## Forecasting Several Time Steps Ahead\r"
   ]
  },
  {
   "cell_type": "markdown",
   "id": "dc09d073-eafa-46b9-97ab-73ef3750ff37",
   "metadata": {},
   "source": [
    "So far we have only predicted the value at the next time step, but we could just as easily have predicted the value several steps ahead by changing the targets appropriately (e.g., to predict 10 steps ahead, just change the targets to be the value 10 steps ahead instead of 1 step ahead). But what if we want to predict the next 10 values?"
   ]
  },
  {
   "cell_type": "markdown",
   "id": "f060b9ea-9f61-4ad5-b2ec-4e226207143b",
   "metadata": {},
   "source": [
    "The first option is to use the model we already trained, make it predict the next value, then add that value to the inputs (acting as if this predicted value had actually occurred), and use the model again to predict the following value, and so on, as in the following code."
   ]
  },
  {
   "cell_type": "code",
   "execution_count": 24,
   "id": "4aeb885e-243f-4f85-84ed-c50e8464aea1",
   "metadata": {},
   "outputs": [
    {
     "data": {
      "text/plain": [
       "array([[[ 0.3802521 ],\n",
       "        [ 0.23149052],\n",
       "        [ 0.2192999 ],\n",
       "        [ 0.06664104],\n",
       "        [-0.01360943],\n",
       "        [-0.02652485],\n",
       "        [-0.11426771],\n",
       "        [-0.1682559 ],\n",
       "        [-0.25135887],\n",
       "        [-0.30491805],\n",
       "        [-0.42245686],\n",
       "        [-0.51784587],\n",
       "        [-0.49846223],\n",
       "        [-0.4510185 ],\n",
       "        [-0.31313136],\n",
       "        [-0.09688105],\n",
       "        [ 0.18704093],\n",
       "        [ 0.33760712],\n",
       "        [ 0.55655795],\n",
       "        [ 0.6908075 ],\n",
       "        [ 0.6606459 ],\n",
       "        [ 0.5541175 ],\n",
       "        [ 0.42396563],\n",
       "        [ 0.20434976],\n",
       "        [-0.03002512],\n",
       "        [-0.25153124],\n",
       "        [-0.38200936],\n",
       "        [-0.5031775 ],\n",
       "        [-0.49952325],\n",
       "        [-0.45007983],\n",
       "        [-0.3745698 ],\n",
       "        [-0.25856388],\n",
       "        [-0.2103539 ],\n",
       "        [-0.12440667],\n",
       "        [-0.04544733],\n",
       "        [ 0.03558336],\n",
       "        [ 0.08591889],\n",
       "        [ 0.11731767],\n",
       "        [ 0.30122334],\n",
       "        [ 0.3689921 ],\n",
       "        [ 0.49028647],\n",
       "        [ 0.51113313],\n",
       "        [ 0.51492333],\n",
       "        [ 0.46602097],\n",
       "        [ 0.2938937 ],\n",
       "        [ 0.08122978],\n",
       "        [-0.21097939],\n",
       "        [-0.44347495],\n",
       "        [-0.56730884],\n",
       "        [-0.74011475],\n",
       "        [-0.6939473 ],\n",
       "        [-0.57672274],\n",
       "        [-0.41448998],\n",
       "        [-0.19680956],\n",
       "        [ 0.1010337 ],\n",
       "        [ 0.31709963],\n",
       "        [ 0.39755008],\n",
       "        [ 0.47358713],\n",
       "        [ 0.4822212 ],\n",
       "        [ 0.46508   ]]], dtype=float32)"
      ]
     },
     "execution_count": 24,
     "metadata": {},
     "output_type": "execute_result"
    }
   ],
   "source": [
    "series = generate_time_series(1, n_steps + 10)\n",
    "series"
   ]
  },
  {
   "cell_type": "code",
   "execution_count": 25,
   "id": "6fb096c2-084e-4d65-94b5-90918589305b",
   "metadata": {},
   "outputs": [
    {
     "data": {
      "text/plain": [
       "(1, 60, 1)"
      ]
     },
     "execution_count": 25,
     "metadata": {},
     "output_type": "execute_result"
    }
   ],
   "source": [
    "series.shape"
   ]
  },
  {
   "cell_type": "code",
   "execution_count": 26,
   "id": "678922dc-bb79-4e7c-8f0c-4b878f0208d6",
   "metadata": {},
   "outputs": [],
   "source": [
    "X_new, Y_new = series[:, :n_steps], series[:, n_steps:]"
   ]
  },
  {
   "cell_type": "code",
   "execution_count": 27,
   "id": "0d85b9d6-cfa3-4b62-900f-2bcee283d526",
   "metadata": {},
   "outputs": [
    {
     "data": {
      "text/plain": [
       "(1, 50, 1)"
      ]
     },
     "execution_count": 27,
     "metadata": {},
     "output_type": "execute_result"
    }
   ],
   "source": [
    "X_new.shape"
   ]
  },
  {
   "cell_type": "code",
   "execution_count": 28,
   "id": "8fe2070a-c410-4e44-a5f3-5510948e8376",
   "metadata": {},
   "outputs": [
    {
     "data": {
      "text/plain": [
       "(1, 10, 1)"
      ]
     },
     "execution_count": 28,
     "metadata": {},
     "output_type": "execute_result"
    }
   ],
   "source": [
    " Y_new.shape"
   ]
  },
  {
   "cell_type": "code",
   "execution_count": 29,
   "id": "7e7fc2bc-b9a9-48e9-aedb-ce0ab272b876",
   "metadata": {},
   "outputs": [
    {
     "data": {
      "text/plain": [
       "(1, 50, 1)"
      ]
     },
     "execution_count": 29,
     "metadata": {},
     "output_type": "execute_result"
    }
   ],
   "source": [
    "X = X_new\n",
    "X_new.shape"
   ]
  },
  {
   "cell_type": "markdown",
   "id": "dafc8f8f-2f9c-4edf-995a-ee88bc8c4383",
   "metadata": {},
   "source": []
  },
  {
   "cell_type": "code",
   "execution_count": 30,
   "id": "b4e24822-372f-4c0c-92f4-2a6816f177b2",
   "metadata": {},
   "outputs": [
    {
     "name": "stdout",
     "output_type": "stream",
     "text": [
      "1/1 [==============================] - 1s 567ms/step\n",
      "1/1 [==============================] - 0s 42ms/step\n",
      "1/1 [==============================] - 0s 43ms/step\n",
      "1/1 [==============================] - 0s 28ms/step\n",
      "1/1 [==============================] - 0s 32ms/step\n",
      "1/1 [==============================] - 0s 36ms/step\n",
      "1/1 [==============================] - 0s 36ms/step\n",
      "1/1 [==============================] - 0s 20ms/step\n",
      "1/1 [==============================] - 0s 92ms/step\n",
      "1/1 [==============================] - 0s 32ms/step\n"
     ]
    }
   ],
   "source": [
    "for step_ahead in range(10):\n",
    "    y_pred_one = model.predict(X[:, step_ahead:])[:, np.newaxis] # https://www.reddit.com/r/learnpython/comments/13vs2fu/need_help_to_understand_the_notation_x_npnewaxis/\n",
    "    X = np.concatenate([X, y_pred_one], axis=1)\n",
    "\n",
    "Y_pred = X[:, n_steps:]"
   ]
  },
  {
   "cell_type": "code",
   "execution_count": 31,
   "id": "570262a9-1c97-4deb-b268-ecac9f4e6647",
   "metadata": {},
   "outputs": [
    {
     "data": {
      "text/plain": [
       "(1, 10, 1)"
      ]
     },
     "execution_count": 31,
     "metadata": {},
     "output_type": "execute_result"
    }
   ],
   "source": [
    "Y_pred.shape"
   ]
  },
  {
   "cell_type": "markdown",
   "id": "1684ba79-b121-43a4-b89d-20e4f3181357",
   "metadata": {},
   "source": [
    "As you might expect, the prediction for the next step will usually be more accurate than the predictions for later time steps, since the errors might accumulate (as you can see in Figure below)."
   ]
  },
  {
   "cell_type": "code",
   "execution_count": 32,
   "id": "fe4d1fff-6527-43b0-8e30-fbc20eff210f",
   "metadata": {},
   "outputs": [],
   "source": [
    "def plot_series(series, y=None, y_pred=None, x_label=\"$t$\", y_label=\"$x(t)$\", legend=True):\n",
    "    plt.plot(series, \".-\")\n",
    "    if y is not None:\n",
    "        plt.plot(n_steps, y, \"bo\", label=\"Target\")\n",
    "    if y_pred is not None:\n",
    "        plt.plot(n_steps, y_pred, \"rx\", markersize=10, label=\"Prediction\")\n",
    "    plt.grid(True)\n",
    "    if x_label:\n",
    "        plt.xlabel(x_label, fontsize=16)\n",
    "    if y_label:\n",
    "        plt.ylabel(y_label, fontsize=16, rotation=0)\n",
    "    plt.hlines(0, 0, 100, linewidth=1)\n",
    "    plt.axis([0, n_steps + 1, -1, 1])\n",
    "    if legend and (y or y_pred):\n",
    "        plt.legend(fontsize=14, loc=\"upper left\")"
   ]
  },
  {
   "cell_type": "code",
   "execution_count": 33,
   "id": "dfaeed65-f9d4-42d4-b4e5-d8469e8d7a9a",
   "metadata": {},
   "outputs": [
    {
     "data": {
      "image/png": "[encoded data removed]",
      "text/plain": [
       "<Figure size 640x480 with 1 Axes>"
      ]
     },
     "metadata": {},
     "output_type": "display_data"
    }
   ],
   "source": [
    "def plot_multiple_forecasts(X, Y, Y_pred):\n",
    "    n_steps = X.shape[1]\n",
    "    ahead = Y.shape[1]\n",
    "    plot_series(X[0, :, 0])\n",
    "    plt.plot(np.arange(n_steps, n_steps + ahead), Y[0, :, 0], \"bo-\", label=\"Actual\")\n",
    "    plt.plot(np.arange(n_steps, n_steps + ahead), Y_pred[0, :, 0], \"rx-\", label=\"Forecast\", markersize=10)\n",
    "    plt.axis([0, n_steps + ahead, -1, 1])\n",
    "    plt.legend(fontsize=14)\n",
    "\n",
    "plot_multiple_forecasts(X_new, Y_new, Y_pred)\n",
    "plt.show()"
   ]
  },
  {
   "cell_type": "code",
   "execution_count": 34,
   "id": "dce5dfcd-0dff-423c-aea5-989c685011af",
   "metadata": {},
   "outputs": [
    {
     "name": "stdout",
     "output_type": "stream",
     "text": [
      "32/32 [==============================] - 0s 7ms/step - loss: 0.0027\n"
     ]
    },
    {
     "data": {
      "text/plain": [
       "0.002723966259509325"
      ]
     },
     "execution_count": 34,
     "metadata": {},
     "output_type": "execute_result"
    }
   ],
   "source": [
    "model.evaluate(X_test,y_test)"
   ]
  },
  {
   "cell_type": "code",
   "execution_count": null,
   "id": "f0590565-2e31-4225-9f1a-f78aed0e95dc",
   "metadata": {},
   "outputs": [],
   "source": []
  },
  {
   "cell_type": "markdown",
   "id": "8239b0fd-7a6a-4415-89c8-dbb2394a807c",
   "metadata": {},
   "source": [
    "### Building a Sequence to Vector Model"
   ]
  },
  {
   "cell_type": "markdown",
   "id": "53125a02-fdc0-4366-9815-3d58533ee108",
   "metadata": {},
   "source": [
    "The second option is to train an RNN to predict all 10 next values at once. We can still use a sequence-to-vector model, but it will output 10 values instead of 1. However, we first need to change the targets to be vectors containing the next 10 values:"
   ]
  },
  {
   "cell_type": "code",
   "execution_count": 35,
   "id": "ae2fdf91-34dc-4fd2-841c-3bfbcbc279b0",
   "metadata": {},
   "outputs": [
    {
     "data": {
      "text/plain": [
       "(10000, 60, 1)"
      ]
     },
     "execution_count": 35,
     "metadata": {},
     "output_type": "execute_result"
    }
   ],
   "source": [
    "series = generate_time_series(10000, n_steps + 10)\n",
    "series.shape"
   ]
  },
  {
   "cell_type": "code",
   "execution_count": null,
   "id": "d9c655d7-9810-45a1-8702-954e1ea830ad",
   "metadata": {},
   "outputs": [],
   "source": []
  },
  {
   "cell_type": "code",
   "execution_count": 36,
   "id": "19cdc68f-427a-483d-8041-afbef8858294",
   "metadata": {},
   "outputs": [],
   "source": [
    "X_train, Y_train = series[:7000, :n_steps], series[:7000, -10:, 0]"
   ]
  },
  {
   "cell_type": "markdown",
   "id": "301ba6aa-4dcd-4c01-916d-ab95c2c19e18",
   "metadata": {},
   "source": [
    "#### Explanation of above code"
   ]
  },
  {
   "cell_type": "markdown",
   "id": "a934b962-f228-423b-9b4b-4302d1637af9",
   "metadata": {},
   "source": [
    "For X_train we use normal slicing and get the first 7000 timesteps list, and then for each timestep list we only select the first 50 timesteps"
   ]
  },
  {
   "cell_type": "code",
   "execution_count": 37,
   "id": "b5f3ef86-cf7e-4f30-a730-00f363f56f69",
   "metadata": {},
   "outputs": [
    {
     "data": {
      "text/plain": [
       "-0.3410013"
      ]
     },
     "execution_count": 37,
     "metadata": {},
     "output_type": "execute_result"
    }
   ],
   "source": [
    "series[3,4,0]"
   ]
  },
  {
   "cell_type": "markdown",
   "id": "5884f599-1dbe-4d64-8348-ef3b8a2cc647",
   "metadata": {},
   "source": [
    "For y_train what we do can be seen as this series[3,4,0], so if you see what we're doing is selecting the 0th term from the series[3,4] array, and basically reducing the dimensionality of the array from 3 to 2"
   ]
  },
  {
   "cell_type": "code",
   "execution_count": 38,
   "id": "1f3d39a8-570d-4559-85d9-2490eae7e00e",
   "metadata": {},
   "outputs": [
    {
     "data": {
      "text/plain": [
       "(7000, 50, 1)"
      ]
     },
     "execution_count": 38,
     "metadata": {},
     "output_type": "execute_result"
    }
   ],
   "source": [
    "X_train.shape\n"
   ]
  },
  {
   "cell_type": "code",
   "execution_count": 39,
   "id": "bb90df2e-3982-4855-9420-6e366c6251ba",
   "metadata": {},
   "outputs": [
    {
     "data": {
      "text/plain": [
       "(7000, 10)"
      ]
     },
     "execution_count": 39,
     "metadata": {},
     "output_type": "execute_result"
    }
   ],
   "source": [
    "Y_train.shape"
   ]
  },
  {
   "cell_type": "code",
   "execution_count": 40,
   "id": "3ed48249-4e47-4a9d-8221-bbd4deebb97a",
   "metadata": {},
   "outputs": [],
   "source": [
    "X_valid, Y_valid = series[7000:9000, :n_steps], series[7000:9000, -10:, 0]\n",
    "X_test, Y_test = series[9000:, :n_steps], series[9000:, -10:, 0]"
   ]
  },
  {
   "cell_type": "markdown",
   "id": "7ff48437-7f8f-440a-b1b0-b433a597b133",
   "metadata": {},
   "source": [
    "### Building the Sequence to Vector model"
   ]
  },
  {
   "cell_type": "code",
   "execution_count": 41,
   "id": "774235f6-0145-44a9-9e09-36099f413b08",
   "metadata": {},
   "outputs": [],
   "source": [
    "model = keras.models.Sequential([\n",
    " keras.layers.SimpleRNN(20, return_sequences=True, input_shape=[None, 1]),\n",
    " keras.layers.SimpleRNN(20),\n",
    " keras.layers.Dense(10)\n",
    "])"
   ]
  },
  {
   "cell_type": "code",
   "execution_count": 42,
   "id": "b94ca7e5-5aec-49fc-ab8e-d3546fcc9df8",
   "metadata": {},
   "outputs": [
    {
     "name": "stdout",
     "output_type": "stream",
     "text": [
      "Epoch 1/20\n",
      "219/219 [==============================] - 7s 23ms/step - loss: 0.0619 - val_loss: 0.0346\n",
      "Epoch 2/20\n",
      "219/219 [==============================] - 5s 24ms/step - loss: 0.0271 - val_loss: 0.0212\n",
      "Epoch 3/20\n",
      "219/219 [==============================] - 5s 22ms/step - loss: 0.0188 - val_loss: 0.0160\n",
      "Epoch 4/20\n",
      "219/219 [==============================] - 5s 21ms/step - loss: 0.0146 - val_loss: 0.0130\n",
      "Epoch 5/20\n",
      "219/219 [==============================] - 5s 21ms/step - loss: 0.0131 - val_loss: 0.0136\n",
      "Epoch 6/20\n",
      "219/219 [==============================] - 5s 22ms/step - loss: 0.0119 - val_loss: 0.0133\n",
      "Epoch 7/20\n",
      "219/219 [==============================] - 6s 30ms/step - loss: 0.0113 - val_loss: 0.0118\n",
      "Epoch 8/20\n",
      "219/219 [==============================] - 5s 24ms/step - loss: 0.0110 - val_loss: 0.0103\n",
      "Epoch 9/20\n",
      "219/219 [==============================] - 5s 23ms/step - loss: 0.0106 - val_loss: 0.0099\n",
      "Epoch 10/20\n",
      "219/219 [==============================] - 6s 27ms/step - loss: 0.0105 - val_loss: 0.0097\n",
      "Epoch 11/20\n",
      "219/219 [==============================] - 6s 28ms/step - loss: 0.0102 - val_loss: 0.0096\n",
      "Epoch 12/20\n",
      "219/219 [==============================] - 6s 29ms/step - loss: 0.0102 - val_loss: 0.0093\n",
      "Epoch 13/20\n",
      "219/219 [==============================] - 6s 26ms/step - loss: 0.0098 - val_loss: 0.0096\n",
      "Epoch 14/20\n",
      "219/219 [==============================] - 5s 23ms/step - loss: 0.0099 - val_loss: 0.0095\n",
      "Epoch 15/20\n",
      "219/219 [==============================] - 5s 23ms/step - loss: 0.0098 - val_loss: 0.0098\n",
      "Epoch 16/20\n",
      "219/219 [==============================] - 5s 23ms/step - loss: 0.0095 - val_loss: 0.0088\n",
      "Epoch 17/20\n",
      "219/219 [==============================] - 5s 23ms/step - loss: 0.0097 - val_loss: 0.0094\n",
      "Epoch 18/20\n",
      "219/219 [==============================] - 5s 23ms/step - loss: 0.0096 - val_loss: 0.0099\n",
      "Epoch 19/20\n",
      "219/219 [==============================] - 5s 23ms/step - loss: 0.0095 - val_loss: 0.0090\n",
      "Epoch 20/20\n",
      "219/219 [==============================] - 5s 24ms/step - loss: 0.0091 - val_loss: 0.0085\n"
     ]
    }
   ],
   "source": [
    "model.compile(loss=\"mse\", optimizer=\"adam\")\n",
    "history = model.fit(X_train, Y_train, epochs=20,validation_data=(X_valid, Y_valid))"
   ]
  },
  {
   "cell_type": "code",
   "execution_count": 43,
   "id": "1fcfeb1b-727d-4691-8fe2-31a74c4b537d",
   "metadata": {},
   "outputs": [
    {
     "name": "stdout",
     "output_type": "stream",
     "text": [
      "1/1 [==============================] - 0s 446ms/step\n"
     ]
    },
    {
     "data": {
      "text/plain": [
       "array([[-0.682712  , -0.56280404, -0.4062042 , -0.18403411,  0.02780987,\n",
       "         0.201294  ,  0.34443343,  0.464635  ,  0.5566441 ,  0.5249793 ]],\n",
       "      dtype=float32)"
      ]
     },
     "execution_count": 43,
     "metadata": {},
     "output_type": "execute_result"
    }
   ],
   "source": [
    "Y_pred = model.predict(X_new)\n",
    "Y_pred"
   ]
  },
  {
   "cell_type": "markdown",
   "id": "12271a80-8f19-4db0-aea3-a5c05495f3a0",
   "metadata": {},
   "source": [
    "This model works nicely: the MSE for the next 10 time steps is about 0.0097. That’s much better than the linear model. But we can still do better: indeed, instead of training the model to forecast the next 10 values only at the very last time step, we can train it to forecast the next 10 values at each and every time step."
   ]
  },
  {
   "cell_type": "markdown",
   "id": "814abd61-1fd8-4f49-9567-4b2425122181",
   "metadata": {},
   "source": [
    "In other words, we can turn this sequence-to-vector RNN into a sequence-to-sequence RNN. The advantage of this technique is that the loss will contain a term for the output of the RNN at each and every time step, not just the output at the last time step, what this means is that the loss will have more terms for the RNN's output. This means there will be many more error gradients flowing through the model; they will also flow from the output of each time step. This will both stabilize and speed up training."
   ]
  },
  {
   "cell_type": "markdown",
   "id": "15525096-d73b-48c3-9b39-398e32f5d0b1",
   "metadata": {},
   "source": [
    "### Building a Sequence to Sequence Model"
   ]
  },
  {
   "cell_type": "markdown",
   "id": "0eda22e9-19af-40f4-911a-d428cbd64100",
   "metadata": {},
   "source": [
    "#### Creating the Targets for the Sequence to Sequence model"
   ]
  },
  {
   "cell_type": "code",
   "execution_count": 44,
   "id": "70641d92-d314-47d8-892e-249e8c81075f",
   "metadata": {},
   "outputs": [
    {
     "data": {
      "text/plain": [
       "(10000, 50, 10)"
      ]
     },
     "execution_count": 44,
     "metadata": {},
     "output_type": "execute_result"
    }
   ],
   "source": [
    "Y = np.empty((10000, n_steps, 10)) # each target is a sequence of 10D vectors\n",
    "Y.shape"
   ]
  },
  {
   "cell_type": "code",
   "execution_count": 45,
   "id": "1fc68248-99ef-43ca-b783-ec30c2af0605",
   "metadata": {},
   "outputs": [
    {
     "data": {
      "text/plain": [
       "(10000, 10)"
      ]
     },
     "execution_count": 45,
     "metadata": {},
     "output_type": "execute_result"
    }
   ],
   "source": [
    "Y[:,5,:].shape"
   ]
  },
  {
   "cell_type": "code",
   "execution_count": 46,
   "id": "c319e817-6d02-4ae7-9146-4dd9cf46ea45",
   "metadata": {},
   "outputs": [
    {
     "data": {
      "text/plain": [
       "array([[0., 0., 0., ..., 0., 0., 0.],\n",
       "       [0., 0., 0., ..., 0., 0., 0.],\n",
       "       [0., 0., 0., ..., 0., 0., 0.],\n",
       "       ...,\n",
       "       [0., 0., 0., ..., 0., 0., 0.],\n",
       "       [0., 0., 0., ..., 0., 0., 0.],\n",
       "       [0., 0., 0., ..., 0., 0., 0.]])"
      ]
     },
     "execution_count": 46,
     "metadata": {},
     "output_type": "execute_result"
    }
   ],
   "source": [
    "Y[:,:,2]"
   ]
  },
  {
   "cell_type": "code",
   "execution_count": 47,
   "id": "110b6626-1216-4055-b337-e7e1dcec75fe",
   "metadata": {},
   "outputs": [
    {
     "data": {
      "text/plain": [
       "(10000, 60, 1)"
      ]
     },
     "execution_count": 47,
     "metadata": {},
     "output_type": "execute_result"
    }
   ],
   "source": [
    "series.shape"
   ]
  },
  {
   "cell_type": "code",
   "execution_count": 48,
   "id": "b64887a0-f998-4ea3-adfa-868a50335a6b",
   "metadata": {},
   "outputs": [
    {
     "data": {
      "text/plain": [
       "array([[0.47407362],\n",
       "       [0.55489206]], dtype=float32)"
      ]
     },
     "execution_count": 48,
     "metadata": {},
     "output_type": "execute_result"
    }
   ],
   "source": [
    "series[2,3:5]"
   ]
  },
  {
   "cell_type": "code",
   "execution_count": 49,
   "id": "2f057883-225f-4b48-8bf1-fe9ce7ccaf42",
   "metadata": {},
   "outputs": [
    {
     "data": {
      "text/plain": [
       "array([0.47407362, 0.55489206], dtype=float32)"
      ]
     },
     "execution_count": 49,
     "metadata": {},
     "output_type": "execute_result"
    }
   ],
   "source": [
    "series[2,3:5,0]"
   ]
  },
  {
   "cell_type": "code",
   "execution_count": 50,
   "id": "fb3be412-23b3-4d97-93e6-4d7f0abb3765",
   "metadata": {},
   "outputs": [
    {
     "data": {
      "text/plain": [
       "(10000, 50)"
      ]
     },
     "execution_count": 50,
     "metadata": {},
     "output_type": "execute_result"
    }
   ],
   "source": [
    "series[:, 2:52, 0].shape"
   ]
  },
  {
   "cell_type": "code",
   "execution_count": 51,
   "id": "80c3aec6-887f-49bc-b906-d704c27a0bff",
   "metadata": {},
   "outputs": [],
   "source": [
    "for step_ahead in range(1, 10 + 1):\n",
    "    Y[:, :, step_ahead - 1] = series[:, step_ahead:step_ahead + n_steps, 0]"
   ]
  },
  {
   "cell_type": "code",
   "execution_count": 52,
   "id": "324d04c9-ba88-435d-9b28-89077b2a33f8",
   "metadata": {},
   "outputs": [],
   "source": [
    "Y_train = Y[:7000]\n",
    "Y_valid = Y[7000:9000]\n",
    "Y_test = Y[9000:]"
   ]
  },
  {
   "cell_type": "markdown",
   "id": "5b14dab2-870a-4940-bd07-9b54681fdb7d",
   "metadata": {},
   "source": [
    "### Important!! read below"
   ]
  },
  {
   "cell_type": "markdown",
   "id": "95d640ee-1ae2-4f28-aca7-f898f8495bb3",
   "metadata": {},
   "source": [
    "How Y[:, :, step_ahead - 1] works is that you start with the first column for all the 50 rows in the 1000 timestep list, that means that all the 50 row values for the first column get the data at once. And they get the data from series, where it follows the logic that you get values from 1 to 51 for the 0th timestep and this 0th is of Y , and then 2 to 52 for the 1st timestep and this 1st is of Y and so on.  You can verify using example below"
   ]
  },
  {
   "cell_type": "code",
   "execution_count": 53,
   "id": "b46c368f-a3f0-46a3-a64a-8960f84e090f",
   "metadata": {},
   "outputs": [
    {
     "data": {
      "text/plain": [
       "array([ 0.1033389 , -0.07078035, -0.31519347, -0.44316781, -0.56059605,\n",
       "       -0.5022195 , -0.41308492, -0.32441959, -0.3470166 , -0.2889764 ,\n",
       "       -0.33363661, -0.47243151, -0.51208895, -0.48120731, -0.32930911,\n",
       "       -0.16255446,  0.03197737,  0.23216781,  0.37547612,  0.43706536,\n",
       "        0.46103221,  0.4089984 ,  0.28193858,  0.24898152,  0.32530156,\n",
       "        0.44128111,  0.4607172 ,  0.50861371,  0.56319672,  0.4410986 ,\n",
       "        0.24593072,  0.08810017, -0.12310109, -0.35903275, -0.38819128,\n",
       "       -0.41862857, -0.34305269, -0.28082377, -0.23064181, -0.33991426,\n",
       "       -0.38766631, -0.52408928, -0.58493125, -0.62353468, -0.49672887,\n",
       "       -0.31832057, -0.1654391 ,  0.08291646,  0.19499661,  0.25814912])"
      ]
     },
     "execution_count": 53,
     "metadata": {},
     "output_type": "execute_result"
    }
   ],
   "source": [
    "Y[0, :, 0]"
   ]
  },
  {
   "cell_type": "code",
   "execution_count": 54,
   "id": "2bb977bb-4435-481e-9b2d-41566ec8c9bd",
   "metadata": {},
   "outputs": [
    {
     "data": {
      "text/plain": [
       "array([[ 0.1033389 ],\n",
       "       [-0.07078035],\n",
       "       [-0.31519347],\n",
       "       [-0.4431678 ],\n",
       "       [-0.56059605],\n",
       "       [-0.5022195 ],\n",
       "       [-0.41308492],\n",
       "       [-0.3244196 ],\n",
       "       [-0.3470166 ],\n",
       "       [-0.2889764 ],\n",
       "       [-0.3336366 ],\n",
       "       [-0.4724315 ],\n",
       "       [-0.51208895],\n",
       "       [-0.4812073 ],\n",
       "       [-0.3293091 ],\n",
       "       [-0.16255446],\n",
       "       [ 0.03197737],\n",
       "       [ 0.23216781],\n",
       "       [ 0.37547612],\n",
       "       [ 0.43706536],\n",
       "       [ 0.4610322 ],\n",
       "       [ 0.4089984 ],\n",
       "       [ 0.28193858],\n",
       "       [ 0.24898152],\n",
       "       [ 0.32530156],\n",
       "       [ 0.4412811 ],\n",
       "       [ 0.4607172 ],\n",
       "       [ 0.5086137 ],\n",
       "       [ 0.5631967 ],\n",
       "       [ 0.4410986 ],\n",
       "       [ 0.24593072],\n",
       "       [ 0.08810017],\n",
       "       [-0.12310109],\n",
       "       [-0.35903275],\n",
       "       [-0.38819128],\n",
       "       [-0.41862857],\n",
       "       [-0.3430527 ],\n",
       "       [-0.28082377],\n",
       "       [-0.23064181],\n",
       "       [-0.33991426],\n",
       "       [-0.3876663 ],\n",
       "       [-0.5240893 ],\n",
       "       [-0.58493125],\n",
       "       [-0.6235347 ],\n",
       "       [-0.49672887],\n",
       "       [-0.31832057],\n",
       "       [-0.1654391 ],\n",
       "       [ 0.08291646],\n",
       "       [ 0.19499661],\n",
       "       [ 0.25814912]], dtype=float32)"
      ]
     },
     "execution_count": 54,
     "metadata": {},
     "output_type": "execute_result"
    }
   ],
   "source": [
    "series[0,1:51]"
   ]
  },
  {
   "cell_type": "markdown",
   "id": "2cd0e0e4-8e8c-429a-8821-7b993e52dec2",
   "metadata": {},
   "source": [
    "### Note Sequence-to-Sequence Model"
   ]
  },
  {
   "cell_type": "markdown",
   "id": "48b5fd18-83e0-486e-afe2-cb2e9ede7ade",
   "metadata": {},
   "source": [
    "It may be surprising that the targets will contain values that appear in the inputs (there is a lot of overlap between X_train and Y_train). Isn’t that cheating? Fortunately, not at all: at each time step, the model only knows about past time steps, so it cannot look ahead. It is said to be a causal model."
   ]
  },
  {
   "cell_type": "markdown",
   "id": "27689191-ff59-4811-a9ab-9b2ba0916d91",
   "metadata": {},
   "source": [
    "To turn the model into a sequence-to-sequence model, we must set return_sequences=True in all recurrent layers (even the last one), and we must apply the output Dense layer at every time step."
   ]
  },
  {
   "cell_type": "markdown",
   "id": "6a01ce2e-a90c-47b0-97dc-51ad99393986",
   "metadata": {},
   "source": [
    "Keras offers a TimeDistributed layer for this very purpose: it wraps any layer (e.g., a Dense layer) and applies it at every time step of its input sequence. It does this efficiently, by reshaping the inputs so that each time step is treated as a separate instance (i.e., it reshapes the inputs from [batch size, time steps, input dimensions] to [batch size × time steps, input dimensions]; in this example, the number of input dimensions is 20 because the previous SimpleRNN layer has 20 units)."
   ]
  },
  {
   "cell_type": "markdown",
   "id": "8e95d1e6-4158-4217-8b8b-82db676e1b38",
   "metadata": {},
   "source": [
    "Then it runs the Dense layer, and finally it reshapes the outputs back to sequences (i.e., it reshapes the outputs from [batch size × time steps, output dimensions] to [batch size, time steps, output dimensions]; in this example the number of output dimensions is 10, since the Dense layer has 10 units). Here is the updated model:"
   ]
  },
  {
   "cell_type": "code",
   "execution_count": 55,
   "id": "5f455ccb-5730-44b6-8246-6aaff7c0eb25",
   "metadata": {},
   "outputs": [],
   "source": [
    "model = keras.models.Sequential([\n",
    " keras.layers.SimpleRNN(20, return_sequences=True, input_shape=[None, 1]),\n",
    " keras.layers.SimpleRNN(20, return_sequences=True),\n",
    " keras.layers.TimeDistributed(keras.layers.Dense(10))\n",
    "])"
   ]
  },
  {
   "cell_type": "markdown",
   "id": "6b3f9fa6-be5a-4d3e-acb5-21145fdd1277",
   "metadata": {},
   "source": [
    "The Dense layer actually supports sequences as inputs (and even higher-dimensional inputs): it handles them just like TimeDistributed(Dense(…)), meaning it is applied to the last input dimension only (independently across all time steps). Thus, we could replace the last layer with just Dense(10). For the sake of clarity, however, we will keep using TimeDistributed(Dense(10)) because it makes it clear that the Dense layer is applied independently at each time step and that the model will output a sequence, not just a single vector."
   ]
  },
  {
   "cell_type": "markdown",
   "id": "dafdd63b-8e51-417d-a5ed-31e4a4e29781",
   "metadata": {},
   "source": [
    "All outputs are needed during training, but only the output at the last time step is useful for predictions and for evaluation. So although we will rely on the MSE over all the outputs for training, we will use a custom metric for evaluation, to only compute the MSE over the output at the last time step:"
   ]
  },
  {
   "cell_type": "code",
   "execution_count": 56,
   "id": "96bebd6c-c4a1-4b1d-9f63-164244f6bf5c",
   "metadata": {},
   "outputs": [],
   "source": [
    "def last_time_step_mse(Y_true, Y_pred):\n",
    "    return keras.metrics.mean_squared_error(Y_true[:, -1], Y_pred[:, -1])"
   ]
  },
  {
   "cell_type": "code",
   "execution_count": 57,
   "id": "017f91ca-6afc-4769-b00c-d4108129b31a",
   "metadata": {},
   "outputs": [],
   "source": [
    "optimizer = keras.optimizers.Adam(learning_rate=0.01)"
   ]
  },
  {
   "cell_type": "code",
   "execution_count": 58,
   "id": "9b9569cd-56c0-44af-910e-1e51e0b50b58",
   "metadata": {},
   "outputs": [],
   "source": [
    "model.compile(loss=\"mse\", optimizer=optimizer, metrics=[last_time_step_mse])\n"
   ]
  },
  {
   "cell_type": "code",
   "execution_count": 59,
   "id": "23ed1d69-861f-43d9-8629-f529c5c16b7f",
   "metadata": {},
   "outputs": [
    {
     "name": "stdout",
     "output_type": "stream",
     "text": [
      "Epoch 1/20\n",
      "WARNING:tensorflow:From C:\\Python 3.11\\Lib\\site-packages\\keras\\src\\engine\\base_layer_utils.py:384: The name tf.executing_eagerly_outside_functions is deprecated. Please use tf.compat.v1.executing_eagerly_outside_functions instead.\n",
      "\n",
      "219/219 [==============================] - 8s 26ms/step - loss: 0.0499 - last_time_step_mse: 0.0390 - val_loss: 0.0390 - val_last_time_step_mse: 0.0255\n",
      "Epoch 2/20\n",
      "219/219 [==============================] - 5s 23ms/step - loss: 0.0358 - last_time_step_mse: 0.0230 - val_loss: 0.0330 - val_last_time_step_mse: 0.0201\n",
      "Epoch 3/20\n",
      "219/219 [==============================] - 6s 27ms/step - loss: 0.0312 - last_time_step_mse: 0.0188 - val_loss: 0.0307 - val_last_time_step_mse: 0.0183\n",
      "Epoch 4/20\n",
      "219/219 [==============================] - 6s 26ms/step - loss: 0.0276 - last_time_step_mse: 0.0158 - val_loss: 0.0266 - val_last_time_step_mse: 0.0146\n",
      "Epoch 5/20\n",
      "219/219 [==============================] - 5s 23ms/step - loss: 0.0262 - last_time_step_mse: 0.0148 - val_loss: 0.0260 - val_last_time_step_mse: 0.0144\n",
      "Epoch 6/20\n",
      "219/219 [==============================] - 5s 23ms/step - loss: 0.0251 - last_time_step_mse: 0.0139 - val_loss: 0.0256 - val_last_time_step_mse: 0.0143\n",
      "Epoch 7/20\n",
      "219/219 [==============================] - 5s 24ms/step - loss: 0.0240 - last_time_step_mse: 0.0124 - val_loss: 0.0243 - val_last_time_step_mse: 0.0132\n",
      "Epoch 8/20\n",
      "219/219 [==============================] - 5s 22ms/step - loss: 0.0215 - last_time_step_mse: 0.0097 - val_loss: 0.0197 - val_last_time_step_mse: 0.0066\n",
      "Epoch 9/20\n",
      "219/219 [==============================] - 5s 23ms/step - loss: 0.0202 - last_time_step_mse: 0.0082 - val_loss: 0.0210 - val_last_time_step_mse: 0.0088\n",
      "Epoch 10/20\n",
      "219/219 [==============================] - 6s 25ms/step - loss: 0.0197 - last_time_step_mse: 0.0078 - val_loss: 0.0204 - val_last_time_step_mse: 0.0076\n",
      "Epoch 11/20\n",
      "219/219 [==============================] - 5s 24ms/step - loss: 0.0197 - last_time_step_mse: 0.0078 - val_loss: 0.0192 - val_last_time_step_mse: 0.0068\n",
      "Epoch 12/20\n",
      "219/219 [==============================] - 5s 21ms/step - loss: 0.0189 - last_time_step_mse: 0.0070 - val_loss: 0.0199 - val_last_time_step_mse: 0.0076\n",
      "Epoch 13/20\n",
      "219/219 [==============================] - 5s 21ms/step - loss: 0.0190 - last_time_step_mse: 0.0071 - val_loss: 0.0183 - val_last_time_step_mse: 0.0060\n",
      "Epoch 14/20\n",
      "219/219 [==============================] - 4s 21ms/step - loss: 0.0191 - last_time_step_mse: 0.0074 - val_loss: 0.0211 - val_last_time_step_mse: 0.0108\n",
      "Epoch 15/20\n",
      "219/219 [==============================] - 4s 20ms/step - loss: 0.0187 - last_time_step_mse: 0.0070 - val_loss: 0.0197 - val_last_time_step_mse: 0.0073\n",
      "Epoch 16/20\n",
      "219/219 [==============================] - 5s 21ms/step - loss: 0.0185 - last_time_step_mse: 0.0067 - val_loss: 0.0182 - val_last_time_step_mse: 0.0057\n",
      "Epoch 17/20\n",
      "219/219 [==============================] - 4s 20ms/step - loss: 0.0185 - last_time_step_mse: 0.0068 - val_loss: 0.0190 - val_last_time_step_mse: 0.0074\n",
      "Epoch 18/20\n",
      "219/219 [==============================] - 4s 20ms/step - loss: 0.0186 - last_time_step_mse: 0.0068 - val_loss: 0.0194 - val_last_time_step_mse: 0.0069\n",
      "Epoch 19/20\n",
      "219/219 [==============================] - 4s 20ms/step - loss: 0.0182 - last_time_step_mse: 0.0064 - val_loss: 0.0179 - val_last_time_step_mse: 0.0057\n",
      "Epoch 20/20\n",
      "219/219 [==============================] - 5s 21ms/step - loss: 0.0186 - last_time_step_mse: 0.0070 - val_loss: 0.0190 - val_last_time_step_mse: 0.0071\n"
     ]
    }
   ],
   "source": [
    "history = model.fit(X_train, Y_train, epochs=20,validation_data=(X_valid, Y_valid))"
   ]
  },
  {
   "cell_type": "markdown",
   "id": "5136651c-1b8c-44ec-ac62-5fb86421f532",
   "metadata": {},
   "source": [
    "#### We get a validation MSE of about 0.006 for the last_time_step_mse, which is 25% better than the previous model"
   ]
  },
  {
   "cell_type": "markdown",
   "id": "cf541df7-346c-4cf5-859b-a560499348b2",
   "metadata": {},
   "source": [
    "### Note about forecasting time series"
   ]
  },
  {
   "cell_type": "markdown",
   "id": "e356a3a4-beca-4ff2-a012-f368f145c10e",
   "metadata": {},
   "source": [
    "When forecasting time series, it is often useful to have some error bars along with your predictions. For this, an efficient technique is MC Dropout: add an MC Dropout layer\r\n",
    "within each memory cell, dropping part of the inputs and hidden states. After training, to forecast a new time series, use the model many times and compute the mean and standard deviation of the predictions at each time step."
   ]
  },
  {
   "cell_type": "code",
   "execution_count": null,
   "id": "a6793d1b-08f3-4b50-b5a3-866c0f0edd79",
   "metadata": {},
   "outputs": [],
   "source": []
  },
  {
   "cell_type": "code",
   "execution_count": null,
   "id": "37881a0e-f6d8-49c4-8d7a-59ca3b1d5ba7",
   "metadata": {},
   "outputs": [],
   "source": []
  },
  {
   "cell_type": "markdown",
   "id": "392b7d2c-20f3-463c-a3e0-94243cc2422c",
   "metadata": {},
   "source": [
    "## Handling Long Sequences"
   ]
  },
  {
   "cell_type": "markdown",
   "id": "7be5f141-5245-4ef5-bb65-4ada1039d6d3",
   "metadata": {},
   "source": [
    "To train an RNN on long sequences, we must run it over many time steps, making the unrolled RNN a very deep network. Just like any deep neural network it may suffer from the unstable gradients problem it may take forever to train, or training may be unstable. Moreover, when an RNN processes a long sequence, it will gradually forget the first inputs in the sequence. Let’s look at both these problems, starting with the unstable gradients problem. "
   ]
  },
  {
   "cell_type": "markdown",
   "id": "90f03abc-080e-4658-9ed1-11f557e44ecf",
   "metadata": {},
   "source": [
    "## Fighting the Unstable Gradients Problem"
   ]
  },
  {
   "cell_type": "markdown",
   "id": "d27d0c59-701b-4b36-a8b6-e907e50c83f8",
   "metadata": {},
   "source": [
    "Many of the tricks we used in deep nets to alleviate the unstable gradients problem can also be used for RNNs: good parameter initialization, faster optimizers, dropout, and so on. However, nonsaturating activation functions (e.g., ReLU) may not help as much here; in fact, they may actually lead the RNN to be even more unstable during training."
   ]
  },
  {
   "cell_type": "markdown",
   "id": "a99d5c49-90b7-42fa-9757-be2560352098",
   "metadata": {},
   "source": [
    "### Gradient Descent problems with ReLU"
   ]
  },
  {
   "cell_type": "markdown",
   "id": "2f9a3c83-1aaf-4da5-b854-f365515f3a3d",
   "metadata": {},
   "source": [
    "1) Suppose Gradient Descent updates the weights in a way that increases the outputs slightly at the first time step."
   ]
  },
  {
   "cell_type": "markdown",
   "id": "f1b5ae66-8043-43eb-ad42-a91135156c38",
   "metadata": {},
   "source": [
    "2) Because the same weights are used at every time step, the outputs at the second time step may also be slightly increased, and those at the third, and so on until the outputs explode—and a nonsaturating activation function does not prevent that."
   ]
  },
  {
   "cell_type": "markdown",
   "id": "e4449a80-0416-4c3d-8a65-1e4b2ffe863a",
   "metadata": {},
   "source": [
    "3) You can reduce this risk by using a smaller learning rate, but you can also simply use a saturating activation function like the hyperbolic tangent (this explains why it is the default)."
   ]
  },
  {
   "cell_type": "markdown",
   "id": "b5394c7a-6ebe-44c1-986d-25f46837ddcc",
   "metadata": {},
   "source": [
    "4) In much the same way, the gradients themselves can explode. If you notice that training is unstable, you may want to monitor the size of the gradients (e.g., using TensorBoard) and perhaps use Gradient Clipping."
   ]
  },
  {
   "cell_type": "markdown",
   "id": "26508cc7-a6de-41eb-850e-ae644142a246",
   "metadata": {},
   "source": [
    "### Batch Normalization with RNNs"
   ]
  },
  {
   "cell_type": "markdown",
   "id": "90ccbfd0-5254-426c-89a3-d268ea28eb23",
   "metadata": {},
   "source": [
    "1) Batch Normalization cannot be used as efficiently with RNNs as with deep feedforward nets. In fact, you cannot use it between time steps, only between recurrent layers."
   ]
  },
  {
   "cell_type": "markdown",
   "id": "c07df280-6da0-404b-971a-f36ff6e4d723",
   "metadata": {},
   "source": [
    "2) To be more precise, it is technically possible to add a BN layer to a memory cell (as we will see shortly) so that it will be applied at each time step (both on the inputs for that time step and on the hidden state from the previous step). "
   ]
  },
  {
   "cell_type": "markdown",
   "id": "0db58191-2aac-4f0f-af5d-3aba41b8b77f",
   "metadata": {},
   "source": [
    "3) However, the same BN layer will be used at each time step, with the same parameters, regardless of the actual scale and offset of the inputs and hidden state. In practice, this does not yield good results."
   ]
  },
  {
   "cell_type": "markdown",
   "id": "44d4b9b2-e526-4ca4-92a6-4fa7b5ca9d8b",
   "metadata": {},
   "source": [
    "### Layer Normalization with RNNs"
   ]
  },
  {
   "cell_type": "markdown",
   "id": "fbc775e3-f745-4051-b022-c447c53c483f",
   "metadata": {},
   "source": [
    "Another form of normalization often works better with RNNs: Layer Normalization. This idea was introduced by Jimmy Lei Ba et al. It is very similar to Batch Normalization, but instead of normalizing across the batch dimension, it normalizes across the features dimension."
   ]
  },
  {
   "cell_type": "markdown",
   "id": "da0aed78-f148-46de-9af0-334a104d985f",
   "metadata": {},
   "source": [
    "One advantage is that it can compute the required statistics on the fly, at each time step, independently for each instance. This also means that it behaves the same way during training and testing (as opposed to BN), and it does not need to use exponential moving averages to estimate the feature statistics across all instances in the training set."
   ]
  },
  {
   "cell_type": "markdown",
   "id": "69227141-6be5-4948-a597-6f8489786017",
   "metadata": {},
   "source": [
    "Like BN, Layer Normalization learns a scale and an offset parameter for each input. In an RNN, it is typically used right after the linear combination of the inputs and the hidden states."
   ]
  },
  {
   "cell_type": "markdown",
   "id": "d85120a5-adaf-4db8-88ea-38956ed00c6c",
   "metadata": {},
   "source": [
    "### Implementing Layer Normalization in RNN using TensorFlow"
   ]
  },
  {
   "cell_type": "markdown",
   "id": "94e67532-6ba8-40e4-be79-6b4cc779fa7c",
   "metadata": {},
   "source": [
    "Let’s use tf.keras to implement Layer Normalization within a simple memory cell."
   ]
  },
  {
   "cell_type": "markdown",
   "id": "5f6a4362-ef6b-473a-8e4d-c2fa3098bdd5",
   "metadata": {},
   "source": [
    "1) For this, we need to define a custom memory cell. It is just like a regular layer, except its call() method takes two arguments: the inputs at the current time step and the hidden states from the previous time step."
   ]
  },
  {
   "cell_type": "markdown",
   "id": "87800b37-6baa-4e73-a608-fcba0f349fbf",
   "metadata": {},
   "source": [
    "2) Note that the states argument is a list containing one or more tensors. In the case of a simple RNN cell it contains a single tensor equal to the outputs of the previous time step, but other cells may have multiple state tensors (e.g., an LSTMCell has a long-term state and a short-term state, as we will see shortly)."
   ]
  },
  {
   "cell_type": "markdown",
   "id": "b01648db-1eed-4d26-ac1a-abe78a1d1b48",
   "metadata": {},
   "source": [
    "3) A cell must also have a state_size attribute and an output_size attribute. In a simple RNN, both are simply equal to the number of units. The following code implements a custom memory cell which will behave like a SimpleRNNCell, except it will also apply Layer Normalization at each time step:"
   ]
  },
  {
   "cell_type": "code",
   "execution_count": 60,
   "id": "d43c47d1-4f9f-4407-b497-f4fb7a3c6c2b",
   "metadata": {},
   "outputs": [],
   "source": [
    "from tensorflow.keras.layers import LayerNormalization"
   ]
  },
  {
   "cell_type": "code",
   "execution_count": 61,
   "id": "7043d070-088e-49eb-8846-bfcbfcb64de6",
   "metadata": {},
   "outputs": [],
   "source": [
    "class LNSimpleRNNCell(keras.layers.Layer):\n",
    "    def __init__(self, units, activation=\"tanh\", **kwargs):\n",
    "        super().__init__(**kwargs)\n",
    "        self.state_size = units\n",
    "        self.output_size = units\n",
    "        self.simple_rnn_cell = keras.layers.SimpleRNNCell(units,\n",
    "                                                          activation=None)\n",
    "        self.layer_norm = LayerNormalization()\n",
    "        self.activation = keras.activations.get(activation)\n",
    "    def get_initial_state(self, inputs=None, batch_size=None, dtype=None):\n",
    "        if inputs is not None:\n",
    "            batch_size = tf.shape(inputs)[0]\n",
    "            dtype = inputs.dtype\n",
    "        return [tf.zeros([batch_size, self.state_size], dtype=dtype)]\n",
    "    def call(self, inputs, states):\n",
    "        outputs, new_states = self.simple_rnn_cell(inputs, states)\n",
    "        norm_outputs = self.activation(self.layer_norm(outputs))\n",
    "        return norm_outputs, [norm_outputs]"
   ]
  },
  {
   "cell_type": "markdown",
   "id": "805255ef-a4c4-4b79-afa6-76315bd16629",
   "metadata": {},
   "source": [
    "### Code Explanation"
   ]
  },
  {
   "cell_type": "markdown",
   "id": "f2bea231-b408-47eb-8a56-68b4119b9442",
   "metadata": {},
   "source": [
    "#### Init()"
   ]
  },
  {
   "cell_type": "markdown",
   "id": "fdad42e2-539e-4346-86b4-eeeb55118eed",
   "metadata": {},
   "source": [
    "1) Our LNSimpleRNNCell class inherits from the keras.layers.Layer class, just like any custom layer."
   ]
  },
  {
   "cell_type": "markdown",
   "id": "86f8d1b5-21da-4fac-9e52-b321f4c0c143",
   "metadata": {},
   "source": [
    "2) The constructor takes the number of units and the desired activation function, and it sets the state_size and output_size attributes, then creates a SimpleRNNCell with no activation function (because we want to perform Layer Normalization after the linear operation but before the activation function)."
   ]
  },
  {
   "cell_type": "markdown",
   "id": "f378ac8e-e54e-44d0-8a72-7828b42ac9b7",
   "metadata": {},
   "source": [
    "3) Then the constructor creates the LayerNormalization layer, and finally it fetches the desired activation function."
   ]
  },
  {
   "cell_type": "markdown",
   "id": "a24e32a4-ef1d-454b-b401-da747fdbd2cf",
   "metadata": {},
   "source": [
    "#### Call()"
   ]
  },
  {
   "cell_type": "markdown",
   "id": "673ee3c3-237e-454b-839e-fb20cfe1ed85",
   "metadata": {},
   "source": [
    "1) The call() method starts by applying the simple RNN cell, which computes a linear combination of the current inputs and the previous hidden states, and it returns the result twice (indeed, in a SimpleRNNCell, the outputs are just equal to the hidden states: in other words, new_states[0] is equal to outputs, so we can safely ignore new_states in the rest of the call() method)."
   ]
  },
  {
   "cell_type": "markdown",
   "id": "bd20ef15-b6ee-4339-a718-277968ef0fcd",
   "metadata": {},
   "source": [
    "2) Next, the call() method applies Layer Normalization, followed by the activation function. Finally, it returns the outputs twice (once as the outputs, and once as the new hidden states). To use this custom cell, all we need to do is create a keras.layers.RNN layer, passing it a cell instance:"
   ]
  },
  {
   "cell_type": "markdown",
   "id": "f52f387a-6979-48db-96f9-b88157e13d5d",
   "metadata": {},
   "source": [
    "### Creating the model for Layer Normalization"
   ]
  },
  {
   "cell_type": "code",
   "execution_count": 62,
   "id": "214dea75-5fde-4428-83d1-0eacd861d261",
   "metadata": {},
   "outputs": [
    {
     "name": "stdout",
     "output_type": "stream",
     "text": [
      "WARNING:tensorflow:From C:\\Python 3.11\\Lib\\site-packages\\keras\\src\\layers\\normalization\\layer_normalization.py:328: The name tf.nn.fused_batch_norm is deprecated. Please use tf.compat.v1.nn.fused_batch_norm instead.\n",
      "\n"
     ]
    }
   ],
   "source": [
    "model = keras.models.Sequential([\n",
    "    keras.layers.RNN(LNSimpleRNNCell(20), return_sequences=True,\n",
    "                     input_shape=[None, 1]),\n",
    "    keras.layers.RNN(LNSimpleRNNCell(20), return_sequences=True),\n",
    "    keras.layers.TimeDistributed(keras.layers.Dense(10))\n",
    "])"
   ]
  },
  {
   "cell_type": "code",
   "execution_count": 63,
   "id": "f77f75ce-dbcf-491e-b30f-1c0cdaa67de7",
   "metadata": {},
   "outputs": [],
   "source": [
    "model.compile(loss=\"mse\", optimizer=\"adam\", metrics=[last_time_step_mse])\n"
   ]
  },
  {
   "cell_type": "code",
   "execution_count": 64,
   "id": "cd696dc5-1abe-49f2-a033-2a8aecf00e7c",
   "metadata": {},
   "outputs": [
    {
     "name": "stdout",
     "output_type": "stream",
     "text": [
      "Epoch 1/20\n",
      "219/219 [==============================] - 18s 64ms/step - loss: 0.1421 - last_time_step_mse: 0.1238 - val_loss: 0.0622 - val_last_time_step_mse: 0.0465\n",
      "Epoch 2/20\n",
      "219/219 [==============================] - 15s 70ms/step - loss: 0.0549 - last_time_step_mse: 0.0411 - val_loss: 0.0503 - val_last_time_step_mse: 0.0359\n",
      "Epoch 3/20\n",
      "219/219 [==============================] - 14s 63ms/step - loss: 0.0462 - last_time_step_mse: 0.0325 - val_loss: 0.0450 - val_last_time_step_mse: 0.0295\n",
      "Epoch 4/20\n",
      "219/219 [==============================] - 15s 68ms/step - loss: 0.0408 - last_time_step_mse: 0.0265 - val_loss: 0.0384 - val_last_time_step_mse: 0.0232\n",
      "Epoch 5/20\n",
      "219/219 [==============================] - 14s 64ms/step - loss: 0.0359 - last_time_step_mse: 0.0203 - val_loss: 0.0371 - val_last_time_step_mse: 0.0199\n",
      "Epoch 6/20\n",
      "219/219 [==============================] - 14s 66ms/step - loss: 0.0335 - last_time_step_mse: 0.0168 - val_loss: 0.0331 - val_last_time_step_mse: 0.0169\n",
      "Epoch 7/20\n",
      "219/219 [==============================] - 14s 66ms/step - loss: 0.0312 - last_time_step_mse: 0.0149 - val_loss: 0.0313 - val_last_time_step_mse: 0.0152\n",
      "Epoch 8/20\n",
      "219/219 [==============================] - 15s 69ms/step - loss: 0.0300 - last_time_step_mse: 0.0141 - val_loss: 0.0308 - val_last_time_step_mse: 0.0146\n",
      "Epoch 9/20\n",
      "219/219 [==============================] - 14s 64ms/step - loss: 0.0292 - last_time_step_mse: 0.0133 - val_loss: 0.0291 - val_last_time_step_mse: 0.0129\n",
      "Epoch 10/20\n",
      "219/219 [==============================] - 14s 65ms/step - loss: 0.0286 - last_time_step_mse: 0.0130 - val_loss: 0.0291 - val_last_time_step_mse: 0.0128\n",
      "Epoch 11/20\n",
      "219/219 [==============================] - 14s 63ms/step - loss: 0.0280 - last_time_step_mse: 0.0124 - val_loss: 0.0283 - val_last_time_step_mse: 0.0120\n",
      "Epoch 12/20\n",
      "219/219 [==============================] - 14s 63ms/step - loss: 0.0278 - last_time_step_mse: 0.0126 - val_loss: 0.0280 - val_last_time_step_mse: 0.0122\n",
      "Epoch 13/20\n",
      "219/219 [==============================] - 16s 75ms/step - loss: 0.0272 - last_time_step_mse: 0.0120 - val_loss: 0.0274 - val_last_time_step_mse: 0.0116\n",
      "Epoch 14/20\n",
      "219/219 [==============================] - 15s 69ms/step - loss: 0.0385 - last_time_step_mse: 0.0261 - val_loss: 0.0348 - val_last_time_step_mse: 0.0200\n",
      "Epoch 15/20\n",
      "219/219 [==============================] - 16s 74ms/step - loss: 0.0307 - last_time_step_mse: 0.0160 - val_loss: 0.0293 - val_last_time_step_mse: 0.0131\n",
      "Epoch 16/20\n",
      "219/219 [==============================] - 15s 68ms/step - loss: 0.0283 - last_time_step_mse: 0.0130 - val_loss: 0.0284 - val_last_time_step_mse: 0.0124\n",
      "Epoch 17/20\n",
      "219/219 [==============================] - 15s 69ms/step - loss: 0.0275 - last_time_step_mse: 0.0123 - val_loss: 0.0280 - val_last_time_step_mse: 0.0124\n",
      "Epoch 18/20\n",
      "219/219 [==============================] - 15s 69ms/step - loss: 0.0270 - last_time_step_mse: 0.0120 - val_loss: 0.0274 - val_last_time_step_mse: 0.0119\n",
      "Epoch 19/20\n",
      "219/219 [==============================] - 15s 70ms/step - loss: 0.0266 - last_time_step_mse: 0.0119 - val_loss: 0.0268 - val_last_time_step_mse: 0.0116\n",
      "Epoch 20/20\n",
      "219/219 [==============================] - 15s 70ms/step - loss: 0.0270 - last_time_step_mse: 0.0125 - val_loss: 0.0270 - val_last_time_step_mse: 0.0115\n"
     ]
    }
   ],
   "source": [
    "history = model.fit(X_train, Y_train, epochs=20,validation_data=(X_valid, Y_valid))"
   ]
  },
  {
   "cell_type": "markdown",
   "id": "51173c68-fd67-4851-ac1c-12cd6a8c8da1",
   "metadata": {},
   "source": [
    "Similarly, you could create a custom cell to apply dropout between each time step. But there’s a simpler way: all recurrent layers (except for keras.layers.RNN) and all cells provided by Keras have a dropout hyperparameter and a recurrent_dropout hyperparameter: the former defines the dropout rate to apply to the inputs (at each time step), and the latter defines the dropout rate for the hidden states (also at each time step). No need to create a custom cell to apply dropout at each time step in an RNN. "
   ]
  },
  {
   "cell_type": "code",
   "execution_count": null,
   "id": "0aa8fc39-e7c4-4db4-93bb-80dbe31afb03",
   "metadata": {},
   "outputs": [],
   "source": []
  },
  {
   "cell_type": "markdown",
   "id": "185ca743-fd25-4434-a44b-4d53e7328b15",
   "metadata": {},
   "source": [
    "## Tackling the Short-Term Memory Problem"
   ]
  },
  {
   "cell_type": "markdown",
   "id": "3ff49e7f-16b3-47d5-b794-11784d235cea",
   "metadata": {},
   "source": [
    "Due to the transformations that the data goes through when traversing an RNN, some information is lost at each time step. After a while, the RNN’s state contains virtually no trace of the first inputs. This can be a showstopper."
   ]
  },
  {
   "cell_type": "markdown",
   "id": "8d6e70a0-9422-46d9-b0ec-a5913400450f",
   "metadata": {},
   "source": [
    "To tackle this problem, various types of cells with long-term memory have been introduced. They have proven so successful that the basic cells are not used much anymore. Let’s first look at the most popular of these long-term memory cells: the LSTM cell."
   ]
  },
  {
   "cell_type": "markdown",
   "id": "6e425f90-1352-4e64-8cb5-8a4aa743ffee",
   "metadata": {},
   "source": [
    "## LSTM cells"
   ]
  },
  {
   "cell_type": "markdown",
   "id": "86a02a3d-da52-4221-86b9-e3bcbbba6edb",
   "metadata": {},
   "source": [
    "If you consider the LSTM cell as a black box, it can be used very much like a basic cell, except it will perform much better; training will converge faster, and it will detect long-term dependencies in the data. In Keras, you can simply use the LSTM layer instead of the SimpleRNN layer:"
   ]
  },
  {
   "cell_type": "markdown",
   "id": "f4095527-88c7-43d6-b0eb-b445f3006a59",
   "metadata": {},
   "source": [
    "#### Method 1 for creating an LSTM layer"
   ]
  },
  {
   "cell_type": "code",
   "execution_count": 65,
   "id": "0bfaf0bc-12bb-4f1c-9750-f8bb45efd44a",
   "metadata": {},
   "outputs": [],
   "source": [
    "model = keras.models.Sequential([\n",
    " keras.layers.LSTM(20, return_sequences=True, input_shape=[None, 1]),\n",
    " keras.layers.LSTM(20, return_sequences=True),\n",
    " keras.layers.TimeDistributed(keras.layers.Dense(10))\n",
    "])"
   ]
  },
  {
   "cell_type": "markdown",
   "id": "a152b0b2-2cc0-4365-9a58-e003f4887166",
   "metadata": {},
   "source": [
    "#### Method 2 of creating an LSTM layer"
   ]
  },
  {
   "cell_type": "markdown",
   "id": "d711bc33-d4e9-4745-bb4f-ec2a0107c7ce",
   "metadata": {},
   "source": [
    "Alternatively, you could use the general-purpose keras.layers.RNN layer, giving it an LSTMCell as an argument:"
   ]
  },
  {
   "cell_type": "code",
   "execution_count": 66,
   "id": "d2067ca2-bd0a-4037-8c4c-199a2d77fb30",
   "metadata": {},
   "outputs": [],
   "source": [
    "model = keras.models.Sequential([\n",
    " keras.layers.RNN(keras.layers.LSTMCell(20), return_sequences=True,\n",
    " input_shape=[None, 1]),\n",
    " keras.layers.RNN(keras.layers.LSTMCell(20), return_sequences=True),\n",
    " keras.layers.TimeDistributed(keras.layers.Dense(10))\n",
    "])\n"
   ]
  },
  {
   "cell_type": "code",
   "execution_count": 68,
   "id": "3cd7e410-6020-477d-a7da-339d6f9ecee8",
   "metadata": {},
   "outputs": [
    {
     "name": "stdout",
     "output_type": "stream",
     "text": [
      "Epoch 1/20\n",
      "219/219 [==============================] - 11s 40ms/step - loss: 0.0793 - last_time_step_mse: 0.0661 - val_loss: 0.0555 - val_last_time_step_mse: 0.0356\n",
      "Epoch 2/20\n",
      "219/219 [==============================] - 8s 36ms/step - loss: 0.0483 - last_time_step_mse: 0.0281 - val_loss: 0.0439 - val_last_time_step_mse: 0.0233\n",
      "Epoch 3/20\n",
      "219/219 [==============================] - 7s 34ms/step - loss: 0.0401 - last_time_step_mse: 0.0193 - val_loss: 0.0378 - val_last_time_step_mse: 0.0168\n",
      "Epoch 4/20\n",
      "219/219 [==============================] - 8s 35ms/step - loss: 0.0357 - last_time_step_mse: 0.0154 - val_loss: 0.0348 - val_last_time_step_mse: 0.0151\n",
      "Epoch 5/20\n",
      "219/219 [==============================] - 7s 33ms/step - loss: 0.0333 - last_time_step_mse: 0.0142 - val_loss: 0.0333 - val_last_time_step_mse: 0.0152\n",
      "Epoch 6/20\n",
      "219/219 [==============================] - 8s 36ms/step - loss: 0.0317 - last_time_step_mse: 0.0132 - val_loss: 0.0314 - val_last_time_step_mse: 0.0132\n",
      "Epoch 7/20\n",
      "219/219 [==============================] - 8s 37ms/step - loss: 0.0304 - last_time_step_mse: 0.0124 - val_loss: 0.0304 - val_last_time_step_mse: 0.0125\n",
      "Epoch 8/20\n",
      "219/219 [==============================] - 7s 33ms/step - loss: 0.0294 - last_time_step_mse: 0.0120 - val_loss: 0.0298 - val_last_time_step_mse: 0.0125\n",
      "Epoch 9/20\n",
      "219/219 [==============================] - 7s 33ms/step - loss: 0.0286 - last_time_step_mse: 0.0117 - val_loss: 0.0287 - val_last_time_step_mse: 0.0117\n",
      "Epoch 10/20\n",
      "219/219 [==============================] - 7s 32ms/step - loss: 0.0280 - last_time_step_mse: 0.0114 - val_loss: 0.0281 - val_last_time_step_mse: 0.0115\n",
      "Epoch 11/20\n",
      "219/219 [==============================] - 7s 34ms/step - loss: 0.0273 - last_time_step_mse: 0.0111 - val_loss: 0.0277 - val_last_time_step_mse: 0.0116\n",
      "Epoch 12/20\n",
      "219/219 [==============================] - 8s 34ms/step - loss: 0.0267 - last_time_step_mse: 0.0107 - val_loss: 0.0267 - val_last_time_step_mse: 0.0102\n",
      "Epoch 13/20\n",
      "219/219 [==============================] - 7s 32ms/step - loss: 0.0262 - last_time_step_mse: 0.0104 - val_loss: 0.0270 - val_last_time_step_mse: 0.0111\n",
      "Epoch 14/20\n",
      "219/219 [==============================] - 7s 30ms/step - loss: 0.0259 - last_time_step_mse: 0.0103 - val_loss: 0.0265 - val_last_time_step_mse: 0.0099\n",
      "Epoch 15/20\n",
      "219/219 [==============================] - 7s 33ms/step - loss: 0.0254 - last_time_step_mse: 0.0100 - val_loss: 0.0259 - val_last_time_step_mse: 0.0100\n",
      "Epoch 16/20\n",
      "219/219 [==============================] - 7s 32ms/step - loss: 0.0250 - last_time_step_mse: 0.0096 - val_loss: 0.0252 - val_last_time_step_mse: 0.0094\n",
      "Epoch 17/20\n",
      "219/219 [==============================] - 8s 35ms/step - loss: 0.0246 - last_time_step_mse: 0.0093 - val_loss: 0.0249 - val_last_time_step_mse: 0.0093\n",
      "Epoch 18/20\n",
      "219/219 [==============================] - 8s 37ms/step - loss: 0.0243 - last_time_step_mse: 0.0092 - val_loss: 0.0246 - val_last_time_step_mse: 0.0086\n",
      "Epoch 19/20\n",
      "219/219 [==============================] - 9s 43ms/step - loss: 0.0240 - last_time_step_mse: 0.0090 - val_loss: 0.0243 - val_last_time_step_mse: 0.0085\n",
      "Epoch 20/20\n",
      "219/219 [==============================] - 8s 36ms/step - loss: 0.0237 - last_time_step_mse: 0.0088 - val_loss: 0.0239 - val_last_time_step_mse: 0.0084\n"
     ]
    }
   ],
   "source": [
    "np.random.seed(42)\n",
    "tf.random.set_seed(42)\n",
    "\n",
    "model = keras.models.Sequential([\n",
    "    keras.layers.LSTM(20, return_sequences=True, input_shape=[None, 1]),\n",
    "    keras.layers.LSTM(20, return_sequences=True),\n",
    "    keras.layers.TimeDistributed(keras.layers.Dense(10))\n",
    "])\n",
    "\n",
    "model.compile(loss=\"mse\", optimizer=\"adam\", metrics=[last_time_step_mse])\n",
    "history = model.fit(X_train, Y_train, epochs=20,\n",
    "                    validation_data=(X_valid, Y_valid))"
   ]
  },
  {
   "cell_type": "code",
   "execution_count": 69,
   "id": "0ca751da-89b8-4011-8189-553831878850",
   "metadata": {},
   "outputs": [
    {
     "name": "stdout",
     "output_type": "stream",
     "text": [
      "63/63 [==============================] - 1s 11ms/step - loss: 0.0239 - last_time_step_mse: 0.0084\n"
     ]
    },
    {
     "data": {
      "text/plain": [
       "[0.02389674261212349, 0.008444379083812237]"
      ]
     },
     "execution_count": 69,
     "metadata": {},
     "output_type": "execute_result"
    }
   ],
   "source": [
    "\n",
    "model.evaluate(X_valid, Y_valid)"
   ]
  },
  {
   "cell_type": "markdown",
   "id": "51467440-2a3d-4e60-925b-2399cf8a93c4",
   "metadata": {},
   "source": [
    "### Working of LSTM cell"
   ]
  },
  {
   "cell_type": "markdown",
   "id": "b0f9c9c9-a77d-4579-94c4-8c542be16c4d",
   "metadata": {},
   "source": [
    "LSTM cell looks exactly like a regular cell, except that its state is split into two vectors: h(t) and c(t) (“c” stands for “cell”). You can think of h(t) as the short-term state and c(t) as the long-term state."
   ]
  },
  {
   "cell_type": "markdown",
   "id": "b0222749-b98c-4b58-b361-51e29e79a61e",
   "metadata": {},
   "source": [
    "#### See figure 15-9 from the book while reading the below explanation"
   ]
  },
  {
   "cell_type": "markdown",
   "id": "1ec1b215-40aa-4139-8e92-92a0e02525f3",
   "metadata": {},
   "source": [
    "### The Long term state C(t)"
   ]
  },
  {
   "cell_type": "markdown",
   "id": "da546f82-7ba9-4867-82cc-86f9b4959176",
   "metadata": {},
   "source": [
    "The key idea is that the network can learn what to store in the long-term state, what to throw away, and what to read from it. As the long-term state c(t–1) traverses the network from left to right, it first goes through a forget gate, dropping some memories, and then it adds some new memories via the addition operation (which adds the memories that were selected by an input gate). After that, the result c(t) is sent straight out, without any further transformation."
   ]
  },
  {
   "cell_type": "markdown",
   "id": "96b40ba2-ac30-43a7-8647-961968d01898",
   "metadata": {},
   "source": [
    "### The Short term state h(t)"
   ]
  },
  {
   "cell_type": "markdown",
   "id": "6e690ee1-ae10-4570-b7fc-e6aeb6f6494f",
   "metadata": {},
   "source": [
    "After the addition operation, the long-term state is copied and passed through the tanh function, and then the result is filtered by the output gate. This produces the short-term state h(t) (which is equal to the cell’s output for this time step, y(t) )."
   ]
  },
  {
   "cell_type": "markdown",
   "id": "7395e682-701e-4555-bfe1-e37d7c05bfdb",
   "metadata": {},
   "source": [
    "### Working of the Gates"
   ]
  },
  {
   "cell_type": "markdown",
   "id": "73c7d99e-5aea-42b7-9c5d-11619f92b1f6",
   "metadata": {},
   "source": [
    "Now let’s look at where new memories come from and how the gates work."
   ]
  },
  {
   "cell_type": "markdown",
   "id": "86ec801d-9a63-4b6e-a450-9d3affbf53ee",
   "metadata": {},
   "source": [
    "First, the current input vector x(t) and the previous short-term state h(t–1) are fed to four different fully connected layers(FC in the image). They all serve a different purpose:"
   ]
  },
  {
   "cell_type": "markdown",
   "id": "1ff151cd-092d-4613-bc0f-0a0923dccc9a",
   "metadata": {},
   "source": [
    "#### Main FC Layer outputting g(t)"
   ]
  },
  {
   "cell_type": "markdown",
   "id": "03843a8a-8037-48b9-877c-7ed865ec7442",
   "metadata": {},
   "source": [
    "1) The main layer is the one that outputs g(t). It has the usual role of analyzing the current inputs x(t) and the previous (short-term) state h(t–1)."
   ]
  },
  {
   "cell_type": "markdown",
   "id": "970cb6df-019a-4e76-8d91-a31f364872a0",
   "metadata": {},
   "source": [
    "2) In a basic cell, there is nothing other than this layer, and its output goes straight out to y(t) and h(t). In contrast, in an LSTM cell this layer’s output does not go straight out, but instead its most important parts are stored in the long-term state (and the rest is dropped)."
   ]
  },
  {
   "cell_type": "markdown",
   "id": "f5baf9e0-a211-4657-b389-91ced5b2b413",
   "metadata": {},
   "source": [
    "#### Gate Controller layer"
   ]
  },
  {
   "cell_type": "markdown",
   "id": "ccb676e3-1042-4317-848c-65b482acadda",
   "metadata": {},
   "source": [
    "The three other layers are gate controllers. Since they use the logistic activation function, their outputs range from 0 to 1. As you can see, their outputs are fed to element-wise multiplication operations, so if they output 0s they close the gate, and if they output 1s they open it."
   ]
  },
  {
   "cell_type": "markdown",
   "id": "2e69d664-e6ce-48ed-8834-320a0082a21b",
   "metadata": {},
   "source": [
    "##### The forget gate f(t)"
   ]
  },
  {
   "cell_type": "markdown",
   "id": "23faefb0-2070-41c8-b81e-a9f8fdbf02fc",
   "metadata": {},
   "source": [
    "The forget gate (controlled by f(t)) controls which parts of the long-term state should be erased."
   ]
  },
  {
   "cell_type": "markdown",
   "id": "f6770b1b-9ab3-45ed-ae83-9f28ddfa70b9",
   "metadata": {},
   "source": [
    "##### The input gate i(t)"
   ]
  },
  {
   "cell_type": "markdown",
   "id": "1ef722b6-c27a-4b8c-a185-df0b6172c58c",
   "metadata": {},
   "source": [
    "The input gate (controlled by i(t)) controls which parts of g(t)should be added to the long-term state."
   ]
  },
  {
   "cell_type": "markdown",
   "id": "3daf7828-6717-463d-af53-5080ed116b4d",
   "metadata": {},
   "source": [
    "##### The output gate o(t)"
   ]
  },
  {
   "cell_type": "markdown",
   "id": "ffd49fcf-9673-4fc3-8472-16c5ed91dfc3",
   "metadata": {},
   "source": [
    "Finally, the output gate (controlled by o(t)) controls which parts of the longterm state should be read and output at this time step, both to h(t) and to y(t)."
   ]
  },
  {
   "cell_type": "markdown",
   "id": "1f188b5a-7169-474b-830e-f5957a0fbc59",
   "metadata": {},
   "source": [
    "### VVV IMP!!! See equation 15-3 from the book"
   ]
  },
  {
   "cell_type": "markdown",
   "id": "46ed5bc6-502d-4b02-8f4b-33dafb4fcdf9",
   "metadata": {},
   "source": [
    "### Conclusion LSTM"
   ]
  },
  {
   "cell_type": "markdown",
   "id": "b1521676-9d2e-471a-a6c6-0fc2fff7b06e",
   "metadata": {},
   "source": [
    "In short, an LSTM cell can learn to recognize an important input (that’s the role of the input gate), store it in the long-term state, preserve it for as long as it is needed (that’s the role of the forget gate), and extract it whenever it is needed. This explains why these cells have been amazingly successful at capturing long-term patterns in time series, long texts, audio recordings, and more."
   ]
  },
  {
   "cell_type": "code",
   "execution_count": null,
   "id": "68a7b26e-9754-43ac-83a2-48fc75f7fa7b",
   "metadata": {},
   "outputs": [],
   "source": []
  },
  {
   "cell_type": "markdown",
   "id": "35bebe11-2f6e-4563-a395-5f9065a7e52b",
   "metadata": {},
   "source": [
    "### Peephole connections"
   ]
  },
  {
   "cell_type": "markdown",
   "id": "f9715ac1-f08d-4848-b88d-34fe1f0abfb1",
   "metadata": {},
   "source": [
    "In a regular LSTM cell, the gate controllers can look only at the input x(t) and the previous short-term state h(t–1). It may be a good idea to give them a bit more context by letting them peek at the long-term state as well. This idea was proposed by Felix Gersand Jürgen Schmidhuber in 2000."
   ]
  },
  {
   "cell_type": "markdown",
   "id": "1320eba5-83f3-48ce-9202-4d75be693feb",
   "metadata": {},
   "source": [
    "They proposed an LSTM variant with extra connections called peephole connections: the previous long-term state c(t–1) is added as an input to the controllers of the forget gate and the input gate, and the current longterm state c(t) is added as input to the controller of the output gate."
   ]
  },
  {
   "cell_type": "markdown",
   "id": "af46a55a-e747-4869-a646-8849ee7f7b09",
   "metadata": {},
   "source": [
    "This often improves performance, but not always, and there is no clear pattern for which tasks are better off with or without them: you will have to try it on your task and see if it helps."
   ]
  },
  {
   "cell_type": "markdown",
   "id": "57b8dab5-c1d4-4016-b49f-f0d3d811b698",
   "metadata": {},
   "source": [
    "In Keras, the LSTM layer is based on the keras.layers.LSTMCell cell, which does not support peepholes. The experimental tf.keras.experimental.PeepholeLSTMCell does, however, so you can create a keras.layers.RNN layer and pass a PeepholeLSTM Cell to its constructor. "
   ]
  },
  {
   "cell_type": "code",
   "execution_count": null,
   "id": "4aabaac5-b02f-4976-84a0-704a41e77461",
   "metadata": {},
   "outputs": [],
   "source": []
  },
  {
   "cell_type": "markdown",
   "id": "78ae74ad-1c83-4142-a593-b0de37ec6ecc",
   "metadata": {},
   "source": [
    "## GRU cell"
   ]
  },
  {
   "cell_type": "markdown",
   "id": "abe991f0-c8b7-45eb-a31e-fa98486d6e35",
   "metadata": {},
   "source": [
    "The Gated Recurrent Unit (GRU) cell was proposed by Kyunghyun Cho et al."
   ]
  },
  {
   "cell_type": "markdown",
   "id": "3ec865cf-a230-4de0-9b36-01fa97fe15b1",
   "metadata": {},
   "source": [
    "The GRU cell is a simplified version of the LSTM cell, and it seems to perform just as well. These are the main simplifications:"
   ]
  },
  {
   "cell_type": "code",
   "execution_count": 70,
   "id": "7b35de61-a9df-4049-9e31-5b713dee0441",
   "metadata": {},
   "outputs": [
    {
     "name": "stdout",
     "output_type": "stream",
     "text": [
      "Epoch 1/20\n",
      "219/219 [==============================] - 11s 40ms/step - loss: 0.0751 - last_time_step_mse: 0.0677 - val_loss: 0.0541 - val_last_time_step_mse: 0.0424\n",
      "Epoch 2/20\n",
      "219/219 [==============================] - 8s 37ms/step - loss: 0.0487 - last_time_step_mse: 0.0386 - val_loss: 0.0468 - val_last_time_step_mse: 0.0369\n",
      "Epoch 3/20\n",
      "219/219 [==============================] - 8s 37ms/step - loss: 0.0437 - last_time_step_mse: 0.0332 - val_loss: 0.0423 - val_last_time_step_mse: 0.0307\n",
      "Epoch 4/20\n",
      "219/219 [==============================] - 8s 37ms/step - loss: 0.0398 - last_time_step_mse: 0.0288 - val_loss: 0.0384 - val_last_time_step_mse: 0.0267\n",
      "Epoch 5/20\n",
      "219/219 [==============================] - 8s 37ms/step - loss: 0.0363 - last_time_step_mse: 0.0252 - val_loss: 0.0358 - val_last_time_step_mse: 0.0234\n",
      "Epoch 6/20\n",
      "219/219 [==============================] - 8s 37ms/step - loss: 0.0338 - last_time_step_mse: 0.0219 - val_loss: 0.0334 - val_last_time_step_mse: 0.0207\n",
      "Epoch 7/20\n",
      "219/219 [==============================] - 8s 37ms/step - loss: 0.0317 - last_time_step_mse: 0.0190 - val_loss: 0.0312 - val_last_time_step_mse: 0.0174\n",
      "Epoch 8/20\n",
      "219/219 [==============================] - 8s 37ms/step - loss: 0.0297 - last_time_step_mse: 0.0162 - val_loss: 0.0302 - val_last_time_step_mse: 0.0163\n",
      "Epoch 9/20\n",
      "219/219 [==============================] - 8s 37ms/step - loss: 0.0283 - last_time_step_mse: 0.0144 - val_loss: 0.0282 - val_last_time_step_mse: 0.0139\n",
      "Epoch 10/20\n",
      "219/219 [==============================] - 8s 36ms/step - loss: 0.0274 - last_time_step_mse: 0.0134 - val_loss: 0.0275 - val_last_time_step_mse: 0.0127\n",
      "Epoch 11/20\n",
      "219/219 [==============================] - 8s 35ms/step - loss: 0.0267 - last_time_step_mse: 0.0127 - val_loss: 0.0268 - val_last_time_step_mse: 0.0121\n",
      "Epoch 12/20\n",
      "219/219 [==============================] - 8s 37ms/step - loss: 0.0261 - last_time_step_mse: 0.0120 - val_loss: 0.0265 - val_last_time_step_mse: 0.0121\n",
      "Epoch 13/20\n",
      "219/219 [==============================] - 7s 34ms/step - loss: 0.0259 - last_time_step_mse: 0.0119 - val_loss: 0.0262 - val_last_time_step_mse: 0.0121\n",
      "Epoch 14/20\n",
      "219/219 [==============================] - 8s 34ms/step - loss: 0.0255 - last_time_step_mse: 0.0116 - val_loss: 0.0259 - val_last_time_step_mse: 0.0119\n",
      "Epoch 15/20\n",
      "219/219 [==============================] - 8s 35ms/step - loss: 0.0252 - last_time_step_mse: 0.0115 - val_loss: 0.0254 - val_last_time_step_mse: 0.0111\n",
      "Epoch 16/20\n",
      "219/219 [==============================] - 8s 35ms/step - loss: 0.0248 - last_time_step_mse: 0.0111 - val_loss: 0.0255 - val_last_time_step_mse: 0.0116\n",
      "Epoch 17/20\n",
      "219/219 [==============================] - 8s 34ms/step - loss: 0.0247 - last_time_step_mse: 0.0111 - val_loss: 0.0248 - val_last_time_step_mse: 0.0107\n",
      "Epoch 18/20\n",
      "219/219 [==============================] - 8s 35ms/step - loss: 0.0244 - last_time_step_mse: 0.0107 - val_loss: 0.0249 - val_last_time_step_mse: 0.0112\n",
      "Epoch 19/20\n",
      "219/219 [==============================] - 8s 36ms/step - loss: 0.0241 - last_time_step_mse: 0.0105 - val_loss: 0.0247 - val_last_time_step_mse: 0.0109\n",
      "Epoch 20/20\n",
      "219/219 [==============================] - 8s 37ms/step - loss: 0.0239 - last_time_step_mse: 0.0104 - val_loss: 0.0242 - val_last_time_step_mse: 0.0103\n"
     ]
    }
   ],
   "source": [
    "model = keras.models.Sequential([\n",
    "    keras.layers.GRU(20, return_sequences=True, input_shape=[None, 1]),\n",
    "    keras.layers.GRU(20, return_sequences=True),\n",
    "    keras.layers.TimeDistributed(keras.layers.Dense(10))\n",
    "])\n",
    "\n",
    "model.compile(loss=\"mse\", optimizer=\"adam\", metrics=[last_time_step_mse])\n",
    "history = model.fit(X_train, Y_train, epochs=20,\n",
    "                    validation_data=(X_valid, Y_valid))"
   ]
  },
  {
   "cell_type": "code",
   "execution_count": 71,
   "id": "fd7fc69e-8113-4d16-aaa3-9ad03bb1af17",
   "metadata": {},
   "outputs": [
    {
     "name": "stdout",
     "output_type": "stream",
     "text": [
      "63/63 [==============================] - 1s 11ms/step - loss: 0.0242 - last_time_step_mse: 0.0103\n"
     ]
    },
    {
     "data": {
      "text/plain": [
       "[0.024223146960139275, 0.010310187935829163]"
      ]
     },
     "execution_count": 71,
     "metadata": {},
     "output_type": "execute_result"
    }
   ],
   "source": [
    "model.evaluate(X_valid, Y_valid)"
   ]
  },
  {
   "cell_type": "markdown",
   "id": "6b7727dc-ae49-4333-87ef-dd48671468fb",
   "metadata": {},
   "source": [
    "#### See figure 15-10 from the book while reading the below explanation"
   ]
  },
  {
   "cell_type": "markdown",
   "id": "a5b930a5-5647-4051-b6b9-fcd126f98fc2",
   "metadata": {},
   "source": [
    "1) Both state vectors are merged into a single vector h(t)."
   ]
  },
  {
   "cell_type": "markdown",
   "id": "efcc2879-56be-41d1-811f-70621cf17e7e",
   "metadata": {},
   "source": [
    "2) A single gate controller z(t) controls both the forget gate and the input gate. If the gate controller outputs a 1, the forget gate is open (= 1) and the input gate is closed (1 – 1 = 0). If it outputs a 0, the opposite happens. In other words, whenever a memory must be stored, the location where it will be stored is erased first."
   ]
  },
  {
   "cell_type": "markdown",
   "id": "645326e5-9a40-4a34-98dc-89e35b04359c",
   "metadata": {},
   "source": [
    "3) There is no output gate; the full state vector is output at every time step. However, there is a new gate controller r(t) that controls which part of the previous state will be shown to the main layer (g(t))."
   ]
  },
  {
   "cell_type": "markdown",
   "id": "6a929331-f1ce-49df-92a5-30f8800f6bb7",
   "metadata": {},
   "source": [
    "Keras provides a keras.layers.GRU layer (based on the keras.layers.GRUCell memory cell); using it is just a matter of replacing SimpleRNN or LSTM with GRU."
   ]
  },
  {
   "cell_type": "markdown",
   "id": "115d2a3d-1403-4aac-89e1-2a20c7b7620b",
   "metadata": {},
   "source": [
    "### VVV IMP!!! See equation 15-4 from the book"
   ]
  },
  {
   "cell_type": "code",
   "execution_count": null,
   "id": "eab79a6e-4938-4a12-b77c-263b435062b0",
   "metadata": {},
   "outputs": [],
   "source": []
  },
  {
   "cell_type": "markdown",
   "id": "9ae8033f-029e-4bf5-a62e-7b91ad7e3f75",
   "metadata": {},
   "source": [
    "## Solving Long Sequences problem"
   ]
  },
  {
   "cell_type": "markdown",
   "id": "4be6b1e2-4122-4714-862f-5fdcec3668ce",
   "metadata": {},
   "source": [
    "### Using 1D convolutional layers to process sequences."
   ]
  },
  {
   "cell_type": "markdown",
   "id": "c2caba24-a755-468d-9eb1-214e54f17fb4",
   "metadata": {},
   "source": [
    "In CNNs, we saw that a 2D convolutional layer works by sliding several fairly small kernels (or filters) across an image, producing multiple 2D feature maps (one per kernel). Similarly, a 1D convolutional layer slides several kernels across a sequence, producing a 1D feature map per kernel. Each kernel will learn to detect a single very short sequential pattern (no longer than the kernel size)."
   ]
  },
  {
   "cell_type": "markdown",
   "id": "98103bf9-47c1-46cd-b88a-3a9909f51bc2",
   "metadata": {},
   "source": [
    "If you use 10 kernels, then the layer’s output will be composed of 10 1-dimensional sequences (all of the same length), or equivalently you can view this output as a single 10-dimensional sequence. This means that you can build a neural network composed of a mix of recurrent layers and 1D convolutional layers (or even 1D pooling layers)."
   ]
  },
  {
   "cell_type": "markdown",
   "id": "68c00c21-b851-4b08-b70e-326ec0e8e6f9",
   "metadata": {},
   "source": [
    "If you use a 1D convolutional layer with a stride of 1 and \"same\" padding, then the output sequence will have the same length as the input sequence. But if you use \"valid\" padding or a stride greater than 1, then the output sequence will be shorter than the input sequence, so make sure you adjust the targets accordingly."
   ]
  },
  {
   "cell_type": "markdown",
   "id": "91201f41-1171-42a0-aa50-bcd63c3d68d2",
   "metadata": {},
   "source": [
    "### Implementing CNNs with GRU"
   ]
  },
  {
   "cell_type": "markdown",
   "id": "f7576b8d-52e1-4480-bd58-d5c5471e3150",
   "metadata": {},
   "source": [
    "The following model is the same as earlier, except it starts with a 1D convolutional layer that downsamples the input sequence by a factor of 2, using a stride of 2. The kernel size is larger than the stride, so all inputs will be used to compute the layer’s output, and therefore the model can learn to preserve the useful information, dropping only the unimportant details."
   ]
  },
  {
   "cell_type": "markdown",
   "id": "b0a4b863-5adb-4e95-8f15-b1e282e3d25d",
   "metadata": {},
   "source": [
    "By shortening the sequences, the convolutional layer may help the GRU layers detect longer patterns. Note that we must also crop off the first three time steps in the targets (since the kernel’s size is 4, the first output of the convolutional layer will be based on the input time steps 0 to 3, and since we've seen that in case of RNN the hidden state for the first run is set to 0, and if we don't do this then the LSTM will get 0 as the input for the hidden state.), and downsample the targets by a factor of 2(downsample basically means select only every second target value from the columns)."
   ]
  },
  {
   "cell_type": "code",
   "execution_count": 72,
   "id": "103b4508-74e8-4f10-9eab-b9f47b88a241",
   "metadata": {},
   "outputs": [
    {
     "name": "stdout",
     "output_type": "stream",
     "text": [
      "Epoch 1/20\n",
      "219/219 [==============================] - 8s 25ms/step - loss: 0.0692 - last_time_step_mse: 0.0613 - val_loss: 0.0482 - val_last_time_step_mse: 0.0380\n",
      "Epoch 2/20\n",
      "219/219 [==============================] - 4s 20ms/step - loss: 0.0412 - last_time_step_mse: 0.0333 - val_loss: 0.0366 - val_last_time_step_mse: 0.0271\n",
      "Epoch 3/20\n",
      "219/219 [==============================] - 5s 23ms/step - loss: 0.0305 - last_time_step_mse: 0.0206 - val_loss: 0.0276 - val_last_time_step_mse: 0.0161\n",
      "Epoch 4/20\n",
      "219/219 [==============================] - 5s 24ms/step - loss: 0.0256 - last_time_step_mse: 0.0144 - val_loss: 0.0250 - val_last_time_step_mse: 0.0131\n",
      "Epoch 5/20\n",
      "219/219 [==============================] - 5s 22ms/step - loss: 0.0240 - last_time_step_mse: 0.0130 - val_loss: 0.0238 - val_last_time_step_mse: 0.0123\n",
      "Epoch 6/20\n",
      "219/219 [==============================] - 5s 22ms/step - loss: 0.0229 - last_time_step_mse: 0.0121 - val_loss: 0.0231 - val_last_time_step_mse: 0.0120\n",
      "Epoch 7/20\n",
      "219/219 [==============================] - 5s 22ms/step - loss: 0.0222 - last_time_step_mse: 0.0117 - val_loss: 0.0224 - val_last_time_step_mse: 0.0112\n",
      "Epoch 8/20\n",
      "219/219 [==============================] - 5s 21ms/step - loss: 0.0216 - last_time_step_mse: 0.0110 - val_loss: 0.0222 - val_last_time_step_mse: 0.0113\n",
      "Epoch 9/20\n",
      "219/219 [==============================] - 5s 21ms/step - loss: 0.0212 - last_time_step_mse: 0.0109 - val_loss: 0.0218 - val_last_time_step_mse: 0.0112\n",
      "Epoch 10/20\n",
      "219/219 [==============================] - 5s 22ms/step - loss: 0.0209 - last_time_step_mse: 0.0108 - val_loss: 0.0216 - val_last_time_step_mse: 0.0112\n",
      "Epoch 11/20\n",
      "219/219 [==============================] - 5s 22ms/step - loss: 0.0205 - last_time_step_mse: 0.0105 - val_loss: 0.0209 - val_last_time_step_mse: 0.0102\n",
      "Epoch 12/20\n",
      "219/219 [==============================] - 5s 22ms/step - loss: 0.0201 - last_time_step_mse: 0.0101 - val_loss: 0.0206 - val_last_time_step_mse: 0.0105\n",
      "Epoch 13/20\n",
      "219/219 [==============================] - 5s 21ms/step - loss: 0.0199 - last_time_step_mse: 0.0101 - val_loss: 0.0203 - val_last_time_step_mse: 0.0100\n",
      "Epoch 14/20\n",
      "219/219 [==============================] - 5s 21ms/step - loss: 0.0197 - last_time_step_mse: 0.0100 - val_loss: 0.0198 - val_last_time_step_mse: 0.0096\n",
      "Epoch 15/20\n",
      "219/219 [==============================] - 5s 22ms/step - loss: 0.0194 - last_time_step_mse: 0.0098 - val_loss: 0.0196 - val_last_time_step_mse: 0.0095\n",
      "Epoch 16/20\n",
      "219/219 [==============================] - 5s 22ms/step - loss: 0.0191 - last_time_step_mse: 0.0095 - val_loss: 0.0197 - val_last_time_step_mse: 0.0098\n",
      "Epoch 17/20\n",
      "219/219 [==============================] - 5s 22ms/step - loss: 0.0188 - last_time_step_mse: 0.0094 - val_loss: 0.0190 - val_last_time_step_mse: 0.0091\n",
      "Epoch 18/20\n",
      "219/219 [==============================] - 5s 21ms/step - loss: 0.0185 - last_time_step_mse: 0.0090 - val_loss: 0.0187 - val_last_time_step_mse: 0.0088\n",
      "Epoch 19/20\n",
      "219/219 [==============================] - 5s 21ms/step - loss: 0.0181 - last_time_step_mse: 0.0087 - val_loss: 0.0190 - val_last_time_step_mse: 0.0094\n",
      "Epoch 20/20\n",
      "219/219 [==============================] - 5s 22ms/step - loss: 0.0177 - last_time_step_mse: 0.0083 - val_loss: 0.0180 - val_last_time_step_mse: 0.0084\n"
     ]
    }
   ],
   "source": [
    "model = keras.models.Sequential([\n",
    "    keras.layers.Conv1D(filters=20, kernel_size=4, strides=2, padding=\"valid\",\n",
    "                        input_shape=[None, 1]),\n",
    "    keras.layers.GRU(20, return_sequences=True),\n",
    "    keras.layers.GRU(20, return_sequences=True),\n",
    "    keras.layers.TimeDistributed(keras.layers.Dense(10))\n",
    "])\n",
    "\n",
    "model.compile(loss=\"mse\", optimizer=\"adam\", metrics=[last_time_step_mse])\n",
    "history = model.fit(X_train, Y_train[:, 3::2], epochs=20,\n",
    "                    validation_data=(X_valid, Y_valid[:, 3::2]))"
   ]
  },
  {
   "cell_type": "code",
   "execution_count": 76,
   "id": "ddc0e5bc-9876-4c72-b962-fdce466d62a8",
   "metadata": {},
   "outputs": [
    {
     "data": {
      "text/plain": [
       "array([[-0.31480166, -0.35355434, -0.44950873, -0.4210304 , -0.41469261,\n",
       "        -0.34517896, -0.1852376 ,  0.05097008,  0.35469484,  0.53110516],\n",
       "       [-0.35355434, -0.44950873, -0.4210304 , -0.41469261, -0.34517896,\n",
       "        -0.1852376 ,  0.05097008,  0.35469484,  0.53110516,  0.60427958],\n",
       "       [-0.44950873, -0.4210304 , -0.41469261, -0.34517896, -0.1852376 ,\n",
       "         0.05097008,  0.35469484,  0.53110516,  0.60427958,  0.57887834],\n",
       "       [-0.4210304 , -0.41469261, -0.34517896, -0.1852376 ,  0.05097008,\n",
       "         0.35469484,  0.53110516,  0.60427958,  0.57887834,  0.44205871],\n",
       "       [-0.41469261, -0.34517896, -0.1852376 ,  0.05097008,  0.35469484,\n",
       "         0.53110516,  0.60427958,  0.57887834,  0.44205871,  0.32154039],\n",
       "       [-0.34517896, -0.1852376 ,  0.05097008,  0.35469484,  0.53110516,\n",
       "         0.60427958,  0.57887834,  0.44205871,  0.32154039,  0.23079869],\n",
       "       [-0.1852376 ,  0.05097008,  0.35469484,  0.53110516,  0.60427958,\n",
       "         0.57887834,  0.44205871,  0.32154039,  0.23079869,  0.20819977],\n",
       "       [ 0.05097008,  0.35469484,  0.53110516,  0.60427958,  0.57887834,\n",
       "         0.44205871,  0.32154039,  0.23079869,  0.20819977,  0.24509065],\n",
       "       [ 0.35469484,  0.53110516,  0.60427958,  0.57887834,  0.44205871,\n",
       "         0.32154039,  0.23079869,  0.20819977,  0.24509065,  0.29302391],\n",
       "       [ 0.53110516,  0.60427958,  0.57887834,  0.44205871,  0.32154039,\n",
       "         0.23079869,  0.20819977,  0.24509065,  0.29302391,  0.25405806],\n",
       "       [ 0.60427958,  0.57887834,  0.44205871,  0.32154039,  0.23079869,\n",
       "         0.20819977,  0.24509065,  0.29302391,  0.25405806,  0.2043478 ],\n",
       "       [ 0.57887834,  0.44205871,  0.32154039,  0.23079869,  0.20819977,\n",
       "         0.24509065,  0.29302391,  0.25405806,  0.2043478 ,  0.08044362],\n",
       "       [ 0.44205871,  0.32154039,  0.23079869,  0.20819977,  0.24509065,\n",
       "         0.29302391,  0.25405806,  0.2043478 ,  0.08044362, -0.15130411],\n",
       "       [ 0.32154039,  0.23079869,  0.20819977,  0.24509065,  0.29302391,\n",
       "         0.25405806,  0.2043478 ,  0.08044362, -0.15130411, -0.40118885],\n",
       "       [ 0.23079869,  0.20819977,  0.24509065,  0.29302391,  0.25405806,\n",
       "         0.2043478 ,  0.08044362, -0.15130411, -0.40118885, -0.60727513],\n",
       "       [ 0.20819977,  0.24509065,  0.29302391,  0.25405806,  0.2043478 ,\n",
       "         0.08044362, -0.15130411, -0.40118885, -0.60727513, -0.67960876],\n",
       "       [ 0.24509065,  0.29302391,  0.25405806,  0.2043478 ,  0.08044362,\n",
       "        -0.15130411, -0.40118885, -0.60727513, -0.67960876, -0.67928213],\n",
       "       [ 0.29302391,  0.25405806,  0.2043478 ,  0.08044362, -0.15130411,\n",
       "        -0.40118885, -0.60727513, -0.67960876, -0.67928213, -0.57650429],\n",
       "       [ 0.25405806,  0.2043478 ,  0.08044362, -0.15130411, -0.40118885,\n",
       "        -0.60727513, -0.67960876, -0.67928213, -0.57650429, -0.36356413],\n",
       "       [ 0.2043478 ,  0.08044362, -0.15130411, -0.40118885, -0.60727513,\n",
       "        -0.67960876, -0.67928213, -0.57650429, -0.36356413, -0.18485373],\n",
       "       [ 0.08044362, -0.15130411, -0.40118885, -0.60727513, -0.67960876,\n",
       "        -0.67928213, -0.57650429, -0.36356413, -0.18485373, -0.10606553],\n",
       "       [-0.15130411, -0.40118885, -0.60727513, -0.67960876, -0.67928213,\n",
       "        -0.57650429, -0.36356413, -0.18485373, -0.10606553, -0.01478523],\n",
       "       [-0.40118885, -0.60727513, -0.67960876, -0.67928213, -0.57650429,\n",
       "        -0.36356413, -0.18485373, -0.10606553, -0.01478523, -0.04792443],\n",
       "       [-0.60727513, -0.67960876, -0.67928213, -0.57650429, -0.36356413,\n",
       "        -0.18485373, -0.10606553, -0.01478523, -0.04792443, -0.02151654],\n",
       "       [-0.67960876, -0.67928213, -0.57650429, -0.36356413, -0.18485373,\n",
       "        -0.10606553, -0.01478523, -0.04792443, -0.02151654, -0.05206799],\n",
       "       [-0.67928213, -0.57650429, -0.36356413, -0.18485373, -0.10606553,\n",
       "        -0.01478523, -0.04792443, -0.02151654, -0.05206799,  0.05842903],\n",
       "       [-0.57650429, -0.36356413, -0.18485373, -0.10606553, -0.01478523,\n",
       "        -0.04792443, -0.02151654, -0.05206799,  0.05842903,  0.22970435],\n",
       "       [-0.36356413, -0.18485373, -0.10606553, -0.01478523, -0.04792443,\n",
       "        -0.02151654, -0.05206799,  0.05842903,  0.22970435,  0.42907357],\n",
       "       [-0.18485373, -0.10606553, -0.01478523, -0.04792443, -0.02151654,\n",
       "        -0.05206799,  0.05842903,  0.22970435,  0.42907357,  0.5818339 ],\n",
       "       [-0.10606553, -0.01478523, -0.04792443, -0.02151654, -0.05206799,\n",
       "         0.05842903,  0.22970435,  0.42907357,  0.5818339 ,  0.68988335],\n",
       "       [-0.01478523, -0.04792443, -0.02151654, -0.05206799,  0.05842903,\n",
       "         0.22970435,  0.42907357,  0.5818339 ,  0.68988335,  0.6971643 ],\n",
       "       [-0.04792443, -0.02151654, -0.05206799,  0.05842903,  0.22970435,\n",
       "         0.42907357,  0.5818339 ,  0.68988335,  0.6971643 ,  0.61073887],\n",
       "       [-0.02151654, -0.05206799,  0.05842903,  0.22970435,  0.42907357,\n",
       "         0.5818339 ,  0.68988335,  0.6971643 ,  0.61073887,  0.34636354],\n",
       "       [-0.05206799,  0.05842903,  0.22970435,  0.42907357,  0.5818339 ,\n",
       "         0.68988335,  0.6971643 ,  0.61073887,  0.34636354,  0.14752936],\n",
       "       [ 0.05842903,  0.22970435,  0.42907357,  0.5818339 ,  0.68988335,\n",
       "         0.6971643 ,  0.61073887,  0.34636354,  0.14752936, -0.02777057],\n",
       "       [ 0.22970435,  0.42907357,  0.5818339 ,  0.68988335,  0.6971643 ,\n",
       "         0.61073887,  0.34636354,  0.14752936, -0.02777057, -0.0924909 ],\n",
       "       [ 0.42907357,  0.5818339 ,  0.68988335,  0.6971643 ,  0.61073887,\n",
       "         0.34636354,  0.14752936, -0.02777057, -0.0924909 , -0.14909704],\n",
       "       [ 0.5818339 ,  0.68988335,  0.6971643 ,  0.61073887,  0.34636354,\n",
       "         0.14752936, -0.02777057, -0.0924909 , -0.14909704, -0.17776802],\n",
       "       [ 0.68988335,  0.6971643 ,  0.61073887,  0.34636354,  0.14752936,\n",
       "        -0.02777057, -0.0924909 , -0.14909704, -0.17776802, -0.15904522],\n",
       "       [ 0.6971643 ,  0.61073887,  0.34636354,  0.14752936, -0.02777057,\n",
       "        -0.0924909 , -0.14909704, -0.17776802, -0.15904522, -0.17623015],\n",
       "       [ 0.61073887,  0.34636354,  0.14752936, -0.02777057, -0.0924909 ,\n",
       "        -0.14909704, -0.17776802, -0.15904522, -0.17623015, -0.3065688 ],\n",
       "       [ 0.34636354,  0.14752936, -0.02777057, -0.0924909 , -0.14909704,\n",
       "        -0.17776802, -0.15904522, -0.17623015, -0.3065688 , -0.38701382],\n",
       "       [ 0.14752936, -0.02777057, -0.0924909 , -0.14909704, -0.17776802,\n",
       "        -0.15904522, -0.17623015, -0.3065688 , -0.38701382, -0.52245861],\n",
       "       [-0.02777057, -0.0924909 , -0.14909704, -0.17776802, -0.15904522,\n",
       "        -0.17623015, -0.3065688 , -0.38701382, -0.52245861, -0.63717854],\n",
       "       [-0.0924909 , -0.14909704, -0.17776802, -0.15904522, -0.17623015,\n",
       "        -0.3065688 , -0.38701382, -0.52245861, -0.63717854, -0.6540364 ],\n",
       "       [-0.14909704, -0.17776802, -0.15904522, -0.17623015, -0.3065688 ,\n",
       "        -0.38701382, -0.52245861, -0.63717854, -0.6540364 , -0.57042772],\n",
       "       [-0.17776802, -0.15904522, -0.17623015, -0.3065688 , -0.38701382,\n",
       "        -0.52245861, -0.63717854, -0.6540364 , -0.57042772, -0.37353641],\n",
       "       [-0.15904522, -0.17623015, -0.3065688 , -0.38701382, -0.52245861,\n",
       "        -0.63717854, -0.6540364 , -0.57042772, -0.37353641, -0.0779064 ],\n",
       "       [-0.17623015, -0.3065688 , -0.38701382, -0.52245861, -0.63717854,\n",
       "        -0.6540364 , -0.57042772, -0.37353641, -0.0779064 ,  0.10002153],\n",
       "       [-0.3065688 , -0.38701382, -0.52245861, -0.63717854, -0.6540364 ,\n",
       "        -0.57042772, -0.37353641, -0.0779064 ,  0.10002153,  0.33614752]])"
      ]
     },
     "execution_count": 76,
     "metadata": {},
     "output_type": "execute_result"
    }
   ],
   "source": [
    "Y_valid[0]"
   ]
  },
  {
   "cell_type": "code",
   "execution_count": null,
   "id": "1770e676-260c-471e-9d3f-cf7f3093ec4e",
   "metadata": {},
   "outputs": [],
   "source": []
  },
  {
   "cell_type": "markdown",
   "id": "679041af-c8e1-4dd8-8278-ab6743c359a0",
   "metadata": {},
   "source": [
    "## WaveNet"
   ]
  },
  {
   "cell_type": "markdown",
   "id": "745e943a-be4b-4cc1-93ef-86eeaa068b6e",
   "metadata": {},
   "source": [
    "In a 2016 paper, Aaron van den Oord and other DeepMind researchers introduced an architecture called WaveNet. They stacked 1D convolutional layers, doubling the dilation rate (how spread apart each neuron’s inputs are) at every layer: the first convolutional layer gets a glimpse of just two time steps at a time, while the next one sees four time steps (its receptive field is four time steps long), the next one sees eight time steps, and so on (see Figure 15-11)."
   ]
  },
  {
   "cell_type": "markdown",
   "id": "6fb05042-731d-4454-9746-0f87a6858212",
   "metadata": {},
   "source": [
    "This way, the lower layers learn short-term patterns, while the higher layers learn long-term patterns. Thanks to the doubling dilation rate, the network can process extremely large sequences very efficiently."
   ]
  },
  {
   "cell_type": "markdown",
   "id": "f46b9312-a282-4ce1-a8ea-4083940441b9",
   "metadata": {},
   "source": [
    "### WaveNet architecture"
   ]
  },
  {
   "cell_type": "markdown",
   "id": "c67ad445-e71d-4fe8-bbe6-caba030036e1",
   "metadata": {},
   "source": [
    "In the WaveNet paper, the authors actually stacked 10 convolutional layers with dilation rates of 1, 2, 4, 8, …, 256, 512, then they stacked another group of 10 identical layers (also with dilation rates 1, 2, 4, 8, …, 256, 512), then again another identical group of 10 layers."
   ]
  },
  {
   "cell_type": "markdown",
   "id": "b9054a17-69fa-477f-ac27-9db6c2a10c8f",
   "metadata": {},
   "source": [
    "They justified this architecture by pointing out that a single stack of 10 convolutional layers with these dilation rates will act like a super-efficient convolutional layer with a kernel of size 1,024 (except way faster, more powerful, and using significantly fewer parameters), which is why they stacked 3 such blocks."
   ]
  },
  {
   "cell_type": "markdown",
   "id": "8c683f52-5072-4bed-9b69-e080726b92bb",
   "metadata": {},
   "source": [
    "They also left-padded the input sequences with a number of zeros equal to the dilation rate before every layer, to preserve the same sequence length throughout the network (this is done by passing padding = 'casual')."
   ]
  },
  {
   "cell_type": "markdown",
   "id": "23e70357-95bf-4ca5-b6ac-6b44564cf25c",
   "metadata": {},
   "source": [
    "### Implementing WaveNet"
   ]
  },
  {
   "cell_type": "code",
   "execution_count": 77,
   "id": "7d5b7440-701d-4bd4-9381-afac54e5162c",
   "metadata": {},
   "outputs": [
    {
     "name": "stdout",
     "output_type": "stream",
     "text": [
      "Epoch 1/20\n",
      "219/219 [==============================] - 4s 12ms/step - loss: 0.0627 - last_time_step_mse: 0.0507 - val_loss: 0.0369 - val_last_time_step_mse: 0.0219\n",
      "Epoch 2/20\n",
      "219/219 [==============================] - 3s 12ms/step - loss: 0.0321 - last_time_step_mse: 0.0183 - val_loss: 0.0312 - val_last_time_step_mse: 0.0182\n",
      "Epoch 3/20\n",
      "219/219 [==============================] - 3s 12ms/step - loss: 0.0284 - last_time_step_mse: 0.0155 - val_loss: 0.0279 - val_last_time_step_mse: 0.0145\n",
      "Epoch 4/20\n",
      "219/219 [==============================] - 3s 12ms/step - loss: 0.0265 - last_time_step_mse: 0.0139 - val_loss: 0.0267 - val_last_time_step_mse: 0.0134\n",
      "Epoch 5/20\n",
      "219/219 [==============================] - 3s 12ms/step - loss: 0.0251 - last_time_step_mse: 0.0128 - val_loss: 0.0256 - val_last_time_step_mse: 0.0126\n",
      "Epoch 6/20\n",
      "219/219 [==============================] - 3s 12ms/step - loss: 0.0243 - last_time_step_mse: 0.0122 - val_loss: 0.0248 - val_last_time_step_mse: 0.0120\n",
      "Epoch 7/20\n",
      "219/219 [==============================] - 3s 12ms/step - loss: 0.0238 - last_time_step_mse: 0.0118 - val_loss: 0.0248 - val_last_time_step_mse: 0.0123\n",
      "Epoch 8/20\n",
      "219/219 [==============================] - 3s 12ms/step - loss: 0.0233 - last_time_step_mse: 0.0114 - val_loss: 0.0240 - val_last_time_step_mse: 0.0111\n",
      "Epoch 9/20\n",
      "219/219 [==============================] - 3s 12ms/step - loss: 0.0227 - last_time_step_mse: 0.0108 - val_loss: 0.0228 - val_last_time_step_mse: 0.0103\n",
      "Epoch 10/20\n",
      "219/219 [==============================] - 3s 12ms/step - loss: 0.0223 - last_time_step_mse: 0.0105 - val_loss: 0.0238 - val_last_time_step_mse: 0.0123\n",
      "Epoch 11/20\n",
      "219/219 [==============================] - 3s 12ms/step - loss: 0.0221 - last_time_step_mse: 0.0104 - val_loss: 0.0222 - val_last_time_step_mse: 0.0097\n",
      "Epoch 12/20\n",
      "219/219 [==============================] - 3s 12ms/step - loss: 0.0214 - last_time_step_mse: 0.0097 - val_loss: 0.0218 - val_last_time_step_mse: 0.0096\n",
      "Epoch 13/20\n",
      "219/219 [==============================] - 3s 12ms/step - loss: 0.0213 - last_time_step_mse: 0.0098 - val_loss: 0.0223 - val_last_time_step_mse: 0.0103\n",
      "Epoch 14/20\n",
      "219/219 [==============================] - 2s 11ms/step - loss: 0.0207 - last_time_step_mse: 0.0091 - val_loss: 0.0223 - val_last_time_step_mse: 0.0104\n",
      "Epoch 15/20\n",
      "219/219 [==============================] - 2s 11ms/step - loss: 0.0204 - last_time_step_mse: 0.0089 - val_loss: 0.0210 - val_last_time_step_mse: 0.0091\n",
      "Epoch 16/20\n",
      "219/219 [==============================] - 2s 11ms/step - loss: 0.0200 - last_time_step_mse: 0.0085 - val_loss: 0.0205 - val_last_time_step_mse: 0.0081\n",
      "Epoch 17/20\n",
      "219/219 [==============================] - 3s 12ms/step - loss: 0.0196 - last_time_step_mse: 0.0081 - val_loss: 0.0199 - val_last_time_step_mse: 0.0077\n",
      "Epoch 18/20\n",
      "219/219 [==============================] - 3s 11ms/step - loss: 0.0193 - last_time_step_mse: 0.0077 - val_loss: 0.0197 - val_last_time_step_mse: 0.0072\n",
      "Epoch 19/20\n",
      "219/219 [==============================] - 3s 12ms/step - loss: 0.0190 - last_time_step_mse: 0.0074 - val_loss: 0.0200 - val_last_time_step_mse: 0.0081\n",
      "Epoch 20/20\n",
      "219/219 [==============================] - 3s 12ms/step - loss: 0.0188 - last_time_step_mse: 0.0072 - val_loss: 0.0191 - val_last_time_step_mse: 0.0069\n"
     ]
    }
   ],
   "source": [
    "model = keras.models.Sequential()\n",
    "model.add(keras.layers.InputLayer(input_shape=[None, 1]))\n",
    "for rate in (1, 2, 4, 8) * 2:\n",
    "    model.add(keras.layers.Conv1D(filters=20, kernel_size=2, padding=\"causal\",activation=\"relu\", dilation_rate=rate))\n",
    "model.add(keras.layers.Conv1D(filters=10, kernel_size=1))\n",
    "\n",
    "\n",
    "model.compile(loss=\"mse\", optimizer=\"adam\", metrics=[last_time_step_mse])\n",
    "\n",
    "history = model.fit(X_train, Y_train, epochs=20,validation_data=(X_valid, Y_valid))"
   ]
  },
  {
   "cell_type": "markdown",
   "id": "657d4f0f-4e01-4d00-951c-e945b0308943",
   "metadata": {},
   "source": [
    "### Code Explanation"
   ]
  },
  {
   "cell_type": "markdown",
   "id": "08b58541-84d2-4762-b575-6b2bdde6aad4",
   "metadata": {},
   "source": [
    "This Sequential model starts with an explicit input layer (this is simpler than trying to set input_shape only on the first layer), then continues with a 1D convolutional layer using \"causal\" padding: this ensures that the convolutional layer does not peek into the future when making predictions (it is equivalent to padding the inputs with the right amount of zeros on the left and using \"valid\" padding)."
   ]
  },
  {
   "cell_type": "markdown",
   "id": "dbb8022b-a680-4790-bace-84ed6654d980",
   "metadata": {},
   "source": [
    "We then add similar pairs of layers using growing dilation rates: 1, 2, 4, 8, and again 1, 2, 4, 8."
   ]
  },
  {
   "cell_type": "markdown",
   "id": "4e2e7385-54cf-4859-9df7-ffda5dbe910e",
   "metadata": {},
   "source": [
    "Finally, we add the output layer: a convolutional layer with 10 filters of size 1 and without any activation function. Thanks to the padding layers, every convolutional layer outputs a sequence of the same length as the input sequences, so the targets we use during training can be the full sequences: no need to crop them or downsample them."
   ]
  },
  {
   "cell_type": "markdown",
   "id": "8b612e83-e591-459f-9c84-390fb14d6ceb",
   "metadata": {},
   "source": [
    "In the WaveNet paper, the authors achieved state-of-the-art performance on various audio tasks (hence the name of the architecture), including text-to-speech tasks, producing incredibly realistic voices across several languages. They also used the model to generate music, one audio sample at a time. This feat is all the more impressive when you realize that a single second of audio can contain tens of thousands of time steps—even LSTMs and GRUs cannot handle such long sequences."
   ]
  },
  {
   "cell_type": "code",
   "execution_count": null,
   "id": "5e96ea2a-1f05-4f43-b024-52a4577a6fdd",
   "metadata": {},
   "outputs": [],
   "source": []
  },
  {
   "cell_type": "code",
   "execution_count": 79,
   "id": "c1eee45c-11c0-4ed9-a834-c4946a5e9eaf",
   "metadata": {},
   "outputs": [
    {
     "name": "stdout",
     "output_type": "stream",
     "text": [
      "1\n",
      "2\n",
      "3\n",
      "4\n",
      "1\n",
      "2\n",
      "3\n",
      "4\n"
     ]
    }
   ],
   "source": [
    "for ki  in (1,2,3,4) * 2:\n",
    "    print(ki)"
   ]
  },
  {
   "cell_type": "code",
   "execution_count": null,
   "id": "f25a0f24-6faa-465c-8302-f90105c95194",
   "metadata": {},
   "outputs": [],
   "source": []
  },
  {
   "cell_type": "code",
   "execution_count": null,
   "id": "d30f8edc-c59a-4b55-a4f1-e79b2adc5761",
   "metadata": {},
   "outputs": [],
   "source": []
  },
  {
   "cell_type": "code",
   "execution_count": null,
   "id": "cf5e2b49-7896-44ab-bb65-4f9d7c820f0a",
   "metadata": {},
   "outputs": [],
   "source": []
  },
  {
   "cell_type": "code",
   "execution_count": null,
   "id": "7e0d563a-d8a1-4466-bf4c-cc2ff1a91820",
   "metadata": {},
   "outputs": [],
   "source": []
  },
  {
   "cell_type": "code",
   "execution_count": null,
   "id": "1bda1e21-97cf-473f-9312-49ffef236da9",
   "metadata": {},
   "outputs": [],
   "source": []
  },
  {
   "cell_type": "code",
   "execution_count": null,
   "id": "16d9bd4a-6b06-42b0-b938-16d805051035",
   "metadata": {},
   "outputs": [],
   "source": []
  },
  {
   "cell_type": "code",
   "execution_count": null,
   "id": "56f21b66-444b-4db6-af8e-30487943eccc",
   "metadata": {},
   "outputs": [],
   "source": []
  },
  {
   "cell_type": "code",
   "execution_count": null,
   "id": "f00523eb-df70-4e73-adfc-a3e8d0b12861",
   "metadata": {},
   "outputs": [],
   "source": []
  },
  {
   "cell_type": "code",
   "execution_count": null,
   "id": "1bab269a-258e-4b49-81ef-a445d36dbe6f",
   "metadata": {},
   "outputs": [],
   "source": []
  },
  {
   "cell_type": "code",
   "execution_count": null,
   "id": "41a6adc9-3e8f-4ebc-8f6c-64a61e84c513",
   "metadata": {},
   "outputs": [],
   "source": []
  },
  {
   "cell_type": "code",
   "execution_count": null,
   "id": "a04d8098-6b8e-4407-94da-a9b146ea6d05",
   "metadata": {},
   "outputs": [],
   "source": []
  },
  {
   "cell_type": "code",
   "execution_count": null,
   "id": "90e339ff-521f-4ce9-b567-fa01544a99b0",
   "metadata": {},
   "outputs": [],
   "source": []
  },
  {
   "cell_type": "code",
   "execution_count": null,
   "id": "4446bf71-2c41-42c3-83a4-95b652e703d2",
   "metadata": {},
   "outputs": [],
   "source": []
  },
  {
   "cell_type": "code",
   "execution_count": null,
   "id": "459fa801-2fa9-4336-8112-bb36f4592b0f",
   "metadata": {},
   "outputs": [],
   "source": []
  },
  {
   "cell_type": "code",
   "execution_count": null,
   "id": "3fc90100-0e27-4f27-b8ca-3633618bcfed",
   "metadata": {},
   "outputs": [],
   "source": []
  },
  {
   "cell_type": "code",
   "execution_count": null,
   "id": "c1cd4d8c-f5a4-4e77-8e5c-51670c8d44c0",
   "metadata": {},
   "outputs": [],
   "source": []
  },
  {
   "cell_type": "code",
   "execution_count": null,
   "id": "e99d5ee2-5a92-4cc3-87c5-7411f8fc5b3b",
   "metadata": {},
   "outputs": [],
   "source": []
  },
  {
   "cell_type": "code",
   "execution_count": null,
   "id": "88b1f96d-09c0-43c6-b0a4-eaf4005d2f81",
   "metadata": {},
   "outputs": [],
   "source": []
  },
  {
   "cell_type": "code",
   "execution_count": null,
   "id": "451f787c-9cda-49ab-b8bf-19329e48cd36",
   "metadata": {},
   "outputs": [],
   "source": []
  },
  {
   "cell_type": "code",
   "execution_count": null,
   "id": "e49bc51c-32d2-4d34-85bf-a0ddca410ae8",
   "metadata": {},
   "outputs": [],
   "source": []
  },
  {
   "cell_type": "code",
   "execution_count": null,
   "id": "d14439ee-7927-4d40-8ac9-e0c312fa83a9",
   "metadata": {},
   "outputs": [],
   "source": []
  },
  {
   "cell_type": "code",
   "execution_count": null,
   "id": "b70a680a-f9de-4511-ab35-a2a115137c2e",
   "metadata": {},
   "outputs": [],
   "source": []
  },
  {
   "cell_type": "code",
   "execution_count": null,
   "id": "a265d8d3-66de-44d7-836a-a02808aefbc7",
   "metadata": {},
   "outputs": [],
   "source": []
  },
  {
   "cell_type": "code",
   "execution_count": null,
   "id": "6048a529-1e6b-41c6-9023-c191014f1b4e",
   "metadata": {},
   "outputs": [],
   "source": []
  },
  {
   "cell_type": "code",
   "execution_count": null,
   "id": "b28e9b1d-7d84-47bf-9428-8d633b4c9e3d",
   "metadata": {},
   "outputs": [],
   "source": []
  },
  {
   "cell_type": "code",
   "execution_count": null,
   "id": "0829d092-b987-45c3-ae06-51edaea2a199",
   "metadata": {},
   "outputs": [],
   "source": []
  },
  {
   "cell_type": "code",
   "execution_count": null,
   "id": "94656bb3-fff8-477a-a287-49aa50b40514",
   "metadata": {},
   "outputs": [],
   "source": []
  },
  {
   "cell_type": "code",
   "execution_count": null,
   "id": "ce0dfb52-82e0-4a96-af68-bf965015597a",
   "metadata": {},
   "outputs": [],
   "source": []
  },
  {
   "cell_type": "code",
   "execution_count": null,
   "id": "cc93f2d8-86bd-445f-8bde-b6d6c6f47b45",
   "metadata": {},
   "outputs": [],
   "source": []
  },
  {
   "cell_type": "code",
   "execution_count": null,
   "id": "67e7fa72-0343-47c8-8810-3d955103d386",
   "metadata": {},
   "outputs": [],
   "source": []
  },
  {
   "cell_type": "code",
   "execution_count": null,
   "id": "7612d9f1-f25a-450b-861d-9a600f6792b7",
   "metadata": {},
   "outputs": [],
   "source": []
  },
  {
   "cell_type": "code",
   "execution_count": null,
   "id": "901bbe68-4dea-438a-b912-093f27f890c7",
   "metadata": {},
   "outputs": [],
   "source": []
  },
  {
   "cell_type": "code",
   "execution_count": null,
   "id": "2659a65c-68c2-4ebd-bf6b-e22a3b86ed4e",
   "metadata": {},
   "outputs": [],
   "source": []
  },
  {
   "cell_type": "code",
   "execution_count": null,
   "id": "52b98e45-cd8c-4e24-a306-d19e631fe6a2",
   "metadata": {},
   "outputs": [],
   "source": []
  },
  {
   "cell_type": "code",
   "execution_count": null,
   "id": "1463fe4d-3dad-40d5-8f42-61534e81e2e6",
   "metadata": {},
   "outputs": [],
   "source": []
  },
  {
   "cell_type": "code",
   "execution_count": null,
   "id": "714b68db-ad9e-4c5f-8cf7-18d14705ebd0",
   "metadata": {},
   "outputs": [],
   "source": []
  },
  {
   "cell_type": "code",
   "execution_count": null,
   "id": "474842a4-9669-4c48-ac86-6257babf7142",
   "metadata": {},
   "outputs": [],
   "source": []
  },
  {
   "cell_type": "code",
   "execution_count": null,
   "id": "8bb9d711-bc79-42df-beed-42739297bd35",
   "metadata": {},
   "outputs": [],
   "source": []
  },
  {
   "cell_type": "code",
   "execution_count": null,
   "id": "eb7e50ee-f659-41c0-a693-6be64f0ed46e",
   "metadata": {},
   "outputs": [],
   "source": []
  },
  {
   "cell_type": "code",
   "execution_count": null,
   "id": "dd71a57c-35ed-44e4-a543-8dba7a7b23fe",
   "metadata": {},
   "outputs": [],
   "source": []
  },
  {
   "cell_type": "code",
   "execution_count": null,
   "id": "00e62ab9-4f0b-4b97-93d7-5c74693a0739",
   "metadata": {},
   "outputs": [],
   "source": []
  },
  {
   "cell_type": "code",
   "execution_count": null,
   "id": "9af13a8b-bced-4d7b-9213-b5db440ce17d",
   "metadata": {},
   "outputs": [],
   "source": []
  },
  {
   "cell_type": "code",
   "execution_count": null,
   "id": "0bc764b0-0e57-441b-a467-11fd80a292cd",
   "metadata": {},
   "outputs": [],
   "source": []
  },
  {
   "cell_type": "code",
   "execution_count": null,
   "id": "2f58bf3e-79b1-419d-b504-3d0ea6ac1ec9",
   "metadata": {},
   "outputs": [],
   "source": []
  },
  {
   "cell_type": "code",
   "execution_count": null,
   "id": "62f9d0af-7151-4786-b381-2ae258ae0c97",
   "metadata": {},
   "outputs": [],
   "source": []
  },
  {
   "cell_type": "code",
   "execution_count": null,
   "id": "1e82ca7b-62b7-40d9-930b-58015e8fab35",
   "metadata": {},
   "outputs": [],
   "source": []
  },
  {
   "cell_type": "code",
   "execution_count": null,
   "id": "3e1fd960-a9fc-40ad-9c07-4267490fc1f9",
   "metadata": {},
   "outputs": [],
   "source": []
  },
  {
   "cell_type": "code",
   "execution_count": null,
   "id": "7f9a73a4-e09f-4ec2-9e86-06459f89204b",
   "metadata": {},
   "outputs": [],
   "source": []
  },
  {
   "cell_type": "code",
   "execution_count": null,
   "id": "2bb029a3-c1c9-4a39-b38a-273e43135a52",
   "metadata": {},
   "outputs": [],
   "source": []
  },
  {
   "cell_type": "code",
   "execution_count": null,
   "id": "022aa7fa-71f8-4021-bb98-bb89607cda28",
   "metadata": {},
   "outputs": [],
   "source": []
  },
  {
   "cell_type": "code",
   "execution_count": null,
   "id": "ee600b7d-e83f-446b-bee3-237c029b175b",
   "metadata": {},
   "outputs": [],
   "source": []
  },
  {
   "cell_type": "code",
   "execution_count": null,
   "id": "c79d852c-dbe0-4030-9703-ce0a5a508a57",
   "metadata": {},
   "outputs": [],
   "source": []
  },
  {
   "cell_type": "code",
   "execution_count": null,
   "id": "dc59a506-496b-49e7-bd91-d12586558070",
   "metadata": {},
   "outputs": [],
   "source": []
  },
  {
   "cell_type": "code",
   "execution_count": null,
   "id": "71fe17c4-4ee9-4df7-879f-13a9eb111001",
   "metadata": {},
   "outputs": [],
   "source": []
  },
  {
   "cell_type": "code",
   "execution_count": null,
   "id": "9fa02329-0f1a-490c-8fa8-c04c77bf56bf",
   "metadata": {},
   "outputs": [],
   "source": []
  },
  {
   "cell_type": "code",
   "execution_count": null,
   "id": "e6a1e6b4-8fd7-4ab2-a806-e292ab885330",
   "metadata": {},
   "outputs": [],
   "source": []
  },
  {
   "cell_type": "code",
   "execution_count": null,
   "id": "498ad9bb-bae2-4adf-9b2f-1eb79f3c1c71",
   "metadata": {},
   "outputs": [],
   "source": []
  },
  {
   "cell_type": "code",
   "execution_count": null,
   "id": "c8253fdb-5e91-46dc-94b7-31aecb9f3c74",
   "metadata": {},
   "outputs": [],
   "source": []
  },
  {
   "cell_type": "code",
   "execution_count": null,
   "id": "4cbd4cf1-0653-4ea0-9b0b-15acda27dc35",
   "metadata": {},
   "outputs": [],
   "source": []
  },
  {
   "cell_type": "code",
   "execution_count": null,
   "id": "d566d80c-b4da-47ac-bb8a-1984d373210a",
   "metadata": {},
   "outputs": [],
   "source": []
  },
  {
   "cell_type": "code",
   "execution_count": null,
   "id": "a8756cdd-4452-4b85-9224-3ef4ccfeab97",
   "metadata": {},
   "outputs": [],
   "source": []
  },
  {
   "cell_type": "code",
   "execution_count": null,
   "id": "ca856a2a-3aa1-488b-8c59-5a2e2d2b14ae",
   "metadata": {},
   "outputs": [],
   "source": []
  },
  {
   "cell_type": "code",
   "execution_count": null,
   "id": "b8381ed3-0110-48e8-9c7a-a58053507890",
   "metadata": {},
   "outputs": [],
   "source": []
  },
  {
   "cell_type": "code",
   "execution_count": null,
   "id": "3964ba65-a035-4cd9-93b8-b462ed3b8e9d",
   "metadata": {},
   "outputs": [],
   "source": []
  },
  {
   "cell_type": "code",
   "execution_count": null,
   "id": "9c25928e-23df-4dca-bcca-ed8bf37ce852",
   "metadata": {},
   "outputs": [],
   "source": []
  },
  {
   "cell_type": "code",
   "execution_count": null,
   "id": "2679844f-59fe-42da-9caf-ccf33a3b0f91",
   "metadata": {},
   "outputs": [],
   "source": []
  },
  {
   "cell_type": "code",
   "execution_count": null,
   "id": "7a0e78db-9742-40f0-864b-b94d1b43657d",
   "metadata": {},
   "outputs": [],
   "source": []
  },
  {
   "cell_type": "code",
   "execution_count": null,
   "id": "ca0d8bd7-6d55-43ba-a70e-9986b2f74566",
   "metadata": {},
   "outputs": [],
   "source": []
  },
  {
   "cell_type": "code",
   "execution_count": null,
   "id": "878467cf-5226-4fd3-b27e-92c7979ba253",
   "metadata": {},
   "outputs": [],
   "source": []
  },
  {
   "cell_type": "code",
   "execution_count": null,
   "id": "0dce8c69-e4eb-4bcf-9d82-b06c3628d620",
   "metadata": {},
   "outputs": [],
   "source": []
  },
  {
   "cell_type": "code",
   "execution_count": null,
   "id": "2b97ecb5-d188-45f7-b26d-e3e04c043eac",
   "metadata": {},
   "outputs": [],
   "source": []
  },
  {
   "cell_type": "code",
   "execution_count": null,
   "id": "ecb2883c-1a9e-44c6-9fbe-b496c4bc729a",
   "metadata": {},
   "outputs": [],
   "source": []
  },
  {
   "cell_type": "code",
   "execution_count": null,
   "id": "06d89b51-2b1d-43bd-9e91-cea32fcf6237",
   "metadata": {},
   "outputs": [],
   "source": []
  },
  {
   "cell_type": "code",
   "execution_count": null,
   "id": "c840e0e5-68c1-4e25-8e85-0e90e8dd3c93",
   "metadata": {},
   "outputs": [],
   "source": []
  },
  {
   "cell_type": "code",
   "execution_count": null,
   "id": "d286fef2-72da-42b8-a463-8ac18d1d8b83",
   "metadata": {},
   "outputs": [],
   "source": []
  },
  {
   "cell_type": "code",
   "execution_count": null,
   "id": "a195eed4-52f4-430a-8d5d-7034944249eb",
   "metadata": {},
   "outputs": [],
   "source": []
  },
  {
   "cell_type": "code",
   "execution_count": null,
   "id": "cea3b133-5b4f-4a70-9891-ee38c9a7aa74",
   "metadata": {},
   "outputs": [],
   "source": []
  },
  {
   "cell_type": "code",
   "execution_count": null,
   "id": "ded06f6a-0b33-4c45-9584-d4b1af99aa97",
   "metadata": {},
   "outputs": [],
   "source": []
  },
  {
   "cell_type": "code",
   "execution_count": null,
   "id": "917584c6-b471-4b0e-ad97-f87239e022f7",
   "metadata": {},
   "outputs": [],
   "source": []
  },
  {
   "cell_type": "code",
   "execution_count": null,
   "id": "e718e05e-f1a1-4149-8975-5fcbd7b3e36e",
   "metadata": {},
   "outputs": [],
   "source": []
  },
  {
   "cell_type": "code",
   "execution_count": null,
   "id": "fbe67a83-bd2c-4314-adac-521f3793b4e8",
   "metadata": {},
   "outputs": [],
   "source": []
  },
  {
   "cell_type": "code",
   "execution_count": null,
   "id": "4b61f477-55cd-49ed-a841-42af91bec209",
   "metadata": {},
   "outputs": [],
   "source": []
  },
  {
   "cell_type": "code",
   "execution_count": null,
   "id": "196770d8-0cf3-498d-9641-6780148df02f",
   "metadata": {},
   "outputs": [],
   "source": []
  },
  {
   "cell_type": "code",
   "execution_count": null,
   "id": "7e700847-60f2-4289-b313-a72785a5659a",
   "metadata": {},
   "outputs": [],
   "source": []
  },
  {
   "cell_type": "code",
   "execution_count": null,
   "id": "323c3c9a-65e4-482e-b05e-3024d05a13ab",
   "metadata": {},
   "outputs": [],
   "source": []
  },
  {
   "cell_type": "code",
   "execution_count": null,
   "id": "c25f8c82-d217-4fa9-97a2-6e49e8eadf34",
   "metadata": {},
   "outputs": [],
   "source": []
  },
  {
   "cell_type": "code",
   "execution_count": null,
   "id": "d39ed7a5-ed2c-417a-988f-f03ffc656dc9",
   "metadata": {},
   "outputs": [],
   "source": []
  },
  {
   "cell_type": "code",
   "execution_count": null,
   "id": "57b22b10-9d54-4297-bcbf-80db02a7b488",
   "metadata": {},
   "outputs": [],
   "source": []
  },
  {
   "cell_type": "code",
   "execution_count": null,
   "id": "7e0a8e53-07ee-4c38-890f-81600ceb0535",
   "metadata": {},
   "outputs": [],
   "source": []
  },
  {
   "cell_type": "code",
   "execution_count": null,
   "id": "945457f5-b577-4822-a161-4ae64bde2280",
   "metadata": {},
   "outputs": [],
   "source": []
  },
  {
   "cell_type": "code",
   "execution_count": null,
   "id": "18b52065-9fe0-43a7-97e6-3863a9082077",
   "metadata": {},
   "outputs": [],
   "source": []
  },
  {
   "cell_type": "code",
   "execution_count": null,
   "id": "a03a2eec-c240-4947-9203-c9716e816958",
   "metadata": {},
   "outputs": [],
   "source": []
  },
  {
   "cell_type": "code",
   "execution_count": null,
   "id": "a257622b-6ef2-4939-9a5e-b87cd5537d1c",
   "metadata": {},
   "outputs": [],
   "source": []
  },
  {
   "cell_type": "code",
   "execution_count": null,
   "id": "a58b8ed9-bba3-4755-8bf0-7eba7af5133a",
   "metadata": {},
   "outputs": [],
   "source": []
  },
  {
   "cell_type": "code",
   "execution_count": null,
   "id": "d7bf05aa-be67-48e8-8501-14005e15aaed",
   "metadata": {},
   "outputs": [],
   "source": []
  },
  {
   "cell_type": "code",
   "execution_count": null,
   "id": "65a5e5d5-894f-4c33-902b-fea7e83a5451",
   "metadata": {},
   "outputs": [],
   "source": []
  },
  {
   "cell_type": "code",
   "execution_count": null,
   "id": "c572c363-2080-4c87-ae30-44db5b4fdb50",
   "metadata": {},
   "outputs": [],
   "source": []
  },
  {
   "cell_type": "code",
   "execution_count": null,
   "id": "a7d60048-270a-41ab-b6ce-1855bbc57c2b",
   "metadata": {},
   "outputs": [],
   "source": []
  },
  {
   "cell_type": "code",
   "execution_count": null,
   "id": "67a4fab2-2a6b-4b26-bc3a-d47648f4e9ff",
   "metadata": {},
   "outputs": [],
   "source": []
  },
  {
   "cell_type": "code",
   "execution_count": null,
   "id": "be154c50-04e8-4046-8a3b-2d6b01f02263",
   "metadata": {},
   "outputs": [],
   "source": []
  },
  {
   "cell_type": "code",
   "execution_count": null,
   "id": "ee828c9c-c9da-4bde-97a3-7715e4a9a789",
   "metadata": {},
   "outputs": [],
   "source": []
  },
  {
   "cell_type": "code",
   "execution_count": null,
   "id": "83d01563-0332-418d-a6d4-7b57c7255fe7",
   "metadata": {},
   "outputs": [],
   "source": []
  },
  {
   "cell_type": "code",
   "execution_count": null,
   "id": "51323821-02e5-4777-9800-d4141d064fb8",
   "metadata": {},
   "outputs": [],
   "source": []
  },
  {
   "cell_type": "code",
   "execution_count": null,
   "id": "430af0ab-006c-4986-b85d-1287f636d727",
   "metadata": {},
   "outputs": [],
   "source": []
  },
  {
   "cell_type": "code",
   "execution_count": null,
   "id": "7817cbc6-ba86-4914-af43-546055065d3f",
   "metadata": {},
   "outputs": [],
   "source": []
  },
  {
   "cell_type": "code",
   "execution_count": null,
   "id": "1e002eea-ae3b-4df2-b705-839c73117fff",
   "metadata": {},
   "outputs": [],
   "source": []
  },
  {
   "cell_type": "code",
   "execution_count": null,
   "id": "e7fb585a-bc09-48ed-a707-5ffe9122a9b3",
   "metadata": {},
   "outputs": [],
   "source": []
  },
  {
   "cell_type": "code",
   "execution_count": null,
   "id": "1909a75c-9c70-4730-afcd-818c81ff72a5",
   "metadata": {},
   "outputs": [],
   "source": []
  },
  {
   "cell_type": "code",
   "execution_count": null,
   "id": "061eb907-4e25-4fab-8268-c03a34176c7d",
   "metadata": {},
   "outputs": [],
   "source": []
  },
  {
   "cell_type": "code",
   "execution_count": null,
   "id": "14bdbf4e-344f-4a43-b60d-dd518cdfc41d",
   "metadata": {},
   "outputs": [],
   "source": []
  },
  {
   "cell_type": "code",
   "execution_count": null,
   "id": "b22180d2-b89c-4a57-b7e3-cf41dc97df7c",
   "metadata": {},
   "outputs": [],
   "source": []
  },
  {
   "cell_type": "code",
   "execution_count": null,
   "id": "00656896-29c1-4445-8266-2d4af6036135",
   "metadata": {},
   "outputs": [],
   "source": []
  },
  {
   "cell_type": "code",
   "execution_count": null,
   "id": "45e80ff6-7d24-4e75-a379-fd8e6d267f9a",
   "metadata": {},
   "outputs": [],
   "source": []
  },
  {
   "cell_type": "code",
   "execution_count": null,
   "id": "4ffa0c58-db7a-49f8-8b8d-efc1d309e667",
   "metadata": {},
   "outputs": [],
   "source": []
  },
  {
   "cell_type": "code",
   "execution_count": null,
   "id": "331f2455-4b1d-42bb-b843-65b9cc0c1056",
   "metadata": {},
   "outputs": [],
   "source": []
  },
  {
   "cell_type": "code",
   "execution_count": null,
   "id": "02c73d48-c803-4314-9fa2-f2f7742cb2c5",
   "metadata": {},
   "outputs": [],
   "source": []
  },
  {
   "cell_type": "code",
   "execution_count": null,
   "id": "92ae2bae-309c-47b0-b70e-97f314c7056e",
   "metadata": {},
   "outputs": [],
   "source": []
  },
  {
   "cell_type": "code",
   "execution_count": null,
   "id": "6c7f1480-ca13-49cc-ae56-8944d3d79804",
   "metadata": {},
   "outputs": [],
   "source": []
  },
  {
   "cell_type": "code",
   "execution_count": null,
   "id": "29fd6a63-a02a-4d00-ad28-13441cbf1b2b",
   "metadata": {},
   "outputs": [],
   "source": []
  },
  {
   "cell_type": "code",
   "execution_count": null,
   "id": "6baa3224-ff03-4145-b0ca-6022137d1971",
   "metadata": {},
   "outputs": [],
   "source": []
  },
  {
   "cell_type": "code",
   "execution_count": null,
   "id": "45e26bab-bc37-43a5-99ab-bea68bb7b859",
   "metadata": {},
   "outputs": [],
   "source": []
  },
  {
   "cell_type": "code",
   "execution_count": null,
   "id": "5952f1b7-2ef3-491f-94ec-6401446fae60",
   "metadata": {},
   "outputs": [],
   "source": []
  },
  {
   "cell_type": "code",
   "execution_count": null,
   "id": "732253c7-3d21-4ffc-b09e-a65660a94534",
   "metadata": {},
   "outputs": [],
   "source": []
  },
  {
   "cell_type": "code",
   "execution_count": null,
   "id": "c70c0b67-4662-4511-8d92-5fa73fb15b1e",
   "metadata": {},
   "outputs": [],
   "source": []
  },
  {
   "cell_type": "code",
   "execution_count": null,
   "id": "238a489d-ebc6-4dc5-9a0f-25a45b22d93f",
   "metadata": {},
   "outputs": [],
   "source": []
  },
  {
   "cell_type": "code",
   "execution_count": null,
   "id": "a0ede13b-ce08-4965-b45b-acdb7e73d468",
   "metadata": {},
   "outputs": [],
   "source": []
  },
  {
   "cell_type": "code",
   "execution_count": null,
   "id": "8f0163ce-cded-4da3-93d4-f5fdec8a9b8c",
   "metadata": {},
   "outputs": [],
   "source": []
  },
  {
   "cell_type": "code",
   "execution_count": null,
   "id": "ba74875b-c395-44d8-8162-62fda2650d9d",
   "metadata": {},
   "outputs": [],
   "source": []
  },
  {
   "cell_type": "code",
   "execution_count": null,
   "id": "701bc33f-741b-4a07-b327-8f61c8e6ef1c",
   "metadata": {},
   "outputs": [],
   "source": []
  },
  {
   "cell_type": "code",
   "execution_count": null,
   "id": "24dfdffc-4b02-454f-ae19-8c9b2c6b3035",
   "metadata": {},
   "outputs": [],
   "source": []
  },
  {
   "cell_type": "code",
   "execution_count": null,
   "id": "898399e9-82e8-4452-9fa1-ed9662316ce3",
   "metadata": {},
   "outputs": [],
   "source": []
  },
  {
   "cell_type": "code",
   "execution_count": null,
   "id": "e925ce56-0d21-4c5d-970f-5b116d9611ff",
   "metadata": {},
   "outputs": [],
   "source": []
  },
  {
   "cell_type": "code",
   "execution_count": null,
   "id": "9262ce7f-9426-41ba-a2d3-50c6614e6d9a",
   "metadata": {},
   "outputs": [],
   "source": []
  },
  {
   "cell_type": "code",
   "execution_count": null,
   "id": "4a28283c-1389-404c-bdbe-9b311a8695df",
   "metadata": {},
   "outputs": [],
   "source": []
  },
  {
   "cell_type": "code",
   "execution_count": null,
   "id": "1f8f07b2-a86e-412b-93ee-d6f252989356",
   "metadata": {},
   "outputs": [],
   "source": []
  },
  {
   "cell_type": "code",
   "execution_count": null,
   "id": "15dfc41c-7e0c-4ab5-846f-d605a451da42",
   "metadata": {},
   "outputs": [],
   "source": []
  },
  {
   "cell_type": "code",
   "execution_count": null,
   "id": "6d4f7906-b062-4dd3-978c-52cddeac3af0",
   "metadata": {},
   "outputs": [],
   "source": []
  },
  {
   "cell_type": "code",
   "execution_count": null,
   "id": "2a87111e-ea66-4faf-ac94-0daa7ba04221",
   "metadata": {},
   "outputs": [],
   "source": []
  }
 ],
 "metadata": {
  "kernelspec": {
   "display_name": "Python 3 (ipykernel)",
   "language": "python",
   "name": "python3"
  },
  "language_info": {
   "codemirror_mode": {
    "name": "ipython",
    "version": 3
   },
   "file_extension": ".py",
   "mimetype": "text/x-python",
   "name": "python",
   "nbconvert_exporter": "python",
   "pygments_lexer": "ipython3",
   "version": "3.11.2"
  }
 },
 "nbformat": 4,
 "nbformat_minor": 5
}
